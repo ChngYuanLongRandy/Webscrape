{
 "cells": [
  {
   "cell_type": "code",
   "execution_count": 1,
   "metadata": {},
   "outputs": [],
   "source": [
    "import json\n",
    "import pandas as pd\n",
    "import os\n",
    "from typing import List\n",
    "from datetime import datetime\n",
    "import re"
   ]
  },
  {
   "cell_type": "code",
   "execution_count": 2,
   "metadata": {},
   "outputs": [],
   "source": [
    "ML_JOB_PATH = \"machine-learning-jobs20221109161820.jsonl\"\n",
    "DS_JOB_PATH = \"sample20221109145023.jsonl\"\n",
    "\n",
    "RANDOM_STATE = 42"
   ]
  },
  {
   "cell_type": "code",
   "execution_count": 3,
   "metadata": {},
   "outputs": [],
   "source": [
    "def validate_data_path(data_path:str):\n",
    "    \"\"\"Validates data path\n",
    "\n",
    "    Args:\n",
    "        data_path (str): path of the data\n",
    "\n",
    "    Raises:\n",
    "        FileNotFoundError: File does not exist\n",
    "    \"\"\"\n",
    "    if not os.path.exists(data_path):\n",
    "        raise FileNotFoundError(data_path)"
   ]
  },
  {
   "cell_type": "code",
   "execution_count": 4,
   "metadata": {},
   "outputs": [],
   "source": [
    "# not all data point is perfect, for those with errors I will ignore\n",
    "\n",
    "def return_data(data_path:str)->List:\n",
    "    \"\"\"Returns job detail from on job posting\n",
    "\n",
    "    Args:\n",
    "        data_path (str): Path of the data\n",
    "\n",
    "    Returns:\n",
    "        List: A list full of the job posting, each a dictionary\n",
    "    \"\"\"\n",
    "    validate_data_path(data_path)\n",
    "    data_list = []\n",
    "    with open(data_path, 'r') as reader:\n",
    "        for line in reader.readlines():\n",
    "            data = json.loads(line)\n",
    "            # Errors are only contained in the dictionary\n",
    "            if isinstance(data,dict):\n",
    "                continue\n",
    "            data_list.append(data)\n",
    "    return data_list"
   ]
  },
  {
   "cell_type": "code",
   "execution_count": 5,
   "metadata": {},
   "outputs": [],
   "source": [
    "ML_JOB_RAW_DATA = return_data(ML_JOB_PATH)\n",
    "DS_JOB_RAW_DATA = return_data(DS_JOB_PATH)"
   ]
  },
  {
   "cell_type": "code",
   "execution_count": 6,
   "metadata": {},
   "outputs": [
    {
     "data": {
      "text/plain": [
       "224"
      ]
     },
     "execution_count": 6,
     "metadata": {},
     "output_type": "execute_result"
    }
   ],
   "source": [
    "len(ML_JOB_RAW_DATA)"
   ]
  },
  {
   "cell_type": "code",
   "execution_count": 7,
   "metadata": {},
   "outputs": [
    {
     "data": {
      "text/plain": [
       "1212"
      ]
     },
     "execution_count": 7,
     "metadata": {},
     "output_type": "execute_result"
    }
   ],
   "source": [
    "len(DS_JOB_RAW_DATA)"
   ]
  },
  {
   "cell_type": "code",
   "execution_count": 8,
   "metadata": {},
   "outputs": [],
   "source": [
    "TOTAL_JOB_RAW_DATA = ML_JOB_RAW_DATA + DS_JOB_RAW_DATA"
   ]
  },
  {
   "cell_type": "code",
   "execution_count": 9,
   "metadata": {},
   "outputs": [
    {
     "data": {
      "text/plain": [
       "1436"
      ]
     },
     "execution_count": 9,
     "metadata": {},
     "output_type": "execute_result"
    }
   ],
   "source": [
    "len(TOTAL_JOB_RAW_DATA)"
   ]
  },
  {
   "cell_type": "code",
   "execution_count": 10,
   "metadata": {},
   "outputs": [],
   "source": [
    "# Attempting to fetch headers from their respective cols\n",
    "headers = {}\n",
    "for row in TOTAL_JOB_RAW_DATA:\n",
    "    for col in range(1,len(row)):\n",
    "        for key in row[col].keys():\n",
    "            if str(key) + '_' + str(col) in headers:\n",
    "                headers[f\"{key}_{col}\"] +=1\n",
    "            else: \n",
    "                headers[f\"{key}_{col}\"] = 1"
   ]
  },
  {
   "cell_type": "code",
   "execution_count": 11,
   "metadata": {},
   "outputs": [
    {
     "data": {
      "text/plain": [
       "1299"
      ]
     },
     "execution_count": 11,
     "metadata": {},
     "output_type": "execute_result"
    }
   ],
   "source": [
    "len(headers)"
   ]
  },
  {
   "cell_type": "code",
   "execution_count": 12,
   "metadata": {},
   "outputs": [],
   "source": [
    "# This is a slice of all of the headers found coz otherwise it will be too big\n",
    "headers_slice = {k:headers[k] for k in list(headers)[:15]}"
   ]
  },
  {
   "cell_type": "code",
   "execution_count": 13,
   "metadata": {},
   "outputs": [
    {
     "data": {
      "text/plain": [
       "{'company_name_1': 1436,\n",
       " 'small_section_2': 1436,\n",
       " 'Responsibilities:\\xa0_3': 6,\n",
       " '\\xa0_3': 10,\n",
       " 'Essential Skills:_3': 2,\n",
       " 'Career Level_4': 1436,\n",
       " 'Qualification_4': 1434,\n",
       " 'Years of Experience_4': 1241,\n",
       " 'Job Type_4': 1436,\n",
       " 'Job Specializations_4': 1436,\n",
       " 'Registration No._4': 1429,\n",
       " 'Company Size_4': 1411,\n",
       " 'Industry_4': 1434,\n",
       " 'Benefits & Others_4': 1151,\n",
       " 'Company Overview_5': 1419}"
      ]
     },
     "execution_count": 13,
     "metadata": {},
     "output_type": "execute_result"
    }
   ],
   "source": [
    "headers_slice"
   ]
  },
  {
   "cell_type": "code",
   "execution_count": 14,
   "metadata": {},
   "outputs": [
    {
     "data": {
      "text/plain": [
       "['company_name_1',\n",
       " 'small_section_2',\n",
       " 'Career Level_4',\n",
       " 'Job Type_4',\n",
       " 'Job Specializations_4',\n",
       " 'url_6']"
      ]
     },
     "execution_count": 14,
     "metadata": {},
     "output_type": "execute_result"
    }
   ],
   "source": [
    "# These headers have values for all jobs\n",
    "\n",
    "full_header = [k for k,v in headers.items() if v == len(TOTAL_JOB_RAW_DATA)]\n",
    "full_header"
   ]
  },
  {
   "cell_type": "markdown",
   "metadata": {},
   "source": [
    "I am expecting all information to be filled in:\n",
    "- First col: Job position\n",
    "- Second col: Details of the job including pay, location (General and or specific), \n",
    "- Fourth col: Misc details of the company including size of company, dress code etc\n",
    "- Fifth col: Company Overview, details on the company\n",
    "- Sixth col: URL\n",
    "\n",
    "Within the second col I expect there are also some headers to be further broken down. \n",
    "\n",
    "The largest one will have to be the second col with the job description being the most variable component of the posting. I suspect most of the work will be done in here to uncover as much information as possible.\n",
    "\n",
    "The desired outcome will be a consolidated pandas dataframe with as little information loss as possible."
   ]
  },
  {
   "cell_type": "markdown",
   "metadata": {},
   "source": [
    "# Preprocess"
   ]
  },
  {
   "cell_type": "markdown",
   "metadata": {},
   "source": [
    "## Full Columns"
   ]
  },
  {
   "cell_type": "code",
   "execution_count": 15,
   "metadata": {},
   "outputs": [],
   "source": [
    "# We do see some artifacts in the job titles like\n",
    "# - Job reference number\n",
    "# - Hashtags\n",
    "\n",
    "job_reference_pattern = r\"\\(?\\w+\\d+\\)?\"\n",
    "hashtag_pattern = r\"#\\w+\"\n",
    "\n",
    "data = {}\n",
    "job_title,company_name,career_level,job_type, job_specialisations, url = [],[],[],[],[],[]\n",
    "for row in TOTAL_JOB_RAW_DATA:\n",
    "    position = row[0]['position']\n",
    "    position = re.sub(job_reference_pattern, \"\",position)\n",
    "    position = re.sub(hashtag_pattern, \"\",position)\n",
    "    position = position.replace(\"*\",\"\").replace(\"-\",\"\")\n",
    "    company_name.append(row[1]['company_name'])\n",
    "    job_title.append(position)\n",
    "    career_level.append(row[4]['Career Level'])\n",
    "    job_type.append(row[4]['Job Type'])\n",
    "    job_specialisations.append(row[4]['Job Specializations'])\n",
    "    url.append(row[6]['url'])\n",
    "\n",
    "data['job_title'] = job_title\n",
    "data['company_name'] = company_name\n",
    "data['career_level'] = career_level\n",
    "data['job_type'] = job_type\n",
    "data['job_specialisations'] = job_specialisations\n",
    "data['url'] = url\n",
    "\n",
    "assert (len(job_title) == len(career_level)==len(job_type)==len(job_specialisations)==len(url))"
   ]
  },
  {
   "cell_type": "code",
   "execution_count": 16,
   "metadata": {},
   "outputs": [
    {
     "data": {
      "text/html": [
       "<div>\n",
       "<style scoped>\n",
       "    .dataframe tbody tr th:only-of-type {\n",
       "        vertical-align: middle;\n",
       "    }\n",
       "\n",
       "    .dataframe tbody tr th {\n",
       "        vertical-align: top;\n",
       "    }\n",
       "\n",
       "    .dataframe thead th {\n",
       "        text-align: right;\n",
       "    }\n",
       "</style>\n",
       "<table border=\"1\" class=\"dataframe\">\n",
       "  <thead>\n",
       "    <tr style=\"text-align: right;\">\n",
       "      <th></th>\n",
       "      <th>job_title</th>\n",
       "      <th>company_name</th>\n",
       "      <th>career_level</th>\n",
       "      <th>job_type</th>\n",
       "      <th>job_specialisations</th>\n",
       "      <th>url</th>\n",
       "    </tr>\n",
       "  </thead>\n",
       "  <tbody>\n",
       "    <tr>\n",
       "      <th>1431</th>\n",
       "      <td>Research Associate (Bioprinting),</td>\n",
       "      <td>Nanyang Technological University</td>\n",
       "      <td>Junior Executive</td>\n",
       "      <td>Full-Time</td>\n",
       "      <td>Sciences, Science &amp; Technology</td>\n",
       "      <td>http://www.jobstreet.com.sg/en/job/research-as...</td>\n",
       "    </tr>\n",
       "    <tr>\n",
       "      <th>1432</th>\n",
       "      <td>Data Science Analyst, TikTok</td>\n",
       "      <td>TikTok</td>\n",
       "      <td>Entry Level</td>\n",
       "      <td>Full-Time</td>\n",
       "      <td>Computer/Information Technology, IT-Software</td>\n",
       "      <td>http://www.jobstreet.com.sg/en/job/data-scienc...</td>\n",
       "    </tr>\n",
       "    <tr>\n",
       "      <th>1433</th>\n",
       "      <td>Data Analyst  Senior (1 year contract, Central)</td>\n",
       "      <td>PERSOLKELLY Singapore Pte Ltd (Formerly Kelly ...</td>\n",
       "      <td>Senior Executive</td>\n",
       "      <td>Temporary</td>\n",
       "      <td>Manufacturing, Purchasing/Material Mgmt</td>\n",
       "      <td>http://www.jobstreet.com.sg/en/job/data-analys...</td>\n",
       "    </tr>\n",
       "    <tr>\n",
       "      <th>1434</th>\n",
       "      <td>Junior Machine Learning Engineer</td>\n",
       "      <td>Dell Asia Pte Ltd</td>\n",
       "      <td>Junior Executive</td>\n",
       "      <td>Full-Time</td>\n",
       "      <td>Computer/Information Technology, IT-Software</td>\n",
       "      <td>http://www.jobstreet.com.sg/en/job/junior-mach...</td>\n",
       "    </tr>\n",
       "    <tr>\n",
       "      <th>1435</th>\n",
       "      <td>Senior Process Development Scientist (Organic ...</td>\n",
       "      <td>PERSOLKELLY Singapore Pte Ltd (Formerly Kelly ...</td>\n",
       "      <td>Senior Executive</td>\n",
       "      <td>Full-Time</td>\n",
       "      <td>Sciences, Chemistry</td>\n",
       "      <td>http://www.jobstreet.com.sg/en/job/senior-proc...</td>\n",
       "    </tr>\n",
       "  </tbody>\n",
       "</table>\n",
       "</div>"
      ],
      "text/plain": [
       "                                              job_title  \\\n",
       "1431                Research Associate (Bioprinting),     \n",
       "1432                     Data Science Analyst, TikTok     \n",
       "1433    Data Analyst  Senior (1 year contract, Central)   \n",
       "1434                   Junior Machine Learning Engineer   \n",
       "1435  Senior Process Development Scientist (Organic ...   \n",
       "\n",
       "                                           company_name      career_level  \\\n",
       "1431                   Nanyang Technological University  Junior Executive   \n",
       "1432                                             TikTok       Entry Level   \n",
       "1433  PERSOLKELLY Singapore Pte Ltd (Formerly Kelly ...  Senior Executive   \n",
       "1434                                  Dell Asia Pte Ltd  Junior Executive   \n",
       "1435  PERSOLKELLY Singapore Pte Ltd (Formerly Kelly ...  Senior Executive   \n",
       "\n",
       "       job_type                           job_specialisations  \\\n",
       "1431  Full-Time                Sciences, Science & Technology   \n",
       "1432  Full-Time  Computer/Information Technology, IT-Software   \n",
       "1433  Temporary       Manufacturing, Purchasing/Material Mgmt   \n",
       "1434  Full-Time  Computer/Information Technology, IT-Software   \n",
       "1435  Full-Time                           Sciences, Chemistry   \n",
       "\n",
       "                                                    url  \n",
       "1431  http://www.jobstreet.com.sg/en/job/research-as...  \n",
       "1432  http://www.jobstreet.com.sg/en/job/data-scienc...  \n",
       "1433  http://www.jobstreet.com.sg/en/job/data-analys...  \n",
       "1434  http://www.jobstreet.com.sg/en/job/junior-mach...  \n",
       "1435  http://www.jobstreet.com.sg/en/job/senior-proc...  "
      ]
     },
     "execution_count": 16,
     "metadata": {},
     "output_type": "execute_result"
    }
   ],
   "source": [
    "# Already we can see some field contains some other information like the job_title containing job type, location and company name for instance\n",
    "pd.DataFrame.from_dict(data).tail()"
   ]
  }
 ],
 "metadata": {
  "kernelspec": {
   "display_name": "scrapper-env",
   "language": "python",
   "name": "python3"
  },
  "language_info": {
   "codemirror_mode": {
    "name": "ipython",
    "version": 3
   },
   "file_extension": ".py",
   "mimetype": "text/x-python",
   "name": "python",
   "nbconvert_exporter": "python",
   "pygments_lexer": "ipython3",
   "version": "3.9.9"
  },
  "orig_nbformat": 4,
  "vscode": {
   "interpreter": {
    "hash": "b34c52670fd8827644effee9ddbd65bd53a60ff2ff6feec79adb6c0de3687b28"
   }
  }
 },
 "nbformat": 4,
 "nbformat_minor": 2
}
