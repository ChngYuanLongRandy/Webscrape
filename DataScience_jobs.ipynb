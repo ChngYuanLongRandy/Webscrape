{
 "cells": [
  {
   "cell_type": "code",
   "execution_count": 1,
   "metadata": {},
   "outputs": [],
   "source": [
    "import numpy as np\n",
    "import pandas as pd\n",
    "import matplotlib.pyplot as plt\n",
    "import missingno as msno\n",
    "import re\n",
    "from datetime import date , datetime, timedelta\n",
    "import seaborn as sns"
   ]
  },
  {
   "cell_type": "code",
   "execution_count": 2,
   "metadata": {},
   "outputs": [],
   "source": [
    "df = pd.read_csv('results_jobstreet_datascience_jobs_21Sep21.csv')"
   ]
  },
  {
   "cell_type": "code",
   "execution_count": 3,
   "metadata": {},
   "outputs": [],
   "source": [
    "df_copy = df.copy(deep = True)"
   ]
  },
  {
   "cell_type": "code",
   "execution_count": 4,
   "metadata": {},
   "outputs": [
    {
     "data": {
      "text/html": [
       "<div>\n",
       "<style scoped>\n",
       "    .dataframe tbody tr th:only-of-type {\n",
       "        vertical-align: middle;\n",
       "    }\n",
       "\n",
       "    .dataframe tbody tr th {\n",
       "        vertical-align: top;\n",
       "    }\n",
       "\n",
       "    .dataframe thead th {\n",
       "        text-align: right;\n",
       "    }\n",
       "</style>\n",
       "<table border=\"1\" class=\"dataframe\">\n",
       "  <thead>\n",
       "    <tr style=\"text-align: right;\">\n",
       "      <th></th>\n",
       "      <th>Job Title</th>\n",
       "      <th>Companies</th>\n",
       "      <th>Pay</th>\n",
       "      <th>Location</th>\n",
       "      <th>Date posted</th>\n",
       "      <th>Other information</th>\n",
       "      <th>Job Description</th>\n",
       "      <th>URL</th>\n",
       "    </tr>\n",
       "  </thead>\n",
       "  <tbody>\n",
       "    <tr>\n",
       "      <th>0</th>\n",
       "      <td>Field Application Scientist– Genomic Systems</td>\n",
       "      <td>Research Instruments Pte Ltd</td>\n",
       "      <td>NaN</td>\n",
       "      <td>Singapore</td>\n",
       "      <td>Posted on 20-Sep-21</td>\n",
       "      <td>Remuneration package will be commensurate wit...</td>\n",
       "      <td>&lt;div class=\"vDEj0_0\" data-automation=\"jobDescr...</td>\n",
       "      <td>http://www.jobstreet.com.sg/en/job/field-appli...</td>\n",
       "    </tr>\n",
       "    <tr>\n",
       "      <th>1</th>\n",
       "      <td>Data Scientist - AI</td>\n",
       "      <td>Blowfish Pte Ltd</td>\n",
       "      <td>SGD 4,500 - SGD 6,000</td>\n",
       "      <td>Central - Others</td>\n",
       "      <td>Posted 19 hours ago</td>\n",
       "      <td>Junior Executive Bachelor's Degree, Post Gradu...</td>\n",
       "      <td>&lt;div class=\"vDEj0_0\" data-automation=\"jobDescr...</td>\n",
       "      <td>http://www.jobstreet.com.sg/en/job/data-scient...</td>\n",
       "    </tr>\n",
       "    <tr>\n",
       "      <th>2</th>\n",
       "      <td>Data Scientist</td>\n",
       "      <td>SILENT EIGHT PTE. LTD.</td>\n",
       "      <td>SGD 4,500 - SGD 6,000</td>\n",
       "      <td>Singapore</td>\n",
       "      <td>Posted on 15-Sep-21</td>\n",
       "      <td>Employee Stock Ownership Plan  Experienced te...</td>\n",
       "      <td>&lt;div class=\"vDEj0_0\" data-automation=\"jobDescr...</td>\n",
       "      <td>http://www.jobstreet.com.sg/en/job/data-scient...</td>\n",
       "    </tr>\n",
       "    <tr>\n",
       "      <th>3</th>\n",
       "      <td>Data Analyst - Financial Markets</td>\n",
       "      <td>AMUNDI SINGAPORE LIMITED</td>\n",
       "      <td>NaN</td>\n",
       "      <td>Singapore River</td>\n",
       "      <td>Posted on 15-Sep-21</td>\n",
       "      <td>Entry Level Bachelor's Degree, Post Graduate D...</td>\n",
       "      <td>&lt;div class=\"vDEj0_0\" data-automation=\"jobDescr...</td>\n",
       "      <td>http://www.jobstreet.com.sg/en/job/data-analys...</td>\n",
       "    </tr>\n",
       "    <tr>\n",
       "      <th>4</th>\n",
       "      <td>Food Scientist</td>\n",
       "      <td>Organic Technology SE-ASIA Pte Ltd</td>\n",
       "      <td>SGD 3,000 - SGD 5,000</td>\n",
       "      <td>West</td>\n",
       "      <td>Posted on 15-Sep-21</td>\n",
       "      <td>International environment, awesome colleagues...</td>\n",
       "      <td>&lt;div class=\"vDEj0_0\" data-automation=\"jobDescr...</td>\n",
       "      <td>http://www.jobstreet.com.sg/en/job/food-scient...</td>\n",
       "    </tr>\n",
       "  </tbody>\n",
       "</table>\n",
       "</div>"
      ],
      "text/plain": [
       "                                      Job Title  \\\n",
       "0  Field Application Scientist– Genomic Systems   \n",
       "1                           Data Scientist - AI   \n",
       "2                                Data Scientist   \n",
       "3              Data Analyst - Financial Markets   \n",
       "4                                Food Scientist   \n",
       "\n",
       "                            Companies                    Pay  \\\n",
       "0        Research Instruments Pte Ltd                    NaN   \n",
       "1                    Blowfish Pte Ltd  SGD 4,500 - SGD 6,000   \n",
       "2              SILENT EIGHT PTE. LTD.  SGD 4,500 - SGD 6,000   \n",
       "3            AMUNDI SINGAPORE LIMITED                    NaN   \n",
       "4  Organic Technology SE-ASIA Pte Ltd  SGD 3,000 - SGD 5,000   \n",
       "\n",
       "           Location          Date posted  \\\n",
       "0         Singapore  Posted on 20-Sep-21   \n",
       "1  Central - Others  Posted 19 hours ago   \n",
       "2         Singapore  Posted on 15-Sep-21   \n",
       "3   Singapore River  Posted on 15-Sep-21   \n",
       "4              West  Posted on 15-Sep-21   \n",
       "\n",
       "                                   Other information  \\\n",
       "0   Remuneration package will be commensurate wit...   \n",
       "1  Junior Executive Bachelor's Degree, Post Gradu...   \n",
       "2   Employee Stock Ownership Plan  Experienced te...   \n",
       "3  Entry Level Bachelor's Degree, Post Graduate D...   \n",
       "4   International environment, awesome colleagues...   \n",
       "\n",
       "                                     Job Description  \\\n",
       "0  <div class=\"vDEj0_0\" data-automation=\"jobDescr...   \n",
       "1  <div class=\"vDEj0_0\" data-automation=\"jobDescr...   \n",
       "2  <div class=\"vDEj0_0\" data-automation=\"jobDescr...   \n",
       "3  <div class=\"vDEj0_0\" data-automation=\"jobDescr...   \n",
       "4  <div class=\"vDEj0_0\" data-automation=\"jobDescr...   \n",
       "\n",
       "                                                 URL  \n",
       "0  http://www.jobstreet.com.sg/en/job/field-appli...  \n",
       "1  http://www.jobstreet.com.sg/en/job/data-scient...  \n",
       "2  http://www.jobstreet.com.sg/en/job/data-scient...  \n",
       "3  http://www.jobstreet.com.sg/en/job/data-analys...  \n",
       "4  http://www.jobstreet.com.sg/en/job/food-scient...  "
      ]
     },
     "execution_count": 4,
     "metadata": {},
     "output_type": "execute_result"
    }
   ],
   "source": [
    "df.head()"
   ]
  },
  {
   "cell_type": "code",
   "execution_count": 5,
   "metadata": {},
   "outputs": [
    {
     "data": {
      "text/plain": [
       "['Job Title',\n",
       " 'Companies',\n",
       " 'Pay',\n",
       " 'Location',\n",
       " 'Date posted',\n",
       " 'Other information',\n",
       " 'Job Description',\n",
       " 'URL']"
      ]
     },
     "execution_count": 5,
     "metadata": {},
     "output_type": "execute_result"
    }
   ],
   "source": [
    "list(df.columns)"
   ]
  },
  {
   "cell_type": "code",
   "execution_count": 6,
   "metadata": {},
   "outputs": [
    {
     "name": "stdout",
     "output_type": "stream",
     "text": [
      "<class 'pandas.core.frame.DataFrame'>\n",
      "RangeIndex: 2400 entries, 0 to 2399\n",
      "Data columns (total 8 columns):\n",
      " #   Column             Non-Null Count  Dtype \n",
      "---  ------             --------------  ----- \n",
      " 0   Job Title          2400 non-null   object\n",
      " 1   Companies          2400 non-null   object\n",
      " 2   Pay                856 non-null    object\n",
      " 3   Location           2387 non-null   object\n",
      " 4   Date posted        2400 non-null   object\n",
      " 5   Other information  2400 non-null   object\n",
      " 6   Job Description    2400 non-null   object\n",
      " 7   URL                2400 non-null   object\n",
      "dtypes: object(8)\n",
      "memory usage: 150.1+ KB\n"
     ]
    }
   ],
   "source": [
    "df.info()"
   ]
  },
  {
   "cell_type": "markdown",
   "metadata": {},
   "source": [
    "## Eliminating Dups"
   ]
  },
  {
   "cell_type": "markdown",
   "metadata": {},
   "source": [
    "As we are searching across a couple of terms, I will want to get rid of duplicate entries"
   ]
  },
  {
   "cell_type": "code",
   "execution_count": 7,
   "metadata": {},
   "outputs": [],
   "source": [
    "df.drop_duplicates(inplace = True)"
   ]
  },
  {
   "cell_type": "code",
   "execution_count": 8,
   "metadata": {},
   "outputs": [
    {
     "name": "stdout",
     "output_type": "stream",
     "text": [
      "<class 'pandas.core.frame.DataFrame'>\n",
      "Int64Index: 2400 entries, 0 to 2399\n",
      "Data columns (total 8 columns):\n",
      " #   Column             Non-Null Count  Dtype \n",
      "---  ------             --------------  ----- \n",
      " 0   Job Title          2400 non-null   object\n",
      " 1   Companies          2400 non-null   object\n",
      " 2   Pay                856 non-null    object\n",
      " 3   Location           2387 non-null   object\n",
      " 4   Date posted        2400 non-null   object\n",
      " 5   Other information  2400 non-null   object\n",
      " 6   Job Description    2400 non-null   object\n",
      " 7   URL                2400 non-null   object\n",
      "dtypes: object(8)\n",
      "memory usage: 168.8+ KB\n"
     ]
    }
   ],
   "source": [
    "df.info()"
   ]
  },
  {
   "cell_type": "code",
   "execution_count": 9,
   "metadata": {},
   "outputs": [],
   "source": [
    "df.drop_duplicates(subset='Job Description' ,inplace = True)"
   ]
  },
  {
   "cell_type": "code",
   "execution_count": 10,
   "metadata": {},
   "outputs": [
    {
     "name": "stdout",
     "output_type": "stream",
     "text": [
      "<class 'pandas.core.frame.DataFrame'>\n",
      "Int64Index: 1750 entries, 0 to 2397\n",
      "Data columns (total 8 columns):\n",
      " #   Column             Non-Null Count  Dtype \n",
      "---  ------             --------------  ----- \n",
      " 0   Job Title          1750 non-null   object\n",
      " 1   Companies          1750 non-null   object\n",
      " 2   Pay                599 non-null    object\n",
      " 3   Location           1744 non-null   object\n",
      " 4   Date posted        1750 non-null   object\n",
      " 5   Other information  1750 non-null   object\n",
      " 6   Job Description    1750 non-null   object\n",
      " 7   URL                1750 non-null   object\n",
      "dtypes: object(8)\n",
      "memory usage: 123.0+ KB\n"
     ]
    }
   ],
   "source": [
    "df.info()"
   ]
  },
  {
   "cell_type": "markdown",
   "metadata": {},
   "source": [
    "## Check for missing values"
   ]
  },
  {
   "cell_type": "code",
   "execution_count": 11,
   "metadata": {},
   "outputs": [
    {
     "data": {
      "text/plain": [
       "<AxesSubplot:>"
      ]
     },
     "execution_count": 11,
     "metadata": {},
     "output_type": "execute_result"
    },
    {
     "data": {
      "image/png": "[encoded data removed]",
      "text/plain": [
       "<Figure size 1800x720 with 2 Axes>"
      ]
     },
     "metadata": {
      "needs_background": "light"
     },
     "output_type": "display_data"
    }
   ],
   "source": [
    "msno.matrix(df)"
   ]
  },
  {
   "cell_type": "code",
   "execution_count": 12,
   "metadata": {},
   "outputs": [
    {
     "data": {
      "text/html": [
       "<div>\n",
       "<style scoped>\n",
       "    .dataframe tbody tr th:only-of-type {\n",
       "        vertical-align: middle;\n",
       "    }\n",
       "\n",
       "    .dataframe tbody tr th {\n",
       "        vertical-align: top;\n",
       "    }\n",
       "\n",
       "    .dataframe thead th {\n",
       "        text-align: right;\n",
       "    }\n",
       "</style>\n",
       "<table border=\"1\" class=\"dataframe\">\n",
       "  <thead>\n",
       "    <tr style=\"text-align: right;\">\n",
       "      <th></th>\n",
       "      <th>Job Title</th>\n",
       "      <th>Companies</th>\n",
       "      <th>Pay</th>\n",
       "      <th>Location</th>\n",
       "      <th>Date posted</th>\n",
       "      <th>Other information</th>\n",
       "      <th>Job Description</th>\n",
       "      <th>URL</th>\n",
       "    </tr>\n",
       "  </thead>\n",
       "  <tbody>\n",
       "    <tr>\n",
       "      <th>56</th>\n",
       "      <td>Data Analyst / Transformation Accountant/Manager</td>\n",
       "      <td>PSA Corporation Limited</td>\n",
       "      <td>SGD 6,000 - SGD 8,000</td>\n",
       "      <td>NaN</td>\n",
       "      <td>Posted on 16-Sep-21</td>\n",
       "      <td>Manager Bachelor's Degree Others, Others 19970...</td>\n",
       "      <td>&lt;div class=\"vDEj0_0\" data-automation=\"jobDescr...</td>\n",
       "      <td>http://www.jobstreet.com.sg/en/job/data-analys...</td>\n",
       "    </tr>\n",
       "    <tr>\n",
       "      <th>252</th>\n",
       "      <td>Senior Big Data Developer (Hadoop)</td>\n",
       "      <td>Marina Bay Sands Pte Ltd</td>\n",
       "      <td>NaN</td>\n",
       "      <td>NaN</td>\n",
       "      <td>Posted on 20-Sep-21</td>\n",
       "      <td>Senior Executive Advanced/Higher/Graduate Dipl...</td>\n",
       "      <td>&lt;div class=\"vDEj0_0\" data-automation=\"jobDescr...</td>\n",
       "      <td>http://www.jobstreet.com.sg/en/job/senior-big-...</td>\n",
       "    </tr>\n",
       "    <tr>\n",
       "      <th>341</th>\n",
       "      <td>Manager, Engineering Data Analysis (Data Science)</td>\n",
       "      <td>Marina Bay Sands Pte Ltd</td>\n",
       "      <td>NaN</td>\n",
       "      <td>NaN</td>\n",
       "      <td>Posted on 10-Sep-21</td>\n",
       "      <td>Manager Bachelor's Degree Sciences, Actuarial/...</td>\n",
       "      <td>&lt;div class=\"vDEj0_0\" data-automation=\"jobDescr...</td>\n",
       "      <td>http://www.jobstreet.com.sg/en/job/manager-eng...</td>\n",
       "    </tr>\n",
       "    <tr>\n",
       "      <th>674</th>\n",
       "      <td>Lead Engineer, IT Data Center Operations</td>\n",
       "      <td>Marina Bay Sands Pte Ltd</td>\n",
       "      <td>NaN</td>\n",
       "      <td>NaN</td>\n",
       "      <td>Posted on 15-Sep-21</td>\n",
       "      <td>Senior Executive Bachelor's Degree Computer/In...</td>\n",
       "      <td>&lt;div class=\"vDEj0_0\" data-automation=\"jobDescr...</td>\n",
       "      <td>http://www.jobstreet.com.sg/en/job/lead-engine...</td>\n",
       "    </tr>\n",
       "    <tr>\n",
       "      <th>1423</th>\n",
       "      <td>Sales Analyst/ Senior Sales Analyst</td>\n",
       "      <td>Federal Express (S) Pte Ltd</td>\n",
       "      <td>SGD 3,000 - SGD 4,000</td>\n",
       "      <td>NaN</td>\n",
       "      <td>Posted 22 hours ago</td>\n",
       "      <td>Junior Executive Bachelor's Degree, Post Gradu...</td>\n",
       "      <td>&lt;div class=\"vDEj0_0\" data-automation=\"jobDescr...</td>\n",
       "      <td>http://www.jobstreet.com.sg/en/job/sales-analy...</td>\n",
       "    </tr>\n",
       "    <tr>\n",
       "      <th>2028</th>\n",
       "      <td>Research Engineer (Machine Learning/Image Anal...</td>\n",
       "      <td>Singapore Institute of Technology</td>\n",
       "      <td>NaN</td>\n",
       "      <td>NaN</td>\n",
       "      <td>Posted on 6-Sep-21</td>\n",
       "      <td>Junior Executive Bachelor's Degree Education/T...</td>\n",
       "      <td>&lt;div class=\"vDEj0_0\" data-automation=\"jobDescr...</td>\n",
       "      <td>http://www.jobstreet.com.sg/en/job/research-en...</td>\n",
       "    </tr>\n",
       "  </tbody>\n",
       "</table>\n",
       "</div>"
      ],
      "text/plain": [
       "                                              Job Title  \\\n",
       "56     Data Analyst / Transformation Accountant/Manager   \n",
       "252                  Senior Big Data Developer (Hadoop)   \n",
       "341   Manager, Engineering Data Analysis (Data Science)   \n",
       "674            Lead Engineer, IT Data Center Operations   \n",
       "1423                Sales Analyst/ Senior Sales Analyst   \n",
       "2028  Research Engineer (Machine Learning/Image Anal...   \n",
       "\n",
       "                              Companies                    Pay Location  \\\n",
       "56              PSA Corporation Limited  SGD 6,000 - SGD 8,000      NaN   \n",
       "252            Marina Bay Sands Pte Ltd                    NaN      NaN   \n",
       "341            Marina Bay Sands Pte Ltd                    NaN      NaN   \n",
       "674            Marina Bay Sands Pte Ltd                    NaN      NaN   \n",
       "1423        Federal Express (S) Pte Ltd  SGD 3,000 - SGD 4,000      NaN   \n",
       "2028  Singapore Institute of Technology                    NaN      NaN   \n",
       "\n",
       "              Date posted                                  Other information  \\\n",
       "56    Posted on 16-Sep-21  Manager Bachelor's Degree Others, Others 19970...   \n",
       "252   Posted on 20-Sep-21  Senior Executive Advanced/Higher/Graduate Dipl...   \n",
       "341   Posted on 10-Sep-21  Manager Bachelor's Degree Sciences, Actuarial/...   \n",
       "674   Posted on 15-Sep-21  Senior Executive Bachelor's Degree Computer/In...   \n",
       "1423  Posted 22 hours ago  Junior Executive Bachelor's Degree, Post Gradu...   \n",
       "2028   Posted on 6-Sep-21  Junior Executive Bachelor's Degree Education/T...   \n",
       "\n",
       "                                        Job Description  \\\n",
       "56    <div class=\"vDEj0_0\" data-automation=\"jobDescr...   \n",
       "252   <div class=\"vDEj0_0\" data-automation=\"jobDescr...   \n",
       "341   <div class=\"vDEj0_0\" data-automation=\"jobDescr...   \n",
       "674   <div class=\"vDEj0_0\" data-automation=\"jobDescr...   \n",
       "1423  <div class=\"vDEj0_0\" data-automation=\"jobDescr...   \n",
       "2028  <div class=\"vDEj0_0\" data-automation=\"jobDescr...   \n",
       "\n",
       "                                                    URL  \n",
       "56    http://www.jobstreet.com.sg/en/job/data-analys...  \n",
       "252   http://www.jobstreet.com.sg/en/job/senior-big-...  \n",
       "341   http://www.jobstreet.com.sg/en/job/manager-eng...  \n",
       "674   http://www.jobstreet.com.sg/en/job/lead-engine...  \n",
       "1423  http://www.jobstreet.com.sg/en/job/sales-analy...  \n",
       "2028  http://www.jobstreet.com.sg/en/job/research-en...  "
      ]
     },
     "execution_count": 12,
     "metadata": {},
     "output_type": "execute_result"
    }
   ],
   "source": [
    "#check the entry for missing location\n",
    "df[df['Location'].isnull()]"
   ]
  },
  {
   "cell_type": "code",
   "execution_count": 13,
   "metadata": {},
   "outputs": [],
   "source": [
    "#imputing empty location with Singapore\n",
    "df.Location.fillna('Singapore', inplace=True)"
   ]
  },
  {
   "cell_type": "code",
   "execution_count": 14,
   "metadata": {},
   "outputs": [
    {
     "name": "stdout",
     "output_type": "stream",
     "text": [
      "<class 'pandas.core.frame.DataFrame'>\n",
      "Int64Index: 1750 entries, 0 to 2397\n",
      "Data columns (total 8 columns):\n",
      " #   Column             Non-Null Count  Dtype \n",
      "---  ------             --------------  ----- \n",
      " 0   Job Title          1750 non-null   object\n",
      " 1   Companies          1750 non-null   object\n",
      " 2   Pay                599 non-null    object\n",
      " 3   Location           1750 non-null   object\n",
      " 4   Date posted        1750 non-null   object\n",
      " 5   Other information  1750 non-null   object\n",
      " 6   Job Description    1750 non-null   object\n",
      " 7   URL                1750 non-null   object\n",
      "dtypes: object(8)\n",
      "memory usage: 123.0+ KB\n"
     ]
    }
   ],
   "source": [
    "df.info()"
   ]
  },
  {
   "cell_type": "markdown",
   "metadata": {},
   "source": [
    "## Cleaning up Pay"
   ]
  },
  {
   "cell_type": "markdown",
   "metadata": {},
   "source": [
    "I noticed that some information on Pay is in the location column "
   ]
  },
  {
   "cell_type": "code",
   "execution_count": 15,
   "metadata": {},
   "outputs": [],
   "source": [
    "#I replace it with a string so i can perform string operations in column\n",
    "df.Pay.fillna('temp', inplace=True)"
   ]
  },
  {
   "cell_type": "code",
   "execution_count": 16,
   "metadata": {},
   "outputs": [
    {
     "data": {
      "text/html": [
       "<div>\n",
       "<style scoped>\n",
       "    .dataframe tbody tr th:only-of-type {\n",
       "        vertical-align: middle;\n",
       "    }\n",
       "\n",
       "    .dataframe tbody tr th {\n",
       "        vertical-align: top;\n",
       "    }\n",
       "\n",
       "    .dataframe thead th {\n",
       "        text-align: right;\n",
       "    }\n",
       "</style>\n",
       "<table border=\"1\" class=\"dataframe\">\n",
       "  <thead>\n",
       "    <tr style=\"text-align: right;\">\n",
       "      <th></th>\n",
       "      <th>Job Title</th>\n",
       "      <th>Companies</th>\n",
       "      <th>Pay</th>\n",
       "      <th>Location</th>\n",
       "      <th>Date posted</th>\n",
       "      <th>Other information</th>\n",
       "      <th>Job Description</th>\n",
       "      <th>URL</th>\n",
       "    </tr>\n",
       "  </thead>\n",
       "  <tbody>\n",
       "    <tr>\n",
       "      <th>0</th>\n",
       "      <td>Field Application Scientist– Genomic Systems</td>\n",
       "      <td>Research Instruments Pte Ltd</td>\n",
       "      <td>temp</td>\n",
       "      <td>Singapore</td>\n",
       "      <td>Posted on 20-Sep-21</td>\n",
       "      <td>Remuneration package will be commensurate wit...</td>\n",
       "      <td>&lt;div class=\"vDEj0_0\" data-automation=\"jobDescr...</td>\n",
       "      <td>http://www.jobstreet.com.sg/en/job/field-appli...</td>\n",
       "    </tr>\n",
       "    <tr>\n",
       "      <th>1</th>\n",
       "      <td>Data Scientist - AI</td>\n",
       "      <td>Blowfish Pte Ltd</td>\n",
       "      <td>SGD 4,500 - SGD 6,000</td>\n",
       "      <td>Central - Others</td>\n",
       "      <td>Posted 19 hours ago</td>\n",
       "      <td>Junior Executive Bachelor's Degree, Post Gradu...</td>\n",
       "      <td>&lt;div class=\"vDEj0_0\" data-automation=\"jobDescr...</td>\n",
       "      <td>http://www.jobstreet.com.sg/en/job/data-scient...</td>\n",
       "    </tr>\n",
       "    <tr>\n",
       "      <th>2</th>\n",
       "      <td>Data Scientist</td>\n",
       "      <td>SILENT EIGHT PTE. LTD.</td>\n",
       "      <td>SGD 4,500 - SGD 6,000</td>\n",
       "      <td>Singapore</td>\n",
       "      <td>Posted on 15-Sep-21</td>\n",
       "      <td>Employee Stock Ownership Plan  Experienced te...</td>\n",
       "      <td>&lt;div class=\"vDEj0_0\" data-automation=\"jobDescr...</td>\n",
       "      <td>http://www.jobstreet.com.sg/en/job/data-scient...</td>\n",
       "    </tr>\n",
       "    <tr>\n",
       "      <th>3</th>\n",
       "      <td>Data Analyst - Financial Markets</td>\n",
       "      <td>AMUNDI SINGAPORE LIMITED</td>\n",
       "      <td>temp</td>\n",
       "      <td>Singapore River</td>\n",
       "      <td>Posted on 15-Sep-21</td>\n",
       "      <td>Entry Level Bachelor's Degree, Post Graduate D...</td>\n",
       "      <td>&lt;div class=\"vDEj0_0\" data-automation=\"jobDescr...</td>\n",
       "      <td>http://www.jobstreet.com.sg/en/job/data-analys...</td>\n",
       "    </tr>\n",
       "    <tr>\n",
       "      <th>4</th>\n",
       "      <td>Food Scientist</td>\n",
       "      <td>Organic Technology SE-ASIA Pte Ltd</td>\n",
       "      <td>SGD 3,000 - SGD 5,000</td>\n",
       "      <td>West</td>\n",
       "      <td>Posted on 15-Sep-21</td>\n",
       "      <td>International environment, awesome colleagues...</td>\n",
       "      <td>&lt;div class=\"vDEj0_0\" data-automation=\"jobDescr...</td>\n",
       "      <td>http://www.jobstreet.com.sg/en/job/food-scient...</td>\n",
       "    </tr>\n",
       "  </tbody>\n",
       "</table>\n",
       "</div>"
      ],
      "text/plain": [
       "                                      Job Title  \\\n",
       "0  Field Application Scientist– Genomic Systems   \n",
       "1                           Data Scientist - AI   \n",
       "2                                Data Scientist   \n",
       "3              Data Analyst - Financial Markets   \n",
       "4                                Food Scientist   \n",
       "\n",
       "                            Companies                    Pay  \\\n",
       "0        Research Instruments Pte Ltd                   temp   \n",
       "1                    Blowfish Pte Ltd  SGD 4,500 - SGD 6,000   \n",
       "2              SILENT EIGHT PTE. LTD.  SGD 4,500 - SGD 6,000   \n",
       "3            AMUNDI SINGAPORE LIMITED                   temp   \n",
       "4  Organic Technology SE-ASIA Pte Ltd  SGD 3,000 - SGD 5,000   \n",
       "\n",
       "           Location          Date posted  \\\n",
       "0         Singapore  Posted on 20-Sep-21   \n",
       "1  Central - Others  Posted 19 hours ago   \n",
       "2         Singapore  Posted on 15-Sep-21   \n",
       "3   Singapore River  Posted on 15-Sep-21   \n",
       "4              West  Posted on 15-Sep-21   \n",
       "\n",
       "                                   Other information  \\\n",
       "0   Remuneration package will be commensurate wit...   \n",
       "1  Junior Executive Bachelor's Degree, Post Gradu...   \n",
       "2   Employee Stock Ownership Plan  Experienced te...   \n",
       "3  Entry Level Bachelor's Degree, Post Graduate D...   \n",
       "4   International environment, awesome colleagues...   \n",
       "\n",
       "                                     Job Description  \\\n",
       "0  <div class=\"vDEj0_0\" data-automation=\"jobDescr...   \n",
       "1  <div class=\"vDEj0_0\" data-automation=\"jobDescr...   \n",
       "2  <div class=\"vDEj0_0\" data-automation=\"jobDescr...   \n",
       "3  <div class=\"vDEj0_0\" data-automation=\"jobDescr...   \n",
       "4  <div class=\"vDEj0_0\" data-automation=\"jobDescr...   \n",
       "\n",
       "                                                 URL  \n",
       "0  http://www.jobstreet.com.sg/en/job/field-appli...  \n",
       "1  http://www.jobstreet.com.sg/en/job/data-scient...  \n",
       "2  http://www.jobstreet.com.sg/en/job/data-scient...  \n",
       "3  http://www.jobstreet.com.sg/en/job/data-analys...  \n",
       "4  http://www.jobstreet.com.sg/en/job/food-scient...  "
      ]
     },
     "execution_count": 16,
     "metadata": {},
     "output_type": "execute_result"
    }
   ],
   "source": [
    "df.head()"
   ]
  },
  {
   "cell_type": "code",
   "execution_count": 17,
   "metadata": {},
   "outputs": [],
   "source": [
    "#I will seperate the pay into lower and upper bound\n",
    "#Removing currency first and other characters\n",
    "df.Pay = df.Pay.apply(lambda x : x.replace('SGD',''))\n",
    "df.Pay = df.Pay.apply(lambda x : x.replace('- ',''))\n",
    "df.Pay = df.Pay.apply(lambda x : x.replace(' ',''))\n",
    "df.Pay = df.Pay.apply(lambda x : x.replace(',',''))"
   ]
  },
  {
   "cell_type": "code",
   "execution_count": 18,
   "metadata": {},
   "outputs": [],
   "source": [
    "df['Pay_lower_bound'] = 0"
   ]
  },
  {
   "cell_type": "code",
   "execution_count": 19,
   "metadata": {},
   "outputs": [
    {
     "data": {
      "text/html": [
       "<div>\n",
       "<style scoped>\n",
       "    .dataframe tbody tr th:only-of-type {\n",
       "        vertical-align: middle;\n",
       "    }\n",
       "\n",
       "    .dataframe tbody tr th {\n",
       "        vertical-align: top;\n",
       "    }\n",
       "\n",
       "    .dataframe thead th {\n",
       "        text-align: right;\n",
       "    }\n",
       "</style>\n",
       "<table border=\"1\" class=\"dataframe\">\n",
       "  <thead>\n",
       "    <tr style=\"text-align: right;\">\n",
       "      <th></th>\n",
       "      <th>Job Title</th>\n",
       "      <th>Companies</th>\n",
       "      <th>Pay</th>\n",
       "      <th>Location</th>\n",
       "      <th>Date posted</th>\n",
       "      <th>Other information</th>\n",
       "      <th>Job Description</th>\n",
       "      <th>URL</th>\n",
       "      <th>Pay_lower_bound</th>\n",
       "    </tr>\n",
       "  </thead>\n",
       "  <tbody>\n",
       "    <tr>\n",
       "      <th>0</th>\n",
       "      <td>Field Application Scientist– Genomic Systems</td>\n",
       "      <td>Research Instruments Pte Ltd</td>\n",
       "      <td>temp</td>\n",
       "      <td>Singapore</td>\n",
       "      <td>Posted on 20-Sep-21</td>\n",
       "      <td>Remuneration package will be commensurate wit...</td>\n",
       "      <td>&lt;div class=\"vDEj0_0\" data-automation=\"jobDescr...</td>\n",
       "      <td>http://www.jobstreet.com.sg/en/job/field-appli...</td>\n",
       "      <td>0</td>\n",
       "    </tr>\n",
       "    <tr>\n",
       "      <th>1</th>\n",
       "      <td>Data Scientist - AI</td>\n",
       "      <td>Blowfish Pte Ltd</td>\n",
       "      <td>4500 6000</td>\n",
       "      <td>Central - Others</td>\n",
       "      <td>Posted 19 hours ago</td>\n",
       "      <td>Junior Executive Bachelor's Degree, Post Gradu...</td>\n",
       "      <td>&lt;div class=\"vDEj0_0\" data-automation=\"jobDescr...</td>\n",
       "      <td>http://www.jobstreet.com.sg/en/job/data-scient...</td>\n",
       "      <td>0</td>\n",
       "    </tr>\n",
       "    <tr>\n",
       "      <th>2</th>\n",
       "      <td>Data Scientist</td>\n",
       "      <td>SILENT EIGHT PTE. LTD.</td>\n",
       "      <td>4500 6000</td>\n",
       "      <td>Singapore</td>\n",
       "      <td>Posted on 15-Sep-21</td>\n",
       "      <td>Employee Stock Ownership Plan  Experienced te...</td>\n",
       "      <td>&lt;div class=\"vDEj0_0\" data-automation=\"jobDescr...</td>\n",
       "      <td>http://www.jobstreet.com.sg/en/job/data-scient...</td>\n",
       "      <td>0</td>\n",
       "    </tr>\n",
       "    <tr>\n",
       "      <th>3</th>\n",
       "      <td>Data Analyst - Financial Markets</td>\n",
       "      <td>AMUNDI SINGAPORE LIMITED</td>\n",
       "      <td>temp</td>\n",
       "      <td>Singapore River</td>\n",
       "      <td>Posted on 15-Sep-21</td>\n",
       "      <td>Entry Level Bachelor's Degree, Post Graduate D...</td>\n",
       "      <td>&lt;div class=\"vDEj0_0\" data-automation=\"jobDescr...</td>\n",
       "      <td>http://www.jobstreet.com.sg/en/job/data-analys...</td>\n",
       "      <td>0</td>\n",
       "    </tr>\n",
       "    <tr>\n",
       "      <th>4</th>\n",
       "      <td>Food Scientist</td>\n",
       "      <td>Organic Technology SE-ASIA Pte Ltd</td>\n",
       "      <td>3000 5000</td>\n",
       "      <td>West</td>\n",
       "      <td>Posted on 15-Sep-21</td>\n",
       "      <td>International environment, awesome colleagues...</td>\n",
       "      <td>&lt;div class=\"vDEj0_0\" data-automation=\"jobDescr...</td>\n",
       "      <td>http://www.jobstreet.com.sg/en/job/food-scient...</td>\n",
       "      <td>0</td>\n",
       "    </tr>\n",
       "  </tbody>\n",
       "</table>\n",
       "</div>"
      ],
      "text/plain": [
       "                                      Job Title  \\\n",
       "0  Field Application Scientist– Genomic Systems   \n",
       "1                           Data Scientist - AI   \n",
       "2                                Data Scientist   \n",
       "3              Data Analyst - Financial Markets   \n",
       "4                                Food Scientist   \n",
       "\n",
       "                            Companies         Pay          Location  \\\n",
       "0        Research Instruments Pte Ltd        temp         Singapore   \n",
       "1                    Blowfish Pte Ltd   4500 6000  Central - Others   \n",
       "2              SILENT EIGHT PTE. LTD.   4500 6000         Singapore   \n",
       "3            AMUNDI SINGAPORE LIMITED        temp   Singapore River   \n",
       "4  Organic Technology SE-ASIA Pte Ltd   3000 5000              West   \n",
       "\n",
       "           Date posted                                  Other information  \\\n",
       "0  Posted on 20-Sep-21   Remuneration package will be commensurate wit...   \n",
       "1  Posted 19 hours ago  Junior Executive Bachelor's Degree, Post Gradu...   \n",
       "2  Posted on 15-Sep-21   Employee Stock Ownership Plan  Experienced te...   \n",
       "3  Posted on 15-Sep-21  Entry Level Bachelor's Degree, Post Graduate D...   \n",
       "4  Posted on 15-Sep-21   International environment, awesome colleagues...   \n",
       "\n",
       "                                     Job Description  \\\n",
       "0  <div class=\"vDEj0_0\" data-automation=\"jobDescr...   \n",
       "1  <div class=\"vDEj0_0\" data-automation=\"jobDescr...   \n",
       "2  <div class=\"vDEj0_0\" data-automation=\"jobDescr...   \n",
       "3  <div class=\"vDEj0_0\" data-automation=\"jobDescr...   \n",
       "4  <div class=\"vDEj0_0\" data-automation=\"jobDescr...   \n",
       "\n",
       "                                                 URL  Pay_lower_bound  \n",
       "0  http://www.jobstreet.com.sg/en/job/field-appli...                0  \n",
       "1  http://www.jobstreet.com.sg/en/job/data-scient...                0  \n",
       "2  http://www.jobstreet.com.sg/en/job/data-scient...                0  \n",
       "3  http://www.jobstreet.com.sg/en/job/data-analys...                0  \n",
       "4  http://www.jobstreet.com.sg/en/job/food-scient...                0  "
      ]
     },
     "execution_count": 19,
     "metadata": {},
     "output_type": "execute_result"
    }
   ],
   "source": [
    "df.head()"
   ]
  },
  {
   "cell_type": "code",
   "execution_count": 20,
   "metadata": {},
   "outputs": [],
   "source": [
    "df['Pay_lower_bound'] = df.Pay.apply(lambda x : x[0:int(len(x)/2)])\n",
    "df['Pay_upper_bound'] = df.Pay.apply(lambda x : x[int(len(x)/2):])\n",
    "df.drop(columns='Pay', inplace = True)"
   ]
  },
  {
   "cell_type": "code",
   "execution_count": 21,
   "metadata": {},
   "outputs": [
    {
     "data": {
      "text/html": [
       "<div>\n",
       "<style scoped>\n",
       "    .dataframe tbody tr th:only-of-type {\n",
       "        vertical-align: middle;\n",
       "    }\n",
       "\n",
       "    .dataframe tbody tr th {\n",
       "        vertical-align: top;\n",
       "    }\n",
       "\n",
       "    .dataframe thead th {\n",
       "        text-align: right;\n",
       "    }\n",
       "</style>\n",
       "<table border=\"1\" class=\"dataframe\">\n",
       "  <thead>\n",
       "    <tr style=\"text-align: right;\">\n",
       "      <th></th>\n",
       "      <th>Job Title</th>\n",
       "      <th>Companies</th>\n",
       "      <th>Location</th>\n",
       "      <th>Date posted</th>\n",
       "      <th>Other information</th>\n",
       "      <th>Job Description</th>\n",
       "      <th>URL</th>\n",
       "      <th>Pay_lower_bound</th>\n",
       "      <th>Pay_upper_bound</th>\n",
       "    </tr>\n",
       "  </thead>\n",
       "  <tbody>\n",
       "    <tr>\n",
       "      <th>0</th>\n",
       "      <td>Field Application Scientist– Genomic Systems</td>\n",
       "      <td>Research Instruments Pte Ltd</td>\n",
       "      <td>Singapore</td>\n",
       "      <td>Posted on 20-Sep-21</td>\n",
       "      <td>Remuneration package will be commensurate wit...</td>\n",
       "      <td>&lt;div class=\"vDEj0_0\" data-automation=\"jobDescr...</td>\n",
       "      <td>http://www.jobstreet.com.sg/en/job/field-appli...</td>\n",
       "      <td>te</td>\n",
       "      <td>mp</td>\n",
       "    </tr>\n",
       "    <tr>\n",
       "      <th>1</th>\n",
       "      <td>Data Scientist - AI</td>\n",
       "      <td>Blowfish Pte Ltd</td>\n",
       "      <td>Central - Others</td>\n",
       "      <td>Posted 19 hours ago</td>\n",
       "      <td>Junior Executive Bachelor's Degree, Post Gradu...</td>\n",
       "      <td>&lt;div class=\"vDEj0_0\" data-automation=\"jobDescr...</td>\n",
       "      <td>http://www.jobstreet.com.sg/en/job/data-scient...</td>\n",
       "      <td>4500</td>\n",
       "      <td>6000</td>\n",
       "    </tr>\n",
       "    <tr>\n",
       "      <th>2</th>\n",
       "      <td>Data Scientist</td>\n",
       "      <td>SILENT EIGHT PTE. LTD.</td>\n",
       "      <td>Singapore</td>\n",
       "      <td>Posted on 15-Sep-21</td>\n",
       "      <td>Employee Stock Ownership Plan  Experienced te...</td>\n",
       "      <td>&lt;div class=\"vDEj0_0\" data-automation=\"jobDescr...</td>\n",
       "      <td>http://www.jobstreet.com.sg/en/job/data-scient...</td>\n",
       "      <td>4500</td>\n",
       "      <td>6000</td>\n",
       "    </tr>\n",
       "    <tr>\n",
       "      <th>3</th>\n",
       "      <td>Data Analyst - Financial Markets</td>\n",
       "      <td>AMUNDI SINGAPORE LIMITED</td>\n",
       "      <td>Singapore River</td>\n",
       "      <td>Posted on 15-Sep-21</td>\n",
       "      <td>Entry Level Bachelor's Degree, Post Graduate D...</td>\n",
       "      <td>&lt;div class=\"vDEj0_0\" data-automation=\"jobDescr...</td>\n",
       "      <td>http://www.jobstreet.com.sg/en/job/data-analys...</td>\n",
       "      <td>te</td>\n",
       "      <td>mp</td>\n",
       "    </tr>\n",
       "    <tr>\n",
       "      <th>4</th>\n",
       "      <td>Food Scientist</td>\n",
       "      <td>Organic Technology SE-ASIA Pte Ltd</td>\n",
       "      <td>West</td>\n",
       "      <td>Posted on 15-Sep-21</td>\n",
       "      <td>International environment, awesome colleagues...</td>\n",
       "      <td>&lt;div class=\"vDEj0_0\" data-automation=\"jobDescr...</td>\n",
       "      <td>http://www.jobstreet.com.sg/en/job/food-scient...</td>\n",
       "      <td>3000</td>\n",
       "      <td>5000</td>\n",
       "    </tr>\n",
       "  </tbody>\n",
       "</table>\n",
       "</div>"
      ],
      "text/plain": [
       "                                      Job Title  \\\n",
       "0  Field Application Scientist– Genomic Systems   \n",
       "1                           Data Scientist - AI   \n",
       "2                                Data Scientist   \n",
       "3              Data Analyst - Financial Markets   \n",
       "4                                Food Scientist   \n",
       "\n",
       "                            Companies          Location          Date posted  \\\n",
       "0        Research Instruments Pte Ltd         Singapore  Posted on 20-Sep-21   \n",
       "1                    Blowfish Pte Ltd  Central - Others  Posted 19 hours ago   \n",
       "2              SILENT EIGHT PTE. LTD.         Singapore  Posted on 15-Sep-21   \n",
       "3            AMUNDI SINGAPORE LIMITED   Singapore River  Posted on 15-Sep-21   \n",
       "4  Organic Technology SE-ASIA Pte Ltd              West  Posted on 15-Sep-21   \n",
       "\n",
       "                                   Other information  \\\n",
       "0   Remuneration package will be commensurate wit...   \n",
       "1  Junior Executive Bachelor's Degree, Post Gradu...   \n",
       "2   Employee Stock Ownership Plan  Experienced te...   \n",
       "3  Entry Level Bachelor's Degree, Post Graduate D...   \n",
       "4   International environment, awesome colleagues...   \n",
       "\n",
       "                                     Job Description  \\\n",
       "0  <div class=\"vDEj0_0\" data-automation=\"jobDescr...   \n",
       "1  <div class=\"vDEj0_0\" data-automation=\"jobDescr...   \n",
       "2  <div class=\"vDEj0_0\" data-automation=\"jobDescr...   \n",
       "3  <div class=\"vDEj0_0\" data-automation=\"jobDescr...   \n",
       "4  <div class=\"vDEj0_0\" data-automation=\"jobDescr...   \n",
       "\n",
       "                                                 URL Pay_lower_bound  \\\n",
       "0  http://www.jobstreet.com.sg/en/job/field-appli...              te   \n",
       "1  http://www.jobstreet.com.sg/en/job/data-scient...            4500   \n",
       "2  http://www.jobstreet.com.sg/en/job/data-scient...            4500   \n",
       "3  http://www.jobstreet.com.sg/en/job/data-analys...              te   \n",
       "4  http://www.jobstreet.com.sg/en/job/food-scient...            3000   \n",
       "\n",
       "  Pay_upper_bound  \n",
       "0              mp  \n",
       "1            6000  \n",
       "2            6000  \n",
       "3              mp  \n",
       "4            5000  "
      ]
     },
     "execution_count": 21,
     "metadata": {},
     "output_type": "execute_result"
    }
   ],
   "source": [
    "df.head()"
   ]
  },
  {
   "cell_type": "code",
   "execution_count": 22,
   "metadata": {},
   "outputs": [],
   "source": [
    "df.Pay_lower_bound = df.Pay_lower_bound.apply(lambda x : x.replace('te',\"NaN\"))\n",
    "df.Pay_upper_bound = df.Pay_upper_bound.apply(lambda x : x.replace('mp',\"NaN\"))"
   ]
  },
  {
   "cell_type": "code",
   "execution_count": 23,
   "metadata": {},
   "outputs": [
    {
     "data": {
      "text/html": [
       "<div>\n",
       "<style scoped>\n",
       "    .dataframe tbody tr th:only-of-type {\n",
       "        vertical-align: middle;\n",
       "    }\n",
       "\n",
       "    .dataframe tbody tr th {\n",
       "        vertical-align: top;\n",
       "    }\n",
       "\n",
       "    .dataframe thead th {\n",
       "        text-align: right;\n",
       "    }\n",
       "</style>\n",
       "<table border=\"1\" class=\"dataframe\">\n",
       "  <thead>\n",
       "    <tr style=\"text-align: right;\">\n",
       "      <th></th>\n",
       "      <th>Job Title</th>\n",
       "      <th>Companies</th>\n",
       "      <th>Location</th>\n",
       "      <th>Date posted</th>\n",
       "      <th>Other information</th>\n",
       "      <th>Job Description</th>\n",
       "      <th>URL</th>\n",
       "      <th>Pay_lower_bound</th>\n",
       "      <th>Pay_upper_bound</th>\n",
       "    </tr>\n",
       "  </thead>\n",
       "  <tbody>\n",
       "    <tr>\n",
       "      <th>0</th>\n",
       "      <td>Field Application Scientist– Genomic Systems</td>\n",
       "      <td>Research Instruments Pte Ltd</td>\n",
       "      <td>Singapore</td>\n",
       "      <td>Posted on 20-Sep-21</td>\n",
       "      <td>Remuneration package will be commensurate wit...</td>\n",
       "      <td>&lt;div class=\"vDEj0_0\" data-automation=\"jobDescr...</td>\n",
       "      <td>http://www.jobstreet.com.sg/en/job/field-appli...</td>\n",
       "      <td>NaN</td>\n",
       "      <td>NaN</td>\n",
       "    </tr>\n",
       "    <tr>\n",
       "      <th>1</th>\n",
       "      <td>Data Scientist - AI</td>\n",
       "      <td>Blowfish Pte Ltd</td>\n",
       "      <td>Central - Others</td>\n",
       "      <td>Posted 19 hours ago</td>\n",
       "      <td>Junior Executive Bachelor's Degree, Post Gradu...</td>\n",
       "      <td>&lt;div class=\"vDEj0_0\" data-automation=\"jobDescr...</td>\n",
       "      <td>http://www.jobstreet.com.sg/en/job/data-scient...</td>\n",
       "      <td>4500</td>\n",
       "      <td>6000</td>\n",
       "    </tr>\n",
       "    <tr>\n",
       "      <th>2</th>\n",
       "      <td>Data Scientist</td>\n",
       "      <td>SILENT EIGHT PTE. LTD.</td>\n",
       "      <td>Singapore</td>\n",
       "      <td>Posted on 15-Sep-21</td>\n",
       "      <td>Employee Stock Ownership Plan  Experienced te...</td>\n",
       "      <td>&lt;div class=\"vDEj0_0\" data-automation=\"jobDescr...</td>\n",
       "      <td>http://www.jobstreet.com.sg/en/job/data-scient...</td>\n",
       "      <td>4500</td>\n",
       "      <td>6000</td>\n",
       "    </tr>\n",
       "    <tr>\n",
       "      <th>3</th>\n",
       "      <td>Data Analyst - Financial Markets</td>\n",
       "      <td>AMUNDI SINGAPORE LIMITED</td>\n",
       "      <td>Singapore River</td>\n",
       "      <td>Posted on 15-Sep-21</td>\n",
       "      <td>Entry Level Bachelor's Degree, Post Graduate D...</td>\n",
       "      <td>&lt;div class=\"vDEj0_0\" data-automation=\"jobDescr...</td>\n",
       "      <td>http://www.jobstreet.com.sg/en/job/data-analys...</td>\n",
       "      <td>NaN</td>\n",
       "      <td>NaN</td>\n",
       "    </tr>\n",
       "    <tr>\n",
       "      <th>4</th>\n",
       "      <td>Food Scientist</td>\n",
       "      <td>Organic Technology SE-ASIA Pte Ltd</td>\n",
       "      <td>West</td>\n",
       "      <td>Posted on 15-Sep-21</td>\n",
       "      <td>International environment, awesome colleagues...</td>\n",
       "      <td>&lt;div class=\"vDEj0_0\" data-automation=\"jobDescr...</td>\n",
       "      <td>http://www.jobstreet.com.sg/en/job/food-scient...</td>\n",
       "      <td>3000</td>\n",
       "      <td>5000</td>\n",
       "    </tr>\n",
       "  </tbody>\n",
       "</table>\n",
       "</div>"
      ],
      "text/plain": [
       "                                      Job Title  \\\n",
       "0  Field Application Scientist– Genomic Systems   \n",
       "1                           Data Scientist - AI   \n",
       "2                                Data Scientist   \n",
       "3              Data Analyst - Financial Markets   \n",
       "4                                Food Scientist   \n",
       "\n",
       "                            Companies          Location          Date posted  \\\n",
       "0        Research Instruments Pte Ltd         Singapore  Posted on 20-Sep-21   \n",
       "1                    Blowfish Pte Ltd  Central - Others  Posted 19 hours ago   \n",
       "2              SILENT EIGHT PTE. LTD.         Singapore  Posted on 15-Sep-21   \n",
       "3            AMUNDI SINGAPORE LIMITED   Singapore River  Posted on 15-Sep-21   \n",
       "4  Organic Technology SE-ASIA Pte Ltd              West  Posted on 15-Sep-21   \n",
       "\n",
       "                                   Other information  \\\n",
       "0   Remuneration package will be commensurate wit...   \n",
       "1  Junior Executive Bachelor's Degree, Post Gradu...   \n",
       "2   Employee Stock Ownership Plan  Experienced te...   \n",
       "3  Entry Level Bachelor's Degree, Post Graduate D...   \n",
       "4   International environment, awesome colleagues...   \n",
       "\n",
       "                                     Job Description  \\\n",
       "0  <div class=\"vDEj0_0\" data-automation=\"jobDescr...   \n",
       "1  <div class=\"vDEj0_0\" data-automation=\"jobDescr...   \n",
       "2  <div class=\"vDEj0_0\" data-automation=\"jobDescr...   \n",
       "3  <div class=\"vDEj0_0\" data-automation=\"jobDescr...   \n",
       "4  <div class=\"vDEj0_0\" data-automation=\"jobDescr...   \n",
       "\n",
       "                                                 URL Pay_lower_bound  \\\n",
       "0  http://www.jobstreet.com.sg/en/job/field-appli...             NaN   \n",
       "1  http://www.jobstreet.com.sg/en/job/data-scient...            4500   \n",
       "2  http://www.jobstreet.com.sg/en/job/data-scient...            4500   \n",
       "3  http://www.jobstreet.com.sg/en/job/data-analys...             NaN   \n",
       "4  http://www.jobstreet.com.sg/en/job/food-scient...            3000   \n",
       "\n",
       "  Pay_upper_bound  \n",
       "0             NaN  \n",
       "1            6000  \n",
       "2            6000  \n",
       "3             NaN  \n",
       "4            5000  "
      ]
     },
     "execution_count": 23,
     "metadata": {},
     "output_type": "execute_result"
    }
   ],
   "source": [
    "df.head()"
   ]
  },
  {
   "cell_type": "code",
   "execution_count": 24,
   "metadata": {},
   "outputs": [
    {
     "data": {
      "text/plain": [
       "<AxesSubplot:>"
      ]
     },
     "execution_count": 24,
     "metadata": {},
     "output_type": "execute_result"
    },
    {
     "data": {
      "image/png": "[encoded data removed]",
      "text/plain": [
       "<Figure size 1800x720 with 2 Axes>"
      ]
     },
     "metadata": {
      "needs_background": "light"
     },
     "output_type": "display_data"
    }
   ],
   "source": [
    "msno.matrix(df)"
   ]
  },
  {
   "cell_type": "code",
   "execution_count": 25,
   "metadata": {},
   "outputs": [],
   "source": [
    "df.Pay_lower_bound = df.Pay_lower_bound.apply(lambda x : float(x))"
   ]
  },
  {
   "cell_type": "code",
   "execution_count": 26,
   "metadata": {},
   "outputs": [],
   "source": [
    "df.Pay_upper_bound = df.Pay_upper_bound.apply(lambda x : float(x))"
   ]
  },
  {
   "cell_type": "code",
   "execution_count": 27,
   "metadata": {},
   "outputs": [],
   "source": [
    "df['Pay_average']=(df['Pay_lower_bound'] + df['Pay_upper_bound'])/2"
   ]
  },
  {
   "cell_type": "code",
   "execution_count": 28,
   "metadata": {},
   "outputs": [],
   "source": [
    "df.drop(columns = ['Pay_lower_bound','Pay_upper_bound'], inplace = True)"
   ]
  },
  {
   "cell_type": "code",
   "execution_count": 29,
   "metadata": {},
   "outputs": [],
   "source": [
    "df['Job Title'] = df['Job Title'].astype(str)\n",
    "df['Companies'] = df['Companies'].astype(str)\n",
    "df['Other information'] = df['Other information'].astype(str)\n",
    "df['Job Description'] = df['Job Description'].astype(str)"
   ]
  },
  {
   "cell_type": "code",
   "execution_count": 30,
   "metadata": {},
   "outputs": [
    {
     "name": "stdout",
     "output_type": "stream",
     "text": [
      "<class 'pandas.core.frame.DataFrame'>\n",
      "Int64Index: 1750 entries, 0 to 2397\n",
      "Data columns (total 8 columns):\n",
      " #   Column             Non-Null Count  Dtype  \n",
      "---  ------             --------------  -----  \n",
      " 0   Job Title          1750 non-null   object \n",
      " 1   Companies          1750 non-null   object \n",
      " 2   Location           1750 non-null   object \n",
      " 3   Date posted        1750 non-null   object \n",
      " 4   Other information  1750 non-null   object \n",
      " 5   Job Description    1750 non-null   object \n",
      " 6   URL                1750 non-null   object \n",
      " 7   Pay_average        599 non-null    float64\n",
      "dtypes: float64(1), object(7)\n",
      "memory usage: 123.0+ KB\n"
     ]
    }
   ],
   "source": [
    "df.info()"
   ]
  },
  {
   "cell_type": "code",
   "execution_count": 31,
   "metadata": {},
   "outputs": [
    {
     "data": {
      "text/html": [
       "<div>\n",
       "<style scoped>\n",
       "    .dataframe tbody tr th:only-of-type {\n",
       "        vertical-align: middle;\n",
       "    }\n",
       "\n",
       "    .dataframe tbody tr th {\n",
       "        vertical-align: top;\n",
       "    }\n",
       "\n",
       "    .dataframe thead th {\n",
       "        text-align: right;\n",
       "    }\n",
       "</style>\n",
       "<table border=\"1\" class=\"dataframe\">\n",
       "  <thead>\n",
       "    <tr style=\"text-align: right;\">\n",
       "      <th></th>\n",
       "      <th>Job Title</th>\n",
       "      <th>Companies</th>\n",
       "      <th>Location</th>\n",
       "      <th>Date posted</th>\n",
       "      <th>Other information</th>\n",
       "      <th>Job Description</th>\n",
       "      <th>URL</th>\n",
       "      <th>Pay_average</th>\n",
       "    </tr>\n",
       "  </thead>\n",
       "  <tbody>\n",
       "    <tr>\n",
       "      <th>0</th>\n",
       "      <td>Field Application Scientist– Genomic Systems</td>\n",
       "      <td>Research Instruments Pte Ltd</td>\n",
       "      <td>Singapore</td>\n",
       "      <td>Posted on 20-Sep-21</td>\n",
       "      <td>Remuneration package will be commensurate wit...</td>\n",
       "      <td>&lt;div class=\"vDEj0_0\" data-automation=\"jobDescr...</td>\n",
       "      <td>http://www.jobstreet.com.sg/en/job/field-appli...</td>\n",
       "      <td>NaN</td>\n",
       "    </tr>\n",
       "    <tr>\n",
       "      <th>1</th>\n",
       "      <td>Data Scientist - AI</td>\n",
       "      <td>Blowfish Pte Ltd</td>\n",
       "      <td>Central - Others</td>\n",
       "      <td>Posted 19 hours ago</td>\n",
       "      <td>Junior Executive Bachelor's Degree, Post Gradu...</td>\n",
       "      <td>&lt;div class=\"vDEj0_0\" data-automation=\"jobDescr...</td>\n",
       "      <td>http://www.jobstreet.com.sg/en/job/data-scient...</td>\n",
       "      <td>5250.0</td>\n",
       "    </tr>\n",
       "    <tr>\n",
       "      <th>2</th>\n",
       "      <td>Data Scientist</td>\n",
       "      <td>SILENT EIGHT PTE. LTD.</td>\n",
       "      <td>Singapore</td>\n",
       "      <td>Posted on 15-Sep-21</td>\n",
       "      <td>Employee Stock Ownership Plan  Experienced te...</td>\n",
       "      <td>&lt;div class=\"vDEj0_0\" data-automation=\"jobDescr...</td>\n",
       "      <td>http://www.jobstreet.com.sg/en/job/data-scient...</td>\n",
       "      <td>5250.0</td>\n",
       "    </tr>\n",
       "    <tr>\n",
       "      <th>3</th>\n",
       "      <td>Data Analyst - Financial Markets</td>\n",
       "      <td>AMUNDI SINGAPORE LIMITED</td>\n",
       "      <td>Singapore River</td>\n",
       "      <td>Posted on 15-Sep-21</td>\n",
       "      <td>Entry Level Bachelor's Degree, Post Graduate D...</td>\n",
       "      <td>&lt;div class=\"vDEj0_0\" data-automation=\"jobDescr...</td>\n",
       "      <td>http://www.jobstreet.com.sg/en/job/data-analys...</td>\n",
       "      <td>NaN</td>\n",
       "    </tr>\n",
       "    <tr>\n",
       "      <th>4</th>\n",
       "      <td>Food Scientist</td>\n",
       "      <td>Organic Technology SE-ASIA Pte Ltd</td>\n",
       "      <td>West</td>\n",
       "      <td>Posted on 15-Sep-21</td>\n",
       "      <td>International environment, awesome colleagues...</td>\n",
       "      <td>&lt;div class=\"vDEj0_0\" data-automation=\"jobDescr...</td>\n",
       "      <td>http://www.jobstreet.com.sg/en/job/food-scient...</td>\n",
       "      <td>4000.0</td>\n",
       "    </tr>\n",
       "  </tbody>\n",
       "</table>\n",
       "</div>"
      ],
      "text/plain": [
       "                                      Job Title  \\\n",
       "0  Field Application Scientist– Genomic Systems   \n",
       "1                           Data Scientist - AI   \n",
       "2                                Data Scientist   \n",
       "3              Data Analyst - Financial Markets   \n",
       "4                                Food Scientist   \n",
       "\n",
       "                            Companies          Location          Date posted  \\\n",
       "0        Research Instruments Pte Ltd         Singapore  Posted on 20-Sep-21   \n",
       "1                    Blowfish Pte Ltd  Central - Others  Posted 19 hours ago   \n",
       "2              SILENT EIGHT PTE. LTD.         Singapore  Posted on 15-Sep-21   \n",
       "3            AMUNDI SINGAPORE LIMITED   Singapore River  Posted on 15-Sep-21   \n",
       "4  Organic Technology SE-ASIA Pte Ltd              West  Posted on 15-Sep-21   \n",
       "\n",
       "                                   Other information  \\\n",
       "0   Remuneration package will be commensurate wit...   \n",
       "1  Junior Executive Bachelor's Degree, Post Gradu...   \n",
       "2   Employee Stock Ownership Plan  Experienced te...   \n",
       "3  Entry Level Bachelor's Degree, Post Graduate D...   \n",
       "4   International environment, awesome colleagues...   \n",
       "\n",
       "                                     Job Description  \\\n",
       "0  <div class=\"vDEj0_0\" data-automation=\"jobDescr...   \n",
       "1  <div class=\"vDEj0_0\" data-automation=\"jobDescr...   \n",
       "2  <div class=\"vDEj0_0\" data-automation=\"jobDescr...   \n",
       "3  <div class=\"vDEj0_0\" data-automation=\"jobDescr...   \n",
       "4  <div class=\"vDEj0_0\" data-automation=\"jobDescr...   \n",
       "\n",
       "                                                 URL  Pay_average  \n",
       "0  http://www.jobstreet.com.sg/en/job/field-appli...          NaN  \n",
       "1  http://www.jobstreet.com.sg/en/job/data-scient...       5250.0  \n",
       "2  http://www.jobstreet.com.sg/en/job/data-scient...       5250.0  \n",
       "3  http://www.jobstreet.com.sg/en/job/data-analys...          NaN  \n",
       "4  http://www.jobstreet.com.sg/en/job/food-scient...       4000.0  "
      ]
     },
     "execution_count": 31,
     "metadata": {},
     "output_type": "execute_result"
    }
   ],
   "source": [
    "df.head()"
   ]
  },
  {
   "cell_type": "markdown",
   "metadata": {},
   "source": [
    "## Cleaning up Job Description"
   ]
  },
  {
   "cell_type": "markdown",
   "metadata": {},
   "source": [
    "Job Description has a lot of html tags that I would need to clean up"
   ]
  },
  {
   "cell_type": "code",
   "execution_count": 32,
   "metadata": {},
   "outputs": [
    {
     "data": {
      "text/plain": [
       "'<div class=\"vDEj0_0\" data-automation=\"jobDescription\"><span class=\"sx2jih0 zcydq82q _18qlyvc0 _18qlyvcv _18qlyvc1 _18qlyvc8\"><div class=\"sx2jih0\"><p>At\\xa0<strong>Research Instruments</strong>, we are committed to facilitating access to state-of-the-art research tools by continually introducing new technologies, providing complete solutions to customers. We are dedicated to being a vital source for scientific research bringing leading-edge solutions to enable our clients to thrive.\\xa0The passion, the resourcefulness, and the creativity of our employees are the driving forces behind our success on a regional scale, enabling us to create sustainable growth and value in today’s growing life science industry.</p><p><strong>Field Application Scientist– Genomic Systems</strong></p><p>Candidate should have the following qualifications:\\xa0</p><ul><li>Degree, preferably advanced degree (MSc or PhD) in Biomedical Science, Genomics, Genetics, Molecular Biology, Biochemistry or Bioinformatics. Minimum 2 years of relevant experience would be preferred.</li><li>Demonstrated experience with NGS workflows and data analysis software and/or associated analysis software. Ability to interpret NGS datasets considered a plus.</li><li>Good breadth of knowledge in genomics, biochemistry and functional genomics. Single cell laboratory experience considered a plus.</li><li>Excellent analytical and systematic problem-solving skills.</li><li>Strong written and verbal communication skills and outstanding training skills. Excellent communication skills in English.</li><li>Motivated, confident and interested in technical support and research applications.\\xa0</li><li>Strong interpersonal skills and demonstrated ability to work independently as well as with the sales team towards corporate goals.</li><li>Prior field experience supporting customers using next-generation sequencing technologies preferred.</li><li>Clear vision of and commitment to providing outstanding customer service.</li><li><span style=\"color:black\">Applicant should be currently based in Singapore</span>.\\xa0\\xa0</li></ul><p><strong>Job responsibilities:</strong></p><p>This FAS position would be responsible for providing customer support for our strong genomics product line (e.g. Pacific Biosciences, Nanostring, MGI Tech, Twist Biosciences, Sage Science, Mission Bio). With plenty of support from our principals, you would undergo significant training and be required to deal with customers directly for problem-solving, to assist with pre-sales demonstrations and technical discussions, and provide customer training.\\xa0</p><p>You would be responsible for supporting Singapore customers directly and some involvement in the SE Asia region.\\xa0</p><p>Remuneration package commensurate with qualifications and experience, with an attractive incentive plan.</p></div></span></div>'"
      ]
     },
     "execution_count": 32,
     "metadata": {},
     "output_type": "execute_result"
    }
   ],
   "source": [
    "df['Job Description'][0]"
   ]
  },
  {
   "cell_type": "code",
   "execution_count": 33,
   "metadata": {},
   "outputs": [],
   "source": [
    "def cleanup_jobdescription(jd_string):\n",
    "    html_tags_regex = re.compile(r'(\\xa0)|(<.*?>)')\n",
    "    return re.sub(html_tags_regex, '', jd_string)"
   ]
  },
  {
   "cell_type": "code",
   "execution_count": 34,
   "metadata": {},
   "outputs": [
    {
     "data": {
      "text/plain": [
       "'AtResearch Instruments, we are committed to facilitating access to state-of-the-art research tools by continually introducing new technologies, providing complete solutions to customers. We are dedicated to being a vital source for scientific research bringing leading-edge solutions to enable our clients to thrive.The passion, the resourcefulness, and the creativity of our employees are the driving forces behind our success on a regional scale, enabling us to create sustainable growth and value in today’s growing life science industry.Field Application Scientist– Genomic SystemsCandidate should have the following qualifications:Degree, preferably advanced degree (MSc or PhD) in Biomedical Science, Genomics, Genetics, Molecular Biology, Biochemistry or Bioinformatics. Minimum 2 years of relevant experience would be preferred.Demonstrated experience with NGS workflows and data analysis software and/or associated analysis software. Ability to interpret NGS datasets considered a plus.Good breadth of knowledge in genomics, biochemistry and functional genomics. Single cell laboratory experience considered a plus.Excellent analytical and systematic problem-solving skills.Strong written and verbal communication skills and outstanding training skills. Excellent communication skills in English.Motivated, confident and interested in technical support and research applications.Strong interpersonal skills and demonstrated ability to work independently as well as with the sales team towards corporate goals.Prior field experience supporting customers using next-generation sequencing technologies preferred.Clear vision of and commitment to providing outstanding customer service.Applicant should be currently based in Singapore.Job responsibilities:This FAS position would be responsible for providing customer support for our strong genomics product line (e.g. Pacific Biosciences, Nanostring, MGI Tech, Twist Biosciences, Sage Science, Mission Bio). With plenty of support from our principals, you would undergo significant training and be required to deal with customers directly for problem-solving, to assist with pre-sales demonstrations and technical discussions, and provide customer training.You would be responsible for supporting Singapore customers directly and some involvement in the SE Asia region.Remuneration package commensurate with qualifications and experience, with an attractive incentive plan.'"
      ]
     },
     "execution_count": 34,
     "metadata": {},
     "output_type": "execute_result"
    }
   ],
   "source": [
    "cleanup_jobdescription(df['Job Description'][0])"
   ]
  },
  {
   "cell_type": "code",
   "execution_count": 35,
   "metadata": {},
   "outputs": [],
   "source": [
    "df['Job Description'] = df['Job Description'].apply(cleanup_jobdescription)"
   ]
  },
  {
   "cell_type": "code",
   "execution_count": 36,
   "metadata": {},
   "outputs": [
    {
     "data": {
      "text/plain": [
       "504     We are looking for a highly motivated candidat...\n",
       "2038    [emailprotected] Corporate Lab is currently lo...\n",
       "165     JOB PURPOSEAPAC IThas built an Enterprise Info...\n",
       "97      Responsibilities:Help to design and implement ...\n",
       "346     Internal Audit is an independent function that...\n",
       "435     The School of Biological Sciences islooking fo...\n",
       "43      Job Description:The Data Science Lead leads hi...\n",
       "2245    A Research Engineer I position is available in...\n",
       "2198    Research Assistant (Computer Science/Computer ...\n",
       "530     ReesponsibilitiesIdentify business needsWork w...\n",
       "Name: Job Description, dtype: object"
      ]
     },
     "execution_count": 36,
     "metadata": {},
     "output_type": "execute_result"
    }
   ],
   "source": [
    "df['Job Description'].sample(10)"
   ]
  },
  {
   "cell_type": "code",
   "execution_count": 37,
   "metadata": {},
   "outputs": [],
   "source": [
    "#Cheking if Job Description contains Pay information"
   ]
  },
  {
   "cell_type": "code",
   "execution_count": 38,
   "metadata": {},
   "outputs": [
    {
     "data": {
      "text/html": [
       "<div>\n",
       "<style scoped>\n",
       "    .dataframe tbody tr th:only-of-type {\n",
       "        vertical-align: middle;\n",
       "    }\n",
       "\n",
       "    .dataframe tbody tr th {\n",
       "        vertical-align: top;\n",
       "    }\n",
       "\n",
       "    .dataframe thead th {\n",
       "        text-align: right;\n",
       "    }\n",
       "</style>\n",
       "<table border=\"1\" class=\"dataframe\">\n",
       "  <thead>\n",
       "    <tr style=\"text-align: right;\">\n",
       "      <th></th>\n",
       "      <th>Job Title</th>\n",
       "      <th>Companies</th>\n",
       "      <th>Location</th>\n",
       "      <th>Date posted</th>\n",
       "      <th>Other information</th>\n",
       "      <th>Job Description</th>\n",
       "      <th>URL</th>\n",
       "      <th>Pay_average</th>\n",
       "    </tr>\n",
       "  </thead>\n",
       "  <tbody>\n",
       "    <tr>\n",
       "      <th>209</th>\n",
       "      <td>Pyspark Python Developer</td>\n",
       "      <td>ARYAN SOLUTIONS PTE. LTD.</td>\n",
       "      <td>Singapore</td>\n",
       "      <td>Posted on 20-Sep-21</td>\n",
       "      <td>Senior Executive Diploma, Advanced/Higher/Grad...</td>\n",
       "      <td>Salary: SGD 8000-9000 / MonthSkills: Pyspark, ...</td>\n",
       "      <td>http://www.jobstreet.com.sg/en/job/pyspark-pyt...</td>\n",
       "      <td>NaN</td>\n",
       "    </tr>\n",
       "    <tr>\n",
       "      <th>692</th>\n",
       "      <td>Pyspark Python Developer</td>\n",
       "      <td>ARYAN SOLUTIONS PTE. LTD.</td>\n",
       "      <td>Singapore</td>\n",
       "      <td>Posted on 20-Sep-21</td>\n",
       "      <td>Senior Executive Diploma, Advanced/Higher/Grad...</td>\n",
       "      <td>Salary: SGD 8000-9000 / MonthSkills: Pyspark, ...</td>\n",
       "      <td>http://www.jobstreet.com.sg/en/job/pyspark-pyt...</td>\n",
       "      <td>7000.0</td>\n",
       "    </tr>\n",
       "    <tr>\n",
       "      <th>1609</th>\n",
       "      <td>Pyspark Python Developer</td>\n",
       "      <td>ARYAN SOLUTIONS PTE. LTD.</td>\n",
       "      <td>Singapore</td>\n",
       "      <td>Posted on 20-Sep-21</td>\n",
       "      <td>Senior Executive Diploma, Advanced/Higher/Grad...</td>\n",
       "      <td>Salary: SGD 8000-9000 / MonthSkills: Pyspark, ...</td>\n",
       "      <td>http://www.jobstreet.com.sg/en/job/pyspark-pyt...</td>\n",
       "      <td>3600.0</td>\n",
       "    </tr>\n",
       "    <tr>\n",
       "      <th>1685</th>\n",
       "      <td>#SGUnitedTraineeships - Service Ops Excellence...</td>\n",
       "      <td>Johnson Controls (S) Pte Ltd</td>\n",
       "      <td>West</td>\n",
       "      <td>Posted on 17-Sep-21</td>\n",
       "      <td>MNC  Flexible work arrangements  Performance ...</td>\n",
       "      <td>Role Description:Conduct analysis on trending ...</td>\n",
       "      <td>http://www.jobstreet.com.sg/en/job/sgunitedtra...</td>\n",
       "      <td>4500.0</td>\n",
       "    </tr>\n",
       "    <tr>\n",
       "      <th>1949</th>\n",
       "      <td>Pyspark Python Developer</td>\n",
       "      <td>ARYAN SOLUTIONS PTE. LTD.</td>\n",
       "      <td>Singapore</td>\n",
       "      <td>Posted on 20-Sep-21</td>\n",
       "      <td>Senior Executive Diploma, Advanced/Higher/Grad...</td>\n",
       "      <td>Salary: SGD 8000-9000 / MonthSkills: Pyspark, ...</td>\n",
       "      <td>http://www.jobstreet.com.sg/en/job/pyspark-pyt...</td>\n",
       "      <td>6500.0</td>\n",
       "    </tr>\n",
       "    <tr>\n",
       "      <th>2373</th>\n",
       "      <td>Data Scientist</td>\n",
       "      <td>ARYAN SOLUTIONS PTE. LTD.</td>\n",
       "      <td>10,000 - SGD 12,000</td>\n",
       "      <td>Posted on 4-Sep-21</td>\n",
       "      <td>Senior Executive Primary/Secondary School/O Le...</td>\n",
       "      <td>We are looking for a Data Scientist with an In...</td>\n",
       "      <td>http://www.jobstreet.com.sg/en/job/data-scient...</td>\n",
       "      <td>8500.0</td>\n",
       "    </tr>\n",
       "  </tbody>\n",
       "</table>\n",
       "</div>"
      ],
      "text/plain": [
       "                                              Job Title  \\\n",
       "209                            Pyspark Python Developer   \n",
       "692                            Pyspark Python Developer   \n",
       "1609                           Pyspark Python Developer   \n",
       "1685  #SGUnitedTraineeships - Service Ops Excellence...   \n",
       "1949                           Pyspark Python Developer   \n",
       "2373                                     Data Scientist   \n",
       "\n",
       "                         Companies              Location          Date posted  \\\n",
       "209      ARYAN SOLUTIONS PTE. LTD.             Singapore  Posted on 20-Sep-21   \n",
       "692      ARYAN SOLUTIONS PTE. LTD.             Singapore  Posted on 20-Sep-21   \n",
       "1609     ARYAN SOLUTIONS PTE. LTD.             Singapore  Posted on 20-Sep-21   \n",
       "1685  Johnson Controls (S) Pte Ltd                  West  Posted on 17-Sep-21   \n",
       "1949     ARYAN SOLUTIONS PTE. LTD.             Singapore  Posted on 20-Sep-21   \n",
       "2373     ARYAN SOLUTIONS PTE. LTD.   10,000 - SGD 12,000   Posted on 4-Sep-21   \n",
       "\n",
       "                                      Other information  \\\n",
       "209   Senior Executive Diploma, Advanced/Higher/Grad...   \n",
       "692   Senior Executive Diploma, Advanced/Higher/Grad...   \n",
       "1609  Senior Executive Diploma, Advanced/Higher/Grad...   \n",
       "1685   MNC  Flexible work arrangements  Performance ...   \n",
       "1949  Senior Executive Diploma, Advanced/Higher/Grad...   \n",
       "2373  Senior Executive Primary/Secondary School/O Le...   \n",
       "\n",
       "                                        Job Description  \\\n",
       "209   Salary: SGD 8000-9000 / MonthSkills: Pyspark, ...   \n",
       "692   Salary: SGD 8000-9000 / MonthSkills: Pyspark, ...   \n",
       "1609  Salary: SGD 8000-9000 / MonthSkills: Pyspark, ...   \n",
       "1685  Role Description:Conduct analysis on trending ...   \n",
       "1949  Salary: SGD 8000-9000 / MonthSkills: Pyspark, ...   \n",
       "2373  We are looking for a Data Scientist with an In...   \n",
       "\n",
       "                                                    URL  Pay_average  \n",
       "209   http://www.jobstreet.com.sg/en/job/pyspark-pyt...          NaN  \n",
       "692   http://www.jobstreet.com.sg/en/job/pyspark-pyt...       7000.0  \n",
       "1609  http://www.jobstreet.com.sg/en/job/pyspark-pyt...       3600.0  \n",
       "1685  http://www.jobstreet.com.sg/en/job/sgunitedtra...       4500.0  \n",
       "1949  http://www.jobstreet.com.sg/en/job/pyspark-pyt...       6500.0  \n",
       "2373  http://www.jobstreet.com.sg/en/job/data-scient...       8500.0  "
      ]
     },
     "execution_count": 38,
     "metadata": {},
     "output_type": "execute_result"
    }
   ],
   "source": [
    "df[df['Job Description'].str.contains('SGD')]"
   ]
  },
  {
   "cell_type": "markdown",
   "metadata": {},
   "source": [
    "## Cleaning up Posted on"
   ]
  },
  {
   "cell_type": "code",
   "execution_count": 39,
   "metadata": {},
   "outputs": [],
   "source": [
    "def cleanup_posted(posted_string):\n",
    "    date_regex = re.compile(r'Posted on |Posted ')\n",
    "    return re.sub(date_regex, '', posted_string)"
   ]
  },
  {
   "cell_type": "code",
   "execution_count": 40,
   "metadata": {},
   "outputs": [],
   "source": [
    "df['Date posted'] = df['Date posted'].apply(cleanup_posted)"
   ]
  },
  {
   "cell_type": "code",
   "execution_count": 41,
   "metadata": {},
   "outputs": [
    {
     "data": {
      "text/plain": [
       "1062       16-Sep-21\n",
       "2071       13-Sep-21\n",
       "205        15-Sep-21\n",
       "114        17-Sep-21\n",
       "1472    22 hours ago\n",
       "943        20-Sep-21\n",
       "186        11-Sep-21\n",
       "1677       15-Sep-21\n",
       "472        15-Sep-21\n",
       "1349       12-Sep-21\n",
       "Name: Date posted, dtype: object"
      ]
     },
     "execution_count": 41,
     "metadata": {},
     "output_type": "execute_result"
    }
   ],
   "source": [
    "df['Date posted'].sample(10)"
   ]
  },
  {
   "cell_type": "code",
   "execution_count": 42,
   "metadata": {},
   "outputs": [],
   "source": [
    "df['Date posted'] = pd.to_datetime(df['Date posted'], errors='coerce')"
   ]
  },
  {
   "cell_type": "code",
   "execution_count": 43,
   "metadata": {},
   "outputs": [],
   "source": [
    "df['Date posted'].fillna(datetime(2021, 9, 21), inplace = True)"
   ]
  },
  {
   "cell_type": "markdown",
   "metadata": {},
   "source": [
    "## Getting information out of Other information"
   ]
  },
  {
   "cell_type": "markdown",
   "metadata": {},
   "source": [
    "Right now all of the information is more or less settled except for the strings in the Job Description and the other information where qualifications, information on the company is provided<br>\n",
    "The information that i want to capture are<br> <li>the skills needed - Sklearn, Spark, Computer Vision, etc<li>the number of years the job requires<li>qualification needed<li>Job Description"
   ]
  },
  {
   "cell_type": "code",
   "execution_count": 44,
   "metadata": {},
   "outputs": [
    {
     "data": {
      "text/plain": [
       "[\"Junior Executive Bachelor's Degree, Post Graduate Diploma, Professional Degree, Master's Degree 2 years Full-Time Computer/Information Technology, IT-Software, Sales/Marketing, E-commerce 200701282M 01C4394 01C4394 51 - 200 Employees 27 days Human Resources Management / Consulting\",\n",
       " \" Opportunity to be employed in fast growing Enterprise  Positive learning environment  Increase recognition and career progression Senior Executive Bachelor's Degree, Post Graduate Diploma, Professional Degree 3 years Full-Time Computer/Information Technology, IT-Software 201409838G 1 - 50 Employees 16 days Computer / Information Technology (Software) Medical, Regular hours, Mondays - Fridays, Casual (e.g. T-shirts), Bonus\",\n",
       " \"Senior Executive Bachelor's Degree, Post Graduate Diploma, Professional Degree 5 years Full-Time Computer/Information Technology, IT-Network/Sys/DB Admin, IT-Software 199804751N 18S9099 201 - 500 Employees 30 days Human Resources Management / Consulting\",\n",
       " \"Senior Executive Diploma, Advanced/Higher/Graduate Diploma, Bachelor's Degree, Post Graduate Diploma, Professional Degree 2 years Full-Time Computer/Information Technology, IT-Software, Accounting/Finance, Banking/Financial 199601303W 99C4599 R1104601 201 - 500 Employees 29 days Human Resources Management / Consulting\",\n",
       " 'Senior Executive Not Specified 3 years Full-Time Accounting/Finance, General/Cost Accounting']"
      ]
     },
     "execution_count": 44,
     "metadata": {},
     "output_type": "execute_result"
    }
   ],
   "source": [
    "list(df['Other information'].sample(5))"
   ]
  },
  {
   "cell_type": "code",
   "execution_count": 45,
   "metadata": {},
   "outputs": [
    {
     "data": {
      "text/plain": [
       "[\"Senior Executive Diploma, Advanced/Higher/Graduate Diploma, Bachelor's Degree, Post Graduate Diploma, Professional Degree 2 years Full-Time Computer/Information Technology, IT-Software, Accounting/Finance, Banking/Financial 199601303W 99C4599 R1104601 201 - 500 Employees 29 days Human Resources Management / Consulting\",\n",
       " 'Junior Executive Primary/Secondary School/O Level 1 year Full-Time Computer/Information Technology, IT-Software, IT-Network/Sys/DB Admin 200618166E 17C8975 R1875181 1 - 50 Employees 18 days Human Resources Management / Consulting',\n",
       " 'Junior Executive Not Specified Contract Admin/Human Resources, Human Resources 200002698Z 1001 - 2000 Employees 17 days Healthcare / Medical Regular hours, Mondays - Fridays, Business (e.g. Shirts), Subject to Designation',\n",
       " \"Senior Executive Diploma, Advanced/Higher/Graduate Diploma, Bachelor's Degree, Post Graduate Diploma, Professional Degree 8 years Full-Time Computer/Information Technology, IT-Software 200607340H 11C3373 R1544992 1 - 50 Employees 26 days Human Resources Management / Consulting Regular hours, Mondays - Fridays, Business (e.g. Shirts)\",\n",
       " \"Junior Executive Bachelor's Degree, Post Graduate Diploma, Professional Degree 1 year Full-Time Computer/Information Technology, IT-Software 197501035Z 501 - 1000 Employees Banking / Financial Services Education support, Medical, Regular hours, Mondays - Fridays, Business (e.g. Shirts)\"]"
      ]
     },
     "execution_count": 45,
     "metadata": {},
     "output_type": "execute_result"
    }
   ],
   "source": [
    "list(df.sample(5)['Other information'])"
   ]
  },
  {
   "cell_type": "markdown",
   "metadata": {},
   "source": [
    "It appears that most of the information in other information follows the following format<br>\n",
    "<li>Company information if available\n",
    "<li>Position Level (entry, junior/Senior Exec, etc)\n",
    "<li>Qualifications\n",
    "<li>Years of Experience\n",
    "<li>position type (Full time, contract, part time)\n"
   ]
  },
  {
   "cell_type": "code",
   "execution_count": 46,
   "metadata": {},
   "outputs": [],
   "source": [
    "qualification_list = ('Professional Certificate', 'NiTEC ', \"Bachelor's Degree\", 'Diploma', 'Advanced/Higher/Graduate Diploma', 'Post Graduate Diploma' , 'Professional Degree', \"Master's Degree\" , 'Doctorate (PhD)',\n",
    "                     'Primary/Secondary School/O Level')\n",
    "position_list = ('Non-Executive','Entry Level', 'Junior Executive' , 'Senior Executive', 'Manager', 'Senior Manager')\n",
    "employment_type_list = ('Full-Time', 'Part-Time', 'Contract',)"
   ]
  },
  {
   "cell_type": "code",
   "execution_count": 47,
   "metadata": {},
   "outputs": [],
   "source": [
    "def returnhits(a_list, x):\n",
    "    return(' , '.join(a for a in a_list if a in x))"
   ]
  },
  {
   "cell_type": "code",
   "execution_count": 48,
   "metadata": {},
   "outputs": [],
   "source": [
    "#Creating Columns to contain the information needed\n",
    "df['Qualifications'] = df['Other information'].apply(lambda x : returnhits(qualification_list, x))\n",
    "df['Position'] = df['Other information'].apply(lambda x : returnhits(position_list, x))\n",
    "df['Employment Type'] = df['Other information'].apply(lambda x : returnhits(employment_type_list, x))"
   ]
  },
  {
   "cell_type": "code",
   "execution_count": 49,
   "metadata": {},
   "outputs": [],
   "source": [
    "df['Position'] = df['Position'].apply(lambda x : x.replace(\"\",\"Not indicated\") if x =='' else x)"
   ]
  },
  {
   "cell_type": "code",
   "execution_count": 50,
   "metadata": {},
   "outputs": [
    {
     "data": {
      "text/plain": [
       "[' Employee Stock Ownership Plan  Experienced team  100% remote work forever Senior Executive Not Specified 3 years Full-Time Computer/Information Technology, IT-Software 201319282M 51 - 200 Employees Computer / Information Technology (Software) Dental, Medical, Regular hours, Mondays - Fridays, Business (e.g. Shirts), Benefit from the attractive Employee Stock Ownership Plan',\n",
       " 'Senior Executive Not Specified 5 years Full-Time Services, Logistics/Supply Chain 199300545M 501 - 1000 Employees 20 days Transportation / Logistics Dental, Miscellaneous allowance, Medical, Business (e.g. Shirts), Rotating Off & Rest day Joo Koon',\n",
       " 'Junior Executive Not Specified 2 years Full-Time Computer/Information Technology, IT-Software 200723468K More than 5000 Employees 9 days Computer / Information Technology (Software) Regular hours, Mondays - Fridays',\n",
       " 'Senior Executive Not Specified 3 years Full-Time Computer/Information Technology, IT-Software 201300296D 201 - 500 Employees 25 days Retail / Merchandise Casual (e.g. T-shirts) Buona Vista',\n",
       " ' Staff Benefits  Friendly Work Environment  Centrally Located Senior Executive Not Specified 1 year Full-Time Sciences, Biotechnology 200913076M 1 - 50 Employees 22 days Science & Technology Dental, Medical, Regular hours, Mondays - Fridays, Business (e.g. Shirts)',\n",
       " 'Manager Not Specified 3 years Full-Time Education/Training, Education 200913519C 501 - 1000 Employees 28 days Education Medical, Sports (e.g. Gym), Parking, Regular hours, Mondays - Fridays, Business (e.g. Shirts)',\n",
       " 'Senior Executive Not Specified 5 years Full-Time Computer/Information Technology, IT-Software 199607877C 51 - 200 Employees 2 days Electrical & Electronics Medical, Regular hours, Mondays - Fridays, Business (e.g. Shirts), Insurances New Tech Park',\n",
       " 'Junior Executive Not Specified 2 years Full-Time Services, Logistics/Supply Chain 199300545M 501 - 1000 Employees 20 days Transportation / Logistics Dental, Miscellaneous allowance, Medical, Business (e.g. Shirts), Rotating Off & Rest day Joo Koon',\n",
       " 'Senior Executive Not Specified 2 years Full-Time Admin/Human Resources, Human Resources 199304709Z 501 - 1000 Employees 6 days Retail / Merchandise Dental, Miscellaneous allowance, Medical, Business (e.g. Shirts), Parking (at Ang Mo Kio & Sungei Kadut Megastore), Company Shuttle Bus, Based on position',\n",
       " 'Senior Executive Not Specified 3 years Full-Time Computer/Information Technology, IT-Software 200310022N 51 - 200 Employees 5 days Computer / Information Technology (Software) Regular hours, Mondays - Fridays, Casual (e.g. T-shirts), 14 days annual leave, health care benefit and insurance and transport allowance. 6 Serangoon North Ave 5',\n",
       " ' Be part of a successful and growing international school  Develop your career in an international environment  Take up a key role at the College Non-Executive Not Specified 3 years Full-Time Computer/Information Technology, IT-Software 201027137D 201 - 500 Employees 4 days Education Dental, Medical, Regular hours, Mondays - Fridays, Business (e.g. Shirts) 71 Bukit Batok West Avenue 8',\n",
       " 'Manager Not Specified 7 years Full-Time Computer/Information Technology, IT-Software 201529748E 1 - 50 Employees 9 days Consulting (IT, Science, Engineering & Technical) Dental, Medical, Regular hours, Mondays - Fridays, Business when Meeting Client Pasir Panjang',\n",
       " 'Entry Level Not Specified Full-Time Computer/Information Technology, IT-Software 200723468K More than 5000 Employees 9 days Computer / Information Technology (Software) Regular hours, Mondays - Fridays',\n",
       " 'Junior Executive Not Specified Contract Education/Training, Education 199801562Z 501 - 1000 Employees 24 days Healthcare / Medical Dental, Medical, Flexi- benefits, uniform and non-uniform, Regular Hours - Mondays to Fridays and Saturdays (half day)',\n",
       " 'Senior Executive Not Specified 3 years Full-Time Computer/Information Technology, IT-Network/Sys/DB Admin 198905407G 1001 - 2000 Employees 15 days Semiconductor/Wafer Fabrication Dental, Medical, Sports (e.g. Gym), Vision, Regular hours, Mondays - Fridays, Business (e.g. Shirts), Flexi Benefit',\n",
       " ' Work Life Balance  Yearly Increment and Bonus  Flexible Benefits Senior Executive Not Specified 1 year Full-Time Services, Logistics/Supply Chain 197301084E 501 - 1000 Employees 17 days Transportation / Logistics Dental, Education support, Miscellaneous allowance, Medical, Parking, Regular hours, Mondays - Fridays, Business (e.g. Shirts)',\n",
       " 'Junior Executive Not Specified 2 years Full-Time Computer/Information Technology, IT-Software 201628309N 1 - 50 Employees 3 days Computer / Information Technology (Software) Medical, Regular hours, Mondays - Fridays, Business (e.g. Shirts) Tai Seng',\n",
       " 'Junior Executive Not Specified Full-Time Sciences, Actuarial/Statistics 198703907Z More than 5000 Employees 21 days Healthcare / Medical Dental, Medical, Sports (e.g. Gym), Business (e.g. Shirts), Leave benefits, 42 hours',\n",
       " 'Senior Executive Not Specified 5 years Full-Time Computer/Information Technology, IT-Software 199607877C 51 - 200 Employees 2 days Electrical & Electronics Medical, Regular hours, Mondays - Fridays, Business (e.g. Shirts), Insurances New Tech Park',\n",
       " 'Junior Executive Not Specified 2 years Full-Time Sciences, Chemistry 201315486Z 1 - 50 Employees Healthcare / Medical',\n",
       " ' Mon - Fri (8.30am - 5.45pm)  Min 2 - 4 year of relevant experience  Knowledge in sterilization / validation of devices Junior Executive Not Specified 1 year Full-Time Sciences, Science & Technology 199508621R 501 - 1000 Employees 18 days Manufacturing / Production Medical, Regular hours, Mondays - Fridays, Business (e.g. Shirts), Transport Joo Koon',\n",
       " 'Manager Not Specified 5 years Full-Time Computer/Information Technology, IT-Software 198900566E 201 - 500 Employees 27 days Computer/Information Technology (Hardware) Regular hours, Mondays - Fridays, Business Casual Alexandra Road',\n",
       " ' Competitive Benefits and Perks  Collaborative Work Culture  Career Growth Manager Not Specified 5 years Full-Time Sciences, Biotechnology 201505192N 1 - 50 Employees 28 days R&D Dental, Medical, Regular hours, Mondays - Fridays, Casual (e.g. T-shirts)',\n",
       " 'Junior Executive Not Specified Contract Admin/Human Resources, Human Resources 200002698Z 1001 - 2000 Employees 17 days Healthcare / Medical Regular hours, Mondays - Fridays, Business (e.g. Shirts), Subject to Designation',\n",
       " ' Be part of a UK MNC aggressively expanding through acquisitions  Closely knitted and collaborative working environment  Competitive salary package and benefits Senior Executive Not Specified 5 years Full-Time Computer/Information Technology, IT-Software 200207312W 201 - 500 Employees 30 days Computer / Information Technology (Software) Education support, Medical, Regular hours, Mondays - Fridays, Business (e.g. Shirts) Suntec City (Currently Working From Home)',\n",
       " 'Manager Not Specified 5 years Full-Time Computer/Information Technology, IT-Network/Sys/DB Admin 199708070H 2001 - 5000 Employees 18 days Semiconductor/Wafer Fabrication Business (e.g. Shirts), semiconductor assembly and testing services, Normal shift',\n",
       " \"Junior Executive Higher Secondary/Pre-U/'A' Level 1 year Full-Time Computer/Information Technology, IT-Software, IT-Network/Sys/DB Admin . 02C3423 R1552080 51 - 200 Employees Human Resources Management / Consulting\",\n",
       " 'Junior Executive Not Specified 1 year Full-Time Computer/Information Technology, IT-Network/Sys/DB Admin 199102881H 2001 - 5000 Employees 6 days Consulting (IT, Science, Engineering & Technical) Dental, Miscellaneous allowance, Medical',\n",
       " 'Senior Executive Not Specified 3 years Full-Time Sales/Marketing, Sales - Eng/Tech/IT 196800338E 51 - 200 Employees 13 days Heavy Industrial / Machinery / Equipment Dental, Education support, Miscellaneous allowance, Medical, Loans, Vision, Regular hours, Mondays - Fridays, Business (e.g. Shirts)',\n",
       " 'Junior Executive Not Specified 3 years Full-Time Computer/Information Technology, IT-Hardware 201403281H 1 - 50 Employees 14 days Computer/Information Technology (Hardware) Medical, Regular hours, Mondays - Fridays, Casual (e.g. T-shirts)',\n",
       " 'Junior Executive Not Specified 3 years Full-Time Engineering, Electronics 200717119C More than 5000 Employees 20 days Telecommunication Medical, Regular hours, Mondays - Fridays, Business (e.g. Shirts) Changi Business Park',\n",
       " 'Manager Not Specified 4 years Full-Time Computer/Information Technology, IT-Network/Sys/DB Admin 200717119C More than 5000 Employees 20 days Telecommunication Medical, Regular hours, Mondays - Fridays, Business (e.g. Shirts) Changi Business Park',\n",
       " ' Good career progression and learning platform  Great team work environment Manager Not Specified 8 years Contract Sales/Marketing, Sales - Eng/Tech/IT 200717119C More than 5000 Employees 20 days Telecommunication Medical, Regular hours, Mondays - Fridays, Business (e.g. Shirts) Changi Business Park',\n",
       " 'Senior Executive Not Specified 5 years Full-Time Computer/Information Technology, IT-Software 199103859N 501 - 1000 Employees 15 days Automobile / Automotive Ancillary / Vehicle Dental, Medical, Regular hours, Mondays - Fridays, Business (e.g. Shirts), Group Hospital & Surgical, Personal Accident 12 Sungei Kadut Avenue',\n",
       " 'Senior Executive Not Specified 2 years Full-Time Education/Training, Education 200606178H 1 - 50 Employees 29 days Computer / Information Technology (Software) Medical, Parking, Regular hours, Mondays - Fridays, Casual (e.g. T-shirts)',\n",
       " 'Junior Executive Not Specified 1 year Full-Time Engineering, Electronics 200914331G 51 - 200 Employees 28 days Telecommunication Medical, Regular hours, Mondays - Fridays, Business (e.g. Shirts)',\n",
       " ' Start-up like enviorment  Gain exposure to new technologies Senior Executive Not Specified 3 years Full-Time Computer/Information Technology, IT-Software 201018641C 1 - 50 Employees 30 days Consulting (IT, Science, Engineering & Technical)',\n",
       " 'Junior Executive Not Specified 3 years Full-Time Engineering, Electronics 199805788E 51 - 200 Employees 25 days Electrical & Electronics Dental, Medical, Vision, Business (e.g. Shirts), Flexi benefits (Medical, Dental, Vision etc), Mondays to Fridays: 9am to 6pm',\n",
       " 'Senior Executive Not Specified 4 years Contract Engineering, Oil/Gas 201934469H 20S0089 1 - 50 Employees 29 days Human Resources Management / Consulting',\n",
       " 'Senior Executive Not Specified 3 years Full-Time Education/Training, Education 201733869D 51 - 200 Employees 13 days Electrical & Electronics Dental, Medical, Regular hours, Mondays - Fridays, Business (e.g. Shirts)',\n",
       " 'Junior Executive Not Specified 1 year Full-Time Computer/Information Technology, IT-Software 201426996D More than 5000 Employees 20 days Telecommunication Dental, Medical, Regular hours, Mondays - Fridays, Casual (e.g. T-shirts)',\n",
       " 'Non-Executive Not Specified 2 years Full-Time Engineering, Electronics 201842247N Computer / Information Technology (Software)',\n",
       " 'Junior Executive Not Specified 3 years Full-Time Computer/Information Technology, IT-Software 201300296D 201 - 500 Employees 25 days Retail / Merchandise Casual (e.g. T-shirts) Buona Vista',\n",
       " 'Junior Executive Not Specified 2 years Full-Time Computer/Information Technology, IT-Software 201300296D 201 - 500 Employees 25 days Retail / Merchandise Casual (e.g. T-shirts) Buona Vista',\n",
       " 'Junior Executive Not Specified 2 years Full-Time Others, Others 200810196Z 1001 - 2000 Employees 23 days Manufacturing / Production Dental, Education support, Medical, Parking, Regular hours, Mondays - Fridays, Business (e.g. Shirts), Flexible Benefit, Family Care Leave',\n",
       " 'Non-Executive Not Specified 1 year Full-Time Admin/Human Resources, Clerical/Administrative Support 199202375K 51 - 200 Employees 4 days Manufacturing / Production Medical, Regular hours, Mondays - Fridays, Casual (e.g. T-shirts)',\n",
       " 'Junior Executive Not Specified 2 years Full-Time Computer/Information Technology, IT-Network/Sys/DB Admin 201708450C 201 - 500 Employees 28 days Transportation / Logistics Regular hours, Mondays - Fridays, Business (e.g. Shirts)',\n",
       " 'Junior Executive Not Specified 3 years Full-Time Computer/Information Technology, IT-Software 199701545D More than 5000 Employees 11 days Computer / Information Technology (Software) Dental, Medical, Sports (e.g. Gym), Vision, Business Casual, Flexible Working Hours.   Telecommuting is encouraged',\n",
       " 'Junior Executive Not Specified 3 years Full-Time Others, Others 197200816N 201 - 500 Employees 17 days General & Wholesale Trading Dental, Medical, Regular hours, Mondays - Fridays, Business (e.g. Shirts)',\n",
       " 'Senior Executive Not Specified 5 years Full-Time Accounting/Finance, General/Cost Accounting 198003420K 1 - 50 Employees 27 days Heavy Industrial / Machinery / Equipment',\n",
       " \" One of the world's major mobile operators  More than 18,000 employees  186 million mobile subscriptions Junior Executive Not Specified 3 years Full-Time Sciences, Actuarial/Statistics 201701434E More than 5000 Employees 29 days Telecommunication\",\n",
       " 'Junior Executive Not Specified 3 years Full-Time Computer/Information Technology, IT-Network/Sys/DB Admin 198904734Z Accounting / Audit / Tax Services',\n",
       " ' Dynamic Work Environment  Competitive Package  Flexible Hours Junior Executive Not Specified 3 years Full-Time Computer/Information Technology, IT-Software 200411420K 51 - 200 Employees 11 days Travel / Tourism Dental, Medical, Regular hours, Mondays - Fridays, Formal (e.g. Shirts + Ties) Tanjong Pagar',\n",
       " 'Manager Not Specified 5 years Full-Time Computer/Information Technology, IT-Software 197000345C 51 - 200 Employees Exhibitions/Event management/MICE Dental, Medical, Regular hours, Mondays - Fridays, Business (e.g. Shirts)',\n",
       " 'Junior Executive Not Specified 2 years Full-Time Computer/Information Technology, IT-Software 201020152Z 201 - 500 Employees 11 days Non-Profit Organisation / Social Services / NGO Dental, Medical, Business (e.g. Shirts), Depends on job role',\n",
       " 'Senior Executive Not Specified 2 years Full-Time Accounting/Finance, General/Cost Accounting 199103579R 201 - 500 Employees 29 days Food & Beverage / Catering / Restaurant Dental, Medical, Business (e.g. Shirts), 6 Day Work Week for Operation Position; 5 Day Work Week for HQ Positions',\n",
       " ' Opportunity to work with a global leader in Green Sustainability  Friendly & positive work environment  Career development opportunities Junior Executive Not Specified 2 years Full-Time Computer/Information Technology, IT-Software 200508881R 201 - 500 Employees 19 days Electrical & Electronics Dental, Medical, Parking, Co transport provided at MRT station, Annual Leave, AWS, Bonus, Business / Uniform, Office section: Mon - Fri / Shopfloor section: Mon - Fri & Alt Sat Joo Koon',\n",
       " 'Senior Executive Not Specified 3 years Full-Time Accounting/Finance, Banking/Financial 200810196Z 1001 - 2000 Employees 23 days Manufacturing / Production Dental, Education support, Medical, Parking, Regular hours, Mondays - Fridays, Business (e.g. Shirts), Flexible Benefit, Family Care Leave',\n",
       " \"Junior Executive Higher Secondary/Pre-U/'A' Level 1 year Full-Time Computer/Information Technology, IT-Software, IT-Network/Sys/DB Admin . 02C3423 R1552080 51 - 200 Employees Human Resources Management / Consulting\",\n",
       " 'Non-Executive Not Specified 1 year Full-Time Sales/Marketing, Marketing/Business Dev T16RF0037C Government / Defence',\n",
       " 'Senior Executive Not Specified 8 years Full-Time Services, Logistics/Supply Chain 200008932Z 1001 - 2000 Employees 19 days Consulting (Business & Management) Medical, Regular hours, Mondays - Fridays, Business (e.g. Shirts) Alexandra',\n",
       " 'Junior Executive Not Specified 1 year Full-Time Computer/Information Technology, IT-Software 198202804W 51 - 200 Employees 29 days Healthcare / Medical Dental, Mon & Fri 9am - 7pm, Tues - Thurs 9am - 6pm Alternate Saturday 9am - 1pm',\n",
       " 'Senior Executive Not Specified 3 years Full-Time Accounting/Finance, General/Cost Accounting',\n",
       " 'Senior Executive Not Specified 5 years Full-Time Accounting/Finance, Corporate Finance/Investment 199707113D 201 - 500 Employees 24 days Science & Technology Dental, Education support, Miscellaneous allowance, Medical, Parking, Regular hours, Mondays - Fridays, To be discussed, Business Casual Jalan Tukang',\n",
       " 'Junior Executive Not Specified 3 years Full-Time Computer/Information Technology, IT-Software S60FC1376L 1001 - 2000 Employees 23 days Banking / Financial Services Regular hours, Mondays - Fridays, Business (e.g. Shirts)',\n",
       " 'Senior Executive Not Specified 1 year Full-Time Sciences, Science & Technology 200711996H 51 - 200 Employees 30 days Science & Technology Dental, Medical, Regular hours, Mondays - Fridays, Business (e.g. Shirts)',\n",
       " 'Senior Executive Not Specified 3 years Full-Time Engineering, Electronics 199304304G 1 - 50 Employees 29 days Manufacturing / Production Medical, Regular hours, Mondays - Fridays, Business (e.g. Shirts), Insurance',\n",
       " 'Junior Executive Not Specified 1 year Full-Time Sciences, Science & Technology 200711996H 51 - 200 Employees 30 days Science & Technology Dental, Medical, Regular hours, Mondays - Fridays, Business (e.g. Shirts)',\n",
       " \"Junior Executive Higher Secondary/Pre-U/'A' Level 1 year Full-Time Computer/Information Technology, IT-Software, IT-Network/Sys/DB Admin . 02C3423 R1552080 51 - 200 Employees Human Resources Management / Consulting\"]"
      ]
     },
     "execution_count": 50,
     "metadata": {},
     "output_type": "execute_result"
    }
   ],
   "source": [
    "#Checking if qualifactions are available in the other informaiton of those job postings that are empty\n",
    "#I notice that they are not inside \n",
    "list(df[df['Qualifications'] == \"\"]['Other information'])"
   ]
  },
  {
   "cell_type": "code",
   "execution_count": 51,
   "metadata": {},
   "outputs": [],
   "source": [
    "#Imputing those to state not indicated\n",
    "df['Qualifications'] = df['Qualifications'].apply(lambda x : x.replace(\"\",\"Not indicated\") if x =='' else x)"
   ]
  },
  {
   "cell_type": "code",
   "execution_count": 52,
   "metadata": {},
   "outputs": [
    {
     "data": {
      "text/plain": [
       "[\"Manager Bachelor's Degree Others, Others 199706229Z More than 5000 Employees Transportation / Logistics Dental, Education support, Medical, Sports (e.g. Gym), Vision, Office attire or Engineering overall, Office hours or shift work, depending on job.\",\n",
       " \"Entry Level Diploma, Advanced/Higher/Graduate Diploma, Bachelor's Degree, Post Graduate Diploma, Professional Degree Internship Sciences, Actuarial/Statistics, Computer/Information Technology, IT-Software 200510503Z More than 5000 Employees 30 days BioTechnology/Pharmaceutical/Clinical research Regular hours, Mondays - Fridays, -\",\n",
       " 'Senior Manager Doctorate (PhD) Sciences, Science & Technology 199803715K 201 - 500 Employees 30 days R&D Dental, Medical, Regular hours, Mondays - Fridays, Casual (e.g. T-shirts) Singapore',\n",
       " 'Senior Manager Doctorate (PhD) 1 year Engineering, Other Engineering 199803715K 201 - 500 Employees 30 days R&D Dental, Medical, Regular hours, Mondays - Fridays, Casual (e.g. T-shirts) Singapore',\n",
       " 'Senior Manager Doctorate (PhD) Sciences, Science & Technology 199803715K 201 - 500 Employees 30 days R&D Dental, Medical, Regular hours, Mondays - Fridays, Casual (e.g. T-shirts) Singapore',\n",
       " 'Senior Manager Doctorate (PhD) Sciences, Science & Technology 199803715K 201 - 500 Employees 30 days R&D Dental, Medical, Regular hours, Mondays - Fridays, Casual (e.g. T-shirts) Singapore',\n",
       " 'Senior Manager Doctorate (PhD) Sciences, Science & Technology 199803715K 201 - 500 Employees 30 days R&D Dental, Medical, Regular hours, Mondays - Fridays, Casual (e.g. T-shirts) Singapore',\n",
       " 'Senior Manager Doctorate (PhD) Sciences, Science & Technology 199803715K 201 - 500 Employees 30 days R&D Dental, Medical, Regular hours, Mondays - Fridays, Casual (e.g. T-shirts) Singapore',\n",
       " 'Senior Manager Doctorate (PhD) Sciences, Science & Technology 199803715K 201 - 500 Employees 30 days R&D Dental, Medical, Regular hours, Mondays - Fridays, Casual (e.g. T-shirts) Singapore',\n",
       " 'Senior Manager Doctorate (PhD) 1 year Engineering, Other Engineering 199803715K 201 - 500 Employees 30 days R&D Dental, Medical, Regular hours, Mondays - Fridays, Casual (e.g. T-shirts) Singapore',\n",
       " \"Junior Executive Bachelor's Degree Sciences, Science & Technology 200604393R More than 5000 Employees 24 days Education Dental, Education support, Medical, Sports (e.g. Gym), Regular hours, Mondays - Fridays, Business (e.g. Shirts) Singapore\",\n",
       " 'Senior Manager Doctorate (PhD) Sciences, Science & Technology 199803715K 201 - 500 Employees 30 days R&D Dental, Medical, Regular hours, Mondays - Fridays, Casual (e.g. T-shirts) Singapore',\n",
       " 'Senior Executive Advanced/Higher/Graduate Diploma Computer/Information Technology, IT-Software 200507292R More than 5000 Employees Hotel / Hospitality',\n",
       " 'Senior Manager Doctorate (PhD) Sciences, Science & Technology 199803715K 201 - 500 Employees 30 days R&D Dental, Medical, Regular hours, Mondays - Fridays, Casual (e.g. T-shirts) Singapore',\n",
       " 'Senior Manager Doctorate (PhD) Sciences, Science & Technology 199803715K 201 - 500 Employees 30 days R&D Dental, Medical, Regular hours, Mondays - Fridays, Casual (e.g. T-shirts) Singapore',\n",
       " 'Senior Manager Doctorate (PhD) Sciences, Science & Technology 199803715K 201 - 500 Employees 30 days R&D Dental, Medical, Regular hours, Mondays - Fridays, Casual (e.g. T-shirts) Singapore',\n",
       " 'Senior Manager Doctorate (PhD) Sciences, Science & Technology 199803715K 201 - 500 Employees 30 days R&D Dental, Medical, Regular hours, Mondays - Fridays, Casual (e.g. T-shirts) Singapore',\n",
       " 'Senior Manager Doctorate (PhD) Sciences, Science & Technology 199803715K 201 - 500 Employees 30 days R&D Dental, Medical, Regular hours, Mondays - Fridays, Casual (e.g. T-shirts) Singapore',\n",
       " 'Senior Manager Doctorate (PhD) 1 year Sciences, Science & Technology 199803715K 201 - 500 Employees 30 days R&D Dental, Medical, Regular hours, Mondays - Fridays, Casual (e.g. T-shirts) Singapore',\n",
       " \"Manager Bachelor's Degree Sciences, Actuarial/Statistics 200507292R More than 5000 Employees Hotel / Hospitality\",\n",
       " \"Junior Executive Bachelor's Degree Sciences, Science & Technology 200604393R More than 5000 Employees 24 days Education Dental, Education support, Medical, Sports (e.g. Gym), Regular hours, Mondays - Fridays, Business (e.g. Shirts) Singapore\",\n",
       " \"Junior Executive Master's Degree Computer/Information Technology, IT-Network/Sys/DB Admin 200604393R More than 5000 Employees 24 days Education Dental, Education support, Medical, Sports (e.g. Gym), Regular hours, Mondays - Fridays, Business (e.g. Shirts) Singapore\",\n",
       " \"Junior Executive Master's Degree Engineering, Electrical 200604393R More than 5000 Employees 24 days Education Dental, Education support, Medical, Sports (e.g. Gym), Regular hours, Mondays - Fridays, Business (e.g. Shirts) Singapore\",\n",
       " \"Junior Executive Master's Degree Engineering, Electrical 200604393R More than 5000 Employees 24 days Education Dental, Education support, Medical, Sports (e.g. Gym), Regular hours, Mondays - Fridays, Business (e.g. Shirts) Singapore\",\n",
       " 'Senior Manager Doctorate (PhD) 1 year Sciences, Science & Technology 53374847W 51 - 200 Employees 30 days R&D Dental, Medical, Regular hours, Mondays - Fridays, Casual (e.g. T-shirts) Singapore',\n",
       " \"Entry Level Bachelor's Degree, Post Graduate Diploma, Professional Degree Internship Computer/Information Technology, IT-Software 201306935R 51 - 200 Employees Computer/Information Technology (Hardware) Dental, Medical, Regular hours, Mondays - Fridays, Business (e.g. Shirts)\",\n",
       " 'Senior Manager Doctorate (PhD) Sciences, Science & Technology 199803715K 201 - 500 Employees 30 days R&D Dental, Medical, Regular hours, Mondays - Fridays, Casual (e.g. T-shirts) Singapore',\n",
       " \"Senior Manager Bachelor's Degree 1 year Sciences, Science & Technology 199803715K 201 - 500 Employees 30 days R&D Dental, Medical, Regular hours, Mondays - Fridays, Casual (e.g. T-shirts) Singapore\",\n",
       " \"Senior Executive Bachelor's Degree Computer/Information Technology, IT-Hardware 200507292R More than 5000 Employees Hotel / Hospitality\",\n",
       " \"Entry Level Higher Secondary/Pre-U/'A' Level, Diploma, Advanced/Higher/Graduate Diploma Internship Computer/Information Technology, IT-Software 200312968N 501 - 1000 Employees Consumer Products / FMCG Dental, Medical, Parking, Regular hours, Mondays - Fridays, Casual (e.g. T-shirts), Gaming Benefit, Free Lunch, Morning Shuttle Service, Sabbatical Leave, and etc.\",\n",
       " \"Entry Level Higher Secondary/Pre-U/'A' Level, Diploma, Advanced/Higher/Graduate Diploma Internship Computer/Information Technology, IT-Software 200312968N 501 - 1000 Employees Consumer Products / FMCG Dental, Medical, Parking, Regular hours, Mondays - Fridays, Casual (e.g. T-shirts), Gaming Benefit, Free Lunch, Morning Shuttle Service, Sabbatical Leave, and etc.\",\n",
       " \"Entry Level Bachelor's Degree, Post Graduate Diploma, Professional Degree, Master's Degree Internship Computer/Information Technology, IT-Software 201719908M 201 - 500 Employees Computer / Information Technology (Software) Regular hours, Mondays - Fridays, Casual (e.g. T-shirts)\",\n",
       " \"Senior Manager Bachelor's Degree Sciences, Science & Technology 199702110H 201 - 500 Employees R&D Dental, Education support, Medical, Regular hours, Mondays - Fridays, Casual (e.g. T-shirts), Flexible Benefits Singapore\",\n",
       " \"Entry Level Professional Certificate/NiTEC, Diploma, Advanced/Higher/Graduate Diploma, Bachelor's Degree, Post Graduate Diploma, Professional Degree Internship Computer/Information Technology, IT-Software 201923456H 501 - 1000 Employees Advertising / Marketing / Promotion / PR Regular hours, Mondays - Fridays, Casual (e.g. T-shirts)\",\n",
       " \"Entry Level Higher Secondary/Pre-U/'A' Level, Diploma, Advanced/Higher/Graduate Diploma Internship Computer/Information Technology, IT-Software 201719908M 201 - 500 Employees Computer / Information Technology (Software) Regular hours, Mondays - Fridays, Casual (e.g. T-shirts)\",\n",
       " \"Junior Executive Master's Degree Computer/Information Technology, IT-Network/Sys/DB Admin 200604393R More than 5000 Employees 24 days Education Dental, Education support, Medical, Sports (e.g. Gym), Regular hours, Mondays - Fridays, Business (e.g. Shirts) Singapore\",\n",
       " \"Junior Executive Master's Degree Engineering, Electrical 200604393R More than 5000 Employees 24 days Education Dental, Education support, Medical, Sports (e.g. Gym), Regular hours, Mondays - Fridays, Business (e.g. Shirts) Singapore\",\n",
       " \"Junior Executive Master's Degree Engineering, Electrical 200604393R More than 5000 Employees 24 days Education Dental, Education support, Medical, Sports (e.g. Gym), Regular hours, Mondays - Fridays, Business (e.g. Shirts) Singapore\",\n",
       " \"Entry Level Bachelor's Degree, Post Graduate Diploma, Professional Degree Internship Computer/Information Technology, IT-Software 201719908M 201 - 500 Employees Computer / Information Technology (Software) Regular hours, Mondays - Fridays, Casual (e.g. T-shirts)\",\n",
       " \"Non-Executive Bachelor's Degree, Post Graduate Diploma, Professional Degree Internship Computer/Information Technology, IT-Software 201719908M 201 - 500 Employees Computer / Information Technology (Software) Regular hours, Mondays - Fridays, Casual (e.g. T-shirts)\",\n",
       " \"Entry Level Bachelor's Degree, Post Graduate Diploma, Professional Degree Internship Others, Others 198500558Z 2001 - 5000 Employees 17 days Transportation / Logistics Dental, Education support, Miscellaneous allowance, Medical, Regular hours, Mondays - Fridays, Business (e.g. Shirts) Buona Vista\",\n",
       " \"Junior Executive Bachelor's Degree, Post Graduate Diploma, Professional Degree 2 years Temporary Sales/Marketing, Marketing/Business Dev 198402740W 1001 - 2000 Employees 25 days Transportation / Logistics Dental, Education support, Medical, Business (e.g. Shirts), Regular hours (Mon to Fri)/ 5.5 day shift / 5 days night shift\",\n",
       " \"Manager Bachelor's Degree Engineering, Other Engineering 199502518G 51 - 200 Employees 30 days Education Medical, Regular hours, Mondays - Fridays, Business (e.g. Shirts) Singapore\",\n",
       " \"Junior Executive Bachelor's Degree ,  199805959G 1001 - 2000 Employees 11 days  Dental, Education support, Miscellaneous allowance, Medical, Loans, Sports (e.g. Gym), Parking, Vision, Regular hours, Mondays - Fridays, Smart Casual Singapore\",\n",
       " \"Junior Executive Bachelor's Degree Computer/Information Technology, IT-Software 200604393R More than 5000 Employees 24 days Education Dental, Education support, Medical, Sports (e.g. Gym), Regular hours, Mondays - Fridays, Business (e.g. Shirts) Singapore\",\n",
       " \"Junior Executive Bachelor's Degree Education/Training, Education 200917667D 501 - 1000 Employees Education Education support, Regular hours, Mondays - Fridays, Business (e.g. Shirts)\",\n",
       " \"Junior Executive Master's Degree Engineering, Electrical 200604393R More than 5000 Employees 24 days Education Dental, Education support, Medical, Sports (e.g. Gym), Regular hours, Mondays - Fridays, Business (e.g. Shirts) Singapore\",\n",
       " \"Junior Executive Master's Degree Engineering, Electrical 200604393R More than 5000 Employees 24 days Education Dental, Education support, Medical, Sports (e.g. Gym), Regular hours, Mondays - Fridays, Business (e.g. Shirts) Singapore\",\n",
       " \"Entry Level Professional Certificate/NiTEC, Diploma, Advanced/Higher/Graduate Diploma, Bachelor's Degree, Post Graduate Diploma, Professional Degree Internship Computer/Information Technology, IT-Software 201923456H 501 - 1000 Employees Advertising / Marketing / Promotion / PR Regular hours, Mondays - Fridays, Casual (e.g. T-shirts)\",\n",
       " \"Junior Executive Master's Degree Computer/Information Technology, IT-Network/Sys/DB Admin 200604393R More than 5000 Employees 24 days Education Dental, Education support, Medical, Sports (e.g. Gym), Regular hours, Mondays - Fridays, Business (e.g. Shirts) Singapore\",\n",
       " \"Entry Level Higher Secondary/Pre-U/'A' Level, Diploma, Advanced/Higher/Graduate Diploma Internship Sciences, Actuarial/Statistics 201719908M 201 - 500 Employees Computer / Information Technology (Software) Regular hours, Mondays - Fridays, Casual (e.g. T-shirts)\",\n",
       " 'Senior Executive Professional Certificate/NiTEC, Diploma Engineering, Other Engineering 200604393R More than 5000 Employees 24 days Education Dental, Education support, Medical, Sports (e.g. Gym), Regular hours, Mondays - Fridays, Business (e.g. Shirts) Singapore',\n",
       " \"Entry Level Higher Secondary/Pre-U/'A' Level, Diploma, Advanced/Higher/Graduate Diploma Internship Computer/Information Technology, IT-Software 201923456H 501 - 1000 Employees Advertising / Marketing / Promotion / PR Regular hours, Mondays - Fridays, Casual (e.g. T-shirts)\",\n",
       " \"Entry Level Higher Secondary/Pre-U/'A' Level, Diploma, Advanced/Higher/Graduate Diploma Internship Computer/Information Technology, IT-Software 201719908M 201 - 500 Employees Computer / Information Technology (Software) Regular hours, Mondays - Fridays, Casual (e.g. T-shirts)\",\n",
       " \"Junior Executive Master's Degree Engineering, Electrical 200604393R More than 5000 Employees 24 days Education Dental, Education support, Medical, Sports (e.g. Gym), Regular hours, Mondays - Fridays, Business (e.g. Shirts) Singapore\",\n",
       " \"Entry Level Higher Secondary/Pre-U/'A' Level, Diploma, Advanced/Higher/Graduate Diploma Internship Sciences, Actuarial/Statistics 201719908M 201 - 500 Employees Computer / Information Technology (Software) Regular hours, Mondays - Fridays, Casual (e.g. T-shirts)\"]"
      ]
     },
     "execution_count": 52,
     "metadata": {},
     "output_type": "execute_result"
    }
   ],
   "source": [
    "#Checking the same thing for employment type\n",
    "list(df[df['Employment Type'] == \"\"]['Other information'])"
   ]
  },
  {
   "cell_type": "code",
   "execution_count": 53,
   "metadata": {},
   "outputs": [],
   "source": [
    "#indicating not indicated\n",
    "df['Employment Type'] = df['Employment Type'].apply(lambda x : x.replace(\"\",\"Not indicated\") if x =='' else x)"
   ]
  },
  {
   "cell_type": "code",
   "execution_count": 54,
   "metadata": {},
   "outputs": [
    {
     "data": {
      "text/html": [
       "<div>\n",
       "<style scoped>\n",
       "    .dataframe tbody tr th:only-of-type {\n",
       "        vertical-align: middle;\n",
       "    }\n",
       "\n",
       "    .dataframe tbody tr th {\n",
       "        vertical-align: top;\n",
       "    }\n",
       "\n",
       "    .dataframe thead th {\n",
       "        text-align: right;\n",
       "    }\n",
       "</style>\n",
       "<table border=\"1\" class=\"dataframe\">\n",
       "  <thead>\n",
       "    <tr style=\"text-align: right;\">\n",
       "      <th></th>\n",
       "      <th>Job Title</th>\n",
       "      <th>Companies</th>\n",
       "      <th>Location</th>\n",
       "      <th>Date posted</th>\n",
       "      <th>Other information</th>\n",
       "      <th>Job Description</th>\n",
       "      <th>URL</th>\n",
       "      <th>Pay_average</th>\n",
       "      <th>Qualifications</th>\n",
       "      <th>Position</th>\n",
       "      <th>Employment Type</th>\n",
       "    </tr>\n",
       "  </thead>\n",
       "  <tbody>\n",
       "    <tr>\n",
       "      <th>496</th>\n",
       "      <td>Manager, Business Analyst - Data Management Of...</td>\n",
       "      <td>United Overseas Bank Limited (UOB)</td>\n",
       "      <td>Singapore</td>\n",
       "      <td>2021-09-07</td>\n",
       "      <td>Manager Diploma, Advanced/Higher/Graduate Dipl...</td>\n",
       "      <td>About UOBUnited Overseas Bank Limited (UOB) is...</td>\n",
       "      <td>http://www.jobstreet.com.sg/en/job/manager-bus...</td>\n",
       "      <td>NaN</td>\n",
       "      <td>Bachelor's Degree , Diploma , Advanced/Higher/...</td>\n",
       "      <td>Manager</td>\n",
       "      <td>Full-Time</td>\n",
       "    </tr>\n",
       "    <tr>\n",
       "      <th>1413</th>\n",
       "      <td>Manager/Analyst, Yield Management (Liner Stand...</td>\n",
       "      <td>Pacific International Lines (Pte) Ltd</td>\n",
       "      <td>Central</td>\n",
       "      <td>2021-09-21</td>\n",
       "      <td>Manager Diploma, Advanced/Higher/Graduate Dipl...</td>\n",
       "      <td>We are looking for individual with good leader...</td>\n",
       "      <td>http://www.jobstreet.com.sg/en/job/manager-ana...</td>\n",
       "      <td>4000.0</td>\n",
       "      <td>Bachelor's Degree , Diploma , Advanced/Higher/...</td>\n",
       "      <td>Manager</td>\n",
       "      <td>Full-Time</td>\n",
       "    </tr>\n",
       "    <tr>\n",
       "      <th>1347</th>\n",
       "      <td>[GOVT] Business Analyst (Exec) | $4000/Month |...</td>\n",
       "      <td>BGC Group (Outsourcing)</td>\n",
       "      <td>Central</td>\n",
       "      <td>2021-09-18</td>\n",
       "      <td>Junior Executive Bachelor's Degree, Post Gradu...</td>\n",
       "      <td>11 Months contractDegree in Psychology, Busine...</td>\n",
       "      <td>http://www.jobstreet.com.sg/en/job/%5Bgovt%5D-...</td>\n",
       "      <td>NaN</td>\n",
       "      <td>Bachelor's Degree , Diploma , Post Graduate Di...</td>\n",
       "      <td>Junior Executive</td>\n",
       "      <td>Full-Time , Contract</td>\n",
       "    </tr>\n",
       "    <tr>\n",
       "      <th>1857</th>\n",
       "      <td>Lead Data Scientist [Central/ Up To $10000] (I...</td>\n",
       "      <td>PERSOLKELLY Singapore Pte Ltd (Formerly Kelly ...</td>\n",
       "      <td>Central</td>\n",
       "      <td>2021-09-17</td>\n",
       "      <td>Senior Executive Diploma, Advanced/Higher/Grad...</td>\n",
       "      <td>Our esteemed client is looking for aLead, Data...</td>\n",
       "      <td>http://www.jobstreet.com.sg/en/job/lead-data-s...</td>\n",
       "      <td>NaN</td>\n",
       "      <td>Diploma , Advanced/Higher/Graduate Diploma</td>\n",
       "      <td>Senior Executive</td>\n",
       "      <td>Full-Time</td>\n",
       "    </tr>\n",
       "    <tr>\n",
       "      <th>272</th>\n",
       "      <td>Research Scientist (Hardware Assurance) (R0000...</td>\n",
       "      <td>Nanyang Technological University</td>\n",
       "      <td>West</td>\n",
       "      <td>2021-09-13</td>\n",
       "      <td>Junior Executive Bachelor's Degree, Post Gradu...</td>\n",
       "      <td>Temasek Laboratories is looking for a candidat...</td>\n",
       "      <td>http://www.jobstreet.com.sg/en/job/research-sc...</td>\n",
       "      <td>6000.0</td>\n",
       "      <td>Bachelor's Degree , Diploma , Post Graduate Di...</td>\n",
       "      <td>Junior Executive</td>\n",
       "      <td>Full-Time</td>\n",
       "    </tr>\n",
       "  </tbody>\n",
       "</table>\n",
       "</div>"
      ],
      "text/plain": [
       "                                              Job Title  \\\n",
       "496   Manager, Business Analyst - Data Management Of...   \n",
       "1413  Manager/Analyst, Yield Management (Liner Stand...   \n",
       "1347  [GOVT] Business Analyst (Exec) | $4000/Month |...   \n",
       "1857  Lead Data Scientist [Central/ Up To $10000] (I...   \n",
       "272   Research Scientist (Hardware Assurance) (R0000...   \n",
       "\n",
       "                                              Companies   Location  \\\n",
       "496                  United Overseas Bank Limited (UOB)  Singapore   \n",
       "1413              Pacific International Lines (Pte) Ltd    Central   \n",
       "1347                            BGC Group (Outsourcing)    Central   \n",
       "1857  PERSOLKELLY Singapore Pte Ltd (Formerly Kelly ...    Central   \n",
       "272                    Nanyang Technological University       West   \n",
       "\n",
       "     Date posted                                  Other information  \\\n",
       "496   2021-09-07  Manager Diploma, Advanced/Higher/Graduate Dipl...   \n",
       "1413  2021-09-21  Manager Diploma, Advanced/Higher/Graduate Dipl...   \n",
       "1347  2021-09-18  Junior Executive Bachelor's Degree, Post Gradu...   \n",
       "1857  2021-09-17  Senior Executive Diploma, Advanced/Higher/Grad...   \n",
       "272   2021-09-13  Junior Executive Bachelor's Degree, Post Gradu...   \n",
       "\n",
       "                                        Job Description  \\\n",
       "496   About UOBUnited Overseas Bank Limited (UOB) is...   \n",
       "1413  We are looking for individual with good leader...   \n",
       "1347  11 Months contractDegree in Psychology, Busine...   \n",
       "1857  Our esteemed client is looking for aLead, Data...   \n",
       "272   Temasek Laboratories is looking for a candidat...   \n",
       "\n",
       "                                                    URL  Pay_average  \\\n",
       "496   http://www.jobstreet.com.sg/en/job/manager-bus...          NaN   \n",
       "1413  http://www.jobstreet.com.sg/en/job/manager-ana...       4000.0   \n",
       "1347  http://www.jobstreet.com.sg/en/job/%5Bgovt%5D-...          NaN   \n",
       "1857  http://www.jobstreet.com.sg/en/job/lead-data-s...          NaN   \n",
       "272   http://www.jobstreet.com.sg/en/job/research-sc...       6000.0   \n",
       "\n",
       "                                         Qualifications          Position  \\\n",
       "496   Bachelor's Degree , Diploma , Advanced/Higher/...           Manager   \n",
       "1413  Bachelor's Degree , Diploma , Advanced/Higher/...           Manager   \n",
       "1347  Bachelor's Degree , Diploma , Post Graduate Di...  Junior Executive   \n",
       "1857         Diploma , Advanced/Higher/Graduate Diploma  Senior Executive   \n",
       "272   Bachelor's Degree , Diploma , Post Graduate Di...  Junior Executive   \n",
       "\n",
       "           Employment Type  \n",
       "496              Full-Time  \n",
       "1413             Full-Time  \n",
       "1347  Full-Time , Contract  \n",
       "1857             Full-Time  \n",
       "272              Full-Time  "
      ]
     },
     "execution_count": 54,
     "metadata": {},
     "output_type": "execute_result"
    }
   ],
   "source": [
    "df.sample(5)"
   ]
  },
  {
   "cell_type": "markdown",
   "metadata": {},
   "source": [
    "### Extracting Number of Years"
   ]
  },
  {
   "cell_type": "code",
   "execution_count": 55,
   "metadata": {},
   "outputs": [],
   "source": [
    "num_years_regex = re.compile(r'(\\d{1,2} years)')\n",
    "df['Years of Experience'] = df['Other information'].apply(lambda x : str((num_years_regex.findall(x))))\n",
    "df['Years of Experience'] = df['Years of Experience'].apply(lambda x : 'Not indicated' if x =='[]' else x )\n",
    "df['Years of Experience'] = df['Years of Experience'].apply(lambda x : x.replace(\"'\",''))\n",
    "df['Years of Experience'] = df['Years of Experience'].apply(lambda x : x.replace(\"[\",''))\n",
    "df['Years of Experience'] = df['Years of Experience'].apply(lambda x : x.replace(\"]\",''))\n",
    "df['Years of Experience'] = df['Years of Experience'].apply(lambda x : x.replace(\" years\",''))\n",
    "#I notice that some titles have bot Senior Manager and Manager title probably because of the word Manager that is common \n",
    "df['Position'] = df['Position'].apply(lambda x : 'Senior Manager' if x == 'Manager , Senior Manager' else x )"
   ]
  },
  {
   "cell_type": "code",
   "execution_count": 56,
   "metadata": {},
   "outputs": [
    {
     "data": {
      "text/html": [
       "<div>\n",
       "<style scoped>\n",
       "    .dataframe tbody tr th:only-of-type {\n",
       "        vertical-align: middle;\n",
       "    }\n",
       "\n",
       "    .dataframe tbody tr th {\n",
       "        vertical-align: top;\n",
       "    }\n",
       "\n",
       "    .dataframe thead th {\n",
       "        text-align: right;\n",
       "    }\n",
       "</style>\n",
       "<table border=\"1\" class=\"dataframe\">\n",
       "  <thead>\n",
       "    <tr style=\"text-align: right;\">\n",
       "      <th></th>\n",
       "      <th>Job Title</th>\n",
       "      <th>Companies</th>\n",
       "      <th>Location</th>\n",
       "      <th>Date posted</th>\n",
       "      <th>Other information</th>\n",
       "      <th>Job Description</th>\n",
       "      <th>URL</th>\n",
       "      <th>Pay_average</th>\n",
       "      <th>Qualifications</th>\n",
       "      <th>Position</th>\n",
       "      <th>Employment Type</th>\n",
       "      <th>Years of Experience</th>\n",
       "    </tr>\n",
       "  </thead>\n",
       "  <tbody>\n",
       "    <tr>\n",
       "      <th>438</th>\n",
       "      <td>Cloud Data Engineer (Ref 24404)</td>\n",
       "      <td>JOBLINE RESOURCES PTE. LTD.</td>\n",
       "      <td>tiple work locations</td>\n",
       "      <td>2021-09-11</td>\n",
       "      <td>Senior Executive Diploma, Advanced/Higher/Grad...</td>\n",
       "      <td>Responsibilities:- Dive into company data to i...</td>\n",
       "      <td>http://www.jobstreet.com.sg/en/job/cloud-data-...</td>\n",
       "      <td>NaN</td>\n",
       "      <td>Bachelor's Degree , Diploma , Advanced/Higher/...</td>\n",
       "      <td>Senior Executive</td>\n",
       "      <td>Full-Time , Contract</td>\n",
       "      <td>5</td>\n",
       "    </tr>\n",
       "    <tr>\n",
       "      <th>716</th>\n",
       "      <td>Data Engineer – Ecommerce | Open-source Data W...</td>\n",
       "      <td>Spring Professional (Singapore) Pte Ltd</td>\n",
       "      <td>Central</td>\n",
       "      <td>2021-09-07</td>\n",
       "      <td>Senior Executive Bachelor's Degree, Post Gradu...</td>\n",
       "      <td>About the Client:Our client is a market leader...</td>\n",
       "      <td>http://www.jobstreet.com.sg/en/job/data-engine...</td>\n",
       "      <td>NaN</td>\n",
       "      <td>Bachelor's Degree , Diploma , Post Graduate Di...</td>\n",
       "      <td>Senior Executive</td>\n",
       "      <td>Full-Time</td>\n",
       "      <td>4</td>\n",
       "    </tr>\n",
       "    <tr>\n",
       "      <th>1573</th>\n",
       "      <td>Portfolio Analyst (REITS / Real estate) (ID: 5...</td>\n",
       "      <td>PERSOLKELLY Singapore Pte Ltd (Formerly Kelly ...</td>\n",
       "      <td>Central</td>\n",
       "      <td>2021-09-21</td>\n",
       "      <td>Junior Executive Bachelor's Degree, Post Gradu...</td>\n",
       "      <td>The incumbent will support the Portfolio Manag...</td>\n",
       "      <td>http://www.jobstreet.com.sg/en/job/portfolio-a...</td>\n",
       "      <td>NaN</td>\n",
       "      <td>Bachelor's Degree , Diploma , Post Graduate Di...</td>\n",
       "      <td>Junior Executive</td>\n",
       "      <td>Full-Time</td>\n",
       "      <td>Not indicated</td>\n",
       "    </tr>\n",
       "    <tr>\n",
       "      <th>276</th>\n",
       "      <td>Research Associate (Bioinformatics-Bio-Data Sc...</td>\n",
       "      <td>Nanyang Technological University</td>\n",
       "      <td>Singapore</td>\n",
       "      <td>2021-09-13</td>\n",
       "      <td>Junior Executive Master's Degree 1 year Full-T...</td>\n",
       "      <td>A Research Associate (Bioinformatics/Bio-Data ...</td>\n",
       "      <td>http://www.jobstreet.com.sg/en/job/research-as...</td>\n",
       "      <td>NaN</td>\n",
       "      <td>Master's Degree</td>\n",
       "      <td>Junior Executive</td>\n",
       "      <td>Full-Time</td>\n",
       "      <td>Not indicated</td>\n",
       "    </tr>\n",
       "    <tr>\n",
       "      <th>579</th>\n",
       "      <td>Required Senior Business Analyst/Lead Business...</td>\n",
       "      <td>Path Infotech Pte Ltd</td>\n",
       "      <td>Singapore</td>\n",
       "      <td>2021-09-21</td>\n",
       "      <td>Senior Executive Bachelor's Degree, Post Gradu...</td>\n",
       "      <td>Role and Responsibilities·Support product owne...</td>\n",
       "      <td>http://www.jobstreet.com.sg/en/job/required-se...</td>\n",
       "      <td>NaN</td>\n",
       "      <td>Bachelor's Degree , Diploma , Post Graduate Di...</td>\n",
       "      <td>Senior Executive</td>\n",
       "      <td>Contract</td>\n",
       "      <td>7</td>\n",
       "    </tr>\n",
       "  </tbody>\n",
       "</table>\n",
       "</div>"
      ],
      "text/plain": [
       "                                              Job Title  \\\n",
       "438                     Cloud Data Engineer (Ref 24404)   \n",
       "716   Data Engineer – Ecommerce | Open-source Data W...   \n",
       "1573  Portfolio Analyst (REITS / Real estate) (ID: 5...   \n",
       "276   Research Associate (Bioinformatics-Bio-Data Sc...   \n",
       "579   Required Senior Business Analyst/Lead Business...   \n",
       "\n",
       "                                              Companies              Location  \\\n",
       "438                         JOBLINE RESOURCES PTE. LTD.  tiple work locations   \n",
       "716             Spring Professional (Singapore) Pte Ltd               Central   \n",
       "1573  PERSOLKELLY Singapore Pte Ltd (Formerly Kelly ...               Central   \n",
       "276                    Nanyang Technological University             Singapore   \n",
       "579                               Path Infotech Pte Ltd             Singapore   \n",
       "\n",
       "     Date posted                                  Other information  \\\n",
       "438   2021-09-11  Senior Executive Diploma, Advanced/Higher/Grad...   \n",
       "716   2021-09-07  Senior Executive Bachelor's Degree, Post Gradu...   \n",
       "1573  2021-09-21  Junior Executive Bachelor's Degree, Post Gradu...   \n",
       "276   2021-09-13  Junior Executive Master's Degree 1 year Full-T...   \n",
       "579   2021-09-21  Senior Executive Bachelor's Degree, Post Gradu...   \n",
       "\n",
       "                                        Job Description  \\\n",
       "438   Responsibilities:- Dive into company data to i...   \n",
       "716   About the Client:Our client is a market leader...   \n",
       "1573  The incumbent will support the Portfolio Manag...   \n",
       "276   A Research Associate (Bioinformatics/Bio-Data ...   \n",
       "579   Role and Responsibilities·Support product owne...   \n",
       "\n",
       "                                                    URL  Pay_average  \\\n",
       "438   http://www.jobstreet.com.sg/en/job/cloud-data-...          NaN   \n",
       "716   http://www.jobstreet.com.sg/en/job/data-engine...          NaN   \n",
       "1573  http://www.jobstreet.com.sg/en/job/portfolio-a...          NaN   \n",
       "276   http://www.jobstreet.com.sg/en/job/research-as...          NaN   \n",
       "579   http://www.jobstreet.com.sg/en/job/required-se...          NaN   \n",
       "\n",
       "                                         Qualifications          Position  \\\n",
       "438   Bachelor's Degree , Diploma , Advanced/Higher/...  Senior Executive   \n",
       "716   Bachelor's Degree , Diploma , Post Graduate Di...  Senior Executive   \n",
       "1573  Bachelor's Degree , Diploma , Post Graduate Di...  Junior Executive   \n",
       "276                                     Master's Degree  Junior Executive   \n",
       "579   Bachelor's Degree , Diploma , Post Graduate Di...  Senior Executive   \n",
       "\n",
       "           Employment Type Years of Experience  \n",
       "438   Full-Time , Contract                   5  \n",
       "716              Full-Time                   4  \n",
       "1573             Full-Time       Not indicated  \n",
       "276              Full-Time       Not indicated  \n",
       "579               Contract                   7  "
      ]
     },
     "execution_count": 56,
     "metadata": {},
     "output_type": "execute_result"
    }
   ],
   "source": [
    "df.sample(5)"
   ]
  },
  {
   "cell_type": "markdown",
   "metadata": {},
   "source": [
    "### Extracting Pay from location"
   ]
  },
  {
   "cell_type": "code",
   "execution_count": 57,
   "metadata": {},
   "outputs": [
    {
     "data": {
      "text/plain": [
       "<AxesSubplot:>"
      ]
     },
     "execution_count": 57,
     "metadata": {},
     "output_type": "execute_result"
    },
    {
     "data": {
      "image/png": "[encoded data removed]",
      "text/plain": [
       "<Figure size 432x288 with 1 Axes>"
      ]
     },
     "metadata": {
      "needs_background": "light"
     },
     "output_type": "display_data"
    }
   ],
   "source": [
    "df['Location'].value_counts().plot(kind='barh')"
   ]
  },
  {
   "cell_type": "markdown",
   "metadata": {},
   "source": [
    "Some locations have the pay range instead I will use regex to extract these information out"
   ]
  },
  {
   "cell_type": "code",
   "execution_count": 58,
   "metadata": {},
   "outputs": [],
   "source": [
    "pay_regex = re.compile(r'D? ?\\d{1,3},\\d{3} - SGD ?\\d{1,3},\\d{3}\\s{0,10}?')"
   ]
  },
  {
   "cell_type": "markdown",
   "metadata": {},
   "source": [
    "I realise that the regex couldnt work because there is a \\xa character inside. So i called the function cleanup_jobdescription that was meant for the job description to clean up locations"
   ]
  },
  {
   "cell_type": "code",
   "execution_count": 59,
   "metadata": {},
   "outputs": [],
   "source": [
    "#since I already have a function for Job Description I will use it to clean up location as well\n",
    "df.Location = df.Location.apply(cleanup_jobdescription)"
   ]
  },
  {
   "cell_type": "code",
   "execution_count": 60,
   "metadata": {},
   "outputs": [],
   "source": [
    "df['Pay2'] = df['Location'].apply(lambda x : str((pay_regex.findall(x))))"
   ]
  },
  {
   "cell_type": "code",
   "execution_count": 61,
   "metadata": {},
   "outputs": [
    {
     "data": {
      "text/html": [
       "<div>\n",
       "<style scoped>\n",
       "    .dataframe tbody tr th:only-of-type {\n",
       "        vertical-align: middle;\n",
       "    }\n",
       "\n",
       "    .dataframe tbody tr th {\n",
       "        vertical-align: top;\n",
       "    }\n",
       "\n",
       "    .dataframe thead th {\n",
       "        text-align: right;\n",
       "    }\n",
       "</style>\n",
       "<table border=\"1\" class=\"dataframe\">\n",
       "  <thead>\n",
       "    <tr style=\"text-align: right;\">\n",
       "      <th></th>\n",
       "      <th>Job Title</th>\n",
       "      <th>Companies</th>\n",
       "      <th>Location</th>\n",
       "      <th>Date posted</th>\n",
       "      <th>Other information</th>\n",
       "      <th>Job Description</th>\n",
       "      <th>URL</th>\n",
       "      <th>Pay_average</th>\n",
       "      <th>Qualifications</th>\n",
       "      <th>Position</th>\n",
       "      <th>Employment Type</th>\n",
       "      <th>Years of Experience</th>\n",
       "      <th>Pay2</th>\n",
       "    </tr>\n",
       "  </thead>\n",
       "  <tbody>\n",
       "    <tr>\n",
       "      <th>21</th>\n",
       "      <td>Biz Data Analyst (Senior) [Up to $10000 basic]...</td>\n",
       "      <td>RecruitPlus Consulting Pte Ltd</td>\n",
       "      <td>D7,000 - SGD10,000</td>\n",
       "      <td>2021-09-21</td>\n",
       "      <td>Entry Level Bachelor's Degree, Post Graduate D...</td>\n",
       "      <td>Major logistics and supply chain companyGreat ...</td>\n",
       "      <td>http://www.jobstreet.com.sg/en/job/biz-data-an...</td>\n",
       "      <td>NaN</td>\n",
       "      <td>Bachelor's Degree , Diploma , Post Graduate Di...</td>\n",
       "      <td>Entry Level</td>\n",
       "      <td>Full-Time</td>\n",
       "      <td>Not indicated</td>\n",
       "      <td>['D7,000 - SGD10,000']</td>\n",
       "    </tr>\n",
       "    <tr>\n",
       "      <th>33</th>\n",
       "      <td>Data Science Specialist(IT)/ MNC/Central/S$10K...</td>\n",
       "      <td>Achieve Career Consultant Pte Ltd</td>\n",
       "      <td>10,000 - SGD20,000</td>\n",
       "      <td>2021-09-21</td>\n",
       "      <td>Senior Executive Bachelor's Degree, Post Gradu...</td>\n",
       "      <td> Up till S$10,000 Higher (12 months contract)...</td>\n",
       "      <td>http://www.jobstreet.com.sg/en/job/data-scienc...</td>\n",
       "      <td>6000.0</td>\n",
       "      <td>Bachelor's Degree , Diploma , Post Graduate Di...</td>\n",
       "      <td>Senior Executive</td>\n",
       "      <td>Full-Time , Contract</td>\n",
       "      <td>4</td>\n",
       "      <td>['10,000 - SGD20,000']</td>\n",
       "    </tr>\n",
       "    <tr>\n",
       "      <th>34</th>\n",
       "      <td>Data Science Specialist | 5DAYS | 1 Year Contr...</td>\n",
       "      <td>Achieve Career Consultant Pte Ltd</td>\n",
       "      <td>D8,000 - SGD12,500</td>\n",
       "      <td>2021-09-21</td>\n",
       "      <td>Senior Executive Bachelor's Degree, Post Gradu...</td>\n",
       "      <td> Annual Remuneration up till $150K 1-Year Co...</td>\n",
       "      <td>http://www.jobstreet.com.sg/en/job/data-scienc...</td>\n",
       "      <td>6000.0</td>\n",
       "      <td>Bachelor's Degree , Diploma , Post Graduate Di...</td>\n",
       "      <td>Senior Executive</td>\n",
       "      <td>Full-Time</td>\n",
       "      <td>6</td>\n",
       "      <td>['D8,000 - SGD12,500']</td>\n",
       "    </tr>\n",
       "    <tr>\n",
       "      <th>49</th>\n",
       "      <td>Data Science Specialist | 5DAYS | 1 Year Contr...</td>\n",
       "      <td>Achieve Career Consultant Pte Ltd</td>\n",
       "      <td>D8,000 - SGD12,500</td>\n",
       "      <td>2021-09-20</td>\n",
       "      <td>Senior Executive Bachelor's Degree, Post Gradu...</td>\n",
       "      <td> Annual Remuneration up till $150K 1-Year Co...</td>\n",
       "      <td>http://www.jobstreet.com.sg/en/job/data-scienc...</td>\n",
       "      <td>NaN</td>\n",
       "      <td>Bachelor's Degree , Diploma , Post Graduate Di...</td>\n",
       "      <td>Senior Executive</td>\n",
       "      <td>Full-Time</td>\n",
       "      <td>6</td>\n",
       "      <td>['D8,000 - SGD12,500']</td>\n",
       "    </tr>\n",
       "    <tr>\n",
       "      <th>70</th>\n",
       "      <td>Data Science Specialist (IT)/ (MNC/ Central/ S...</td>\n",
       "      <td>Achieve Career Consultant Pte Ltd</td>\n",
       "      <td>10,000 - SGD20,000</td>\n",
       "      <td>2021-09-19</td>\n",
       "      <td>Senior Executive Bachelor's Degree, Post Gradu...</td>\n",
       "      <td> Up till S$10,000 Higher (12 months contract)...</td>\n",
       "      <td>http://www.jobstreet.com.sg/en/job/data-scienc...</td>\n",
       "      <td>3150.0</td>\n",
       "      <td>Bachelor's Degree , Diploma , Post Graduate Di...</td>\n",
       "      <td>Senior Executive</td>\n",
       "      <td>Full-Time , Contract</td>\n",
       "      <td>4</td>\n",
       "      <td>['10,000 - SGD20,000']</td>\n",
       "    </tr>\n",
       "  </tbody>\n",
       "</table>\n",
       "</div>"
      ],
      "text/plain": [
       "                                            Job Title  \\\n",
       "21  Biz Data Analyst (Senior) [Up to $10000 basic]...   \n",
       "33  Data Science Specialist(IT)/ MNC/Central/S$10K...   \n",
       "34  Data Science Specialist | 5DAYS | 1 Year Contr...   \n",
       "49  Data Science Specialist | 5DAYS | 1 Year Contr...   \n",
       "70  Data Science Specialist (IT)/ (MNC/ Central/ S...   \n",
       "\n",
       "                            Companies            Location Date posted  \\\n",
       "21     RecruitPlus Consulting Pte Ltd  D7,000 - SGD10,000  2021-09-21   \n",
       "33  Achieve Career Consultant Pte Ltd  10,000 - SGD20,000  2021-09-21   \n",
       "34  Achieve Career Consultant Pte Ltd  D8,000 - SGD12,500  2021-09-21   \n",
       "49  Achieve Career Consultant Pte Ltd  D8,000 - SGD12,500  2021-09-20   \n",
       "70  Achieve Career Consultant Pte Ltd  10,000 - SGD20,000  2021-09-19   \n",
       "\n",
       "                                    Other information  \\\n",
       "21  Entry Level Bachelor's Degree, Post Graduate D...   \n",
       "33  Senior Executive Bachelor's Degree, Post Gradu...   \n",
       "34  Senior Executive Bachelor's Degree, Post Gradu...   \n",
       "49  Senior Executive Bachelor's Degree, Post Gradu...   \n",
       "70  Senior Executive Bachelor's Degree, Post Gradu...   \n",
       "\n",
       "                                      Job Description  \\\n",
       "21  Major logistics and supply chain companyGreat ...   \n",
       "33   Up till S$10,000 Higher (12 months contract)...   \n",
       "34   Annual Remuneration up till $150K 1-Year Co...   \n",
       "49   Annual Remuneration up till $150K 1-Year Co...   \n",
       "70   Up till S$10,000 Higher (12 months contract)...   \n",
       "\n",
       "                                                  URL  Pay_average  \\\n",
       "21  http://www.jobstreet.com.sg/en/job/biz-data-an...          NaN   \n",
       "33  http://www.jobstreet.com.sg/en/job/data-scienc...       6000.0   \n",
       "34  http://www.jobstreet.com.sg/en/job/data-scienc...       6000.0   \n",
       "49  http://www.jobstreet.com.sg/en/job/data-scienc...          NaN   \n",
       "70  http://www.jobstreet.com.sg/en/job/data-scienc...       3150.0   \n",
       "\n",
       "                                       Qualifications          Position  \\\n",
       "21  Bachelor's Degree , Diploma , Post Graduate Di...       Entry Level   \n",
       "33  Bachelor's Degree , Diploma , Post Graduate Di...  Senior Executive   \n",
       "34  Bachelor's Degree , Diploma , Post Graduate Di...  Senior Executive   \n",
       "49  Bachelor's Degree , Diploma , Post Graduate Di...  Senior Executive   \n",
       "70  Bachelor's Degree , Diploma , Post Graduate Di...  Senior Executive   \n",
       "\n",
       "         Employment Type Years of Experience                    Pay2  \n",
       "21             Full-Time       Not indicated  ['D7,000 - SGD10,000']  \n",
       "33  Full-Time , Contract                   4  ['10,000 - SGD20,000']  \n",
       "34             Full-Time                   6  ['D8,000 - SGD12,500']  \n",
       "49             Full-Time                   6  ['D8,000 - SGD12,500']  \n",
       "70  Full-Time , Contract                   4  ['10,000 - SGD20,000']  "
      ]
     },
     "execution_count": 61,
     "metadata": {},
     "output_type": "execute_result"
    }
   ],
   "source": [
    "#checking the rows where the pay is captured in location. It appears that some already have pay included. \n",
    "df[df.Pay2 != '[]'].head()"
   ]
  },
  {
   "cell_type": "markdown",
   "metadata": {},
   "source": [
    "At this point I'm rather puzzled why there are two pay included.<br>\n",
    "Plus there is also a possibility in the pay being available or stated in the Job Description section..<br>\n",
    "I think the best approach is impute the pay gathered from location field into the pay columns and then rename the invalid locations to be 'Singapore' instead"
   ]
  },
  {
   "cell_type": "code",
   "execution_count": 62,
   "metadata": {},
   "outputs": [],
   "source": [
    "df['Pay2'] = df['Pay2'].apply(lambda x : x.replace(\"SGD\",''))\n",
    "df['Pay2'] = df['Pay2'].apply(lambda x : x.replace(\"D\",''))\n",
    "df['Pay2'] = df['Pay2'].apply(lambda x : x.replace(\",\",''))\n",
    "df['Pay2'] = df['Pay2'].apply(lambda x : x.replace(\"'\",''))\n",
    "df['Pay2'] = df['Pay2'].apply(lambda x : x.replace(\"[\",''))\n",
    "df['Pay2'] = df['Pay2'].apply(lambda x : x.replace(\"]\",''))"
   ]
  },
  {
   "cell_type": "code",
   "execution_count": 63,
   "metadata": {},
   "outputs": [
    {
     "data": {
      "text/plain": [
       "79"
      ]
     },
     "execution_count": 63,
     "metadata": {},
     "output_type": "execute_result"
    }
   ],
   "source": [
    "#37 instances where this happens\n",
    "df[df['Pay2'] != '']['Pay2'].count()"
   ]
  },
  {
   "cell_type": "code",
   "execution_count": 64,
   "metadata": {},
   "outputs": [
    {
     "data": {
      "text/html": [
       "<div>\n",
       "<style scoped>\n",
       "    .dataframe tbody tr th:only-of-type {\n",
       "        vertical-align: middle;\n",
       "    }\n",
       "\n",
       "    .dataframe tbody tr th {\n",
       "        vertical-align: top;\n",
       "    }\n",
       "\n",
       "    .dataframe thead th {\n",
       "        text-align: right;\n",
       "    }\n",
       "</style>\n",
       "<table border=\"1\" class=\"dataframe\">\n",
       "  <thead>\n",
       "    <tr style=\"text-align: right;\">\n",
       "      <th></th>\n",
       "      <th>Job Title</th>\n",
       "      <th>Companies</th>\n",
       "      <th>Location</th>\n",
       "      <th>Date posted</th>\n",
       "      <th>Other information</th>\n",
       "      <th>Job Description</th>\n",
       "      <th>URL</th>\n",
       "      <th>Pay_average</th>\n",
       "      <th>Qualifications</th>\n",
       "      <th>Position</th>\n",
       "      <th>Employment Type</th>\n",
       "      <th>Years of Experience</th>\n",
       "      <th>Pay2</th>\n",
       "    </tr>\n",
       "  </thead>\n",
       "  <tbody>\n",
       "    <tr>\n",
       "      <th>21</th>\n",
       "      <td>Biz Data Analyst (Senior) [Up to $10000 basic]...</td>\n",
       "      <td>RecruitPlus Consulting Pte Ltd</td>\n",
       "      <td>D7,000 - SGD10,000</td>\n",
       "      <td>2021-09-21</td>\n",
       "      <td>Entry Level Bachelor's Degree, Post Graduate D...</td>\n",
       "      <td>Major logistics and supply chain companyGreat ...</td>\n",
       "      <td>http://www.jobstreet.com.sg/en/job/biz-data-an...</td>\n",
       "      <td>NaN</td>\n",
       "      <td>Bachelor's Degree , Diploma , Post Graduate Di...</td>\n",
       "      <td>Entry Level</td>\n",
       "      <td>Full-Time</td>\n",
       "      <td>Not indicated</td>\n",
       "      <td>7000 - 10000</td>\n",
       "    </tr>\n",
       "    <tr>\n",
       "      <th>33</th>\n",
       "      <td>Data Science Specialist(IT)/ MNC/Central/S$10K...</td>\n",
       "      <td>Achieve Career Consultant Pte Ltd</td>\n",
       "      <td>10,000 - SGD20,000</td>\n",
       "      <td>2021-09-21</td>\n",
       "      <td>Senior Executive Bachelor's Degree, Post Gradu...</td>\n",
       "      <td> Up till S$10,000 Higher (12 months contract)...</td>\n",
       "      <td>http://www.jobstreet.com.sg/en/job/data-scienc...</td>\n",
       "      <td>6000.0</td>\n",
       "      <td>Bachelor's Degree , Diploma , Post Graduate Di...</td>\n",
       "      <td>Senior Executive</td>\n",
       "      <td>Full-Time , Contract</td>\n",
       "      <td>4</td>\n",
       "      <td>10000 - 20000</td>\n",
       "    </tr>\n",
       "    <tr>\n",
       "      <th>34</th>\n",
       "      <td>Data Science Specialist | 5DAYS | 1 Year Contr...</td>\n",
       "      <td>Achieve Career Consultant Pte Ltd</td>\n",
       "      <td>D8,000 - SGD12,500</td>\n",
       "      <td>2021-09-21</td>\n",
       "      <td>Senior Executive Bachelor's Degree, Post Gradu...</td>\n",
       "      <td> Annual Remuneration up till $150K 1-Year Co...</td>\n",
       "      <td>http://www.jobstreet.com.sg/en/job/data-scienc...</td>\n",
       "      <td>6000.0</td>\n",
       "      <td>Bachelor's Degree , Diploma , Post Graduate Di...</td>\n",
       "      <td>Senior Executive</td>\n",
       "      <td>Full-Time</td>\n",
       "      <td>6</td>\n",
       "      <td>8000 - 12500</td>\n",
       "    </tr>\n",
       "    <tr>\n",
       "      <th>49</th>\n",
       "      <td>Data Science Specialist | 5DAYS | 1 Year Contr...</td>\n",
       "      <td>Achieve Career Consultant Pte Ltd</td>\n",
       "      <td>D8,000 - SGD12,500</td>\n",
       "      <td>2021-09-20</td>\n",
       "      <td>Senior Executive Bachelor's Degree, Post Gradu...</td>\n",
       "      <td> Annual Remuneration up till $150K 1-Year Co...</td>\n",
       "      <td>http://www.jobstreet.com.sg/en/job/data-scienc...</td>\n",
       "      <td>NaN</td>\n",
       "      <td>Bachelor's Degree , Diploma , Post Graduate Di...</td>\n",
       "      <td>Senior Executive</td>\n",
       "      <td>Full-Time</td>\n",
       "      <td>6</td>\n",
       "      <td>8000 - 12500</td>\n",
       "    </tr>\n",
       "    <tr>\n",
       "      <th>70</th>\n",
       "      <td>Data Science Specialist (IT)/ (MNC/ Central/ S...</td>\n",
       "      <td>Achieve Career Consultant Pte Ltd</td>\n",
       "      <td>10,000 - SGD20,000</td>\n",
       "      <td>2021-09-19</td>\n",
       "      <td>Senior Executive Bachelor's Degree, Post Gradu...</td>\n",
       "      <td> Up till S$10,000 Higher (12 months contract)...</td>\n",
       "      <td>http://www.jobstreet.com.sg/en/job/data-scienc...</td>\n",
       "      <td>3150.0</td>\n",
       "      <td>Bachelor's Degree , Diploma , Post Graduate Di...</td>\n",
       "      <td>Senior Executive</td>\n",
       "      <td>Full-Time , Contract</td>\n",
       "      <td>4</td>\n",
       "      <td>10000 - 20000</td>\n",
       "    </tr>\n",
       "  </tbody>\n",
       "</table>\n",
       "</div>"
      ],
      "text/plain": [
       "                                            Job Title  \\\n",
       "21  Biz Data Analyst (Senior) [Up to $10000 basic]...   \n",
       "33  Data Science Specialist(IT)/ MNC/Central/S$10K...   \n",
       "34  Data Science Specialist | 5DAYS | 1 Year Contr...   \n",
       "49  Data Science Specialist | 5DAYS | 1 Year Contr...   \n",
       "70  Data Science Specialist (IT)/ (MNC/ Central/ S...   \n",
       "\n",
       "                            Companies            Location Date posted  \\\n",
       "21     RecruitPlus Consulting Pte Ltd  D7,000 - SGD10,000  2021-09-21   \n",
       "33  Achieve Career Consultant Pte Ltd  10,000 - SGD20,000  2021-09-21   \n",
       "34  Achieve Career Consultant Pte Ltd  D8,000 - SGD12,500  2021-09-21   \n",
       "49  Achieve Career Consultant Pte Ltd  D8,000 - SGD12,500  2021-09-20   \n",
       "70  Achieve Career Consultant Pte Ltd  10,000 - SGD20,000  2021-09-19   \n",
       "\n",
       "                                    Other information  \\\n",
       "21  Entry Level Bachelor's Degree, Post Graduate D...   \n",
       "33  Senior Executive Bachelor's Degree, Post Gradu...   \n",
       "34  Senior Executive Bachelor's Degree, Post Gradu...   \n",
       "49  Senior Executive Bachelor's Degree, Post Gradu...   \n",
       "70  Senior Executive Bachelor's Degree, Post Gradu...   \n",
       "\n",
       "                                      Job Description  \\\n",
       "21  Major logistics and supply chain companyGreat ...   \n",
       "33   Up till S$10,000 Higher (12 months contract)...   \n",
       "34   Annual Remuneration up till $150K 1-Year Co...   \n",
       "49   Annual Remuneration up till $150K 1-Year Co...   \n",
       "70   Up till S$10,000 Higher (12 months contract)...   \n",
       "\n",
       "                                                  URL  Pay_average  \\\n",
       "21  http://www.jobstreet.com.sg/en/job/biz-data-an...          NaN   \n",
       "33  http://www.jobstreet.com.sg/en/job/data-scienc...       6000.0   \n",
       "34  http://www.jobstreet.com.sg/en/job/data-scienc...       6000.0   \n",
       "49  http://www.jobstreet.com.sg/en/job/data-scienc...          NaN   \n",
       "70  http://www.jobstreet.com.sg/en/job/data-scienc...       3150.0   \n",
       "\n",
       "                                       Qualifications          Position  \\\n",
       "21  Bachelor's Degree , Diploma , Post Graduate Di...       Entry Level   \n",
       "33  Bachelor's Degree , Diploma , Post Graduate Di...  Senior Executive   \n",
       "34  Bachelor's Degree , Diploma , Post Graduate Di...  Senior Executive   \n",
       "49  Bachelor's Degree , Diploma , Post Graduate Di...  Senior Executive   \n",
       "70  Bachelor's Degree , Diploma , Post Graduate Di...  Senior Executive   \n",
       "\n",
       "         Employment Type Years of Experience           Pay2  \n",
       "21             Full-Time       Not indicated   7000 - 10000  \n",
       "33  Full-Time , Contract                   4  10000 - 20000  \n",
       "34             Full-Time                   6   8000 - 12500  \n",
       "49             Full-Time                   6   8000 - 12500  \n",
       "70  Full-Time , Contract                   4  10000 - 20000  "
      ]
     },
     "execution_count": 64,
     "metadata": {},
     "output_type": "execute_result"
    }
   ],
   "source": [
    "df[df['Pay2'] != ''].head()"
   ]
  },
  {
   "cell_type": "code",
   "execution_count": 65,
   "metadata": {},
   "outputs": [],
   "source": [
    "#getting the average instead of having upper and lower bounds\n",
    "df['Pay2'] = df['Pay2'].apply(lambda x: ((int(x[:int(len(x)/2)-2]) + int(x[int(len(x)/2)+1:]) )/2) if x !='' else 'NaN')"
   ]
  },
  {
   "cell_type": "code",
   "execution_count": 66,
   "metadata": {},
   "outputs": [
    {
     "data": {
      "text/html": [
       "<div>\n",
       "<style scoped>\n",
       "    .dataframe tbody tr th:only-of-type {\n",
       "        vertical-align: middle;\n",
       "    }\n",
       "\n",
       "    .dataframe tbody tr th {\n",
       "        vertical-align: top;\n",
       "    }\n",
       "\n",
       "    .dataframe thead th {\n",
       "        text-align: right;\n",
       "    }\n",
       "</style>\n",
       "<table border=\"1\" class=\"dataframe\">\n",
       "  <thead>\n",
       "    <tr style=\"text-align: right;\">\n",
       "      <th></th>\n",
       "      <th>Job Title</th>\n",
       "      <th>Companies</th>\n",
       "      <th>Location</th>\n",
       "      <th>Date posted</th>\n",
       "      <th>Other information</th>\n",
       "      <th>Job Description</th>\n",
       "      <th>URL</th>\n",
       "      <th>Pay_average</th>\n",
       "      <th>Qualifications</th>\n",
       "      <th>Position</th>\n",
       "      <th>Employment Type</th>\n",
       "      <th>Years of Experience</th>\n",
       "      <th>Pay2</th>\n",
       "    </tr>\n",
       "  </thead>\n",
       "  <tbody>\n",
       "    <tr>\n",
       "      <th>0</th>\n",
       "      <td>Field Application Scientist– Genomic Systems</td>\n",
       "      <td>Research Instruments Pte Ltd</td>\n",
       "      <td>Singapore</td>\n",
       "      <td>2021-09-20</td>\n",
       "      <td>Remuneration package will be commensurate wit...</td>\n",
       "      <td>AtResearch Instruments, we are committed to fa...</td>\n",
       "      <td>http://www.jobstreet.com.sg/en/job/field-appli...</td>\n",
       "      <td>NaN</td>\n",
       "      <td>Bachelor's Degree , Diploma , Post Graduate Di...</td>\n",
       "      <td>Junior Executive</td>\n",
       "      <td>Full-Time</td>\n",
       "      <td>2</td>\n",
       "      <td>NaN</td>\n",
       "    </tr>\n",
       "    <tr>\n",
       "      <th>1</th>\n",
       "      <td>Data Scientist - AI</td>\n",
       "      <td>Blowfish Pte Ltd</td>\n",
       "      <td>Central - Others</td>\n",
       "      <td>2021-09-21</td>\n",
       "      <td>Junior Executive Bachelor's Degree, Post Gradu...</td>\n",
       "      <td>Job OverviewWe are hiring a data scientists to...</td>\n",
       "      <td>http://www.jobstreet.com.sg/en/job/data-scient...</td>\n",
       "      <td>5250.0</td>\n",
       "      <td>Bachelor's Degree , Diploma , Post Graduate Di...</td>\n",
       "      <td>Junior Executive</td>\n",
       "      <td>Full-Time</td>\n",
       "      <td>2</td>\n",
       "      <td>NaN</td>\n",
       "    </tr>\n",
       "    <tr>\n",
       "      <th>2</th>\n",
       "      <td>Data Scientist</td>\n",
       "      <td>SILENT EIGHT PTE. LTD.</td>\n",
       "      <td>Singapore</td>\n",
       "      <td>2021-09-15</td>\n",
       "      <td>Employee Stock Ownership Plan  Experienced te...</td>\n",
       "      <td>At Silent Eight, we develop our own AI-based p...</td>\n",
       "      <td>http://www.jobstreet.com.sg/en/job/data-scient...</td>\n",
       "      <td>5250.0</td>\n",
       "      <td>Not indicated</td>\n",
       "      <td>Senior Executive</td>\n",
       "      <td>Full-Time</td>\n",
       "      <td>3</td>\n",
       "      <td>NaN</td>\n",
       "    </tr>\n",
       "    <tr>\n",
       "      <th>3</th>\n",
       "      <td>Data Analyst - Financial Markets</td>\n",
       "      <td>AMUNDI SINGAPORE LIMITED</td>\n",
       "      <td>Singapore River</td>\n",
       "      <td>2021-09-15</td>\n",
       "      <td>Entry Level Bachelor's Degree, Post Graduate D...</td>\n",
       "      <td>Job descriptionYou will be part of the Data Sc...</td>\n",
       "      <td>http://www.jobstreet.com.sg/en/job/data-analys...</td>\n",
       "      <td>NaN</td>\n",
       "      <td>Bachelor's Degree , Diploma , Post Graduate Di...</td>\n",
       "      <td>Entry Level</td>\n",
       "      <td>Contract</td>\n",
       "      <td>Not indicated</td>\n",
       "      <td>NaN</td>\n",
       "    </tr>\n",
       "    <tr>\n",
       "      <th>4</th>\n",
       "      <td>Food Scientist</td>\n",
       "      <td>Organic Technology SE-ASIA Pte Ltd</td>\n",
       "      <td>West</td>\n",
       "      <td>2021-09-15</td>\n",
       "      <td>International environment, awesome colleagues...</td>\n",
       "      <td>Part time role(3 days per week) and will suppo...</td>\n",
       "      <td>http://www.jobstreet.com.sg/en/job/food-scient...</td>\n",
       "      <td>4000.0</td>\n",
       "      <td>Bachelor's Degree , Diploma , Post Graduate Di...</td>\n",
       "      <td>Entry Level</td>\n",
       "      <td>Part-Time</td>\n",
       "      <td>2</td>\n",
       "      <td>NaN</td>\n",
       "    </tr>\n",
       "    <tr>\n",
       "      <th>...</th>\n",
       "      <td>...</td>\n",
       "      <td>...</td>\n",
       "      <td>...</td>\n",
       "      <td>...</td>\n",
       "      <td>...</td>\n",
       "      <td>...</td>\n",
       "      <td>...</td>\n",
       "      <td>...</td>\n",
       "      <td>...</td>\n",
       "      <td>...</td>\n",
       "      <td>...</td>\n",
       "      <td>...</td>\n",
       "      <td>...</td>\n",
       "    </tr>\n",
       "    <tr>\n",
       "      <th>2390</th>\n",
       "      <td>Project Officer (Software Engineering) (R00002...</td>\n",
       "      <td>Nanyang Technological University</td>\n",
       "      <td>West</td>\n",
       "      <td>2021-09-15</td>\n",
       "      <td>Junior Executive Bachelor's Degree, Post Gradu...</td>\n",
       "      <td>School of Computer Science and Engineering inv...</td>\n",
       "      <td>http://www.jobstreet.com.sg/en/job/project-off...</td>\n",
       "      <td>3500.0</td>\n",
       "      <td>Bachelor's Degree , Diploma , Post Graduate Di...</td>\n",
       "      <td>Junior Executive</td>\n",
       "      <td>Full-Time</td>\n",
       "      <td>Not indicated</td>\n",
       "      <td>NaN</td>\n",
       "    </tr>\n",
       "    <tr>\n",
       "      <th>2392</th>\n",
       "      <td>Research Engineer (Computer Science) (R00005747)</td>\n",
       "      <td>Nanyang Technological University</td>\n",
       "      <td>Singapore</td>\n",
       "      <td>2021-09-16</td>\n",
       "      <td>Junior Executive Bachelor's Degree, Post Gradu...</td>\n",
       "      <td>Continental-NTU Corporate Lab invites applicat...</td>\n",
       "      <td>http://www.jobstreet.com.sg/en/job/research-en...</td>\n",
       "      <td>NaN</td>\n",
       "      <td>Bachelor's Degree , Diploma , Post Graduate Di...</td>\n",
       "      <td>Junior Executive</td>\n",
       "      <td>Full-Time</td>\n",
       "      <td>2</td>\n",
       "      <td>NaN</td>\n",
       "    </tr>\n",
       "    <tr>\n",
       "      <th>2393</th>\n",
       "      <td>Backend Engineer Intern (Computer Vision)-2022</td>\n",
       "      <td>Bytedance Pte. Ltd.</td>\n",
       "      <td>Singapore</td>\n",
       "      <td>2021-09-17</td>\n",
       "      <td>Junior Executive Bachelor's Degree, Post Gradu...</td>\n",
       "      <td>ResponsibilitiesFounded in 2012, ByteDance's m...</td>\n",
       "      <td>http://www.jobstreet.com.sg/en/job/backend-eng...</td>\n",
       "      <td>NaN</td>\n",
       "      <td>Bachelor's Degree , Diploma , Post Graduate Di...</td>\n",
       "      <td>Junior Executive</td>\n",
       "      <td>Full-Time</td>\n",
       "      <td>2</td>\n",
       "      <td>NaN</td>\n",
       "    </tr>\n",
       "    <tr>\n",
       "      <th>2394</th>\n",
       "      <td>Project Officer (Computer Science &amp; Engineerin...</td>\n",
       "      <td>Nanyang Technological University</td>\n",
       "      <td>Singapore</td>\n",
       "      <td>2021-09-15</td>\n",
       "      <td>Junior Executive Bachelor's Degree, Post Gradu...</td>\n",
       "      <td>Singtel Cognitive and Artificial Intelligence ...</td>\n",
       "      <td>http://www.jobstreet.com.sg/en/job/project-off...</td>\n",
       "      <td>NaN</td>\n",
       "      <td>Bachelor's Degree , Diploma , Post Graduate Di...</td>\n",
       "      <td>Junior Executive</td>\n",
       "      <td>Full-Time</td>\n",
       "      <td>Not indicated</td>\n",
       "      <td>NaN</td>\n",
       "    </tr>\n",
       "    <tr>\n",
       "      <th>2397</th>\n",
       "      <td>Research Fellow (Computer Science/Software Eng...</td>\n",
       "      <td>Nanyang Technological University</td>\n",
       "      <td>Singapore</td>\n",
       "      <td>2021-09-13</td>\n",
       "      <td>Senior Executive Professional Certificate/NiTE...</td>\n",
       "      <td>School of Computer Science and Engineering (SC...</td>\n",
       "      <td>http://www.jobstreet.com.sg/en/job/research-fe...</td>\n",
       "      <td>6500.0</td>\n",
       "      <td>Professional Certificate , NiTEC</td>\n",
       "      <td>Senior Executive</td>\n",
       "      <td>Full-Time</td>\n",
       "      <td>2</td>\n",
       "      <td>NaN</td>\n",
       "    </tr>\n",
       "  </tbody>\n",
       "</table>\n",
       "<p>1750 rows × 13 columns</p>\n",
       "</div>"
      ],
      "text/plain": [
       "                                              Job Title  \\\n",
       "0          Field Application Scientist– Genomic Systems   \n",
       "1                                   Data Scientist - AI   \n",
       "2                                        Data Scientist   \n",
       "3                      Data Analyst - Financial Markets   \n",
       "4                                        Food Scientist   \n",
       "...                                                 ...   \n",
       "2390  Project Officer (Software Engineering) (R00002...   \n",
       "2392   Research Engineer (Computer Science) (R00005747)   \n",
       "2393     Backend Engineer Intern (Computer Vision)-2022   \n",
       "2394  Project Officer (Computer Science & Engineerin...   \n",
       "2397  Research Fellow (Computer Science/Software Eng...   \n",
       "\n",
       "                               Companies          Location Date posted  \\\n",
       "0           Research Instruments Pte Ltd         Singapore  2021-09-20   \n",
       "1                       Blowfish Pte Ltd  Central - Others  2021-09-21   \n",
       "2                 SILENT EIGHT PTE. LTD.         Singapore  2021-09-15   \n",
       "3               AMUNDI SINGAPORE LIMITED   Singapore River  2021-09-15   \n",
       "4     Organic Technology SE-ASIA Pte Ltd              West  2021-09-15   \n",
       "...                                  ...               ...         ...   \n",
       "2390    Nanyang Technological University              West  2021-09-15   \n",
       "2392    Nanyang Technological University         Singapore  2021-09-16   \n",
       "2393                 Bytedance Pte. Ltd.         Singapore  2021-09-17   \n",
       "2394    Nanyang Technological University         Singapore  2021-09-15   \n",
       "2397    Nanyang Technological University         Singapore  2021-09-13   \n",
       "\n",
       "                                      Other information  \\\n",
       "0      Remuneration package will be commensurate wit...   \n",
       "1     Junior Executive Bachelor's Degree, Post Gradu...   \n",
       "2      Employee Stock Ownership Plan  Experienced te...   \n",
       "3     Entry Level Bachelor's Degree, Post Graduate D...   \n",
       "4      International environment, awesome colleagues...   \n",
       "...                                                 ...   \n",
       "2390  Junior Executive Bachelor's Degree, Post Gradu...   \n",
       "2392  Junior Executive Bachelor's Degree, Post Gradu...   \n",
       "2393  Junior Executive Bachelor's Degree, Post Gradu...   \n",
       "2394  Junior Executive Bachelor's Degree, Post Gradu...   \n",
       "2397  Senior Executive Professional Certificate/NiTE...   \n",
       "\n",
       "                                        Job Description  \\\n",
       "0     AtResearch Instruments, we are committed to fa...   \n",
       "1     Job OverviewWe are hiring a data scientists to...   \n",
       "2     At Silent Eight, we develop our own AI-based p...   \n",
       "3     Job descriptionYou will be part of the Data Sc...   \n",
       "4     Part time role(3 days per week) and will suppo...   \n",
       "...                                                 ...   \n",
       "2390  School of Computer Science and Engineering inv...   \n",
       "2392  Continental-NTU Corporate Lab invites applicat...   \n",
       "2393  ResponsibilitiesFounded in 2012, ByteDance's m...   \n",
       "2394  Singtel Cognitive and Artificial Intelligence ...   \n",
       "2397  School of Computer Science and Engineering (SC...   \n",
       "\n",
       "                                                    URL  Pay_average  \\\n",
       "0     http://www.jobstreet.com.sg/en/job/field-appli...          NaN   \n",
       "1     http://www.jobstreet.com.sg/en/job/data-scient...       5250.0   \n",
       "2     http://www.jobstreet.com.sg/en/job/data-scient...       5250.0   \n",
       "3     http://www.jobstreet.com.sg/en/job/data-analys...          NaN   \n",
       "4     http://www.jobstreet.com.sg/en/job/food-scient...       4000.0   \n",
       "...                                                 ...          ...   \n",
       "2390  http://www.jobstreet.com.sg/en/job/project-off...       3500.0   \n",
       "2392  http://www.jobstreet.com.sg/en/job/research-en...          NaN   \n",
       "2393  http://www.jobstreet.com.sg/en/job/backend-eng...          NaN   \n",
       "2394  http://www.jobstreet.com.sg/en/job/project-off...          NaN   \n",
       "2397  http://www.jobstreet.com.sg/en/job/research-fe...       6500.0   \n",
       "\n",
       "                                         Qualifications          Position  \\\n",
       "0     Bachelor's Degree , Diploma , Post Graduate Di...  Junior Executive   \n",
       "1     Bachelor's Degree , Diploma , Post Graduate Di...  Junior Executive   \n",
       "2                                         Not indicated  Senior Executive   \n",
       "3     Bachelor's Degree , Diploma , Post Graduate Di...       Entry Level   \n",
       "4     Bachelor's Degree , Diploma , Post Graduate Di...       Entry Level   \n",
       "...                                                 ...               ...   \n",
       "2390  Bachelor's Degree , Diploma , Post Graduate Di...  Junior Executive   \n",
       "2392  Bachelor's Degree , Diploma , Post Graduate Di...  Junior Executive   \n",
       "2393  Bachelor's Degree , Diploma , Post Graduate Di...  Junior Executive   \n",
       "2394  Bachelor's Degree , Diploma , Post Graduate Di...  Junior Executive   \n",
       "2397                  Professional Certificate , NiTEC   Senior Executive   \n",
       "\n",
       "     Employment Type Years of Experience Pay2  \n",
       "0          Full-Time                   2  NaN  \n",
       "1          Full-Time                   2  NaN  \n",
       "2          Full-Time                   3  NaN  \n",
       "3           Contract       Not indicated  NaN  \n",
       "4          Part-Time                   2  NaN  \n",
       "...              ...                 ...  ...  \n",
       "2390       Full-Time       Not indicated  NaN  \n",
       "2392       Full-Time                   2  NaN  \n",
       "2393       Full-Time                   2  NaN  \n",
       "2394       Full-Time       Not indicated  NaN  \n",
       "2397       Full-Time                   2  NaN  \n",
       "\n",
       "[1750 rows x 13 columns]"
      ]
     },
     "execution_count": 66,
     "metadata": {},
     "output_type": "execute_result"
    }
   ],
   "source": [
    "df[df['Pay2'] != '']"
   ]
  },
  {
   "cell_type": "code",
   "execution_count": 67,
   "metadata": {},
   "outputs": [],
   "source": [
    "#imputing Singapore into location of where it has pay\n",
    "df.loc[df['Pay2'] != \"NaN\", 'Location'] = 'Singapore'"
   ]
  },
  {
   "cell_type": "code",
   "execution_count": 68,
   "metadata": {},
   "outputs": [
    {
     "data": {
      "text/html": [
       "<div>\n",
       "<style scoped>\n",
       "    .dataframe tbody tr th:only-of-type {\n",
       "        vertical-align: middle;\n",
       "    }\n",
       "\n",
       "    .dataframe tbody tr th {\n",
       "        vertical-align: top;\n",
       "    }\n",
       "\n",
       "    .dataframe thead th {\n",
       "        text-align: right;\n",
       "    }\n",
       "</style>\n",
       "<table border=\"1\" class=\"dataframe\">\n",
       "  <thead>\n",
       "    <tr style=\"text-align: right;\">\n",
       "      <th></th>\n",
       "      <th>Job Title</th>\n",
       "      <th>Companies</th>\n",
       "      <th>Location</th>\n",
       "      <th>Date posted</th>\n",
       "      <th>Other information</th>\n",
       "      <th>Job Description</th>\n",
       "      <th>URL</th>\n",
       "      <th>Pay_average</th>\n",
       "      <th>Qualifications</th>\n",
       "      <th>Position</th>\n",
       "      <th>Employment Type</th>\n",
       "      <th>Years of Experience</th>\n",
       "      <th>Pay2</th>\n",
       "    </tr>\n",
       "  </thead>\n",
       "  <tbody>\n",
       "    <tr>\n",
       "      <th>21</th>\n",
       "      <td>Biz Data Analyst (Senior) [Up to $10000 basic]...</td>\n",
       "      <td>RecruitPlus Consulting Pte Ltd</td>\n",
       "      <td>Singapore</td>\n",
       "      <td>2021-09-21</td>\n",
       "      <td>Entry Level Bachelor's Degree, Post Graduate D...</td>\n",
       "      <td>Major logistics and supply chain companyGreat ...</td>\n",
       "      <td>http://www.jobstreet.com.sg/en/job/biz-data-an...</td>\n",
       "      <td>NaN</td>\n",
       "      <td>Bachelor's Degree , Diploma , Post Graduate Di...</td>\n",
       "      <td>Entry Level</td>\n",
       "      <td>Full-Time</td>\n",
       "      <td>Not indicated</td>\n",
       "      <td>8500</td>\n",
       "    </tr>\n",
       "    <tr>\n",
       "      <th>33</th>\n",
       "      <td>Data Science Specialist(IT)/ MNC/Central/S$10K...</td>\n",
       "      <td>Achieve Career Consultant Pte Ltd</td>\n",
       "      <td>Singapore</td>\n",
       "      <td>2021-09-21</td>\n",
       "      <td>Senior Executive Bachelor's Degree, Post Gradu...</td>\n",
       "      <td> Up till S$10,000 Higher (12 months contract)...</td>\n",
       "      <td>http://www.jobstreet.com.sg/en/job/data-scienc...</td>\n",
       "      <td>6000.0</td>\n",
       "      <td>Bachelor's Degree , Diploma , Post Graduate Di...</td>\n",
       "      <td>Senior Executive</td>\n",
       "      <td>Full-Time , Contract</td>\n",
       "      <td>4</td>\n",
       "      <td>10500</td>\n",
       "    </tr>\n",
       "    <tr>\n",
       "      <th>34</th>\n",
       "      <td>Data Science Specialist | 5DAYS | 1 Year Contr...</td>\n",
       "      <td>Achieve Career Consultant Pte Ltd</td>\n",
       "      <td>Singapore</td>\n",
       "      <td>2021-09-21</td>\n",
       "      <td>Senior Executive Bachelor's Degree, Post Gradu...</td>\n",
       "      <td> Annual Remuneration up till $150K 1-Year Co...</td>\n",
       "      <td>http://www.jobstreet.com.sg/en/job/data-scienc...</td>\n",
       "      <td>6000.0</td>\n",
       "      <td>Bachelor's Degree , Diploma , Post Graduate Di...</td>\n",
       "      <td>Senior Executive</td>\n",
       "      <td>Full-Time</td>\n",
       "      <td>6</td>\n",
       "      <td>10250</td>\n",
       "    </tr>\n",
       "    <tr>\n",
       "      <th>49</th>\n",
       "      <td>Data Science Specialist | 5DAYS | 1 Year Contr...</td>\n",
       "      <td>Achieve Career Consultant Pte Ltd</td>\n",
       "      <td>Singapore</td>\n",
       "      <td>2021-09-20</td>\n",
       "      <td>Senior Executive Bachelor's Degree, Post Gradu...</td>\n",
       "      <td> Annual Remuneration up till $150K 1-Year Co...</td>\n",
       "      <td>http://www.jobstreet.com.sg/en/job/data-scienc...</td>\n",
       "      <td>NaN</td>\n",
       "      <td>Bachelor's Degree , Diploma , Post Graduate Di...</td>\n",
       "      <td>Senior Executive</td>\n",
       "      <td>Full-Time</td>\n",
       "      <td>6</td>\n",
       "      <td>10250</td>\n",
       "    </tr>\n",
       "    <tr>\n",
       "      <th>70</th>\n",
       "      <td>Data Science Specialist (IT)/ (MNC/ Central/ S...</td>\n",
       "      <td>Achieve Career Consultant Pte Ltd</td>\n",
       "      <td>Singapore</td>\n",
       "      <td>2021-09-19</td>\n",
       "      <td>Senior Executive Bachelor's Degree, Post Gradu...</td>\n",
       "      <td> Up till S$10,000 Higher (12 months contract)...</td>\n",
       "      <td>http://www.jobstreet.com.sg/en/job/data-scienc...</td>\n",
       "      <td>3150.0</td>\n",
       "      <td>Bachelor's Degree , Diploma , Post Graduate Di...</td>\n",
       "      <td>Senior Executive</td>\n",
       "      <td>Full-Time , Contract</td>\n",
       "      <td>4</td>\n",
       "      <td>10500</td>\n",
       "    </tr>\n",
       "    <tr>\n",
       "      <th>...</th>\n",
       "      <td>...</td>\n",
       "      <td>...</td>\n",
       "      <td>...</td>\n",
       "      <td>...</td>\n",
       "      <td>...</td>\n",
       "      <td>...</td>\n",
       "      <td>...</td>\n",
       "      <td>...</td>\n",
       "      <td>...</td>\n",
       "      <td>...</td>\n",
       "      <td>...</td>\n",
       "      <td>...</td>\n",
       "      <td>...</td>\n",
       "    </tr>\n",
       "    <tr>\n",
       "      <th>2158</th>\n",
       "      <td>Senior Business Data Analyst (Up to $10000 bas...</td>\n",
       "      <td>RecruitPlus Consulting Pte Ltd</td>\n",
       "      <td>Singapore</td>\n",
       "      <td>2021-09-16</td>\n",
       "      <td>Entry Level Bachelor's Degree, Post Graduate D...</td>\n",
       "      <td>Major logistics and supply chain companyGreat ...</td>\n",
       "      <td>http://www.jobstreet.com.sg/en/job/senior-busi...</td>\n",
       "      <td>NaN</td>\n",
       "      <td>Bachelor's Degree , Diploma , Post Graduate Di...</td>\n",
       "      <td>Entry Level</td>\n",
       "      <td>Full-Time</td>\n",
       "      <td>Not indicated</td>\n",
       "      <td>8500</td>\n",
       "    </tr>\n",
       "    <tr>\n",
       "      <th>2165</th>\n",
       "      <td>Senior Business Data Analyst (Up to $10000 bas...</td>\n",
       "      <td>RecruitPlus Consulting Pte Ltd</td>\n",
       "      <td>Singapore</td>\n",
       "      <td>2021-09-15</td>\n",
       "      <td>Entry Level Bachelor's Degree, Post Graduate D...</td>\n",
       "      <td>Major logistics and supply chain companyGreat ...</td>\n",
       "      <td>http://www.jobstreet.com.sg/en/job/senior-busi...</td>\n",
       "      <td>NaN</td>\n",
       "      <td>Bachelor's Degree , Diploma , Post Graduate Di...</td>\n",
       "      <td>Entry Level</td>\n",
       "      <td>Full-Time</td>\n",
       "      <td>Not indicated</td>\n",
       "      <td>8500</td>\n",
       "    </tr>\n",
       "    <tr>\n",
       "      <th>2222</th>\n",
       "      <td>Senior Software Engineers (C++)</td>\n",
       "      <td>MCI Career Services Pte Ltd</td>\n",
       "      <td>Singapore</td>\n",
       "      <td>2021-09-21</td>\n",
       "      <td>Senior Executive Diploma, Advanced/Higher/Grad...</td>\n",
       "      <td>Key ResponsibilitiesOur AGV (robotic) developm...</td>\n",
       "      <td>http://www.jobstreet.com.sg/en/job/senior-soft...</td>\n",
       "      <td>NaN</td>\n",
       "      <td>Bachelor's Degree , Diploma , Advanced/Higher/...</td>\n",
       "      <td>Senior Executive</td>\n",
       "      <td>Full-Time</td>\n",
       "      <td>3</td>\n",
       "      <td>8000</td>\n",
       "    </tr>\n",
       "    <tr>\n",
       "      <th>2334</th>\n",
       "      <td>Data Science Specialist - [One Year Contract| ...</td>\n",
       "      <td>Achieve Career Consultant Pte Ltd</td>\n",
       "      <td>Singapore</td>\n",
       "      <td>2021-09-06</td>\n",
       "      <td>Senior Manager Bachelor's Degree, Post Graduat...</td>\n",
       "      <td> High Salary + Allowance + Bonuses!! Profici...</td>\n",
       "      <td>http://www.jobstreet.com.sg/en/job/data-scienc...</td>\n",
       "      <td>4000.0</td>\n",
       "      <td>Bachelor's Degree , Diploma , Post Graduate Di...</td>\n",
       "      <td>Senior Manager</td>\n",
       "      <td>Full-Time</td>\n",
       "      <td>4</td>\n",
       "      <td>10500</td>\n",
       "    </tr>\n",
       "    <tr>\n",
       "      <th>2373</th>\n",
       "      <td>Data Scientist</td>\n",
       "      <td>ARYAN SOLUTIONS PTE. LTD.</td>\n",
       "      <td>Singapore</td>\n",
       "      <td>2021-09-04</td>\n",
       "      <td>Senior Executive Primary/Secondary School/O Le...</td>\n",
       "      <td>We are looking for a Data Scientist with an In...</td>\n",
       "      <td>http://www.jobstreet.com.sg/en/job/data-scient...</td>\n",
       "      <td>8500.0</td>\n",
       "      <td>Professional Certificate , NiTEC  , Primary/Se...</td>\n",
       "      <td>Senior Executive</td>\n",
       "      <td>Full-Time</td>\n",
       "      <td>3</td>\n",
       "      <td>6500</td>\n",
       "    </tr>\n",
       "  </tbody>\n",
       "</table>\n",
       "<p>79 rows × 13 columns</p>\n",
       "</div>"
      ],
      "text/plain": [
       "                                              Job Title  \\\n",
       "21    Biz Data Analyst (Senior) [Up to $10000 basic]...   \n",
       "33    Data Science Specialist(IT)/ MNC/Central/S$10K...   \n",
       "34    Data Science Specialist | 5DAYS | 1 Year Contr...   \n",
       "49    Data Science Specialist | 5DAYS | 1 Year Contr...   \n",
       "70    Data Science Specialist (IT)/ (MNC/ Central/ S...   \n",
       "...                                                 ...   \n",
       "2158  Senior Business Data Analyst (Up to $10000 bas...   \n",
       "2165  Senior Business Data Analyst (Up to $10000 bas...   \n",
       "2222                    Senior Software Engineers (C++)   \n",
       "2334  Data Science Specialist - [One Year Contract| ...   \n",
       "2373                                     Data Scientist   \n",
       "\n",
       "                              Companies   Location Date posted  \\\n",
       "21       RecruitPlus Consulting Pte Ltd  Singapore  2021-09-21   \n",
       "33    Achieve Career Consultant Pte Ltd  Singapore  2021-09-21   \n",
       "34    Achieve Career Consultant Pte Ltd  Singapore  2021-09-21   \n",
       "49    Achieve Career Consultant Pte Ltd  Singapore  2021-09-20   \n",
       "70    Achieve Career Consultant Pte Ltd  Singapore  2021-09-19   \n",
       "...                                 ...        ...         ...   \n",
       "2158     RecruitPlus Consulting Pte Ltd  Singapore  2021-09-16   \n",
       "2165     RecruitPlus Consulting Pte Ltd  Singapore  2021-09-15   \n",
       "2222        MCI Career Services Pte Ltd  Singapore  2021-09-21   \n",
       "2334  Achieve Career Consultant Pte Ltd  Singapore  2021-09-06   \n",
       "2373          ARYAN SOLUTIONS PTE. LTD.  Singapore  2021-09-04   \n",
       "\n",
       "                                      Other information  \\\n",
       "21    Entry Level Bachelor's Degree, Post Graduate D...   \n",
       "33    Senior Executive Bachelor's Degree, Post Gradu...   \n",
       "34    Senior Executive Bachelor's Degree, Post Gradu...   \n",
       "49    Senior Executive Bachelor's Degree, Post Gradu...   \n",
       "70    Senior Executive Bachelor's Degree, Post Gradu...   \n",
       "...                                                 ...   \n",
       "2158  Entry Level Bachelor's Degree, Post Graduate D...   \n",
       "2165  Entry Level Bachelor's Degree, Post Graduate D...   \n",
       "2222  Senior Executive Diploma, Advanced/Higher/Grad...   \n",
       "2334  Senior Manager Bachelor's Degree, Post Graduat...   \n",
       "2373  Senior Executive Primary/Secondary School/O Le...   \n",
       "\n",
       "                                        Job Description  \\\n",
       "21    Major logistics and supply chain companyGreat ...   \n",
       "33     Up till S$10,000 Higher (12 months contract)...   \n",
       "34     Annual Remuneration up till $150K 1-Year Co...   \n",
       "49     Annual Remuneration up till $150K 1-Year Co...   \n",
       "70     Up till S$10,000 Higher (12 months contract)...   \n",
       "...                                                 ...   \n",
       "2158  Major logistics and supply chain companyGreat ...   \n",
       "2165  Major logistics and supply chain companyGreat ...   \n",
       "2222  Key ResponsibilitiesOur AGV (robotic) developm...   \n",
       "2334   High Salary + Allowance + Bonuses!! Profici...   \n",
       "2373  We are looking for a Data Scientist with an In...   \n",
       "\n",
       "                                                    URL  Pay_average  \\\n",
       "21    http://www.jobstreet.com.sg/en/job/biz-data-an...          NaN   \n",
       "33    http://www.jobstreet.com.sg/en/job/data-scienc...       6000.0   \n",
       "34    http://www.jobstreet.com.sg/en/job/data-scienc...       6000.0   \n",
       "49    http://www.jobstreet.com.sg/en/job/data-scienc...          NaN   \n",
       "70    http://www.jobstreet.com.sg/en/job/data-scienc...       3150.0   \n",
       "...                                                 ...          ...   \n",
       "2158  http://www.jobstreet.com.sg/en/job/senior-busi...          NaN   \n",
       "2165  http://www.jobstreet.com.sg/en/job/senior-busi...          NaN   \n",
       "2222  http://www.jobstreet.com.sg/en/job/senior-soft...          NaN   \n",
       "2334  http://www.jobstreet.com.sg/en/job/data-scienc...       4000.0   \n",
       "2373  http://www.jobstreet.com.sg/en/job/data-scient...       8500.0   \n",
       "\n",
       "                                         Qualifications          Position  \\\n",
       "21    Bachelor's Degree , Diploma , Post Graduate Di...       Entry Level   \n",
       "33    Bachelor's Degree , Diploma , Post Graduate Di...  Senior Executive   \n",
       "34    Bachelor's Degree , Diploma , Post Graduate Di...  Senior Executive   \n",
       "49    Bachelor's Degree , Diploma , Post Graduate Di...  Senior Executive   \n",
       "70    Bachelor's Degree , Diploma , Post Graduate Di...  Senior Executive   \n",
       "...                                                 ...               ...   \n",
       "2158  Bachelor's Degree , Diploma , Post Graduate Di...       Entry Level   \n",
       "2165  Bachelor's Degree , Diploma , Post Graduate Di...       Entry Level   \n",
       "2222  Bachelor's Degree , Diploma , Advanced/Higher/...  Senior Executive   \n",
       "2334  Bachelor's Degree , Diploma , Post Graduate Di...    Senior Manager   \n",
       "2373  Professional Certificate , NiTEC  , Primary/Se...  Senior Executive   \n",
       "\n",
       "           Employment Type Years of Experience   Pay2  \n",
       "21               Full-Time       Not indicated   8500  \n",
       "33    Full-Time , Contract                   4  10500  \n",
       "34               Full-Time                   6  10250  \n",
       "49               Full-Time                   6  10250  \n",
       "70    Full-Time , Contract                   4  10500  \n",
       "...                    ...                 ...    ...  \n",
       "2158             Full-Time       Not indicated   8500  \n",
       "2165             Full-Time       Not indicated   8500  \n",
       "2222             Full-Time                   3   8000  \n",
       "2334             Full-Time                   4  10500  \n",
       "2373             Full-Time                   3   6500  \n",
       "\n",
       "[79 rows x 13 columns]"
      ]
     },
     "execution_count": 68,
     "metadata": {},
     "output_type": "execute_result"
    }
   ],
   "source": [
    "df[df['Pay2'] != 'NaN']"
   ]
  },
  {
   "cell_type": "code",
   "execution_count": 69,
   "metadata": {},
   "outputs": [],
   "source": [
    "#Replacing all of the pay with pay2 else it remains as pay_average\n",
    "df['Pay_average'] = np.where(df.Pay2.ne('NaN'), df.Pay2, df.Pay_average)"
   ]
  },
  {
   "cell_type": "code",
   "execution_count": 70,
   "metadata": {},
   "outputs": [
    {
     "data": {
      "text/html": [
       "<div>\n",
       "<style scoped>\n",
       "    .dataframe tbody tr th:only-of-type {\n",
       "        vertical-align: middle;\n",
       "    }\n",
       "\n",
       "    .dataframe tbody tr th {\n",
       "        vertical-align: top;\n",
       "    }\n",
       "\n",
       "    .dataframe thead th {\n",
       "        text-align: right;\n",
       "    }\n",
       "</style>\n",
       "<table border=\"1\" class=\"dataframe\">\n",
       "  <thead>\n",
       "    <tr style=\"text-align: right;\">\n",
       "      <th></th>\n",
       "      <th>Job Title</th>\n",
       "      <th>Companies</th>\n",
       "      <th>Location</th>\n",
       "      <th>Date posted</th>\n",
       "      <th>Other information</th>\n",
       "      <th>Job Description</th>\n",
       "      <th>URL</th>\n",
       "      <th>Pay_average</th>\n",
       "      <th>Qualifications</th>\n",
       "      <th>Position</th>\n",
       "      <th>Employment Type</th>\n",
       "      <th>Years of Experience</th>\n",
       "      <th>Pay2</th>\n",
       "    </tr>\n",
       "  </thead>\n",
       "  <tbody>\n",
       "    <tr>\n",
       "      <th>21</th>\n",
       "      <td>Biz Data Analyst (Senior) [Up to $10000 basic]...</td>\n",
       "      <td>RecruitPlus Consulting Pte Ltd</td>\n",
       "      <td>Singapore</td>\n",
       "      <td>2021-09-21</td>\n",
       "      <td>Entry Level Bachelor's Degree, Post Graduate D...</td>\n",
       "      <td>Major logistics and supply chain companyGreat ...</td>\n",
       "      <td>http://www.jobstreet.com.sg/en/job/biz-data-an...</td>\n",
       "      <td>8500</td>\n",
       "      <td>Bachelor's Degree , Diploma , Post Graduate Di...</td>\n",
       "      <td>Entry Level</td>\n",
       "      <td>Full-Time</td>\n",
       "      <td>Not indicated</td>\n",
       "      <td>8500</td>\n",
       "    </tr>\n",
       "    <tr>\n",
       "      <th>33</th>\n",
       "      <td>Data Science Specialist(IT)/ MNC/Central/S$10K...</td>\n",
       "      <td>Achieve Career Consultant Pte Ltd</td>\n",
       "      <td>Singapore</td>\n",
       "      <td>2021-09-21</td>\n",
       "      <td>Senior Executive Bachelor's Degree, Post Gradu...</td>\n",
       "      <td> Up till S$10,000 Higher (12 months contract)...</td>\n",
       "      <td>http://www.jobstreet.com.sg/en/job/data-scienc...</td>\n",
       "      <td>10500</td>\n",
       "      <td>Bachelor's Degree , Diploma , Post Graduate Di...</td>\n",
       "      <td>Senior Executive</td>\n",
       "      <td>Full-Time , Contract</td>\n",
       "      <td>4</td>\n",
       "      <td>10500</td>\n",
       "    </tr>\n",
       "    <tr>\n",
       "      <th>34</th>\n",
       "      <td>Data Science Specialist | 5DAYS | 1 Year Contr...</td>\n",
       "      <td>Achieve Career Consultant Pte Ltd</td>\n",
       "      <td>Singapore</td>\n",
       "      <td>2021-09-21</td>\n",
       "      <td>Senior Executive Bachelor's Degree, Post Gradu...</td>\n",
       "      <td> Annual Remuneration up till $150K 1-Year Co...</td>\n",
       "      <td>http://www.jobstreet.com.sg/en/job/data-scienc...</td>\n",
       "      <td>10250</td>\n",
       "      <td>Bachelor's Degree , Diploma , Post Graduate Di...</td>\n",
       "      <td>Senior Executive</td>\n",
       "      <td>Full-Time</td>\n",
       "      <td>6</td>\n",
       "      <td>10250</td>\n",
       "    </tr>\n",
       "    <tr>\n",
       "      <th>49</th>\n",
       "      <td>Data Science Specialist | 5DAYS | 1 Year Contr...</td>\n",
       "      <td>Achieve Career Consultant Pte Ltd</td>\n",
       "      <td>Singapore</td>\n",
       "      <td>2021-09-20</td>\n",
       "      <td>Senior Executive Bachelor's Degree, Post Gradu...</td>\n",
       "      <td> Annual Remuneration up till $150K 1-Year Co...</td>\n",
       "      <td>http://www.jobstreet.com.sg/en/job/data-scienc...</td>\n",
       "      <td>10250</td>\n",
       "      <td>Bachelor's Degree , Diploma , Post Graduate Di...</td>\n",
       "      <td>Senior Executive</td>\n",
       "      <td>Full-Time</td>\n",
       "      <td>6</td>\n",
       "      <td>10250</td>\n",
       "    </tr>\n",
       "    <tr>\n",
       "      <th>70</th>\n",
       "      <td>Data Science Specialist (IT)/ (MNC/ Central/ S...</td>\n",
       "      <td>Achieve Career Consultant Pte Ltd</td>\n",
       "      <td>Singapore</td>\n",
       "      <td>2021-09-19</td>\n",
       "      <td>Senior Executive Bachelor's Degree, Post Gradu...</td>\n",
       "      <td> Up till S$10,000 Higher (12 months contract)...</td>\n",
       "      <td>http://www.jobstreet.com.sg/en/job/data-scienc...</td>\n",
       "      <td>10500</td>\n",
       "      <td>Bachelor's Degree , Diploma , Post Graduate Di...</td>\n",
       "      <td>Senior Executive</td>\n",
       "      <td>Full-Time , Contract</td>\n",
       "      <td>4</td>\n",
       "      <td>10500</td>\n",
       "    </tr>\n",
       "    <tr>\n",
       "      <th>...</th>\n",
       "      <td>...</td>\n",
       "      <td>...</td>\n",
       "      <td>...</td>\n",
       "      <td>...</td>\n",
       "      <td>...</td>\n",
       "      <td>...</td>\n",
       "      <td>...</td>\n",
       "      <td>...</td>\n",
       "      <td>...</td>\n",
       "      <td>...</td>\n",
       "      <td>...</td>\n",
       "      <td>...</td>\n",
       "      <td>...</td>\n",
       "    </tr>\n",
       "    <tr>\n",
       "      <th>2158</th>\n",
       "      <td>Senior Business Data Analyst (Up to $10000 bas...</td>\n",
       "      <td>RecruitPlus Consulting Pte Ltd</td>\n",
       "      <td>Singapore</td>\n",
       "      <td>2021-09-16</td>\n",
       "      <td>Entry Level Bachelor's Degree, Post Graduate D...</td>\n",
       "      <td>Major logistics and supply chain companyGreat ...</td>\n",
       "      <td>http://www.jobstreet.com.sg/en/job/senior-busi...</td>\n",
       "      <td>8500</td>\n",
       "      <td>Bachelor's Degree , Diploma , Post Graduate Di...</td>\n",
       "      <td>Entry Level</td>\n",
       "      <td>Full-Time</td>\n",
       "      <td>Not indicated</td>\n",
       "      <td>8500</td>\n",
       "    </tr>\n",
       "    <tr>\n",
       "      <th>2165</th>\n",
       "      <td>Senior Business Data Analyst (Up to $10000 bas...</td>\n",
       "      <td>RecruitPlus Consulting Pte Ltd</td>\n",
       "      <td>Singapore</td>\n",
       "      <td>2021-09-15</td>\n",
       "      <td>Entry Level Bachelor's Degree, Post Graduate D...</td>\n",
       "      <td>Major logistics and supply chain companyGreat ...</td>\n",
       "      <td>http://www.jobstreet.com.sg/en/job/senior-busi...</td>\n",
       "      <td>8500</td>\n",
       "      <td>Bachelor's Degree , Diploma , Post Graduate Di...</td>\n",
       "      <td>Entry Level</td>\n",
       "      <td>Full-Time</td>\n",
       "      <td>Not indicated</td>\n",
       "      <td>8500</td>\n",
       "    </tr>\n",
       "    <tr>\n",
       "      <th>2222</th>\n",
       "      <td>Senior Software Engineers (C++)</td>\n",
       "      <td>MCI Career Services Pte Ltd</td>\n",
       "      <td>Singapore</td>\n",
       "      <td>2021-09-21</td>\n",
       "      <td>Senior Executive Diploma, Advanced/Higher/Grad...</td>\n",
       "      <td>Key ResponsibilitiesOur AGV (robotic) developm...</td>\n",
       "      <td>http://www.jobstreet.com.sg/en/job/senior-soft...</td>\n",
       "      <td>8000</td>\n",
       "      <td>Bachelor's Degree , Diploma , Advanced/Higher/...</td>\n",
       "      <td>Senior Executive</td>\n",
       "      <td>Full-Time</td>\n",
       "      <td>3</td>\n",
       "      <td>8000</td>\n",
       "    </tr>\n",
       "    <tr>\n",
       "      <th>2334</th>\n",
       "      <td>Data Science Specialist - [One Year Contract| ...</td>\n",
       "      <td>Achieve Career Consultant Pte Ltd</td>\n",
       "      <td>Singapore</td>\n",
       "      <td>2021-09-06</td>\n",
       "      <td>Senior Manager Bachelor's Degree, Post Graduat...</td>\n",
       "      <td> High Salary + Allowance + Bonuses!! Profici...</td>\n",
       "      <td>http://www.jobstreet.com.sg/en/job/data-scienc...</td>\n",
       "      <td>10500</td>\n",
       "      <td>Bachelor's Degree , Diploma , Post Graduate Di...</td>\n",
       "      <td>Senior Manager</td>\n",
       "      <td>Full-Time</td>\n",
       "      <td>4</td>\n",
       "      <td>10500</td>\n",
       "    </tr>\n",
       "    <tr>\n",
       "      <th>2373</th>\n",
       "      <td>Data Scientist</td>\n",
       "      <td>ARYAN SOLUTIONS PTE. LTD.</td>\n",
       "      <td>Singapore</td>\n",
       "      <td>2021-09-04</td>\n",
       "      <td>Senior Executive Primary/Secondary School/O Le...</td>\n",
       "      <td>We are looking for a Data Scientist with an In...</td>\n",
       "      <td>http://www.jobstreet.com.sg/en/job/data-scient...</td>\n",
       "      <td>6500</td>\n",
       "      <td>Professional Certificate , NiTEC  , Primary/Se...</td>\n",
       "      <td>Senior Executive</td>\n",
       "      <td>Full-Time</td>\n",
       "      <td>3</td>\n",
       "      <td>6500</td>\n",
       "    </tr>\n",
       "  </tbody>\n",
       "</table>\n",
       "<p>79 rows × 13 columns</p>\n",
       "</div>"
      ],
      "text/plain": [
       "                                              Job Title  \\\n",
       "21    Biz Data Analyst (Senior) [Up to $10000 basic]...   \n",
       "33    Data Science Specialist(IT)/ MNC/Central/S$10K...   \n",
       "34    Data Science Specialist | 5DAYS | 1 Year Contr...   \n",
       "49    Data Science Specialist | 5DAYS | 1 Year Contr...   \n",
       "70    Data Science Specialist (IT)/ (MNC/ Central/ S...   \n",
       "...                                                 ...   \n",
       "2158  Senior Business Data Analyst (Up to $10000 bas...   \n",
       "2165  Senior Business Data Analyst (Up to $10000 bas...   \n",
       "2222                    Senior Software Engineers (C++)   \n",
       "2334  Data Science Specialist - [One Year Contract| ...   \n",
       "2373                                     Data Scientist   \n",
       "\n",
       "                              Companies   Location Date posted  \\\n",
       "21       RecruitPlus Consulting Pte Ltd  Singapore  2021-09-21   \n",
       "33    Achieve Career Consultant Pte Ltd  Singapore  2021-09-21   \n",
       "34    Achieve Career Consultant Pte Ltd  Singapore  2021-09-21   \n",
       "49    Achieve Career Consultant Pte Ltd  Singapore  2021-09-20   \n",
       "70    Achieve Career Consultant Pte Ltd  Singapore  2021-09-19   \n",
       "...                                 ...        ...         ...   \n",
       "2158     RecruitPlus Consulting Pte Ltd  Singapore  2021-09-16   \n",
       "2165     RecruitPlus Consulting Pte Ltd  Singapore  2021-09-15   \n",
       "2222        MCI Career Services Pte Ltd  Singapore  2021-09-21   \n",
       "2334  Achieve Career Consultant Pte Ltd  Singapore  2021-09-06   \n",
       "2373          ARYAN SOLUTIONS PTE. LTD.  Singapore  2021-09-04   \n",
       "\n",
       "                                      Other information  \\\n",
       "21    Entry Level Bachelor's Degree, Post Graduate D...   \n",
       "33    Senior Executive Bachelor's Degree, Post Gradu...   \n",
       "34    Senior Executive Bachelor's Degree, Post Gradu...   \n",
       "49    Senior Executive Bachelor's Degree, Post Gradu...   \n",
       "70    Senior Executive Bachelor's Degree, Post Gradu...   \n",
       "...                                                 ...   \n",
       "2158  Entry Level Bachelor's Degree, Post Graduate D...   \n",
       "2165  Entry Level Bachelor's Degree, Post Graduate D...   \n",
       "2222  Senior Executive Diploma, Advanced/Higher/Grad...   \n",
       "2334  Senior Manager Bachelor's Degree, Post Graduat...   \n",
       "2373  Senior Executive Primary/Secondary School/O Le...   \n",
       "\n",
       "                                        Job Description  \\\n",
       "21    Major logistics and supply chain companyGreat ...   \n",
       "33     Up till S$10,000 Higher (12 months contract)...   \n",
       "34     Annual Remuneration up till $150K 1-Year Co...   \n",
       "49     Annual Remuneration up till $150K 1-Year Co...   \n",
       "70     Up till S$10,000 Higher (12 months contract)...   \n",
       "...                                                 ...   \n",
       "2158  Major logistics and supply chain companyGreat ...   \n",
       "2165  Major logistics and supply chain companyGreat ...   \n",
       "2222  Key ResponsibilitiesOur AGV (robotic) developm...   \n",
       "2334   High Salary + Allowance + Bonuses!! Profici...   \n",
       "2373  We are looking for a Data Scientist with an In...   \n",
       "\n",
       "                                                    URL Pay_average  \\\n",
       "21    http://www.jobstreet.com.sg/en/job/biz-data-an...        8500   \n",
       "33    http://www.jobstreet.com.sg/en/job/data-scienc...       10500   \n",
       "34    http://www.jobstreet.com.sg/en/job/data-scienc...       10250   \n",
       "49    http://www.jobstreet.com.sg/en/job/data-scienc...       10250   \n",
       "70    http://www.jobstreet.com.sg/en/job/data-scienc...       10500   \n",
       "...                                                 ...         ...   \n",
       "2158  http://www.jobstreet.com.sg/en/job/senior-busi...        8500   \n",
       "2165  http://www.jobstreet.com.sg/en/job/senior-busi...        8500   \n",
       "2222  http://www.jobstreet.com.sg/en/job/senior-soft...        8000   \n",
       "2334  http://www.jobstreet.com.sg/en/job/data-scienc...       10500   \n",
       "2373  http://www.jobstreet.com.sg/en/job/data-scient...        6500   \n",
       "\n",
       "                                         Qualifications          Position  \\\n",
       "21    Bachelor's Degree , Diploma , Post Graduate Di...       Entry Level   \n",
       "33    Bachelor's Degree , Diploma , Post Graduate Di...  Senior Executive   \n",
       "34    Bachelor's Degree , Diploma , Post Graduate Di...  Senior Executive   \n",
       "49    Bachelor's Degree , Diploma , Post Graduate Di...  Senior Executive   \n",
       "70    Bachelor's Degree , Diploma , Post Graduate Di...  Senior Executive   \n",
       "...                                                 ...               ...   \n",
       "2158  Bachelor's Degree , Diploma , Post Graduate Di...       Entry Level   \n",
       "2165  Bachelor's Degree , Diploma , Post Graduate Di...       Entry Level   \n",
       "2222  Bachelor's Degree , Diploma , Advanced/Higher/...  Senior Executive   \n",
       "2334  Bachelor's Degree , Diploma , Post Graduate Di...    Senior Manager   \n",
       "2373  Professional Certificate , NiTEC  , Primary/Se...  Senior Executive   \n",
       "\n",
       "           Employment Type Years of Experience   Pay2  \n",
       "21               Full-Time       Not indicated   8500  \n",
       "33    Full-Time , Contract                   4  10500  \n",
       "34               Full-Time                   6  10250  \n",
       "49               Full-Time                   6  10250  \n",
       "70    Full-Time , Contract                   4  10500  \n",
       "...                    ...                 ...    ...  \n",
       "2158             Full-Time       Not indicated   8500  \n",
       "2165             Full-Time       Not indicated   8500  \n",
       "2222             Full-Time                   3   8000  \n",
       "2334             Full-Time                   4  10500  \n",
       "2373             Full-Time                   3   6500  \n",
       "\n",
       "[79 rows x 13 columns]"
      ]
     },
     "execution_count": 70,
     "metadata": {},
     "output_type": "execute_result"
    }
   ],
   "source": [
    "#checking result\n",
    "df[df['Pay2'] != 'NaN']"
   ]
  },
  {
   "cell_type": "code",
   "execution_count": 71,
   "metadata": {},
   "outputs": [],
   "source": [
    "#Deleting the new column Pay2 since all information transfered over to pay_average\n",
    "df.drop(columns= 'Pay2', inplace = True)"
   ]
  },
  {
   "cell_type": "code",
   "execution_count": 72,
   "metadata": {},
   "outputs": [
    {
     "data": {
      "text/plain": [
       "<AxesSubplot:>"
      ]
     },
     "execution_count": 72,
     "metadata": {},
     "output_type": "execute_result"
    },
    {
     "data": {
      "image/png": "[encoded data removed]",
      "text/plain": [
       "<Figure size 432x288 with 1 Axes>"
      ]
     },
     "metadata": {
      "needs_background": "light"
     },
     "output_type": "display_data"
    }
   ],
   "source": [
    "df['Location'].value_counts().plot(kind='barh')"
   ]
  },
  {
   "cell_type": "markdown",
   "metadata": {},
   "source": [
    "## Skills needed in the Job"
   ]
  },
  {
   "cell_type": "code",
   "execution_count": 73,
   "metadata": {},
   "outputs": [],
   "source": [
    "skills_list =('Machine learning', 'Python', 'deep learning', 'artificial intelligence', 'keras', 'Pytorch' , 'sci-kit learn', 'sklearn', \n",
    "             'SQL', 'cloud','AWS','Azure', 'GCP', 'Hadoop', 'Spark', 'Hive', 'HBase', 'Kafka' , 'computer vision', \n",
    "             'Pandas', 'Git' , 'opencv', 'Scala', 'NLP', 'Qlikview', 'PowerBI', 'Qliksense')"
   ]
  },
  {
   "cell_type": "code",
   "execution_count": 74,
   "metadata": {},
   "outputs": [],
   "source": [
    "df['Skills Needed'] = df['Job Description'].apply(lambda x : returnhits(skills_list, x))"
   ]
  },
  {
   "cell_type": "code",
   "execution_count": 75,
   "metadata": {},
   "outputs": [
    {
     "data": {
      "text/plain": [
       "<AxesSubplot:>"
      ]
     },
     "execution_count": 75,
     "metadata": {},
     "output_type": "execute_result"
    },
    {
     "data": {
      "image/png": "[encoded data removed]",
      "text/plain": [
       "<Figure size 432x288 with 1 Axes>"
      ]
     },
     "metadata": {
      "needs_background": "light"
     },
     "output_type": "display_data"
    }
   ],
   "source": [
    "df['Companies'].value_counts().nlargest(10).plot(kind= 'barh')"
   ]
  },
  {
   "cell_type": "markdown",
   "metadata": {},
   "source": [
    "I'm surprised to see NTU as the main employer of data scientist. But it is possible that the search term data scientist could have captured scientists instead.<br>\n",
    "I will delete rows that does not have the skills python in the Job Description since arguably, any job posting for data science should contain python or some<br>\n",
    "programming related terms"
   ]
  },
  {
   "cell_type": "code",
   "execution_count": 76,
   "metadata": {},
   "outputs": [
    {
     "data": {
      "text/plain": [
       "0       AtResearch Instruments, we are committed to fa...\n",
       "1       Job OverviewWe are hiring a data scientists to...\n",
       "4       Part time role(3 days per week) and will suppo...\n",
       "6       Responsibilities:Perform data requirement gath...\n",
       "10      Recruitfirst is hiring! You will be deployed t...\n",
       "                              ...                        \n",
       "2371    TikTok is the leading destination for short-fo...\n",
       "2381    NTU Continental Corporate Lab invites applicat...\n",
       "2384    TikTok is the leading destination for short-fo...\n",
       "2388    Singtel Cognitive and Artificial Intelligence ...\n",
       "2394    Singtel Cognitive and Artificial Intelligence ...\n",
       "Name: Job Description, Length: 682, dtype: object"
      ]
     },
     "execution_count": 76,
     "metadata": {},
     "output_type": "execute_result"
    }
   ],
   "source": [
    "df[df['Skills Needed'] == '']['Job Description']"
   ]
  },
  {
   "cell_type": "code",
   "execution_count": 77,
   "metadata": {},
   "outputs": [
    {
     "name": "stdout",
     "output_type": "stream",
     "text": [
      "<class 'pandas.core.frame.DataFrame'>\n",
      "Int64Index: 1750 entries, 0 to 2397\n",
      "Data columns (total 13 columns):\n",
      " #   Column               Non-Null Count  Dtype         \n",
      "---  ------               --------------  -----         \n",
      " 0   Job Title            1750 non-null   object        \n",
      " 1   Companies            1750 non-null   object        \n",
      " 2   Location             1750 non-null   object        \n",
      " 3   Date posted          1750 non-null   datetime64[ns]\n",
      " 4   Other information    1750 non-null   object        \n",
      " 5   Job Description      1750 non-null   object        \n",
      " 6   URL                  1750 non-null   object        \n",
      " 7   Pay_average          649 non-null    object        \n",
      " 8   Qualifications       1750 non-null   object        \n",
      " 9   Position             1750 non-null   object        \n",
      " 10  Employment Type      1750 non-null   object        \n",
      " 11  Years of Experience  1750 non-null   object        \n",
      " 12  Skills Needed        1750 non-null   object        \n",
      "dtypes: datetime64[ns](1), object(12)\n",
      "memory usage: 271.4+ KB\n"
     ]
    }
   ],
   "source": [
    "df.info()"
   ]
  },
  {
   "cell_type": "code",
   "execution_count": 78,
   "metadata": {},
   "outputs": [],
   "source": [
    "#deleting job postings without skills keywords\n",
    "df = df[df['Skills Needed'] != '']"
   ]
  },
  {
   "cell_type": "code",
   "execution_count": 79,
   "metadata": {},
   "outputs": [
    {
     "name": "stdout",
     "output_type": "stream",
     "text": [
      "<class 'pandas.core.frame.DataFrame'>\n",
      "Int64Index: 1068 entries, 2 to 2397\n",
      "Data columns (total 13 columns):\n",
      " #   Column               Non-Null Count  Dtype         \n",
      "---  ------               --------------  -----         \n",
      " 0   Job Title            1068 non-null   object        \n",
      " 1   Companies            1068 non-null   object        \n",
      " 2   Location             1068 non-null   object        \n",
      " 3   Date posted          1068 non-null   datetime64[ns]\n",
      " 4   Other information    1068 non-null   object        \n",
      " 5   Job Description      1068 non-null   object        \n",
      " 6   URL                  1068 non-null   object        \n",
      " 7   Pay_average          399 non-null    object        \n",
      " 8   Qualifications       1068 non-null   object        \n",
      " 9   Position             1068 non-null   object        \n",
      " 10  Employment Type      1068 non-null   object        \n",
      " 11  Years of Experience  1068 non-null   object        \n",
      " 12  Skills Needed        1068 non-null   object        \n",
      "dtypes: datetime64[ns](1), object(12)\n",
      "memory usage: 116.8+ KB\n"
     ]
    }
   ],
   "source": [
    "df.info()"
   ]
  },
  {
   "cell_type": "code",
   "execution_count": 80,
   "metadata": {},
   "outputs": [],
   "source": [
    "df.reset_index(inplace = True , drop = True)"
   ]
  },
  {
   "cell_type": "code",
   "execution_count": 81,
   "metadata": {},
   "outputs": [
    {
     "data": {
      "text/html": [
       "<div>\n",
       "<style scoped>\n",
       "    .dataframe tbody tr th:only-of-type {\n",
       "        vertical-align: middle;\n",
       "    }\n",
       "\n",
       "    .dataframe tbody tr th {\n",
       "        vertical-align: top;\n",
       "    }\n",
       "\n",
       "    .dataframe thead th {\n",
       "        text-align: right;\n",
       "    }\n",
       "</style>\n",
       "<table border=\"1\" class=\"dataframe\">\n",
       "  <thead>\n",
       "    <tr style=\"text-align: right;\">\n",
       "      <th></th>\n",
       "      <th>Job Title</th>\n",
       "      <th>Companies</th>\n",
       "      <th>Location</th>\n",
       "      <th>Date posted</th>\n",
       "      <th>Other information</th>\n",
       "      <th>Job Description</th>\n",
       "      <th>URL</th>\n",
       "      <th>Pay_average</th>\n",
       "      <th>Qualifications</th>\n",
       "      <th>Position</th>\n",
       "      <th>Employment Type</th>\n",
       "      <th>Years of Experience</th>\n",
       "      <th>Skills Needed</th>\n",
       "    </tr>\n",
       "  </thead>\n",
       "  <tbody>\n",
       "    <tr>\n",
       "      <th>600</th>\n",
       "      <td>Research Associate (Computer Science/Computer ...</td>\n",
       "      <td>Nanyang Technological University</td>\n",
       "      <td>Singapore</td>\n",
       "      <td>2021-09-15</td>\n",
       "      <td>Junior Executive Master's Degree, Doctorate (P...</td>\n",
       "      <td>School of Computer Science and Engineering (SC...</td>\n",
       "      <td>http://www.jobstreet.com.sg/en/job/research-as...</td>\n",
       "      <td>NaN</td>\n",
       "      <td>Master's Degree , Doctorate (PhD)</td>\n",
       "      <td>Junior Executive</td>\n",
       "      <td>Full-Time</td>\n",
       "      <td>Not indicated</td>\n",
       "      <td>deep learning , Pytorch</td>\n",
       "    </tr>\n",
       "    <tr>\n",
       "      <th>142</th>\n",
       "      <td>Data Scientist</td>\n",
       "      <td>Phillip Securities Pte Ltd</td>\n",
       "      <td>Central</td>\n",
       "      <td>2021-09-11</td>\n",
       "      <td>Manager Bachelor's Degree, Post Graduate Diplo...</td>\n",
       "      <td>Responsibilities:Understand the business probl...</td>\n",
       "      <td>http://www.jobstreet.com.sg/en/job/data-scient...</td>\n",
       "      <td>NaN</td>\n",
       "      <td>Bachelor's Degree , Diploma , Post Graduate Di...</td>\n",
       "      <td>Manager</td>\n",
       "      <td>Full-Time</td>\n",
       "      <td>3</td>\n",
       "      <td>Python , SQL , Hadoop , Spark , Scala , NLP</td>\n",
       "    </tr>\n",
       "    <tr>\n",
       "      <th>470</th>\n",
       "      <td>Serverside R&amp;D Engineer (Middle Platform Data)...</td>\n",
       "      <td>Bytedance Pte. Ltd.</td>\n",
       "      <td>Singapore</td>\n",
       "      <td>2021-09-17</td>\n",
       "      <td>Junior Executive Bachelor's Degree, Post Gradu...</td>\n",
       "      <td>ByteDance Video Infrastructure is a world-lead...</td>\n",
       "      <td>http://www.jobstreet.com.sg/en/job/serverside-...</td>\n",
       "      <td>NaN</td>\n",
       "      <td>Bachelor's Degree , Diploma , Post Graduate Di...</td>\n",
       "      <td>Junior Executive</td>\n",
       "      <td>Full-Time</td>\n",
       "      <td>Not indicated</td>\n",
       "      <td>Python , cloud</td>\n",
       "    </tr>\n",
       "    <tr>\n",
       "      <th>339</th>\n",
       "      <td>Project Officer (Molecular Biology) (R00005504)</td>\n",
       "      <td>Nanyang Technological University</td>\n",
       "      <td>Singapore</td>\n",
       "      <td>2021-09-14</td>\n",
       "      <td>Junior Executive Bachelor's Degree, Post Gradu...</td>\n",
       "      <td>The School of Biological Sciences is looking f...</td>\n",
       "      <td>http://www.jobstreet.com.sg/en/job/project-off...</td>\n",
       "      <td>NaN</td>\n",
       "      <td>Bachelor's Degree , Diploma , Post Graduate Di...</td>\n",
       "      <td>Junior Executive</td>\n",
       "      <td>Full-Time</td>\n",
       "      <td>Not indicated</td>\n",
       "      <td>Python</td>\n",
       "    </tr>\n",
       "    <tr>\n",
       "      <th>551</th>\n",
       "      <td>Computer Assisted Pronunciation Training Scien...</td>\n",
       "      <td>Bytedance Pte. Ltd.</td>\n",
       "      <td>Singapore</td>\n",
       "      <td>2021-09-21</td>\n",
       "      <td>Junior Executive Doctorate (PhD) 1 year Full-T...</td>\n",
       "      <td>ResponsibilitiesBuild core technologies and ca...</td>\n",
       "      <td>http://www.jobstreet.com.sg/en/job/computer-as...</td>\n",
       "      <td>NaN</td>\n",
       "      <td>Doctorate (PhD)</td>\n",
       "      <td>Junior Executive</td>\n",
       "      <td>Full-Time</td>\n",
       "      <td>Not indicated</td>\n",
       "      <td>Python , Pytorch</td>\n",
       "    </tr>\n",
       "  </tbody>\n",
       "</table>\n",
       "</div>"
      ],
      "text/plain": [
       "                                             Job Title  \\\n",
       "600  Research Associate (Computer Science/Computer ...   \n",
       "142                                     Data Scientist   \n",
       "470  Serverside R&D Engineer (Middle Platform Data)...   \n",
       "339    Project Officer (Molecular Biology) (R00005504)   \n",
       "551  Computer Assisted Pronunciation Training Scien...   \n",
       "\n",
       "                            Companies   Location Date posted  \\\n",
       "600  Nanyang Technological University  Singapore  2021-09-15   \n",
       "142        Phillip Securities Pte Ltd    Central  2021-09-11   \n",
       "470               Bytedance Pte. Ltd.  Singapore  2021-09-17   \n",
       "339  Nanyang Technological University  Singapore  2021-09-14   \n",
       "551               Bytedance Pte. Ltd.  Singapore  2021-09-21   \n",
       "\n",
       "                                     Other information  \\\n",
       "600  Junior Executive Master's Degree, Doctorate (P...   \n",
       "142  Manager Bachelor's Degree, Post Graduate Diplo...   \n",
       "470  Junior Executive Bachelor's Degree, Post Gradu...   \n",
       "339  Junior Executive Bachelor's Degree, Post Gradu...   \n",
       "551  Junior Executive Doctorate (PhD) 1 year Full-T...   \n",
       "\n",
       "                                       Job Description  \\\n",
       "600  School of Computer Science and Engineering (SC...   \n",
       "142  Responsibilities:Understand the business probl...   \n",
       "470  ByteDance Video Infrastructure is a world-lead...   \n",
       "339  The School of Biological Sciences is looking f...   \n",
       "551  ResponsibilitiesBuild core technologies and ca...   \n",
       "\n",
       "                                                   URL Pay_average  \\\n",
       "600  http://www.jobstreet.com.sg/en/job/research-as...         NaN   \n",
       "142  http://www.jobstreet.com.sg/en/job/data-scient...         NaN   \n",
       "470  http://www.jobstreet.com.sg/en/job/serverside-...         NaN   \n",
       "339  http://www.jobstreet.com.sg/en/job/project-off...         NaN   \n",
       "551  http://www.jobstreet.com.sg/en/job/computer-as...         NaN   \n",
       "\n",
       "                                        Qualifications          Position  \\\n",
       "600                  Master's Degree , Doctorate (PhD)  Junior Executive   \n",
       "142  Bachelor's Degree , Diploma , Post Graduate Di...           Manager   \n",
       "470  Bachelor's Degree , Diploma , Post Graduate Di...  Junior Executive   \n",
       "339  Bachelor's Degree , Diploma , Post Graduate Di...  Junior Executive   \n",
       "551                                    Doctorate (PhD)  Junior Executive   \n",
       "\n",
       "    Employment Type Years of Experience  \\\n",
       "600       Full-Time       Not indicated   \n",
       "142       Full-Time                   3   \n",
       "470       Full-Time       Not indicated   \n",
       "339       Full-Time       Not indicated   \n",
       "551       Full-Time       Not indicated   \n",
       "\n",
       "                                   Skills Needed  \n",
       "600                      deep learning , Pytorch  \n",
       "142  Python , SQL , Hadoop , Spark , Scala , NLP  \n",
       "470                               Python , cloud  \n",
       "339                                       Python  \n",
       "551                             Python , Pytorch  "
      ]
     },
     "execution_count": 81,
     "metadata": {},
     "output_type": "execute_result"
    }
   ],
   "source": [
    "df.sample(5)"
   ]
  },
  {
   "cell_type": "markdown",
   "metadata": {},
   "source": [
    "Some positions do not really cater for the jobs that I am looking for, so I will eliminate positions that do not have these keywords in the skills list"
   ]
  },
  {
   "cell_type": "code",
   "execution_count": 82,
   "metadata": {},
   "outputs": [],
   "source": [
    "df['Number of Skills'] = df['Skills Needed'].apply(lambda x : len(x.split(',')))"
   ]
  },
  {
   "cell_type": "code",
   "execution_count": 83,
   "metadata": {},
   "outputs": [],
   "source": [
    "df['Number of Skills'] = df['Number of Skills'].astype(int)"
   ]
  },
  {
   "cell_type": "code",
   "execution_count": 84,
   "metadata": {},
   "outputs": [],
   "source": [
    "df['Pay_average'] = pd.to_numeric(df['Pay_average'], errors = 'coerce')"
   ]
  },
  {
   "cell_type": "code",
   "execution_count": 85,
   "metadata": {},
   "outputs": [],
   "source": [
    "df['Years of Experience'] = pd.to_numeric(df['Years of Experience'], errors = 'coerce')"
   ]
  },
  {
   "cell_type": "code",
   "execution_count": 86,
   "metadata": {},
   "outputs": [
    {
     "data": {
      "text/html": [
       "<div>\n",
       "<style scoped>\n",
       "    .dataframe tbody tr th:only-of-type {\n",
       "        vertical-align: middle;\n",
       "    }\n",
       "\n",
       "    .dataframe tbody tr th {\n",
       "        vertical-align: top;\n",
       "    }\n",
       "\n",
       "    .dataframe thead th {\n",
       "        text-align: right;\n",
       "    }\n",
       "</style>\n",
       "<table border=\"1\" class=\"dataframe\">\n",
       "  <thead>\n",
       "    <tr style=\"text-align: right;\">\n",
       "      <th></th>\n",
       "      <th>Job Title</th>\n",
       "      <th>Companies</th>\n",
       "      <th>Location</th>\n",
       "      <th>Date posted</th>\n",
       "      <th>Other information</th>\n",
       "      <th>Job Description</th>\n",
       "      <th>URL</th>\n",
       "      <th>Pay_average</th>\n",
       "      <th>Qualifications</th>\n",
       "      <th>Position</th>\n",
       "      <th>Employment Type</th>\n",
       "      <th>Years of Experience</th>\n",
       "      <th>Skills Needed</th>\n",
       "      <th>Number of Skills</th>\n",
       "    </tr>\n",
       "  </thead>\n",
       "  <tbody>\n",
       "    <tr>\n",
       "      <th>0</th>\n",
       "      <td>Data Scientist</td>\n",
       "      <td>SILENT EIGHT PTE. LTD.</td>\n",
       "      <td>Singapore</td>\n",
       "      <td>2021-09-15</td>\n",
       "      <td>Employee Stock Ownership Plan  Experienced te...</td>\n",
       "      <td>At Silent Eight, we develop our own AI-based p...</td>\n",
       "      <td>http://www.jobstreet.com.sg/en/job/data-scient...</td>\n",
       "      <td>5250.0</td>\n",
       "      <td>Not indicated</td>\n",
       "      <td>Senior Executive</td>\n",
       "      <td>Full-Time</td>\n",
       "      <td>3.0</td>\n",
       "      <td>Python , SQL , Spark , Pandas , Git , NLP</td>\n",
       "      <td>6</td>\n",
       "    </tr>\n",
       "    <tr>\n",
       "      <th>1</th>\n",
       "      <td>Data Analyst - Financial Markets</td>\n",
       "      <td>AMUNDI SINGAPORE LIMITED</td>\n",
       "      <td>Singapore River</td>\n",
       "      <td>2021-09-15</td>\n",
       "      <td>Entry Level Bachelor's Degree, Post Graduate D...</td>\n",
       "      <td>Job descriptionYou will be part of the Data Sc...</td>\n",
       "      <td>http://www.jobstreet.com.sg/en/job/data-analys...</td>\n",
       "      <td>NaN</td>\n",
       "      <td>Bachelor's Degree , Diploma , Post Graduate Di...</td>\n",
       "      <td>Entry Level</td>\n",
       "      <td>Contract</td>\n",
       "      <td>NaN</td>\n",
       "      <td>Python , Pandas</td>\n",
       "      <td>2</td>\n",
       "    </tr>\n",
       "    <tr>\n",
       "      <th>2</th>\n",
       "      <td>Data Analyst</td>\n",
       "      <td>SISTIC.com Pte Ltd</td>\n",
       "      <td>Paya Lebar</td>\n",
       "      <td>2021-09-21</td>\n",
       "      <td>Singapore's largest ticketing agency &amp; leadin...</td>\n",
       "      <td>We are looking for a Business Intelligence Ana...</td>\n",
       "      <td>http://www.jobstreet.com.sg/en/job/data-analys...</td>\n",
       "      <td>4000.0</td>\n",
       "      <td>Bachelor's Degree , Diploma , Post Graduate Di...</td>\n",
       "      <td>Junior Executive</td>\n",
       "      <td>Full-Time</td>\n",
       "      <td>NaN</td>\n",
       "      <td>Python , SQL , PowerBI</td>\n",
       "      <td>3</td>\n",
       "    </tr>\n",
       "    <tr>\n",
       "      <th>3</th>\n",
       "      <td>Data Analyst</td>\n",
       "      <td>Singapore National Eye Centre</td>\n",
       "      <td>Bedok</td>\n",
       "      <td>2021-09-18</td>\n",
       "      <td>Senior Executive Bachelor's Degree, Post Gradu...</td>\n",
       "      <td>The digital transformation office is a new dep...</td>\n",
       "      <td>http://www.jobstreet.com.sg/en/job/data-analys...</td>\n",
       "      <td>3500.0</td>\n",
       "      <td>Bachelor's Degree , Diploma , Post Graduate Di...</td>\n",
       "      <td>Senior Executive</td>\n",
       "      <td>Contract</td>\n",
       "      <td>NaN</td>\n",
       "      <td>Python , SQL , Qlikview</td>\n",
       "      <td>3</td>\n",
       "    </tr>\n",
       "    <tr>\n",
       "      <th>4</th>\n",
       "      <td>Data scientist</td>\n",
       "      <td>Spring Professional (Singapore) Pte Ltd</td>\n",
       "      <td>Singapore</td>\n",
       "      <td>2021-09-20</td>\n",
       "      <td>Junior Executive Diploma, Advanced/Higher/Grad...</td>\n",
       "      <td>About the ClientFounded in 2012, the client is...</td>\n",
       "      <td>http://www.jobstreet.com.sg/en/job/data-scient...</td>\n",
       "      <td>3500.0</td>\n",
       "      <td>Bachelor's Degree , Diploma , Advanced/Higher/...</td>\n",
       "      <td>Junior Executive</td>\n",
       "      <td>Full-Time</td>\n",
       "      <td>NaN</td>\n",
       "      <td>Python , SQL</td>\n",
       "      <td>2</td>\n",
       "    </tr>\n",
       "  </tbody>\n",
       "</table>\n",
       "</div>"
      ],
      "text/plain": [
       "                          Job Title                                Companies  \\\n",
       "0                    Data Scientist                   SILENT EIGHT PTE. LTD.   \n",
       "1  Data Analyst - Financial Markets                 AMUNDI SINGAPORE LIMITED   \n",
       "2                      Data Analyst                       SISTIC.com Pte Ltd   \n",
       "3                      Data Analyst            Singapore National Eye Centre   \n",
       "4                    Data scientist  Spring Professional (Singapore) Pte Ltd   \n",
       "\n",
       "          Location Date posted  \\\n",
       "0        Singapore  2021-09-15   \n",
       "1  Singapore River  2021-09-15   \n",
       "2       Paya Lebar  2021-09-21   \n",
       "3            Bedok  2021-09-18   \n",
       "4        Singapore  2021-09-20   \n",
       "\n",
       "                                   Other information  \\\n",
       "0   Employee Stock Ownership Plan  Experienced te...   \n",
       "1  Entry Level Bachelor's Degree, Post Graduate D...   \n",
       "2   Singapore's largest ticketing agency & leadin...   \n",
       "3  Senior Executive Bachelor's Degree, Post Gradu...   \n",
       "4  Junior Executive Diploma, Advanced/Higher/Grad...   \n",
       "\n",
       "                                     Job Description  \\\n",
       "0  At Silent Eight, we develop our own AI-based p...   \n",
       "1  Job descriptionYou will be part of the Data Sc...   \n",
       "2  We are looking for a Business Intelligence Ana...   \n",
       "3  The digital transformation office is a new dep...   \n",
       "4  About the ClientFounded in 2012, the client is...   \n",
       "\n",
       "                                                 URL  Pay_average  \\\n",
       "0  http://www.jobstreet.com.sg/en/job/data-scient...       5250.0   \n",
       "1  http://www.jobstreet.com.sg/en/job/data-analys...          NaN   \n",
       "2  http://www.jobstreet.com.sg/en/job/data-analys...       4000.0   \n",
       "3  http://www.jobstreet.com.sg/en/job/data-analys...       3500.0   \n",
       "4  http://www.jobstreet.com.sg/en/job/data-scient...       3500.0   \n",
       "\n",
       "                                      Qualifications          Position  \\\n",
       "0                                      Not indicated  Senior Executive   \n",
       "1  Bachelor's Degree , Diploma , Post Graduate Di...       Entry Level   \n",
       "2  Bachelor's Degree , Diploma , Post Graduate Di...  Junior Executive   \n",
       "3  Bachelor's Degree , Diploma , Post Graduate Di...  Senior Executive   \n",
       "4  Bachelor's Degree , Diploma , Advanced/Higher/...  Junior Executive   \n",
       "\n",
       "  Employment Type  Years of Experience  \\\n",
       "0       Full-Time                  3.0   \n",
       "1        Contract                  NaN   \n",
       "2       Full-Time                  NaN   \n",
       "3        Contract                  NaN   \n",
       "4       Full-Time                  NaN   \n",
       "\n",
       "                               Skills Needed  Number of Skills  \n",
       "0  Python , SQL , Spark , Pandas , Git , NLP                 6  \n",
       "1                            Python , Pandas                 2  \n",
       "2                     Python , SQL , PowerBI                 3  \n",
       "3                    Python , SQL , Qlikview                 3  \n",
       "4                               Python , SQL                 2  "
      ]
     },
     "execution_count": 86,
     "metadata": {},
     "output_type": "execute_result"
    }
   ],
   "source": [
    "df.head()"
   ]
  },
  {
   "cell_type": "code",
   "execution_count": 87,
   "metadata": {},
   "outputs": [],
   "source": [
    "#I dont think python as a skill set exists by itself so I will remove job postings with less than 1 skill\n",
    "df=df[df['Number of Skills'] > 1]"
   ]
  },
  {
   "cell_type": "code",
   "execution_count": 88,
   "metadata": {},
   "outputs": [],
   "source": [
    "df.reset_index(inplace = True , drop = True)"
   ]
  },
  {
   "cell_type": "code",
   "execution_count": 89,
   "metadata": {},
   "outputs": [
    {
     "name": "stdout",
     "output_type": "stream",
     "text": [
      "<class 'pandas.core.frame.DataFrame'>\n",
      "RangeIndex: 639 entries, 0 to 638\n",
      "Data columns (total 14 columns):\n",
      " #   Column               Non-Null Count  Dtype         \n",
      "---  ------               --------------  -----         \n",
      " 0   Job Title            639 non-null    object        \n",
      " 1   Companies            639 non-null    object        \n",
      " 2   Location             639 non-null    object        \n",
      " 3   Date posted          639 non-null    datetime64[ns]\n",
      " 4   Other information    639 non-null    object        \n",
      " 5   Job Description      639 non-null    object        \n",
      " 6   URL                  639 non-null    object        \n",
      " 7   Pay_average          218 non-null    float64       \n",
      " 8   Qualifications       639 non-null    object        \n",
      " 9   Position             639 non-null    object        \n",
      " 10  Employment Type      639 non-null    object        \n",
      " 11  Years of Experience  393 non-null    float64       \n",
      " 12  Skills Needed        639 non-null    object        \n",
      " 13  Number of Skills     639 non-null    int32         \n",
      "dtypes: datetime64[ns](1), float64(2), int32(1), object(10)\n",
      "memory usage: 67.5+ KB\n"
     ]
    }
   ],
   "source": [
    "df.info()"
   ]
  },
  {
   "cell_type": "markdown",
   "metadata": {},
   "source": [
    "## NLP Time"
   ]
  },
  {
   "cell_type": "code",
   "execution_count": 90,
   "metadata": {},
   "outputs": [],
   "source": [
    "#TODO include tokenisation/ lemmisation and remove punctuations from JD"
   ]
  },
  {
   "cell_type": "code",
   "execution_count": 91,
   "metadata": {},
   "outputs": [],
   "source": [
    "#Stop-Word removal\n",
    "import nltk\n",
    "from nltk import word_tokenize\n",
    "from nltk.corpus import stopwords"
   ]
  },
  {
   "cell_type": "code",
   "execution_count": 92,
   "metadata": {},
   "outputs": [
    {
     "name": "stderr",
     "output_type": "stream",
     "text": [
      "[nltk_data] Downloading package stopwords to\n",
      "[nltk_data]     C:\\Users\\Randy\\AppData\\Roaming\\nltk_data...\n",
      "[nltk_data]   Package stopwords is already up-to-date!\n"
     ]
    },
    {
     "data": {
      "text/plain": [
       "True"
      ]
     },
     "execution_count": 92,
     "metadata": {},
     "output_type": "execute_result"
    }
   ],
   "source": [
    "nltk.download('stopwords')"
   ]
  },
  {
   "cell_type": "code",
   "execution_count": 93,
   "metadata": {},
   "outputs": [],
   "source": [
    "stop_words = set(stopwords.words('english'))"
   ]
  },
  {
   "cell_type": "code",
   "execution_count": 94,
   "metadata": {},
   "outputs": [
    {
     "name": "stdout",
     "output_type": "stream",
     "text": [
      "{\"that'll\", \"you've\", 'ourselves', 'your', 'in', \"doesn't\", 'ours', 'had', 'as', 'o', 'it', 'been', 'he', 'their', \"needn't\", \"wouldn't\", 'they', 'where', 'should', 'didn', 'own', 'at', 's', 'yours', 'by', \"couldn't\", 'hers', 'until', 'each', 'ain', 'hasn', 'under', \"should've\", 'here', 'him', 'any', 'these', 'all', 'because', 'theirs', \"you'd\", 'is', 'after', 'don', 'themselves', 'more', 'above', 'aren', 'my', 'weren', 'no', 'while', 'not', 'most', \"she's\", 'himself', 'the', \"shan't\", \"it's\", 'some', 'them', 'why', 'her', 'from', 'haven', 'has', 'with', 'such', 'shouldn', \"mightn't\", 'his', 'we', \"you're\", 'to', 'then', 'and', \"wasn't\", 'down', 'once', 're', 'on', 'other', 'am', 'a', 'won', 'y', 'but', 'off', \"hasn't\", 'further', \"didn't\", 'against', 'who', 'd', 'so', 'about', 'does', \"don't\", 'will', 'whom', 'can', 'which', 'be', 'this', 'hadn', 'ma', 'did', 'are', 'before', 'herself', 'how', 'for', 'its', 'myself', 've', 'yourselves', \"aren't\", 'couldn', 'than', 'both', \"weren't\", 'of', 'during', 'out', 'few', 't', 'wasn', 'over', 'too', 'into', 'doing', 'were', \"shouldn't\", 'nor', 'having', 'when', \"won't\", 'was', 'she', 'me', \"you'll\", 'yourself', 'our', 'or', 'again', 'have', 'll', 'm', 'isn', 'shan', 'wouldn', 'between', 'do', 'itself', 'being', 'now', 'below', 'mustn', 'an', 'up', 'those', \"haven't\", 'if', 'i', 'only', 'needn', 'mightn', 'just', 'what', 'there', 'very', 'through', 'that', \"hadn't\", \"isn't\", 'doesn', 'same', \"mustn't\", 'you'}\n"
     ]
    }
   ],
   "source": [
    "print(stop_words)"
   ]
  },
  {
   "cell_type": "code",
   "execution_count": 95,
   "metadata": {},
   "outputs": [],
   "source": [
    "#additional stopwords to eliminate\n",
    "additional_stop_words = ['amp', '.', ',', 'e.g', \":\",';','$','/','(',')','&','-',\"'\",'emailprotected','[',']']\n",
    "stop_words = stop_words.union(set(additional_stop_words))"
   ]
  },
  {
   "cell_type": "code",
   "execution_count": 96,
   "metadata": {},
   "outputs": [],
   "source": [
    "df['Processed_JD'] = df['Job Description'].apply(lambda x : ' '.join([word for word in word_tokenize(x) if word.lower() not in stop_words]))"
   ]
  },
  {
   "cell_type": "code",
   "execution_count": 97,
   "metadata": {},
   "outputs": [
    {
     "data": {
      "text/html": [
       "<div>\n",
       "<style scoped>\n",
       "    .dataframe tbody tr th:only-of-type {\n",
       "        vertical-align: middle;\n",
       "    }\n",
       "\n",
       "    .dataframe tbody tr th {\n",
       "        vertical-align: top;\n",
       "    }\n",
       "\n",
       "    .dataframe thead th {\n",
       "        text-align: right;\n",
       "    }\n",
       "</style>\n",
       "<table border=\"1\" class=\"dataframe\">\n",
       "  <thead>\n",
       "    <tr style=\"text-align: right;\">\n",
       "      <th></th>\n",
       "      <th>Job Title</th>\n",
       "      <th>Companies</th>\n",
       "      <th>Location</th>\n",
       "      <th>Date posted</th>\n",
       "      <th>Other information</th>\n",
       "      <th>Job Description</th>\n",
       "      <th>URL</th>\n",
       "      <th>Pay_average</th>\n",
       "      <th>Qualifications</th>\n",
       "      <th>Position</th>\n",
       "      <th>Employment Type</th>\n",
       "      <th>Years of Experience</th>\n",
       "      <th>Skills Needed</th>\n",
       "      <th>Number of Skills</th>\n",
       "      <th>Processed_JD</th>\n",
       "    </tr>\n",
       "  </thead>\n",
       "  <tbody>\n",
       "    <tr>\n",
       "      <th>0</th>\n",
       "      <td>Data Scientist</td>\n",
       "      <td>SILENT EIGHT PTE. LTD.</td>\n",
       "      <td>Singapore</td>\n",
       "      <td>2021-09-15</td>\n",
       "      <td>Employee Stock Ownership Plan  Experienced te...</td>\n",
       "      <td>At Silent Eight, we develop our own AI-based p...</td>\n",
       "      <td>http://www.jobstreet.com.sg/en/job/data-scient...</td>\n",
       "      <td>5250.0</td>\n",
       "      <td>Not indicated</td>\n",
       "      <td>Senior Executive</td>\n",
       "      <td>Full-Time</td>\n",
       "      <td>3.0</td>\n",
       "      <td>Python , SQL , Spark , Pandas , Git , NLP</td>\n",
       "      <td>6</td>\n",
       "      <td>Silent Eight develop AI-based product combats ...</td>\n",
       "    </tr>\n",
       "    <tr>\n",
       "      <th>1</th>\n",
       "      <td>Data Analyst - Financial Markets</td>\n",
       "      <td>AMUNDI SINGAPORE LIMITED</td>\n",
       "      <td>Singapore River</td>\n",
       "      <td>2021-09-15</td>\n",
       "      <td>Entry Level Bachelor's Degree, Post Graduate D...</td>\n",
       "      <td>Job descriptionYou will be part of the Data Sc...</td>\n",
       "      <td>http://www.jobstreet.com.sg/en/job/data-analys...</td>\n",
       "      <td>NaN</td>\n",
       "      <td>Bachelor's Degree , Diploma , Post Graduate Di...</td>\n",
       "      <td>Entry Level</td>\n",
       "      <td>Contract</td>\n",
       "      <td>NaN</td>\n",
       "      <td>Python , Pandas</td>\n",
       "      <td>2</td>\n",
       "      <td>Job descriptionYou part Data Science team with...</td>\n",
       "    </tr>\n",
       "    <tr>\n",
       "      <th>2</th>\n",
       "      <td>Data Analyst</td>\n",
       "      <td>SISTIC.com Pte Ltd</td>\n",
       "      <td>Paya Lebar</td>\n",
       "      <td>2021-09-21</td>\n",
       "      <td>Singapore's largest ticketing agency &amp; leadin...</td>\n",
       "      <td>We are looking for a Business Intelligence Ana...</td>\n",
       "      <td>http://www.jobstreet.com.sg/en/job/data-analys...</td>\n",
       "      <td>4000.0</td>\n",
       "      <td>Bachelor's Degree , Diploma , Post Graduate Di...</td>\n",
       "      <td>Junior Executive</td>\n",
       "      <td>Full-Time</td>\n",
       "      <td>NaN</td>\n",
       "      <td>Python , SQL , PowerBI</td>\n",
       "      <td>3</td>\n",
       "      <td>looking Business Intelligence Analyst strong p...</td>\n",
       "    </tr>\n",
       "    <tr>\n",
       "      <th>3</th>\n",
       "      <td>Data Analyst</td>\n",
       "      <td>Singapore National Eye Centre</td>\n",
       "      <td>Bedok</td>\n",
       "      <td>2021-09-18</td>\n",
       "      <td>Senior Executive Bachelor's Degree, Post Gradu...</td>\n",
       "      <td>The digital transformation office is a new dep...</td>\n",
       "      <td>http://www.jobstreet.com.sg/en/job/data-analys...</td>\n",
       "      <td>3500.0</td>\n",
       "      <td>Bachelor's Degree , Diploma , Post Graduate Di...</td>\n",
       "      <td>Senior Executive</td>\n",
       "      <td>Contract</td>\n",
       "      <td>NaN</td>\n",
       "      <td>Python , SQL , Qlikview</td>\n",
       "      <td>3</td>\n",
       "      <td>digital transformation office new department S...</td>\n",
       "    </tr>\n",
       "    <tr>\n",
       "      <th>4</th>\n",
       "      <td>Data scientist</td>\n",
       "      <td>Spring Professional (Singapore) Pte Ltd</td>\n",
       "      <td>Singapore</td>\n",
       "      <td>2021-09-20</td>\n",
       "      <td>Junior Executive Diploma, Advanced/Higher/Grad...</td>\n",
       "      <td>About the ClientFounded in 2012, the client is...</td>\n",
       "      <td>http://www.jobstreet.com.sg/en/job/data-scient...</td>\n",
       "      <td>3500.0</td>\n",
       "      <td>Bachelor's Degree , Diploma , Advanced/Higher/...</td>\n",
       "      <td>Junior Executive</td>\n",
       "      <td>Full-Time</td>\n",
       "      <td>NaN</td>\n",
       "      <td>Python , SQL</td>\n",
       "      <td>2</td>\n",
       "      <td>ClientFounded 2012 client internet company lau...</td>\n",
       "    </tr>\n",
       "  </tbody>\n",
       "</table>\n",
       "</div>"
      ],
      "text/plain": [
       "                          Job Title                                Companies  \\\n",
       "0                    Data Scientist                   SILENT EIGHT PTE. LTD.   \n",
       "1  Data Analyst - Financial Markets                 AMUNDI SINGAPORE LIMITED   \n",
       "2                      Data Analyst                       SISTIC.com Pte Ltd   \n",
       "3                      Data Analyst            Singapore National Eye Centre   \n",
       "4                    Data scientist  Spring Professional (Singapore) Pte Ltd   \n",
       "\n",
       "          Location Date posted  \\\n",
       "0        Singapore  2021-09-15   \n",
       "1  Singapore River  2021-09-15   \n",
       "2       Paya Lebar  2021-09-21   \n",
       "3            Bedok  2021-09-18   \n",
       "4        Singapore  2021-09-20   \n",
       "\n",
       "                                   Other information  \\\n",
       "0   Employee Stock Ownership Plan  Experienced te...   \n",
       "1  Entry Level Bachelor's Degree, Post Graduate D...   \n",
       "2   Singapore's largest ticketing agency & leadin...   \n",
       "3  Senior Executive Bachelor's Degree, Post Gradu...   \n",
       "4  Junior Executive Diploma, Advanced/Higher/Grad...   \n",
       "\n",
       "                                     Job Description  \\\n",
       "0  At Silent Eight, we develop our own AI-based p...   \n",
       "1  Job descriptionYou will be part of the Data Sc...   \n",
       "2  We are looking for a Business Intelligence Ana...   \n",
       "3  The digital transformation office is a new dep...   \n",
       "4  About the ClientFounded in 2012, the client is...   \n",
       "\n",
       "                                                 URL  Pay_average  \\\n",
       "0  http://www.jobstreet.com.sg/en/job/data-scient...       5250.0   \n",
       "1  http://www.jobstreet.com.sg/en/job/data-analys...          NaN   \n",
       "2  http://www.jobstreet.com.sg/en/job/data-analys...       4000.0   \n",
       "3  http://www.jobstreet.com.sg/en/job/data-analys...       3500.0   \n",
       "4  http://www.jobstreet.com.sg/en/job/data-scient...       3500.0   \n",
       "\n",
       "                                      Qualifications          Position  \\\n",
       "0                                      Not indicated  Senior Executive   \n",
       "1  Bachelor's Degree , Diploma , Post Graduate Di...       Entry Level   \n",
       "2  Bachelor's Degree , Diploma , Post Graduate Di...  Junior Executive   \n",
       "3  Bachelor's Degree , Diploma , Post Graduate Di...  Senior Executive   \n",
       "4  Bachelor's Degree , Diploma , Advanced/Higher/...  Junior Executive   \n",
       "\n",
       "  Employment Type  Years of Experience  \\\n",
       "0       Full-Time                  3.0   \n",
       "1        Contract                  NaN   \n",
       "2       Full-Time                  NaN   \n",
       "3        Contract                  NaN   \n",
       "4       Full-Time                  NaN   \n",
       "\n",
       "                               Skills Needed  Number of Skills  \\\n",
       "0  Python , SQL , Spark , Pandas , Git , NLP                 6   \n",
       "1                            Python , Pandas                 2   \n",
       "2                     Python , SQL , PowerBI                 3   \n",
       "3                    Python , SQL , Qlikview                 3   \n",
       "4                               Python , SQL                 2   \n",
       "\n",
       "                                        Processed_JD  \n",
       "0  Silent Eight develop AI-based product combats ...  \n",
       "1  Job descriptionYou part Data Science team with...  \n",
       "2  looking Business Intelligence Analyst strong p...  \n",
       "3  digital transformation office new department S...  \n",
       "4  ClientFounded 2012 client internet company lau...  "
      ]
     },
     "execution_count": 97,
     "metadata": {},
     "output_type": "execute_result"
    }
   ],
   "source": [
    "df.head()"
   ]
  },
  {
   "cell_type": "code",
   "execution_count": 98,
   "metadata": {},
   "outputs": [
    {
     "data": {
      "text/plain": [
       "[\"Business FunctionGroup Technology Operations enables empowers bank efficient nimble resilient infrastructure strategic focus productivity quality control technology people capability innovation Group managethe majority ofthe Bank 's operational processes inspire delight business partners multiple banking delivery channels.ResponsibilitiesWorking relevant business units establish set requirements align tech debt help build delivery roadmapDesign solutions new problem statements Ex.- natural language query processing self serve requirement real time data visualization etc .Present design multiple review forum socialize build consensus.Lead team build PoC new ideas/experimentsLead team solving road blocks guide implementationCode review verifying design conformanceOwn security type risk guide team improve deliverable qualityCommunicate vendor selecting right product integrate improving needed featureRequirementsCandidate role expected work dynamic team build architecture solution control tower consume visualize act data successful candidate expected following:10+ years hands experience enterprise architecture solution architectureWell versed one Big data technologies ex Spark Hive Hadoop Presto Kafka etcUnderstanding hands experience data visualization challenges tools used Qlikview/ Tableau etc.Understanding micro-service architecture basic understanding security authentication authorizationUnderstanding CI/CD concepts used least one automated deployment Jenkins Gitlab etc Good working knowledge cloud technologies least one public cloud AWS Azure GCPShould hands coder focus quality modularization optimization etc.Ability deal ambiguity prioritize/manage multiple tasksWilling listen multiple stakeholders bring common solution win-win meetbest quality delivery timelineApply NowWe offer competitive salary benefits package professional advantages dynamic environment supports development recognises achievements\"]"
      ]
     },
     "execution_count": 98,
     "metadata": {},
     "output_type": "execute_result"
    }
   ],
   "source": [
    "list(df[\"Processed_JD\"].sample())"
   ]
  },
  {
   "cell_type": "code",
   "execution_count": 99,
   "metadata": {},
   "outputs": [],
   "source": [
    "#Using a TF-IDF to find out the common used terms"
   ]
  },
  {
   "cell_type": "code",
   "execution_count": 100,
   "metadata": {},
   "outputs": [
    {
     "data": {
      "text/html": [
       "<div>\n",
       "<style scoped>\n",
       "    .dataframe tbody tr th:only-of-type {\n",
       "        vertical-align: middle;\n",
       "    }\n",
       "\n",
       "    .dataframe tbody tr th {\n",
       "        vertical-align: top;\n",
       "    }\n",
       "\n",
       "    .dataframe thead th {\n",
       "        text-align: right;\n",
       "    }\n",
       "</style>\n",
       "<table border=\"1\" class=\"dataframe\">\n",
       "  <thead>\n",
       "    <tr style=\"text-align: right;\">\n",
       "      <th></th>\n",
       "      <th>analytics</th>\n",
       "      <th>business</th>\n",
       "      <th>computer</th>\n",
       "      <th>data</th>\n",
       "      <th>experience</th>\n",
       "      <th>learning</th>\n",
       "      <th>machine</th>\n",
       "      <th>science</th>\n",
       "      <th>team</th>\n",
       "      <th>work</th>\n",
       "    </tr>\n",
       "  </thead>\n",
       "  <tbody>\n",
       "    <tr>\n",
       "      <th>0</th>\n",
       "      <td>0.000000</td>\n",
       "      <td>0.221781</td>\n",
       "      <td>0.000000</td>\n",
       "      <td>0.560047</td>\n",
       "      <td>0.054437</td>\n",
       "      <td>0.330534</td>\n",
       "      <td>0.268724</td>\n",
       "      <td>0.124270</td>\n",
       "      <td>0.493206</td>\n",
       "      <td>0.440496</td>\n",
       "    </tr>\n",
       "    <tr>\n",
       "      <th>1</th>\n",
       "      <td>0.000000</td>\n",
       "      <td>0.134537</td>\n",
       "      <td>0.000000</td>\n",
       "      <td>0.713446</td>\n",
       "      <td>0.000000</td>\n",
       "      <td>0.150381</td>\n",
       "      <td>0.163014</td>\n",
       "      <td>0.339231</td>\n",
       "      <td>0.384671</td>\n",
       "      <td>0.400820</td>\n",
       "    </tr>\n",
       "    <tr>\n",
       "      <th>2</th>\n",
       "      <td>0.069601</td>\n",
       "      <td>0.422133</td>\n",
       "      <td>0.000000</td>\n",
       "      <td>0.868012</td>\n",
       "      <td>0.133217</td>\n",
       "      <td>0.067407</td>\n",
       "      <td>0.073069</td>\n",
       "      <td>0.050685</td>\n",
       "      <td>0.172424</td>\n",
       "      <td>0.059888</td>\n",
       "    </tr>\n",
       "    <tr>\n",
       "      <th>3</th>\n",
       "      <td>0.130541</td>\n",
       "      <td>0.113105</td>\n",
       "      <td>0.101659</td>\n",
       "      <td>0.942532</td>\n",
       "      <td>0.249856</td>\n",
       "      <td>0.000000</td>\n",
       "      <td>0.000000</td>\n",
       "      <td>0.095064</td>\n",
       "      <td>0.000000</td>\n",
       "      <td>0.000000</td>\n",
       "    </tr>\n",
       "    <tr>\n",
       "      <th>4</th>\n",
       "      <td>0.161396</td>\n",
       "      <td>0.419516</td>\n",
       "      <td>0.125687</td>\n",
       "      <td>0.423749</td>\n",
       "      <td>0.000000</td>\n",
       "      <td>0.468923</td>\n",
       "      <td>0.508313</td>\n",
       "      <td>0.352599</td>\n",
       "      <td>0.000000</td>\n",
       "      <td>0.000000</td>\n",
       "    </tr>\n",
       "  </tbody>\n",
       "</table>\n",
       "</div>"
      ],
      "text/plain": [
       "   analytics  business  computer      data  experience  learning   machine  \\\n",
       "0   0.000000  0.221781  0.000000  0.560047    0.054437  0.330534  0.268724   \n",
       "1   0.000000  0.134537  0.000000  0.713446    0.000000  0.150381  0.163014   \n",
       "2   0.069601  0.422133  0.000000  0.868012    0.133217  0.067407  0.073069   \n",
       "3   0.130541  0.113105  0.101659  0.942532    0.249856  0.000000  0.000000   \n",
       "4   0.161396  0.419516  0.125687  0.423749    0.000000  0.468923  0.508313   \n",
       "\n",
       "    science      team      work  \n",
       "0  0.124270  0.493206  0.440496  \n",
       "1  0.339231  0.384671  0.400820  \n",
       "2  0.050685  0.172424  0.059888  \n",
       "3  0.095064  0.000000  0.000000  \n",
       "4  0.352599  0.000000  0.000000  "
      ]
     },
     "execution_count": 100,
     "metadata": {},
     "output_type": "execute_result"
    }
   ],
   "source": [
    "from sklearn.feature_extraction.text import TfidfVectorizer\n",
    "tfidf_model = TfidfVectorizer(max_features=10)\n",
    "df_top_ten_words_tfidf = pd.DataFrame(tfidf_model.fit_transform(df['Processed_JD']).todense())\n",
    "df_top_ten_words_tfidf.columns = sorted(tfidf_model.vocabulary_)\n",
    "df_top_ten_words_tfidf.head()"
   ]
  },
  {
   "cell_type": "code",
   "execution_count": 101,
   "metadata": {},
   "outputs": [
    {
     "name": "stdout",
     "output_type": "stream",
     "text": [
      "['analytics', 'business', 'computer', 'data', 'experience', 'learning', 'machine', 'science', 'team', 'work']\n"
     ]
    }
   ],
   "source": [
    "#List of top ten words found in the Job Description of Data Science related postings\n",
    "print([word for word in (df_top_ten_words_tfidf.columns)])"
   ]
  },
  {
   "cell_type": "markdown",
   "metadata": {},
   "source": [
    "## Questions"
   ]
  },
  {
   "cell_type": "markdown",
   "metadata": {},
   "source": [
    "<b>Pay</b><br>\n",
    "<li>Does the pay corelate with years of experience?<br>\n",
    "<li>What is the average pay<br>\n",
    "<b>Skills</b><br>\n",
    "<li>What are the typical skill sets companies are looking for<br>\n",
    "<li>What is a typical job posting like<br>\n",
    "<b>Companies</b><br>\n",
    "<li>What are the kinds of companies that are hiring data-science job seekers?<br>\n",
    "<li>Which companies offer the highest salaries?<br>\n",
    "<b>NLP<b><br>\n",
    "<li>What are the top ten words found in Job Descriptions?<br>\n",
    "<li>What are the top ten trigrams found in Job Descriptions?<br>"
   ]
  },
  {
   "cell_type": "code",
   "execution_count": 102,
   "metadata": {},
   "outputs": [
    {
     "name": "stdout",
     "output_type": "stream",
     "text": [
      "<class 'pandas.core.frame.DataFrame'>\n",
      "RangeIndex: 639 entries, 0 to 638\n",
      "Data columns (total 15 columns):\n",
      " #   Column               Non-Null Count  Dtype         \n",
      "---  ------               --------------  -----         \n",
      " 0   Job Title            639 non-null    object        \n",
      " 1   Companies            639 non-null    object        \n",
      " 2   Location             639 non-null    object        \n",
      " 3   Date posted          639 non-null    datetime64[ns]\n",
      " 4   Other information    639 non-null    object        \n",
      " 5   Job Description      639 non-null    object        \n",
      " 6   URL                  639 non-null    object        \n",
      " 7   Pay_average          218 non-null    float64       \n",
      " 8   Qualifications       639 non-null    object        \n",
      " 9   Position             639 non-null    object        \n",
      " 10  Employment Type      639 non-null    object        \n",
      " 11  Years of Experience  393 non-null    float64       \n",
      " 12  Skills Needed        639 non-null    object        \n",
      " 13  Number of Skills     639 non-null    int32         \n",
      " 14  Processed_JD         639 non-null    object        \n",
      "dtypes: datetime64[ns](1), float64(2), int32(1), object(11)\n",
      "memory usage: 72.5+ KB\n"
     ]
    }
   ],
   "source": [
    "df.info()"
   ]
  },
  {
   "cell_type": "code",
   "execution_count": 103,
   "metadata": {},
   "outputs": [],
   "source": [
    "df.drop_duplicates(subset='Job Description' ,inplace = True)"
   ]
  },
  {
   "cell_type": "code",
   "execution_count": 104,
   "metadata": {},
   "outputs": [
    {
     "name": "stdout",
     "output_type": "stream",
     "text": [
      "<class 'pandas.core.frame.DataFrame'>\n",
      "Int64Index: 525 entries, 0 to 638\n",
      "Data columns (total 15 columns):\n",
      " #   Column               Non-Null Count  Dtype         \n",
      "---  ------               --------------  -----         \n",
      " 0   Job Title            525 non-null    object        \n",
      " 1   Companies            525 non-null    object        \n",
      " 2   Location             525 non-null    object        \n",
      " 3   Date posted          525 non-null    datetime64[ns]\n",
      " 4   Other information    525 non-null    object        \n",
      " 5   Job Description      525 non-null    object        \n",
      " 6   URL                  525 non-null    object        \n",
      " 7   Pay_average          169 non-null    float64       \n",
      " 8   Qualifications       525 non-null    object        \n",
      " 9   Position             525 non-null    object        \n",
      " 10  Employment Type      525 non-null    object        \n",
      " 11  Years of Experience  316 non-null    float64       \n",
      " 12  Skills Needed        525 non-null    object        \n",
      " 13  Number of Skills     525 non-null    int32         \n",
      " 14  Processed_JD         525 non-null    object        \n",
      "dtypes: datetime64[ns](1), float64(2), int32(1), object(11)\n",
      "memory usage: 63.6+ KB\n"
     ]
    }
   ],
   "source": [
    "df.info()"
   ]
  },
  {
   "cell_type": "code",
   "execution_count": 105,
   "metadata": {},
   "outputs": [
    {
     "data": {
      "text/plain": [
       "Index(['Job Title', 'Companies', 'Location', 'Date posted',\n",
       "       'Other information', 'Job Description', 'URL', 'Pay_average',\n",
       "       'Qualifications', 'Position', 'Employment Type', 'Years of Experience',\n",
       "       'Skills Needed', 'Number of Skills', 'Processed_JD'],\n",
       "      dtype='object')"
      ]
     },
     "execution_count": 105,
     "metadata": {},
     "output_type": "execute_result"
    }
   ],
   "source": [
    "df.columns"
   ]
  },
  {
   "cell_type": "code",
   "execution_count": 106,
   "metadata": {},
   "outputs": [],
   "source": [
    "from datetime import timedelta"
   ]
  },
  {
   "cell_type": "code",
   "execution_count": 107,
   "metadata": {},
   "outputs": [
    {
     "data": {
      "text/plain": [
       "Timestamp('2021-09-21 00:00:00')"
      ]
     },
     "execution_count": 107,
     "metadata": {},
     "output_type": "execute_result"
    }
   ],
   "source": [
    "max(df['Date posted'])"
   ]
  },
  {
   "cell_type": "code",
   "execution_count": 108,
   "metadata": {},
   "outputs": [
    {
     "data": {
      "text/plain": [
       "Timestamp('2021-08-24 00:00:00')"
      ]
     },
     "execution_count": 108,
     "metadata": {},
     "output_type": "execute_result"
    }
   ],
   "source": [
    "min(df['Date posted'])"
   ]
  },
  {
   "cell_type": "code",
   "execution_count": 109,
   "metadata": {},
   "outputs": [
    {
     "data": {
      "text/plain": [
       "Timedelta('28 days 00:00:00')"
      ]
     },
     "execution_count": 109,
     "metadata": {},
     "output_type": "execute_result"
    }
   ],
   "source": [
    "max(df['Date posted']) - min(df['Date posted'])"
   ]
  },
  {
   "cell_type": "code",
   "execution_count": 110,
   "metadata": {},
   "outputs": [],
   "source": [
    "date_range = np.timedelta64(max(df['Date posted']) - min(df['Date posted']), 'D').astype(int)"
   ]
  },
  {
   "cell_type": "code",
   "execution_count": 111,
   "metadata": {},
   "outputs": [],
   "source": [
    "df.reset_index(inplace = True, drop = True)"
   ]
  },
  {
   "cell_type": "code",
   "execution_count": 112,
   "metadata": {},
   "outputs": [
    {
     "data": {
      "text/plain": [
       "count      169.000000\n",
       "mean      5253.313609\n",
       "std       1625.411568\n",
       "min       1700.000000\n",
       "25%       4000.000000\n",
       "50%       5000.000000\n",
       "75%       6250.000000\n",
       "max      10500.000000\n",
       "Name: Pay_average, dtype: float64"
      ]
     },
     "execution_count": 112,
     "metadata": {},
     "output_type": "execute_result"
    }
   ],
   "source": [
    "df['Pay_average'].describe()"
   ]
  },
  {
   "cell_type": "code",
   "execution_count": 113,
   "metadata": {},
   "outputs": [
    {
     "data": {
      "text/plain": [
       "Text(0, 0.5, 'Average Pay')"
      ]
     },
     "execution_count": 113,
     "metadata": {},
     "output_type": "execute_result"
    },
    {
     "data": {
      "image/png": "[encoded data removed]",
      "text/plain": [
       "<Figure size 432x288 with 1 Axes>"
      ]
     },
     "metadata": {
      "needs_background": "light"
     },
     "output_type": "display_data"
    }
   ],
   "source": [
    "sns.boxplot(y = df['Pay_average'])\n",
    "sns.violinplot(y = df['Pay_average'])\n",
    "plt.ylabel(\"Average Pay\")"
   ]
  },
  {
   "cell_type": "code",
   "execution_count": 114,
   "metadata": {},
   "outputs": [
    {
     "data": {
      "text/plain": [
       "<seaborn.axisgrid.FacetGrid at 0x21cc972deb0>"
      ]
     },
     "execution_count": 114,
     "metadata": {},
     "output_type": "execute_result"
    },
    {
     "data": {
      "image/png": "[encoded data removed]",
      "text/plain": [
       "<Figure size 360x360 with 1 Axes>"
      ]
     },
     "metadata": {
      "needs_background": "light"
     },
     "output_type": "display_data"
    }
   ],
   "source": [
    "sns.lmplot(data = df, x= 'Pay_average', y = 'Years of Experience')"
   ]
  },
  {
   "cell_type": "code",
   "execution_count": 115,
   "metadata": {},
   "outputs": [
    {
     "data": {
      "text/html": [
       "<div>\n",
       "<style scoped>\n",
       "    .dataframe tbody tr th:only-of-type {\n",
       "        vertical-align: middle;\n",
       "    }\n",
       "\n",
       "    .dataframe tbody tr th {\n",
       "        vertical-align: top;\n",
       "    }\n",
       "\n",
       "    .dataframe thead th {\n",
       "        text-align: right;\n",
       "    }\n",
       "</style>\n",
       "<table border=\"1\" class=\"dataframe\">\n",
       "  <thead>\n",
       "    <tr style=\"text-align: right;\">\n",
       "      <th></th>\n",
       "      <th>Pay_average</th>\n",
       "      <th>Years of Experience</th>\n",
       "      <th>Number of Skills</th>\n",
       "    </tr>\n",
       "  </thead>\n",
       "  <tbody>\n",
       "    <tr>\n",
       "      <th>Pay_average</th>\n",
       "      <td>1.000000</td>\n",
       "      <td>-0.053293</td>\n",
       "      <td>0.061923</td>\n",
       "    </tr>\n",
       "    <tr>\n",
       "      <th>Years of Experience</th>\n",
       "      <td>-0.053293</td>\n",
       "      <td>1.000000</td>\n",
       "      <td>0.135466</td>\n",
       "    </tr>\n",
       "    <tr>\n",
       "      <th>Number of Skills</th>\n",
       "      <td>0.061923</td>\n",
       "      <td>0.135466</td>\n",
       "      <td>1.000000</td>\n",
       "    </tr>\n",
       "  </tbody>\n",
       "</table>\n",
       "</div>"
      ],
      "text/plain": [
       "                     Pay_average  Years of Experience  Number of Skills\n",
       "Pay_average             1.000000            -0.053293          0.061923\n",
       "Years of Experience    -0.053293             1.000000          0.135466\n",
       "Number of Skills        0.061923             0.135466          1.000000"
      ]
     },
     "execution_count": 115,
     "metadata": {},
     "output_type": "execute_result"
    }
   ],
   "source": [
    "df.corr()"
   ]
  },
  {
   "cell_type": "code",
   "execution_count": 116,
   "metadata": {},
   "outputs": [
    {
     "data": {
      "text/plain": [
       "<AxesSubplot:>"
      ]
     },
     "execution_count": 116,
     "metadata": {},
     "output_type": "execute_result"
    },
    {
     "data": {
      "image/png": "[encoded data removed]",
      "text/plain": [
       "<Figure size 432x288 with 2 Axes>"
      ]
     },
     "metadata": {
      "needs_background": "light"
     },
     "output_type": "display_data"
    }
   ],
   "source": [
    "sns.heatmap(df.select_dtypes(exclude=['object','datetime64']).corr(), cmap = 'hot')"
   ]
  },
  {
   "cell_type": "code",
   "execution_count": 117,
   "metadata": {},
   "outputs": [
    {
     "data": {
      "text/plain": [
       "Text(0.5, 0, 'Number of Jobs Posted')"
      ]
     },
     "execution_count": 117,
     "metadata": {},
     "output_type": "execute_result"
    },
    {
     "data": {
      "image/png": "[encoded data removed]",
      "text/plain": [
       "<Figure size 432x288 with 1 Axes>"
      ]
     },
     "metadata": {
      "needs_background": "light"
     },
     "output_type": "display_data"
    }
   ],
   "source": [
    "df['Companies'].value_counts().nlargest(10).plot(kind= 'barh')\n",
    "plt.title('Top Hirers')\n",
    "plt.xlabel('Number of Jobs Posted')"
   ]
  },
  {
   "cell_type": "code",
   "execution_count": 118,
   "metadata": {},
   "outputs": [],
   "source": [
    "top_ten_hirer = list(df['Companies'].value_counts().nlargest(10).index)"
   ]
  },
  {
   "cell_type": "markdown",
   "metadata": {},
   "source": [
    "df['Companies'].filter(lambda x : x['Companies'] in top_ten_hirer)"
   ]
  },
  {
   "cell_type": "code",
   "execution_count": 119,
   "metadata": {},
   "outputs": [
    {
     "data": {
      "text/html": [
       "<div>\n",
       "<style scoped>\n",
       "    .dataframe tbody tr th:only-of-type {\n",
       "        vertical-align: middle;\n",
       "    }\n",
       "\n",
       "    .dataframe tbody tr th {\n",
       "        vertical-align: top;\n",
       "    }\n",
       "\n",
       "    .dataframe thead th {\n",
       "        text-align: right;\n",
       "    }\n",
       "</style>\n",
       "<table border=\"1\" class=\"dataframe\">\n",
       "  <thead>\n",
       "    <tr style=\"text-align: right;\">\n",
       "      <th></th>\n",
       "      <th>Pay_average</th>\n",
       "      <th>Years of Experience</th>\n",
       "      <th>Number of Skills</th>\n",
       "    </tr>\n",
       "    <tr>\n",
       "      <th>Companies</th>\n",
       "      <th></th>\n",
       "      <th></th>\n",
       "      <th></th>\n",
       "    </tr>\n",
       "  </thead>\n",
       "  <tbody>\n",
       "    <tr>\n",
       "      <th>Bytedance Pte. Ltd.</th>\n",
       "      <td>5253.125000</td>\n",
       "      <td>2.473684</td>\n",
       "      <td>3.113636</td>\n",
       "    </tr>\n",
       "    <tr>\n",
       "      <th>DBS Bank Limited</th>\n",
       "      <td>5394.444444</td>\n",
       "      <td>6.357143</td>\n",
       "      <td>4.848485</td>\n",
       "    </tr>\n",
       "    <tr>\n",
       "      <th>Government Technology Agency of Singapore (GovTech)</th>\n",
       "      <td>5650.000000</td>\n",
       "      <td>3.000000</td>\n",
       "      <td>5.714286</td>\n",
       "    </tr>\n",
       "    <tr>\n",
       "      <th>Nanyang Technological University</th>\n",
       "      <td>5316.363636</td>\n",
       "      <td>3.785714</td>\n",
       "      <td>2.451220</td>\n",
       "    </tr>\n",
       "    <tr>\n",
       "      <th>OCBC Bank (Singapore)</th>\n",
       "      <td>5325.000000</td>\n",
       "      <td>5.058824</td>\n",
       "      <td>4.400000</td>\n",
       "    </tr>\n",
       "    <tr>\n",
       "      <th>PERSOLKELLY Singapore Pte Ltd (Formerly Kelly Services Singapore Pte Ltd)</th>\n",
       "      <td>5395.833333</td>\n",
       "      <td>3.555556</td>\n",
       "      <td>2.531250</td>\n",
       "    </tr>\n",
       "    <tr>\n",
       "      <th>Singapore Telecommunications Limited</th>\n",
       "      <td>4500.000000</td>\n",
       "      <td>4.125000</td>\n",
       "      <td>6.500000</td>\n",
       "    </tr>\n",
       "    <tr>\n",
       "      <th>Spring Professional (Singapore) Pte Ltd</th>\n",
       "      <td>5625.000000</td>\n",
       "      <td>4.700000</td>\n",
       "      <td>4.307692</td>\n",
       "    </tr>\n",
       "    <tr>\n",
       "      <th>TIKTOK PTE. LTD.</th>\n",
       "      <td>5027.777778</td>\n",
       "      <td>2.538462</td>\n",
       "      <td>2.652174</td>\n",
       "    </tr>\n",
       "    <tr>\n",
       "      <th>The Great Eastern Life Assurance Co Ltd</th>\n",
       "      <td>5966.666667</td>\n",
       "      <td>5.750000</td>\n",
       "      <td>3.900000</td>\n",
       "    </tr>\n",
       "  </tbody>\n",
       "</table>\n",
       "</div>"
      ],
      "text/plain": [
       "                                                    Pay_average  \\\n",
       "Companies                                                         \n",
       "Bytedance Pte. Ltd.                                 5253.125000   \n",
       "DBS Bank Limited                                    5394.444444   \n",
       "Government Technology Agency of Singapore (GovT...  5650.000000   \n",
       "Nanyang Technological University                    5316.363636   \n",
       "OCBC Bank (Singapore)                               5325.000000   \n",
       "PERSOLKELLY Singapore Pte Ltd (Formerly Kelly S...  5395.833333   \n",
       "Singapore Telecommunications Limited                4500.000000   \n",
       "Spring Professional (Singapore) Pte Ltd             5625.000000   \n",
       "TIKTOK PTE. LTD.                                    5027.777778   \n",
       "The Great Eastern Life Assurance Co Ltd             5966.666667   \n",
       "\n",
       "                                                    Years of Experience  \\\n",
       "Companies                                                                 \n",
       "Bytedance Pte. Ltd.                                            2.473684   \n",
       "DBS Bank Limited                                               6.357143   \n",
       "Government Technology Agency of Singapore (GovT...             3.000000   \n",
       "Nanyang Technological University                               3.785714   \n",
       "OCBC Bank (Singapore)                                          5.058824   \n",
       "PERSOLKELLY Singapore Pte Ltd (Formerly Kelly S...             3.555556   \n",
       "Singapore Telecommunications Limited                           4.125000   \n",
       "Spring Professional (Singapore) Pte Ltd                        4.700000   \n",
       "TIKTOK PTE. LTD.                                               2.538462   \n",
       "The Great Eastern Life Assurance Co Ltd                        5.750000   \n",
       "\n",
       "                                                    Number of Skills  \n",
       "Companies                                                             \n",
       "Bytedance Pte. Ltd.                                         3.113636  \n",
       "DBS Bank Limited                                            4.848485  \n",
       "Government Technology Agency of Singapore (GovT...          5.714286  \n",
       "Nanyang Technological University                            2.451220  \n",
       "OCBC Bank (Singapore)                                       4.400000  \n",
       "PERSOLKELLY Singapore Pte Ltd (Formerly Kelly S...          2.531250  \n",
       "Singapore Telecommunications Limited                        6.500000  \n",
       "Spring Professional (Singapore) Pte Ltd                     4.307692  \n",
       "TIKTOK PTE. LTD.                                            2.652174  \n",
       "The Great Eastern Life Assurance Co Ltd                     3.900000  "
      ]
     },
     "execution_count": 119,
     "metadata": {},
     "output_type": "execute_result"
    }
   ],
   "source": [
    "df[df['Companies'].isin(top_ten_hirer)].groupby('Companies', sort = True).mean()"
   ]
  },
  {
   "cell_type": "code",
   "execution_count": 168,
   "metadata": {},
   "outputs": [
    {
     "data": {
      "text/plain": [
       "([<matplotlib.axis.XTick at 0x21cd30e5a30>,\n",
       "  <matplotlib.axis.XTick at 0x21cd30e5a00>,\n",
       "  <matplotlib.axis.XTick at 0x21cd30e5580>,\n",
       "  <matplotlib.axis.XTick at 0x21cd3ab4040>,\n",
       "  <matplotlib.axis.XTick at 0x21cd3ab4550>,\n",
       "  <matplotlib.axis.XTick at 0x21cd3ab4a60>,\n",
       "  <matplotlib.axis.XTick at 0x21cd3ab4f70>,\n",
       "  <matplotlib.axis.XTick at 0x21cd30e50a0>,\n",
       "  <matplotlib.axis.XTick at 0x21cd3ab8a30>,\n",
       "  <matplotlib.axis.XTick at 0x21cd3ab4160>],\n",
       " [Text(0, 0, 'ByteDance'),\n",
       "  Text(1, 0, 'DBS'),\n",
       "  Text(2, 0, 'GovTech'),\n",
       "  Text(3, 0, 'NTU'),\n",
       "  Text(4, 0, 'OCBC'),\n",
       "  Text(5, 0, 'Kelly Services'),\n",
       "  Text(6, 0, 'Singtel'),\n",
       "  Text(7, 0, 'Spring'),\n",
       "  Text(8, 0, 'Tiktok'),\n",
       "  Text(9, 0, 'Great Eastern')])"
      ]
     },
     "execution_count": 168,
     "metadata": {},
     "output_type": "execute_result"
    },
    {
     "data": {
      "image/png": "[encoded data removed]",
      "text/plain": [
       "<Figure size 720x360 with 1 Axes>"
      ]
     },
     "metadata": {
      "needs_background": "light"
     },
     "output_type": "display_data"
    }
   ],
   "source": [
    "df[df['Companies'].isin(top_ten_hirer)].groupby('Companies', sort = True).mean().plot(kind = 'bar', figsize=(10,5), legend = False)\n",
    "plt.xticks(range(10),labels=('ByteDance', 'DBS','GovTech','NTU','OCBC','Kelly Services','Singtel','Spring','Tiktok', 'Great Eastern'),rotation=90)"
   ]
  },
  {
   "cell_type": "code",
   "execution_count": 121,
   "metadata": {},
   "outputs": [
    {
     "data": {
      "text/plain": [
       "Companies\n",
       "Bytedance Pte. Ltd.                                                          44\n",
       "DBS Bank Limited                                                             33\n",
       "Government Technology Agency of Singapore (GovTech)                           7\n",
       "Nanyang Technological University                                             82\n",
       "OCBC Bank (Singapore)                                                        20\n",
       "PERSOLKELLY Singapore Pte Ltd (Formerly Kelly Services Singapore Pte Ltd)    32\n",
       "Singapore Telecommunications Limited                                          8\n",
       "Spring Professional (Singapore) Pte Ltd                                      13\n",
       "TIKTOK PTE. LTD.                                                             23\n",
       "The Great Eastern Life Assurance Co Ltd                                      10\n",
       "Name: Job Title, dtype: int64"
      ]
     },
     "execution_count": 121,
     "metadata": {},
     "output_type": "execute_result"
    }
   ],
   "source": [
    "df[df['Companies'].isin(top_ten_hirer)].groupby('Companies', sort = True).count()['Job Title']"
   ]
  },
  {
   "cell_type": "code",
   "execution_count": 122,
   "metadata": {},
   "outputs": [
    {
     "data": {
      "text/plain": [
       "Companies\n",
       "Helius Technologies Pte Ltd              9750.0\n",
       "Lam Research Singapore Pte Ltd           9250.0\n",
       "Office Productivity Solution Pte Ltd.    9000.0\n",
       "Carousell Pte Ltd                        8500.0\n",
       "Newbridge Alliance Pte Ltd               8500.0\n",
       "Shell Infotech Pte Ltd                   8000.0\n",
       "Talent Trader Group Pte Ltd - IT         7500.0\n",
       "VOLT                                     7500.0\n",
       "Informa Markets                          7000.0\n",
       "Kaishi Partners                          7000.0\n",
       "Name: Pay_average, dtype: float64"
      ]
     },
     "execution_count": 122,
     "metadata": {},
     "output_type": "execute_result"
    }
   ],
   "source": [
    "#Top ten companies that are paying the highest\n",
    "df.groupby(by='Companies')['Pay_average'].mean().nlargest(10)"
   ]
  },
  {
   "cell_type": "code",
   "execution_count": 123,
   "metadata": {},
   "outputs": [
    {
     "data": {
      "text/html": [
       "<div>\n",
       "<style scoped>\n",
       "    .dataframe tbody tr th:only-of-type {\n",
       "        vertical-align: middle;\n",
       "    }\n",
       "\n",
       "    .dataframe tbody tr th {\n",
       "        vertical-align: top;\n",
       "    }\n",
       "\n",
       "    .dataframe thead th {\n",
       "        text-align: right;\n",
       "    }\n",
       "</style>\n",
       "<table border=\"1\" class=\"dataframe\">\n",
       "  <thead>\n",
       "    <tr style=\"text-align: right;\">\n",
       "      <th></th>\n",
       "      <th>Job Title</th>\n",
       "      <th>Companies</th>\n",
       "      <th>Location</th>\n",
       "      <th>Date posted</th>\n",
       "      <th>Other information</th>\n",
       "      <th>Job Description</th>\n",
       "      <th>URL</th>\n",
       "      <th>Pay_average</th>\n",
       "      <th>Qualifications</th>\n",
       "      <th>Position</th>\n",
       "      <th>Employment Type</th>\n",
       "      <th>Years of Experience</th>\n",
       "      <th>Skills Needed</th>\n",
       "      <th>Number of Skills</th>\n",
       "      <th>Processed_JD</th>\n",
       "    </tr>\n",
       "  </thead>\n",
       "  <tbody>\n",
       "    <tr>\n",
       "      <th>18</th>\n",
       "      <td>Data Engineer (Permanent Role)</td>\n",
       "      <td>Helius Technologies Pte Ltd</td>\n",
       "      <td>Central</td>\n",
       "      <td>2021-09-19</td>\n",
       "      <td>Junior Executive Diploma, Advanced/Higher/Grad...</td>\n",
       "      <td>Data Engineer (Permanent Role, Central Singapo...</td>\n",
       "      <td>http://www.jobstreet.com.sg/en/job/data-engine...</td>\n",
       "      <td>NaN</td>\n",
       "      <td>Bachelor's Degree , Diploma , Advanced/Higher/...</td>\n",
       "      <td>Junior Executive</td>\n",
       "      <td>Full-Time</td>\n",
       "      <td>3.0</td>\n",
       "      <td>SQL , cloud , AWS , Azure , GCP , Spark</td>\n",
       "      <td>6</td>\n",
       "      <td>Data Engineer Permanent Role Central Singapore...</td>\n",
       "    </tr>\n",
       "    <tr>\n",
       "      <th>45</th>\n",
       "      <td>Senior Data Engineer (Permanent Role)</td>\n",
       "      <td>Helius Technologies Pte Ltd</td>\n",
       "      <td>Singapore</td>\n",
       "      <td>2021-09-19</td>\n",
       "      <td>Senior Executive Diploma, Advanced/Higher/Grad...</td>\n",
       "      <td>Senior Data Engineer (Permanent Role, Central ...</td>\n",
       "      <td>http://www.jobstreet.com.sg/en/job/senior-data...</td>\n",
       "      <td>9750.0</td>\n",
       "      <td>Bachelor's Degree , Diploma , Advanced/Higher/...</td>\n",
       "      <td>Senior Executive</td>\n",
       "      <td>Full-Time</td>\n",
       "      <td>8.0</td>\n",
       "      <td>SQL , cloud , AWS , Azure , GCP , Spark</td>\n",
       "      <td>6</td>\n",
       "      <td>Senior Data Engineer Permanent Role Central Si...</td>\n",
       "    </tr>\n",
       "    <tr>\n",
       "      <th>415</th>\n",
       "      <td>Power Bi Developer (Central Singapore) - CONTR...</td>\n",
       "      <td>Helius Technologies Pte Ltd</td>\n",
       "      <td>Central</td>\n",
       "      <td>2021-09-16</td>\n",
       "      <td>Junior Executive Diploma, Advanced/Higher/Grad...</td>\n",
       "      <td>Our client is currently in need to onboard Two...</td>\n",
       "      <td>http://www.jobstreet.com.sg/en/job/power-bi-de...</td>\n",
       "      <td>NaN</td>\n",
       "      <td>Bachelor's Degree , Diploma , Advanced/Higher/...</td>\n",
       "      <td>Junior Executive</td>\n",
       "      <td>Contract</td>\n",
       "      <td>4.0</td>\n",
       "      <td>SQL , PowerBI</td>\n",
       "      <td>2</td>\n",
       "      <td>client currently need onboard Two 2 PowerBI De...</td>\n",
       "    </tr>\n",
       "  </tbody>\n",
       "</table>\n",
       "</div>"
      ],
      "text/plain": [
       "                                             Job Title  \\\n",
       "18                      Data Engineer (Permanent Role)   \n",
       "45               Senior Data Engineer (Permanent Role)   \n",
       "415  Power Bi Developer (Central Singapore) - CONTR...   \n",
       "\n",
       "                       Companies   Location Date posted  \\\n",
       "18   Helius Technologies Pte Ltd    Central  2021-09-19   \n",
       "45   Helius Technologies Pte Ltd  Singapore  2021-09-19   \n",
       "415  Helius Technologies Pte Ltd    Central  2021-09-16   \n",
       "\n",
       "                                     Other information  \\\n",
       "18   Junior Executive Diploma, Advanced/Higher/Grad...   \n",
       "45   Senior Executive Diploma, Advanced/Higher/Grad...   \n",
       "415  Junior Executive Diploma, Advanced/Higher/Grad...   \n",
       "\n",
       "                                       Job Description  \\\n",
       "18   Data Engineer (Permanent Role, Central Singapo...   \n",
       "45   Senior Data Engineer (Permanent Role, Central ...   \n",
       "415  Our client is currently in need to onboard Two...   \n",
       "\n",
       "                                                   URL  Pay_average  \\\n",
       "18   http://www.jobstreet.com.sg/en/job/data-engine...          NaN   \n",
       "45   http://www.jobstreet.com.sg/en/job/senior-data...       9750.0   \n",
       "415  http://www.jobstreet.com.sg/en/job/power-bi-de...          NaN   \n",
       "\n",
       "                                        Qualifications          Position  \\\n",
       "18   Bachelor's Degree , Diploma , Advanced/Higher/...  Junior Executive   \n",
       "45   Bachelor's Degree , Diploma , Advanced/Higher/...  Senior Executive   \n",
       "415  Bachelor's Degree , Diploma , Advanced/Higher/...  Junior Executive   \n",
       "\n",
       "    Employment Type  Years of Experience  \\\n",
       "18        Full-Time                  3.0   \n",
       "45        Full-Time                  8.0   \n",
       "415        Contract                  4.0   \n",
       "\n",
       "                               Skills Needed  Number of Skills  \\\n",
       "18   SQL , cloud , AWS , Azure , GCP , Spark                 6   \n",
       "45   SQL , cloud , AWS , Azure , GCP , Spark                 6   \n",
       "415                            SQL , PowerBI                 2   \n",
       "\n",
       "                                          Processed_JD  \n",
       "18   Data Engineer Permanent Role Central Singapore...  \n",
       "45   Senior Data Engineer Permanent Role Central Si...  \n",
       "415  client currently need onboard Two 2 PowerBI De...  "
      ]
     },
     "execution_count": 123,
     "metadata": {},
     "output_type": "execute_result"
    }
   ],
   "source": [
    "df[df['Companies'] == 'Helius Technologies Pte Ltd']"
   ]
  },
  {
   "cell_type": "code",
   "execution_count": 124,
   "metadata": {},
   "outputs": [
    {
     "data": {
      "text/html": [
       "<div>\n",
       "<style scoped>\n",
       "    .dataframe tbody tr th:only-of-type {\n",
       "        vertical-align: middle;\n",
       "    }\n",
       "\n",
       "    .dataframe tbody tr th {\n",
       "        vertical-align: top;\n",
       "    }\n",
       "\n",
       "    .dataframe thead th {\n",
       "        text-align: right;\n",
       "    }\n",
       "</style>\n",
       "<table border=\"1\" class=\"dataframe\">\n",
       "  <thead>\n",
       "    <tr style=\"text-align: right;\">\n",
       "      <th></th>\n",
       "      <th>Job Title</th>\n",
       "      <th>Companies</th>\n",
       "      <th>Location</th>\n",
       "      <th>Date posted</th>\n",
       "      <th>Other information</th>\n",
       "      <th>Job Description</th>\n",
       "      <th>URL</th>\n",
       "      <th>Pay_average</th>\n",
       "      <th>Qualifications</th>\n",
       "      <th>Position</th>\n",
       "      <th>Employment Type</th>\n",
       "      <th>Years of Experience</th>\n",
       "      <th>Skills Needed</th>\n",
       "      <th>Number of Skills</th>\n",
       "      <th>Processed_JD</th>\n",
       "    </tr>\n",
       "  </thead>\n",
       "  <tbody>\n",
       "    <tr>\n",
       "      <th>105</th>\n",
       "      <td>Data Scientist (Image Processing/ Computer Vis...</td>\n",
       "      <td>Lam Research Singapore Pte Ltd</td>\n",
       "      <td>Singapore</td>\n",
       "      <td>2021-09-13</td>\n",
       "      <td>Leading supplier of wafer fabrication equipme...</td>\n",
       "      <td>Position Summary:This position will be working...</td>\n",
       "      <td>http://www.jobstreet.com.sg/en/job/data-scient...</td>\n",
       "      <td>9250.0</td>\n",
       "      <td>Master's Degree</td>\n",
       "      <td>Senior Executive</td>\n",
       "      <td>Full-Time</td>\n",
       "      <td>3.0</td>\n",
       "      <td>Python , deep learning , SQL , Spark , HBase ,...</td>\n",
       "      <td>6</td>\n",
       "      <td>Position Summary position working multi-dimens...</td>\n",
       "    </tr>\n",
       "  </tbody>\n",
       "</table>\n",
       "</div>"
      ],
      "text/plain": [
       "                                             Job Title  \\\n",
       "105  Data Scientist (Image Processing/ Computer Vis...   \n",
       "\n",
       "                          Companies   Location Date posted  \\\n",
       "105  Lam Research Singapore Pte Ltd  Singapore  2021-09-13   \n",
       "\n",
       "                                     Other information  \\\n",
       "105   Leading supplier of wafer fabrication equipme...   \n",
       "\n",
       "                                       Job Description  \\\n",
       "105  Position Summary:This position will be working...   \n",
       "\n",
       "                                                   URL  Pay_average  \\\n",
       "105  http://www.jobstreet.com.sg/en/job/data-scient...       9250.0   \n",
       "\n",
       "      Qualifications          Position Employment Type  Years of Experience  \\\n",
       "105  Master's Degree  Senior Executive       Full-Time                  3.0   \n",
       "\n",
       "                                         Skills Needed  Number of Skills  \\\n",
       "105  Python , deep learning , SQL , Spark , HBase ,...                 6   \n",
       "\n",
       "                                          Processed_JD  \n",
       "105  Position Summary position working multi-dimens...  "
      ]
     },
     "execution_count": 124,
     "metadata": {},
     "output_type": "execute_result"
    }
   ],
   "source": [
    "df[df['Companies'] == 'Lam Research Singapore Pte Ltd']"
   ]
  },
  {
   "cell_type": "code",
   "execution_count": 125,
   "metadata": {},
   "outputs": [
    {
     "data": {
      "text/plain": [
       "Text(0.5, 0, 'Number of Jobs Posted')"
      ]
     },
     "execution_count": 125,
     "metadata": {},
     "output_type": "execute_result"
    },
    {
     "data": {
      "image/png": "[encoded data removed]",
      "text/plain": [
       "<Figure size 432x288 with 1 Axes>"
      ]
     },
     "metadata": {
      "needs_background": "light"
     },
     "output_type": "display_data"
    }
   ],
   "source": [
    "df['Job Title'].value_counts().nlargest(10).plot(kind= 'barh')\n",
    "plt.title('Top Common Job Titles')\n",
    "plt.xlabel('Number of Jobs Posted')"
   ]
  },
  {
   "cell_type": "code",
   "execution_count": 126,
   "metadata": {},
   "outputs": [
    {
     "data": {
      "text/plain": [
       "Text(0.5, 0, 'Number of Jobs Posted')"
      ]
     },
     "execution_count": 126,
     "metadata": {},
     "output_type": "execute_result"
    },
    {
     "data": {
      "image/png": "[encoded data removed]",
      "text/plain": [
       "<Figure size 432x288 with 1 Axes>"
      ]
     },
     "metadata": {
      "needs_background": "light"
     },
     "output_type": "display_data"
    }
   ],
   "source": [
    "df['Qualifications'].value_counts().nlargest(10).plot(kind= 'barh')\n",
    "plt.title('Education Certifications Needed')\n",
    "plt.xlabel('Number of Jobs Posted')"
   ]
  },
  {
   "cell_type": "code",
   "execution_count": 127,
   "metadata": {},
   "outputs": [
    {
     "data": {
      "text/plain": [
       "2     224\n",
       "3     111\n",
       "4      49\n",
       "6      47\n",
       "5      44\n",
       "7      22\n",
       "8      17\n",
       "10      5\n",
       "9       5\n",
       "12      1\n",
       "Name: Number of Skills, dtype: int64"
      ]
     },
     "execution_count": 127,
     "metadata": {},
     "output_type": "execute_result"
    }
   ],
   "source": [
    "df['Number of Skills'].value_counts()"
   ]
  },
  {
   "cell_type": "code",
   "execution_count": 128,
   "metadata": {},
   "outputs": [
    {
     "data": {
      "text/html": [
       "<div>\n",
       "<style scoped>\n",
       "    .dataframe tbody tr th:only-of-type {\n",
       "        vertical-align: middle;\n",
       "    }\n",
       "\n",
       "    .dataframe tbody tr th {\n",
       "        vertical-align: top;\n",
       "    }\n",
       "\n",
       "    .dataframe thead th {\n",
       "        text-align: right;\n",
       "    }\n",
       "</style>\n",
       "<table border=\"1\" class=\"dataframe\">\n",
       "  <thead>\n",
       "    <tr style=\"text-align: right;\">\n",
       "      <th></th>\n",
       "      <th>Job Title</th>\n",
       "      <th>Companies</th>\n",
       "      <th>Location</th>\n",
       "      <th>Date posted</th>\n",
       "      <th>Other information</th>\n",
       "      <th>Job Description</th>\n",
       "      <th>URL</th>\n",
       "      <th>Pay_average</th>\n",
       "      <th>Qualifications</th>\n",
       "      <th>Position</th>\n",
       "      <th>Employment Type</th>\n",
       "      <th>Years of Experience</th>\n",
       "      <th>Skills Needed</th>\n",
       "      <th>Number of Skills</th>\n",
       "      <th>Processed_JD</th>\n",
       "    </tr>\n",
       "  </thead>\n",
       "  <tbody>\n",
       "    <tr>\n",
       "      <th>70</th>\n",
       "      <td>Data Scientist - IoT Services</td>\n",
       "      <td>Siemens Pte Ltd</td>\n",
       "      <td>North-East</td>\n",
       "      <td>2021-09-13</td>\n",
       "      <td>Senior Executive Master's Degree 2 years Full-...</td>\n",
       "      <td>Job DescriptionWe are looking for a Data Scien...</td>\n",
       "      <td>http://www.jobstreet.com.sg/en/job/data-scient...</td>\n",
       "      <td>NaN</td>\n",
       "      <td>Master's Degree</td>\n",
       "      <td>Senior Executive</td>\n",
       "      <td>Full-Time</td>\n",
       "      <td>2.0</td>\n",
       "      <td>Python , deep learning , artificial intelligen...</td>\n",
       "      <td>12</td>\n",
       "      <td>Job DescriptionWe looking Data Scientist Digit...</td>\n",
       "    </tr>\n",
       "  </tbody>\n",
       "</table>\n",
       "</div>"
      ],
      "text/plain": [
       "                        Job Title        Companies    Location Date posted  \\\n",
       "70  Data Scientist - IoT Services  Siemens Pte Ltd  North-East  2021-09-13   \n",
       "\n",
       "                                    Other information  \\\n",
       "70  Senior Executive Master's Degree 2 years Full-...   \n",
       "\n",
       "                                      Job Description  \\\n",
       "70  Job DescriptionWe are looking for a Data Scien...   \n",
       "\n",
       "                                                  URL  Pay_average  \\\n",
       "70  http://www.jobstreet.com.sg/en/job/data-scient...          NaN   \n",
       "\n",
       "     Qualifications          Position Employment Type  Years of Experience  \\\n",
       "70  Master's Degree  Senior Executive       Full-Time                  2.0   \n",
       "\n",
       "                                        Skills Needed  Number of Skills  \\\n",
       "70  Python , deep learning , artificial intelligen...                12   \n",
       "\n",
       "                                         Processed_JD  \n",
       "70  Job DescriptionWe looking Data Scientist Digit...  "
      ]
     },
     "execution_count": 128,
     "metadata": {},
     "output_type": "execute_result"
    }
   ],
   "source": [
    "df[df['Number of Skills'] == 12]"
   ]
  },
  {
   "cell_type": "code",
   "execution_count": 129,
   "metadata": {},
   "outputs": [
    {
     "data": {
      "text/plain": [
       "Text(0.5, 0, 'Number of Jobs Posted')"
      ]
     },
     "execution_count": 129,
     "metadata": {},
     "output_type": "execute_result"
    },
    {
     "data": {
      "image/png": "[encoded data removed]",
      "text/plain": [
       "<Figure size 432x288 with 1 Axes>"
      ]
     },
     "metadata": {
      "needs_background": "light"
     },
     "output_type": "display_data"
    }
   ],
   "source": [
    "df['Number of Skills'].value_counts().plot(kind= 'barh')\n",
    "plt.title('Number of Skills')\n",
    "plt.xlabel('Number of Jobs Posted')"
   ]
  },
  {
   "cell_type": "code",
   "execution_count": 130,
   "metadata": {},
   "outputs": [
    {
     "data": {
      "text/plain": [
       "Text(0.5, 0, 'Number of Jobs Posted')"
      ]
     },
     "execution_count": 130,
     "metadata": {},
     "output_type": "execute_result"
    },
    {
     "data": {
      "image/png": "[encoded data removed]",
      "text/plain": [
       "<Figure size 432x288 with 1 Axes>"
      ]
     },
     "metadata": {
      "needs_background": "light"
     },
     "output_type": "display_data"
    }
   ],
   "source": [
    "df['Years of Experience'].value_counts().nlargest(10).plot(kind= 'barh')\n",
    "plt.title('Years of Experience')\n",
    "plt.xlabel('Number of Jobs Posted')"
   ]
  },
  {
   "cell_type": "code",
   "execution_count": 131,
   "metadata": {},
   "outputs": [
    {
     "name": "stderr",
     "output_type": "stream",
     "text": [
      "C:\\Users\\Randy\\anaconda3\\lib\\site-packages\\seaborn\\distributions.py:305: UserWarning: Dataset has 0 variance; skipping density estimate.\n",
      "  warnings.warn(msg, UserWarning)\n",
      "C:\\Users\\Randy\\anaconda3\\lib\\site-packages\\seaborn\\distributions.py:305: UserWarning: Dataset has 0 variance; skipping density estimate.\n",
      "  warnings.warn(msg, UserWarning)\n"
     ]
    },
    {
     "data": {
      "text/plain": [
       "<seaborn.axisgrid.PairGrid at 0x21cc9ebc9d0>"
      ]
     },
     "execution_count": 131,
     "metadata": {},
     "output_type": "execute_result"
    },
    {
     "data": {
      "image/png": "[encoded data removed]",
      "text/plain": [
       "<Figure size 681.75x576 with 5 Axes>"
      ]
     },
     "metadata": {
      "needs_background": "light"
     },
     "output_type": "display_data"
    }
   ],
   "source": [
    "sns.pairplot(data = df,hue='Years of Experience' ,corner  =True, palette= 'rainbow',height =4)"
   ]
  },
  {
   "cell_type": "code",
   "execution_count": 132,
   "metadata": {},
   "outputs": [
    {
     "data": {
      "text/html": [
       "<div>\n",
       "<style scoped>\n",
       "    .dataframe tbody tr th:only-of-type {\n",
       "        vertical-align: middle;\n",
       "    }\n",
       "\n",
       "    .dataframe tbody tr th {\n",
       "        vertical-align: top;\n",
       "    }\n",
       "\n",
       "    .dataframe thead th {\n",
       "        text-align: right;\n",
       "    }\n",
       "</style>\n",
       "<table border=\"1\" class=\"dataframe\">\n",
       "  <thead>\n",
       "    <tr style=\"text-align: right;\">\n",
       "      <th></th>\n",
       "      <th>Job Title</th>\n",
       "      <th>Companies</th>\n",
       "      <th>Location</th>\n",
       "      <th>Date posted</th>\n",
       "      <th>Other information</th>\n",
       "      <th>Job Description</th>\n",
       "      <th>URL</th>\n",
       "      <th>Pay_average</th>\n",
       "      <th>Qualifications</th>\n",
       "      <th>Position</th>\n",
       "      <th>Employment Type</th>\n",
       "      <th>Years of Experience</th>\n",
       "      <th>Skills Needed</th>\n",
       "      <th>Number of Skills</th>\n",
       "      <th>Processed_JD</th>\n",
       "    </tr>\n",
       "  </thead>\n",
       "  <tbody>\n",
       "    <tr>\n",
       "      <th>70</th>\n",
       "      <td>Data Scientist - IoT Services</td>\n",
       "      <td>Siemens Pte Ltd</td>\n",
       "      <td>North-East</td>\n",
       "      <td>2021-09-13</td>\n",
       "      <td>Senior Executive Master's Degree 2 years Full-...</td>\n",
       "      <td>Job DescriptionWe are looking for a Data Scien...</td>\n",
       "      <td>http://www.jobstreet.com.sg/en/job/data-scient...</td>\n",
       "      <td>NaN</td>\n",
       "      <td>Master's Degree</td>\n",
       "      <td>Senior Executive</td>\n",
       "      <td>Full-Time</td>\n",
       "      <td>2.0</td>\n",
       "      <td>Python , deep learning , artificial intelligen...</td>\n",
       "      <td>12</td>\n",
       "      <td>Job DescriptionWe looking Data Scientist Digit...</td>\n",
       "    </tr>\n",
       "  </tbody>\n",
       "</table>\n",
       "</div>"
      ],
      "text/plain": [
       "                        Job Title        Companies    Location Date posted  \\\n",
       "70  Data Scientist - IoT Services  Siemens Pte Ltd  North-East  2021-09-13   \n",
       "\n",
       "                                    Other information  \\\n",
       "70  Senior Executive Master's Degree 2 years Full-...   \n",
       "\n",
       "                                      Job Description  \\\n",
       "70  Job DescriptionWe are looking for a Data Scien...   \n",
       "\n",
       "                                                  URL  Pay_average  \\\n",
       "70  http://www.jobstreet.com.sg/en/job/data-scient...          NaN   \n",
       "\n",
       "     Qualifications          Position Employment Type  Years of Experience  \\\n",
       "70  Master's Degree  Senior Executive       Full-Time                  2.0   \n",
       "\n",
       "                                        Skills Needed  Number of Skills  \\\n",
       "70  Python , deep learning , artificial intelligen...                12   \n",
       "\n",
       "                                         Processed_JD  \n",
       "70  Job DescriptionWe looking Data Scientist Digit...  "
      ]
     },
     "execution_count": 132,
     "metadata": {},
     "output_type": "execute_result"
    }
   ],
   "source": [
    "df[(df['Years of Experience'] >= 2) & (df['Number of Skills'] > 10)]"
   ]
  },
  {
   "cell_type": "code",
   "execution_count": 133,
   "metadata": {},
   "outputs": [
    {
     "name": "stderr",
     "output_type": "stream",
     "text": [
      "C:\\Users\\Randy\\anaconda3\\lib\\site-packages\\seaborn\\distributions.py:305: UserWarning: Dataset has 0 variance; skipping density estimate.\n",
      "  warnings.warn(msg, UserWarning)\n",
      "C:\\Users\\Randy\\anaconda3\\lib\\site-packages\\seaborn\\distributions.py:305: UserWarning: Dataset has 0 variance; skipping density estimate.\n",
      "  warnings.warn(msg, UserWarning)\n"
     ]
    },
    {
     "data": {
      "text/plain": [
       "<seaborn.axisgrid.PairGrid at 0x21cca21f280>"
      ]
     },
     "execution_count": 133,
     "metadata": {},
     "output_type": "execute_result"
    },
    {
     "data": {
      "image/png": "[encoded data removed]",
      "text/plain": [
       "<Figure size 665.75x576 with 5 Axes>"
      ]
     },
     "metadata": {
      "needs_background": "light"
     },
     "output_type": "display_data"
    }
   ],
   "source": [
    "sns.pairplot(data = df,hue='Number of Skills', corner  =True, palette= 'rainbow',height =4)"
   ]
  },
  {
   "cell_type": "code",
   "execution_count": 134,
   "metadata": {},
   "outputs": [
    {
     "data": {
      "text/plain": [
       "count    525.000000\n",
       "mean       3.573333\n",
       "std        1.945060\n",
       "min        2.000000\n",
       "25%        2.000000\n",
       "50%        3.000000\n",
       "75%        5.000000\n",
       "max       12.000000\n",
       "Name: Number of Skills, dtype: float64"
      ]
     },
     "execution_count": 134,
     "metadata": {},
     "output_type": "execute_result"
    }
   ],
   "source": [
    "df['Number of Skills'].describe()"
   ]
  },
  {
   "cell_type": "code",
   "execution_count": 135,
   "metadata": {},
   "outputs": [
    {
     "data": {
      "text/plain": [
       "<AxesSubplot:>"
      ]
     },
     "execution_count": 135,
     "metadata": {},
     "output_type": "execute_result"
    },
    {
     "data": {
      "image/png": "[encoded data removed]",
      "text/plain": [
       "<Figure size 432x288 with 1 Axes>"
      ]
     },
     "metadata": {
      "needs_background": "light"
     },
     "output_type": "display_data"
    }
   ],
   "source": [
    "df[\"Employment Type\"].value_counts().plot(kind='barh')"
   ]
  },
  {
   "cell_type": "code",
   "execution_count": 136,
   "metadata": {},
   "outputs": [
    {
     "data": {
      "text/html": [
       "<div>\n",
       "<style scoped>\n",
       "    .dataframe tbody tr th:only-of-type {\n",
       "        vertical-align: middle;\n",
       "    }\n",
       "\n",
       "    .dataframe tbody tr th {\n",
       "        vertical-align: top;\n",
       "    }\n",
       "\n",
       "    .dataframe thead th {\n",
       "        text-align: right;\n",
       "    }\n",
       "</style>\n",
       "<table border=\"1\" class=\"dataframe\">\n",
       "  <thead>\n",
       "    <tr style=\"text-align: right;\">\n",
       "      <th></th>\n",
       "      <th>Job Title</th>\n",
       "      <th>Companies</th>\n",
       "      <th>Location</th>\n",
       "      <th>Date posted</th>\n",
       "      <th>Other information</th>\n",
       "      <th>Job Description</th>\n",
       "      <th>URL</th>\n",
       "      <th>Pay_average</th>\n",
       "      <th>Qualifications</th>\n",
       "      <th>Position</th>\n",
       "      <th>Employment Type</th>\n",
       "      <th>Years of Experience</th>\n",
       "      <th>Skills Needed</th>\n",
       "      <th>Number of Skills</th>\n",
       "      <th>Processed_JD</th>\n",
       "    </tr>\n",
       "  </thead>\n",
       "  <tbody>\n",
       "    <tr>\n",
       "      <th>50</th>\n",
       "      <td>Data Engineer</td>\n",
       "      <td>Quinnox Solutions Pte Ltd</td>\n",
       "      <td>Central</td>\n",
       "      <td>2021-09-16</td>\n",
       "      <td>Manager Professional Certificate/NiTEC, Diplom...</td>\n",
       "      <td>Responsibilities:Help to design and implement ...</td>\n",
       "      <td>http://www.jobstreet.com.sg/en/job/data-engine...</td>\n",
       "      <td>NaN</td>\n",
       "      <td>Professional Certificate , Bachelor's Degree ,...</td>\n",
       "      <td>Manager</td>\n",
       "      <td>Full-Time , Part-Time</td>\n",
       "      <td>5.0</td>\n",
       "      <td>Python , SQL , cloud , AWS , Azure , GCP , Spa...</td>\n",
       "      <td>8</td>\n",
       "      <td>Responsibilities Help design implement optimal...</td>\n",
       "    </tr>\n",
       "  </tbody>\n",
       "</table>\n",
       "</div>"
      ],
      "text/plain": [
       "        Job Title                  Companies Location Date posted  \\\n",
       "50  Data Engineer  Quinnox Solutions Pte Ltd  Central  2021-09-16   \n",
       "\n",
       "                                    Other information  \\\n",
       "50  Manager Professional Certificate/NiTEC, Diplom...   \n",
       "\n",
       "                                      Job Description  \\\n",
       "50  Responsibilities:Help to design and implement ...   \n",
       "\n",
       "                                                  URL  Pay_average  \\\n",
       "50  http://www.jobstreet.com.sg/en/job/data-engine...          NaN   \n",
       "\n",
       "                                       Qualifications Position  \\\n",
       "50  Professional Certificate , Bachelor's Degree ,...  Manager   \n",
       "\n",
       "          Employment Type  Years of Experience  \\\n",
       "50  Full-Time , Part-Time                  5.0   \n",
       "\n",
       "                                        Skills Needed  Number of Skills  \\\n",
       "50  Python , SQL , cloud , AWS , Azure , GCP , Spa...                 8   \n",
       "\n",
       "                                         Processed_JD  \n",
       "50  Responsibilities Help design implement optimal...  "
      ]
     },
     "execution_count": 136,
     "metadata": {},
     "output_type": "execute_result"
    }
   ],
   "source": [
    "df[df[\"Employment Type\"] == 'Full-Time , Part-Time']"
   ]
  },
  {
   "cell_type": "code",
   "execution_count": 137,
   "metadata": {},
   "outputs": [
    {
     "data": {
      "text/plain": [
       "<AxesSubplot:>"
      ]
     },
     "execution_count": 137,
     "metadata": {},
     "output_type": "execute_result"
    },
    {
     "data": {
      "image/png": "[encoded data removed]",
      "text/plain": [
       "<Figure size 432x288 with 1 Axes>"
      ]
     },
     "metadata": {
      "needs_background": "light"
     },
     "output_type": "display_data"
    }
   ],
   "source": [
    "df[\"Position\"].value_counts().plot(kind='barh')"
   ]
  },
  {
   "cell_type": "code",
   "execution_count": 138,
   "metadata": {},
   "outputs": [
    {
     "data": {
      "text/plain": [
       "['► Work Location: East &amp; West (Company transport provided)► 5 days’ work week► Basic salary up to S$ 4,300 + AWS + VB► Good in data analysis &amp; Lean PrinciplesOur client is a global leader specialized in international transportation, freight forwarder, supply chain management and packaging solutions with offices in over 20 countries.Job scopes:Leverage on lean principles to increase operational performance and optimise warehouse resources, creating value for internal and external stakeholdersSpearhead continuous improvement projects within the warehouse, from process gap identification to solution design and implementation, as well as operational change managementSupport the Operations Manager in the monitoring and analysis of performance data such as KPI and productivity reports, as well as financial data such as billing reports and account P&amp;LPartner with the Key Account Manager in business development efforts through maintenance of customer satisfaction and solutioning of value creation opportunitiesCollaborate with subject matter experts from the Innovation, Automation, and Warehouse Management System (WMS) team to implement new technology or fine-tune existing solutions within the warehouseContribute to the Operational Excellence (OpEx) community by sharing knowledge of best practices and new solutions, and participating in technical trainings and focus group workshopsSupport the OpEx core team in OpEx-led events and group collateralsRequirements:Min. Degree in Logistics, Supply Chain Management, Engineering, or Business with a relevant specializationAwareness and understanding of Lean Principles and continuous improvement toolsStrong in data crunching and analysisProficient in Microsoft PowerPoint and Excel (including Pivot Tables)Knowledge in VBA / SQL / database management structure is not necessary but will be a plusComfortable with presenting and communicating with customers and stakeholders within all levels of the organizationGood and adaptive team player with strong interpersonal skillsHOW TO APPLY:Interested applicants, please click on “Apply Now” or forward your updated resume (in Ms Word format) to [emailprotected]We regret only shortlisted candidates will be notified.Stafflink Services Pte LtdEA Licence No.: 04C4294EA Personnel: June Tan Ke JunEA Personnel Reg. No.: R1660471']"
      ]
     },
     "execution_count": 138,
     "metadata": {},
     "output_type": "execute_result"
    }
   ],
   "source": [
    "list(df[df['Position'] == 'Junior Executive'].sample()['Job Description'])"
   ]
  },
  {
   "cell_type": "code",
   "execution_count": 139,
   "metadata": {},
   "outputs": [
    {
     "data": {
      "text/plain": [
       "525"
      ]
     },
     "execution_count": 139,
     "metadata": {},
     "output_type": "execute_result"
    }
   ],
   "source": [
    "df.shape[0]"
   ]
  },
  {
   "cell_type": "code",
   "execution_count": 140,
   "metadata": {},
   "outputs": [],
   "source": [
    "from nltk.util import ngrams"
   ]
  },
  {
   "cell_type": "code",
   "execution_count": 141,
   "metadata": {},
   "outputs": [],
   "source": [
    "corpus = ' '.join(jd for jd in df['Processed_JD'])"
   ]
  },
  {
   "cell_type": "code",
   "execution_count": 142,
   "metadata": {},
   "outputs": [
    {
     "data": {
      "text/plain": [
       "(regret, shortlisted, candidates)       109\n",
       "(shortlisted, candidates, notified)      91\n",
       "(degree, Computer, Science)              90\n",
       "(Computer, Science, Engineering)         72\n",
       "(invites, applications, position)        60\n",
       "(applications, position, Research)       51\n",
       "(mission, inspire, creativity)           46\n",
       "(machine, learning, deep)                44\n",
       "(Computer, Science, Computer)            43\n",
       "(years, working, experience)             43\n",
       "(Computer, Science, related)             43\n",
       "(learning, deep, learning)               41\n",
       "('s, degree, Computer)                   40\n",
       "(machine, learning, models)              37\n",
       "(Science, Computer, Engineering)         37\n",
       "(natural, language, processing)          35\n",
       "(Degree, Computer, Science)              34\n",
       "(least, 3, years)                        31\n",
       "(School, Computer, Science)              31\n",
       "(environment, supports, development)     30\n",
       "dtype: int64"
      ]
     },
     "execution_count": 142,
     "metadata": {},
     "output_type": "execute_result"
    }
   ],
   "source": [
    "pd.Series(ngrams(corpus.split(),3)).value_counts().nlargest(20)"
   ]
  },
  {
   "cell_type": "markdown",
   "metadata": {},
   "source": [
    "<b>Pay</b><br>\n",
    "<li>Does the pay corelate with years of experience?<br>\n",
    "    The findings suggest it is not strongly correlated at 0.10 however I think the data is not very accurate since the amount of years posted is not the very accurate\n",
    "<li>What is the average pay<br>\n",
    "Around SGD5K from 100 samples<br>\n",
    "<b>Skills</b><br>\n",
    "<li>What are the typical skill sets companies are looking for<br>\n",
    "<li>What is a typical job posting like<br>\n",
    "<b>Companies</b><br>\n",
    "<li>What are the kinds of companies that are hiring data-science job seekers?<br>\n",
    "<li>Which companies offer the highest salaries?<br>\n",
    "<b>NLP</b><br>\n",
    "<li>What are the top ten words found in Job Descriptions?<br>\n",
    "<li>What are the top ten trigrams found in Job Descriptions?<br>"
   ]
  },
  {
   "cell_type": "code",
   "execution_count": 143,
   "metadata": {},
   "outputs": [],
   "source": [
    "df.to_csv('Cleaned_Data_Science_{}_file.csv'.format(date.today()), index = True)"
   ]
  }
 ],
 "metadata": {
  "kernelspec": {
   "display_name": "Python 3",
   "language": "python",
   "name": "python3"
  },
  "language_info": {
   "codemirror_mode": {
    "name": "ipython",
    "version": 3
   },
   "file_extension": ".py",
   "mimetype": "text/x-python",
   "name": "python",
   "nbconvert_exporter": "python",
   "pygments_lexer": "ipython3",
   "version": "3.8.5"
  }
 },
 "nbformat": 4,
 "nbformat_minor": 4
}
