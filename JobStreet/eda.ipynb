{
 "cells": [
  {
   "cell_type": "code",
   "execution_count": 1,
   "metadata": {},
   "outputs": [],
   "source": [
    "import json\n",
    "import pandas as pd\n",
    "import os\n",
    "from typing import List\n",
    "from datetime import datetime\n",
    "import re"
   ]
  },
  {
   "cell_type": "code",
   "execution_count": 2,
   "metadata": {},
   "outputs": [],
   "source": [
    "ML_JOB_PATH = \"Machine-learning-engineer-jobs20230105152444.jsonl\"\n",
    "DS_JOB_PATH = \"Data-scientist-jobs20230105145838.jsonl\"\n",
    "\n",
    "RANDOM_STATE = 42"
   ]
  },
  {
   "cell_type": "code",
   "execution_count": 3,
   "metadata": {},
   "outputs": [],
   "source": [
    "def validate_data_path(data_path:str):\n",
    "    \"\"\"Validates data path\n",
    "\n",
    "    Args:\n",
    "        data_path (str): path of the data\n",
    "\n",
    "    Raises:\n",
    "        FileNotFoundError: File does not exist\n",
    "    \"\"\"\n",
    "    if not os.path.exists(data_path):\n",
    "        raise FileNotFoundError(data_path)"
   ]
  },
  {
   "cell_type": "code",
   "execution_count": 4,
   "metadata": {},
   "outputs": [],
   "source": [
    "# not all data point is perfect, for those with errors I will ignore\n",
    "\n",
    "def return_data(data_path:str)->List:\n",
    "    \"\"\"Returns job detail from on job posting\n",
    "\n",
    "    Args:\n",
    "        data_path (str): Path of the data\n",
    "\n",
    "    Returns:\n",
    "        List: A list full of the job posting, each a dictionary\n",
    "    \"\"\"\n",
    "    validate_data_path(data_path)\n",
    "    data_list = []\n",
    "    with open(data_path, 'r') as reader:\n",
    "        for line in reader.readlines():\n",
    "            data = json.loads(line)\n",
    "            # Errors are only contained in the dictionary\n",
    "            if isinstance(data,dict):\n",
    "                continue\n",
    "            data_list.append(data)\n",
    "    return data_list"
   ]
  },
  {
   "cell_type": "code",
   "execution_count": 5,
   "metadata": {},
   "outputs": [],
   "source": [
    "ML_JOB_RAW_DATA = return_data(ML_JOB_PATH)\n",
    "DS_JOB_RAW_DATA = return_data(DS_JOB_PATH)"
   ]
  },
  {
   "cell_type": "code",
   "execution_count": 6,
   "metadata": {},
   "outputs": [
    {
     "data": {
      "text/plain": [
       "580"
      ]
     },
     "execution_count": 6,
     "metadata": {},
     "output_type": "execute_result"
    }
   ],
   "source": [
    "len(ML_JOB_RAW_DATA)"
   ]
  },
  {
   "cell_type": "code",
   "execution_count": 7,
   "metadata": {},
   "outputs": [
    {
     "data": {
      "text/plain": [
       "577"
      ]
     },
     "execution_count": 7,
     "metadata": {},
     "output_type": "execute_result"
    }
   ],
   "source": [
    "len(DS_JOB_RAW_DATA)"
   ]
  },
  {
   "cell_type": "code",
   "execution_count": 8,
   "metadata": {},
   "outputs": [],
   "source": [
    "TOTAL_JOB_RAW_DATA = ML_JOB_RAW_DATA + DS_JOB_RAW_DATA"
   ]
  },
  {
   "cell_type": "code",
   "execution_count": 10,
   "metadata": {},
   "outputs": [
    {
     "data": {
      "text/plain": [
       "{'small_section': ['Singapore', 'Posted 19 hours ago']}"
      ]
     },
     "execution_count": 10,
     "metadata": {},
     "output_type": "execute_result"
    }
   ],
   "source": [
    "TOTAL_JOB_RAW_DATA[0][2]"
   ]
  },
  {
   "cell_type": "code",
   "execution_count": 11,
   "metadata": {},
   "outputs": [
    {
     "data": {
      "text/plain": [
       "1157"
      ]
     },
     "execution_count": 11,
     "metadata": {},
     "output_type": "execute_result"
    }
   ],
   "source": [
    "len(TOTAL_JOB_RAW_DATA)"
   ]
  },
  {
   "cell_type": "code",
   "execution_count": 12,
   "metadata": {},
   "outputs": [],
   "source": [
    "def return_headers()->dict:\n",
    "    \"\"\" \n",
    "    Attempting to fetch headers from their respective cols with the col index appended\n",
    "    returns a dictionary with the count of the header as the value\n",
    "    \"\"\"\n",
    "    headers = {}\n",
    "    for row in TOTAL_JOB_RAW_DATA:\n",
    "        for col in range(1,len(row)):\n",
    "            for key in row[col].keys():\n",
    "                if str(key) + '_' + str(col) in headers:\n",
    "                    headers[f\"{key}_{col}\"] +=1\n",
    "                else: \n",
    "                    headers[f\"{key}_{col}\"] = 1\n",
    "    return headers"
   ]
  },
  {
   "cell_type": "code",
   "execution_count": 13,
   "metadata": {},
   "outputs": [],
   "source": [
    "headers = return_headers()"
   ]
  },
  {
   "cell_type": "code",
   "execution_count": 14,
   "metadata": {},
   "outputs": [
    {
     "data": {
      "text/plain": [
       "746"
      ]
     },
     "execution_count": 14,
     "metadata": {},
     "output_type": "execute_result"
    }
   ],
   "source": [
    "len(headers)"
   ]
  },
  {
   "cell_type": "code",
   "execution_count": 15,
   "metadata": {},
   "outputs": [],
   "source": [
    "# This is a slice of all of the headers found coz otherwise it will be too big\n",
    "headers_slice = {k:headers[k] for k in list(headers)[:15]}"
   ]
  },
  {
   "cell_type": "code",
   "execution_count": 16,
   "metadata": {},
   "outputs": [
    {
     "data": {
      "text/plain": [
       "{'company_name_1': 1157,\n",
       " 'small_section_2': 1157,\n",
       " 'Responsibilities_3': 544,\n",
       " 'Why Join Us_3': 35,\n",
       " 'Responsibilities:_3': 129,\n",
       " 'Qualifications:_3': 108,\n",
       " 'Career Level_4': 1157,\n",
       " 'Qualification_4': 1157,\n",
       " 'Years of Experience_4': 971,\n",
       " 'Job Type_4': 1157,\n",
       " 'Job Specializations_4': 1157,\n",
       " 'Registration No._4': 1149,\n",
       " 'Company Size_4': 1151,\n",
       " 'Average Processing Time_4': 1070,\n",
       " 'Industry_4': 1152}"
      ]
     },
     "execution_count": 16,
     "metadata": {},
     "output_type": "execute_result"
    }
   ],
   "source": [
    "headers_slice"
   ]
  },
  {
   "cell_type": "markdown",
   "metadata": {},
   "source": [
    "These headers have values for all jobs"
   ]
  },
  {
   "cell_type": "code",
   "execution_count": 17,
   "metadata": {},
   "outputs": [
    {
     "data": {
      "text/plain": [
       "['company_name_1',\n",
       " 'small_section_2',\n",
       " 'Career Level_4',\n",
       " 'Qualification_4',\n",
       " 'Job Type_4',\n",
       " 'Job Specializations_4',\n",
       " 'Company Overview_5',\n",
       " 'url_6']"
      ]
     },
     "execution_count": 17,
     "metadata": {},
     "output_type": "execute_result"
    }
   ],
   "source": [
    "full_header = [k for k,v in headers.items() if v == len(TOTAL_JOB_RAW_DATA)]\n",
    "full_header"
   ]
  },
  {
   "cell_type": "markdown",
   "metadata": {},
   "source": [
    "I am expecting all information to be filled in:\n",
    "- First col: Job position (renamed as job title)\n",
    "- Second col: Details of the job including pay, location (General and or specific), \n",
    "- Fourth col: Misc details of the company including size of company, dress code etc\n",
    "- Fifth col: Company Overview, details on the company\n",
    "- Sixth col: URL\n",
    "\n",
    "Within the second col I expect there are also some headers to be further broken down. \n",
    "\n",
    "The largest one will have to be the second col with the job description being the most variable component of the posting. I suspect most of the work will be done in here to uncover as much information as possible.\n",
    "\n",
    "The desired outcome will be a consolidated pandas dataframe with as little information loss as possible."
   ]
  },
  {
   "cell_type": "markdown",
   "metadata": {},
   "source": [
    "# Preprocess"
   ]
  },
  {
   "cell_type": "markdown",
   "metadata": {},
   "source": [
    "| Idx | Col |\n",
    "| --- | --- |\n",
    "| 0 | position |\n",
    "| 1 | company name |\n",
    "| 2 | small_section |\n",
    "| 3 | JD |\n",
    "| 4 | additional information |\n",
    "| 5 | Company Overview |\n",
    "| 6 | url |"
   ]
  },
  {
   "cell_type": "markdown",
   "metadata": {},
   "source": [
    "## Full Columns"
   ]
  },
  {
   "cell_type": "code",
   "execution_count": 18,
   "metadata": {},
   "outputs": [],
   "source": [
    "# We do see some artifacts in the job titles like\n",
    "# - Job reference number\n",
    "# - Hashtags\n",
    "\n",
    "job_reference_pattern = r\"\\(?\\w+\\d+\\)?\"\n",
    "hashtag_pattern = r\"#\\w+\"\n",
    "\n",
    "data = {}\n",
    "job_title,company_name,career_level,job_type, job_specialisations, \\\n",
    "    url, qualification, company_overview = [],[],[],[],[],[],[],[]\n",
    "for row in TOTAL_JOB_RAW_DATA:\n",
    "    position = row[0]['position']\n",
    "    position = re.sub(job_reference_pattern, \"\",position)\n",
    "    position = re.sub(hashtag_pattern, \"\",position)\n",
    "    position = position.replace(\"*\",\"\").replace(\"-\",\"\")\n",
    "    job_title.append(position)\n",
    "    company_name.append(row[1]['company_name'])\n",
    "    career_level.append(row[4]['Career Level'])\n",
    "    qualification.append(row[4]['Qualification'])\n",
    "    job_type.append(row[4]['Job Type'])\n",
    "    job_specialisations.append(row[4]['Job Specializations'])\n",
    "    company_overview.append(row[5]['Company Overview'])\n",
    "    url.append(row[6]['url'])\n",
    "\n",
    "data['position'] = job_title\n",
    "data['company_name'] = company_name\n",
    "data['career_level'] = career_level\n",
    "data['qualifcation'] = qualification\n",
    "data['job_type'] = job_type\n",
    "data['job_specialisations'] = job_specialisations\n",
    "data['company_overview'] = company_overview\n",
    "data['url'] = url\n",
    "\n",
    "assert (len(job_title) == len(career_level)==len(job_type)==len(job_specialisations)==len(url))"
   ]
  },
  {
   "cell_type": "code",
   "execution_count": 19,
   "metadata": {},
   "outputs": [
    {
     "data": {
      "text/html": [
       "<div>\n",
       "<style scoped>\n",
       "    .dataframe tbody tr th:only-of-type {\n",
       "        vertical-align: middle;\n",
       "    }\n",
       "\n",
       "    .dataframe tbody tr th {\n",
       "        vertical-align: top;\n",
       "    }\n",
       "\n",
       "    .dataframe thead th {\n",
       "        text-align: right;\n",
       "    }\n",
       "</style>\n",
       "<table border=\"1\" class=\"dataframe\">\n",
       "  <thead>\n",
       "    <tr style=\"text-align: right;\">\n",
       "      <th></th>\n",
       "      <th>position</th>\n",
       "      <th>company_name</th>\n",
       "      <th>career_level</th>\n",
       "      <th>qualifcation</th>\n",
       "      <th>job_type</th>\n",
       "      <th>job_specialisations</th>\n",
       "      <th>company_overview</th>\n",
       "      <th>url</th>\n",
       "    </tr>\n",
       "  </thead>\n",
       "  <tbody>\n",
       "    <tr>\n",
       "      <th>1152</th>\n",
       "      <td>Research Assistant (Governance) for AI Singapore</td>\n",
       "      <td>National University of Singapore</td>\n",
       "      <td>Junior Executive</td>\n",
       "      <td>Bachelor's Degree, Post Graduate Diploma, Prof...</td>\n",
       "      <td>Contract</td>\n",
       "      <td>Education/Training, Education</td>\n",
       "      <td>\\n\\tA leading global university centred in Asi...</td>\n",
       "      <td>http://www.jobstreet.com.sg/en/job/research-as...</td>\n",
       "    </tr>\n",
       "    <tr>\n",
       "      <th>1153</th>\n",
       "      <td>Data Science Team Lead</td>\n",
       "      <td>Government Technology Agency of Singapore (Gov...</td>\n",
       "      <td>Senior Executive</td>\n",
       "      <td>Bachelor's Degree, Post Graduate Diploma, Prof...</td>\n",
       "      <td>Full-Time</td>\n",
       "      <td>Computer/Information Technology, IT-Software</td>\n",
       "      <td>\\n\\n\\t\\tThe Government Technology Agency (GovT...</td>\n",
       "      <td>http://www.jobstreet.com.sg/en/job/data-scienc...</td>\n",
       "    </tr>\n",
       "    <tr>\n",
       "      <th>1154</th>\n",
       "      <td>Manager,  Audit Analytics. '</td>\n",
       "      <td>ALLEGIS GLOBAL SOLUTIONS (SINGAPORE) PTE. LTD</td>\n",
       "      <td>Manager</td>\n",
       "      <td>Bachelor's Degree, Post Graduate Diploma, Prof...</td>\n",
       "      <td>Full-Time</td>\n",
       "      <td>Accounting/Finance, Audit &amp; Taxation</td>\n",
       "      <td>\\n\\n\\t\\tAllegis Global Solutions is the exclus...</td>\n",
       "      <td>http://www.jobstreet.com.sg/en/job/manager-aud...</td>\n",
       "    </tr>\n",
       "    <tr>\n",
       "      <th>1155</th>\n",
       "      <td>Data Scientist Research</td>\n",
       "      <td>TikTok</td>\n",
       "      <td>Junior Executive</td>\n",
       "      <td>Diploma, Advanced/Higher/Graduate Diploma, Bac...</td>\n",
       "      <td>Full-Time</td>\n",
       "      <td>Computer/Information Technology, IT-Software</td>\n",
       "      <td>TikTok is the leading destination for short-fo...</td>\n",
       "      <td>http://www.jobstreet.com.sg/en/job/data-scient...</td>\n",
       "    </tr>\n",
       "    <tr>\n",
       "      <th>1156</th>\n",
       "      <td>Data ScientistAlgorithm Strategy</td>\n",
       "      <td>TikTok</td>\n",
       "      <td>Junior Executive</td>\n",
       "      <td>Diploma, Advanced/Higher/Graduate Diploma, Bac...</td>\n",
       "      <td>Full-Time</td>\n",
       "      <td>Computer/Information Technology, IT-Software</td>\n",
       "      <td>TikTok is the leading destination for short-fo...</td>\n",
       "      <td>http://www.jobstreet.com.sg/en/job/data-scient...</td>\n",
       "    </tr>\n",
       "  </tbody>\n",
       "</table>\n",
       "</div>"
      ],
      "text/plain": [
       "                                              position  \\\n",
       "1152  Research Assistant (Governance) for AI Singapore   \n",
       "1153                            Data Science Team Lead   \n",
       "1154                     Manager,  Audit Analytics. '    \n",
       "1155                           Data Scientist Research   \n",
       "1156               Data ScientistAlgorithm Strategy      \n",
       "\n",
       "                                           company_name      career_level  \\\n",
       "1152                   National University of Singapore  Junior Executive   \n",
       "1153  Government Technology Agency of Singapore (Gov...  Senior Executive   \n",
       "1154      ALLEGIS GLOBAL SOLUTIONS (SINGAPORE) PTE. LTD           Manager   \n",
       "1155                                             TikTok  Junior Executive   \n",
       "1156                                             TikTok  Junior Executive   \n",
       "\n",
       "                                           qualifcation   job_type  \\\n",
       "1152  Bachelor's Degree, Post Graduate Diploma, Prof...   Contract   \n",
       "1153  Bachelor's Degree, Post Graduate Diploma, Prof...  Full-Time   \n",
       "1154  Bachelor's Degree, Post Graduate Diploma, Prof...  Full-Time   \n",
       "1155  Diploma, Advanced/Higher/Graduate Diploma, Bac...  Full-Time   \n",
       "1156  Diploma, Advanced/Higher/Graduate Diploma, Bac...  Full-Time   \n",
       "\n",
       "                               job_specialisations  \\\n",
       "1152                 Education/Training, Education   \n",
       "1153  Computer/Information Technology, IT-Software   \n",
       "1154          Accounting/Finance, Audit & Taxation   \n",
       "1155  Computer/Information Technology, IT-Software   \n",
       "1156  Computer/Information Technology, IT-Software   \n",
       "\n",
       "                                       company_overview  \\\n",
       "1152  \\n\\tA leading global university centred in Asi...   \n",
       "1153  \\n\\n\\t\\tThe Government Technology Agency (GovT...   \n",
       "1154  \\n\\n\\t\\tAllegis Global Solutions is the exclus...   \n",
       "1155  TikTok is the leading destination for short-fo...   \n",
       "1156  TikTok is the leading destination for short-fo...   \n",
       "\n",
       "                                                    url  \n",
       "1152  http://www.jobstreet.com.sg/en/job/research-as...  \n",
       "1153  http://www.jobstreet.com.sg/en/job/data-scienc...  \n",
       "1154  http://www.jobstreet.com.sg/en/job/manager-aud...  \n",
       "1155  http://www.jobstreet.com.sg/en/job/data-scient...  \n",
       "1156  http://www.jobstreet.com.sg/en/job/data-scient...  "
      ]
     },
     "execution_count": 19,
     "metadata": {},
     "output_type": "execute_result"
    }
   ],
   "source": [
    "# Already we can see some field contains some other information like the job_title containing job type, location and company name for instance\n",
    "pd.DataFrame.from_dict(data).tail()"
   ]
  },
  {
   "cell_type": "code",
   "execution_count": 20,
   "metadata": {},
   "outputs": [
    {
     "data": {
      "text/html": [
       "<div>\n",
       "<style scoped>\n",
       "    .dataframe tbody tr th:only-of-type {\n",
       "        vertical-align: middle;\n",
       "    }\n",
       "\n",
       "    .dataframe tbody tr th {\n",
       "        vertical-align: top;\n",
       "    }\n",
       "\n",
       "    .dataframe thead th {\n",
       "        text-align: right;\n",
       "    }\n",
       "</style>\n",
       "<table border=\"1\" class=\"dataframe\">\n",
       "  <thead>\n",
       "    <tr style=\"text-align: right;\">\n",
       "      <th></th>\n",
       "      <th>position</th>\n",
       "      <th>company_name</th>\n",
       "      <th>career_level</th>\n",
       "      <th>qualifcation</th>\n",
       "      <th>job_type</th>\n",
       "      <th>job_specialisations</th>\n",
       "      <th>company_overview</th>\n",
       "      <th>url</th>\n",
       "    </tr>\n",
       "  </thead>\n",
       "  <tbody>\n",
       "    <tr>\n",
       "      <th>940</th>\n",
       "      <td>Snr Specialist Biz Transformation, Data Migration</td>\n",
       "      <td>ASM Front-End Manufacturing Singapore Pte Ltd</td>\n",
       "      <td>Junior Executive</td>\n",
       "      <td>Bachelor's Degree, Post Graduate Diploma, Prof...</td>\n",
       "      <td>Full-Time</td>\n",
       "      <td>Computer/Information Technology, IT-Network/Sy...</td>\n",
       "      <td>\\n\\tIn 1968, at the very outset of the global ...</td>\n",
       "      <td>http://www.jobstreet.com.sg/en/job/snr-special...</td>\n",
       "    </tr>\n",
       "    <tr>\n",
       "      <th>265</th>\n",
       "      <td>AI Architect (Digital)</td>\n",
       "      <td>Mediacorp Pte Ltd</td>\n",
       "      <td>Senior Executive</td>\n",
       "      <td>Diploma, Advanced/Higher/Graduate Diploma, Bac...</td>\n",
       "      <td>Full-Time</td>\n",
       "      <td>Computer/Information Technology, IT-Software</td>\n",
       "      <td>\\n\\nMediacorp is Singapore’s leading media com...</td>\n",
       "      <td>http://www.jobstreet.com.sg/en/job/ai-architec...</td>\n",
       "    </tr>\n",
       "    <tr>\n",
       "      <th>109</th>\n",
       "      <td>Machine Learning Engr.,  TikTok Search</td>\n",
       "      <td>TikTok</td>\n",
       "      <td>Junior Executive</td>\n",
       "      <td>Bachelor's Degree, Post Graduate Diploma, Prof...</td>\n",
       "      <td>Full-Time</td>\n",
       "      <td>Computer/Information Technology, IT-Software</td>\n",
       "      <td>TikTok is the leading destination for short-fo...</td>\n",
       "      <td>http://www.jobstreet.com.sg/en/job/machine-lea...</td>\n",
       "    </tr>\n",
       "    <tr>\n",
       "      <th>299</th>\n",
       "      <td>Machine Learning Engineer,  TikTok</td>\n",
       "      <td>TikTok</td>\n",
       "      <td>Junior Executive</td>\n",
       "      <td>Bachelor's Degree, Post Graduate Diploma, Prof...</td>\n",
       "      <td>Full-Time</td>\n",
       "      <td>Computer/Information Technology, IT-Software</td>\n",
       "      <td>TikTok is the leading destination for short-fo...</td>\n",
       "      <td>http://www.jobstreet.com.sg/en/job/machine-lea...</td>\n",
       "    </tr>\n",
       "    <tr>\n",
       "      <th>752</th>\n",
       "      <td>Data Administator</td>\n",
       "      <td>SELF HELP GROUPS STUDENT CARE LIMITED</td>\n",
       "      <td>Junior Executive</td>\n",
       "      <td>Diploma, Advanced/Higher/Graduate Diploma, Bac...</td>\n",
       "      <td>Full-Time</td>\n",
       "      <td>Computer/Information Technology, IT-Network/Sy...</td>\n",
       "      <td>The Self Help Groups Student Care Limited (SHG...</td>\n",
       "      <td>http://www.jobstreet.com.sg/en/job/data-admini...</td>\n",
       "    </tr>\n",
       "    <tr>\n",
       "      <th>170</th>\n",
       "      <td>Machine Learning Engineer (TikTok)   Start</td>\n",
       "      <td>TikTok</td>\n",
       "      <td>Entry Level</td>\n",
       "      <td>Bachelor's Degree, Post Graduate Diploma, Prof...</td>\n",
       "      <td>Full-Time</td>\n",
       "      <td>Computer/Information Technology, IT-Software</td>\n",
       "      <td>TikTok is the leading destination for short-fo...</td>\n",
       "      <td>http://www.jobstreet.com.sg/en/job/machine-lea...</td>\n",
       "    </tr>\n",
       "    <tr>\n",
       "      <th>887</th>\n",
       "      <td>IBOR Programme,  Data Analytics Reg Reporting..</td>\n",
       "      <td>ALLEGIS GLOBAL SOLUTIONS (SINGAPORE) PTE. LTD</td>\n",
       "      <td>Senior Executive</td>\n",
       "      <td>Bachelor's Degree, Post Graduate Diploma, Prof...</td>\n",
       "      <td>Full-Time</td>\n",
       "      <td>Computer/Information Technology, IT-Software</td>\n",
       "      <td>\\n\\n\\t\\tAllegis Global Solutions is the exclus...</td>\n",
       "      <td>http://www.jobstreet.com.sg/en/job/ibor-progra...</td>\n",
       "    </tr>\n",
       "    <tr>\n",
       "      <th>549</th>\n",
       "      <td>AIOps Algorithm Engineer, Applications Perform...</td>\n",
       "      <td>TikTok</td>\n",
       "      <td>Junior Executive</td>\n",
       "      <td>Bachelor's Degree, Post Graduate Diploma, Prof...</td>\n",
       "      <td>Full-Time</td>\n",
       "      <td>Computer/Information Technology, IT-Software</td>\n",
       "      <td>TikTok is the leading destination for short-fo...</td>\n",
       "      <td>http://www.jobstreet.com.sg/en/job/aiops-algor...</td>\n",
       "    </tr>\n",
       "    <tr>\n",
       "      <th>943</th>\n",
       "      <td>Data Scientist  ECommerce Risk Control   #.</td>\n",
       "      <td>TikTok</td>\n",
       "      <td>Junior Executive</td>\n",
       "      <td>Bachelor's Degree, Post Graduate Diploma, Prof...</td>\n",
       "      <td>Full-Time</td>\n",
       "      <td>Computer/Information Technology, IT-Software</td>\n",
       "      <td>TikTok is the leading destination for short-fo...</td>\n",
       "      <td>http://www.jobstreet.com.sg/en/job/data-scient...</td>\n",
       "    </tr>\n",
       "    <tr>\n",
       "      <th>597</th>\n",
       "      <td>Data Scientist  risk control  GGLL</td>\n",
       "      <td>PERSOLKELLY Singapore Pte Ltd (Formerly Kelly ...</td>\n",
       "      <td>Senior Executive</td>\n",
       "      <td>Not Specified</td>\n",
       "      <td>Full-Time</td>\n",
       "      <td>Computer/Information Technology, IT-Software</td>\n",
       "      <td>PERSOLKELLY is one of the largest recruitment ...</td>\n",
       "      <td>http://www.jobstreet.com.sg/en/job/data-scient...</td>\n",
       "    </tr>\n",
       "    <tr>\n",
       "      <th>359</th>\n",
       "      <td>Lead, Data Scientist M/F  ,</td>\n",
       "      <td>STMicroelectronics Asia Pacific Pte Ltd (Lite ...</td>\n",
       "      <td>Junior Executive</td>\n",
       "      <td>Bachelor's Degree, Post Graduate Diploma, Prof...</td>\n",
       "      <td>Full-Time</td>\n",
       "      <td>Computer/Information Technology, IT-Software</td>\n",
       "      <td>\\n\\tSTMicroelectronics is a world leader in pr...</td>\n",
       "      <td>http://www.jobstreet.com.sg/en/job/lead-data-s...</td>\n",
       "    </tr>\n",
       "    <tr>\n",
       "      <th>318</th>\n",
       "      <td>Research Engineer, Systems Science, IHPC</td>\n",
       "      <td>Agency for Science, Technology and Research (A...</td>\n",
       "      <td>Junior Executive</td>\n",
       "      <td>Bachelor's Degree, Post Graduate Diploma, Prof...</td>\n",
       "      <td>Full-Time</td>\n",
       "      <td>Computer/Information Technology, IT-Software</td>\n",
       "      <td>\\n\\tThe Agency for Science, Technology and Res...</td>\n",
       "      <td>http://www.jobstreet.com.sg/en/job/research-en...</td>\n",
       "    </tr>\n",
       "    <tr>\n",
       "      <th>140</th>\n",
       "      <td>Backend Software Engineer,  Machine Learning S...</td>\n",
       "      <td>TikTok</td>\n",
       "      <td>Junior Executive</td>\n",
       "      <td>Diploma, Advanced/Higher/Graduate Diploma, Bac...</td>\n",
       "      <td>Full-Time</td>\n",
       "      <td>Computer/Information Technology, IT-Software</td>\n",
       "      <td>TikTok is the leading destination for short-fo...</td>\n",
       "      <td>http://www.jobstreet.com.sg/en/job/backend-sof...</td>\n",
       "    </tr>\n",
       "    <tr>\n",
       "      <th>916</th>\n",
       "      <td>Data Scientist Intern, Growth</td>\n",
       "      <td>TikTok</td>\n",
       "      <td>Junior Executive</td>\n",
       "      <td>Bachelor's Degree, Post Graduate Diploma, Prof...</td>\n",
       "      <td>Full-Time</td>\n",
       "      <td>Computer/Information Technology, IT-Software</td>\n",
       "      <td>TikTok is the leading destination for short-fo...</td>\n",
       "      <td>http://www.jobstreet.com.sg/en/job/data-scient...</td>\n",
       "    </tr>\n",
       "    <tr>\n",
       "      <th>128</th>\n",
       "      <td>Software Engineer (Machine Learning Infrastruc...</td>\n",
       "      <td>TikTok</td>\n",
       "      <td>Junior Executive</td>\n",
       "      <td>Bachelor's Degree, Post Graduate Diploma, Prof...</td>\n",
       "      <td>Full-Time</td>\n",
       "      <td>Computer/Information Technology, IT-Software</td>\n",
       "      <td>TikTok is the leading destination for short-fo...</td>\n",
       "      <td>http://www.jobstreet.com.sg/en/job/software-en...</td>\n",
       "    </tr>\n",
       "  </tbody>\n",
       "</table>\n",
       "</div>"
      ],
      "text/plain": [
       "                                              position  \\\n",
       "940  Snr Specialist Biz Transformation, Data Migration   \n",
       "265                             AI Architect (Digital)   \n",
       "109           Machine Learning Engr.,  TikTok Search     \n",
       "299                Machine Learning Engineer,  TikTok    \n",
       "752                                  Data Administator   \n",
       "170         Machine Learning Engineer (TikTok)   Start   \n",
       "887    IBOR Programme,  Data Analytics Reg Reporting..   \n",
       "549  AIOps Algorithm Engineer, Applications Perform...   \n",
       "943        Data Scientist  ECommerce Risk Control   #.   \n",
       "597                 Data Scientist  risk control  GGLL   \n",
       "359                     Lead, Data Scientist M/F  ,      \n",
       "318           Research Engineer, Systems Science, IHPC   \n",
       "140  Backend Software Engineer,  Machine Learning S...   \n",
       "916                    Data Scientist Intern, Growth     \n",
       "128  Software Engineer (Machine Learning Infrastruc...   \n",
       "\n",
       "                                          company_name      career_level  \\\n",
       "940      ASM Front-End Manufacturing Singapore Pte Ltd  Junior Executive   \n",
       "265                                  Mediacorp Pte Ltd  Senior Executive   \n",
       "109                                             TikTok  Junior Executive   \n",
       "299                                             TikTok  Junior Executive   \n",
       "752              SELF HELP GROUPS STUDENT CARE LIMITED  Junior Executive   \n",
       "170                                             TikTok       Entry Level   \n",
       "887      ALLEGIS GLOBAL SOLUTIONS (SINGAPORE) PTE. LTD  Senior Executive   \n",
       "549                                             TikTok  Junior Executive   \n",
       "943                                             TikTok  Junior Executive   \n",
       "597  PERSOLKELLY Singapore Pte Ltd (Formerly Kelly ...  Senior Executive   \n",
       "359  STMicroelectronics Asia Pacific Pte Ltd (Lite ...  Junior Executive   \n",
       "318  Agency for Science, Technology and Research (A...  Junior Executive   \n",
       "140                                             TikTok  Junior Executive   \n",
       "916                                             TikTok  Junior Executive   \n",
       "128                                             TikTok  Junior Executive   \n",
       "\n",
       "                                          qualifcation   job_type  \\\n",
       "940  Bachelor's Degree, Post Graduate Diploma, Prof...  Full-Time   \n",
       "265  Diploma, Advanced/Higher/Graduate Diploma, Bac...  Full-Time   \n",
       "109  Bachelor's Degree, Post Graduate Diploma, Prof...  Full-Time   \n",
       "299  Bachelor's Degree, Post Graduate Diploma, Prof...  Full-Time   \n",
       "752  Diploma, Advanced/Higher/Graduate Diploma, Bac...  Full-Time   \n",
       "170  Bachelor's Degree, Post Graduate Diploma, Prof...  Full-Time   \n",
       "887  Bachelor's Degree, Post Graduate Diploma, Prof...  Full-Time   \n",
       "549  Bachelor's Degree, Post Graduate Diploma, Prof...  Full-Time   \n",
       "943  Bachelor's Degree, Post Graduate Diploma, Prof...  Full-Time   \n",
       "597                                      Not Specified  Full-Time   \n",
       "359  Bachelor's Degree, Post Graduate Diploma, Prof...  Full-Time   \n",
       "318  Bachelor's Degree, Post Graduate Diploma, Prof...  Full-Time   \n",
       "140  Diploma, Advanced/Higher/Graduate Diploma, Bac...  Full-Time   \n",
       "916  Bachelor's Degree, Post Graduate Diploma, Prof...  Full-Time   \n",
       "128  Bachelor's Degree, Post Graduate Diploma, Prof...  Full-Time   \n",
       "\n",
       "                                   job_specialisations  \\\n",
       "940  Computer/Information Technology, IT-Network/Sy...   \n",
       "265       Computer/Information Technology, IT-Software   \n",
       "109       Computer/Information Technology, IT-Software   \n",
       "299       Computer/Information Technology, IT-Software   \n",
       "752  Computer/Information Technology, IT-Network/Sy...   \n",
       "170       Computer/Information Technology, IT-Software   \n",
       "887       Computer/Information Technology, IT-Software   \n",
       "549       Computer/Information Technology, IT-Software   \n",
       "943       Computer/Information Technology, IT-Software   \n",
       "597       Computer/Information Technology, IT-Software   \n",
       "359       Computer/Information Technology, IT-Software   \n",
       "318       Computer/Information Technology, IT-Software   \n",
       "140       Computer/Information Technology, IT-Software   \n",
       "916       Computer/Information Technology, IT-Software   \n",
       "128       Computer/Information Technology, IT-Software   \n",
       "\n",
       "                                      company_overview  \\\n",
       "940  \\n\\tIn 1968, at the very outset of the global ...   \n",
       "265  \\n\\nMediacorp is Singapore’s leading media com...   \n",
       "109  TikTok is the leading destination for short-fo...   \n",
       "299  TikTok is the leading destination for short-fo...   \n",
       "752  The Self Help Groups Student Care Limited (SHG...   \n",
       "170  TikTok is the leading destination for short-fo...   \n",
       "887  \\n\\n\\t\\tAllegis Global Solutions is the exclus...   \n",
       "549  TikTok is the leading destination for short-fo...   \n",
       "943  TikTok is the leading destination for short-fo...   \n",
       "597  PERSOLKELLY is one of the largest recruitment ...   \n",
       "359  \\n\\tSTMicroelectronics is a world leader in pr...   \n",
       "318  \\n\\tThe Agency for Science, Technology and Res...   \n",
       "140  TikTok is the leading destination for short-fo...   \n",
       "916  TikTok is the leading destination for short-fo...   \n",
       "128  TikTok is the leading destination for short-fo...   \n",
       "\n",
       "                                                   url  \n",
       "940  http://www.jobstreet.com.sg/en/job/snr-special...  \n",
       "265  http://www.jobstreet.com.sg/en/job/ai-architec...  \n",
       "109  http://www.jobstreet.com.sg/en/job/machine-lea...  \n",
       "299  http://www.jobstreet.com.sg/en/job/machine-lea...  \n",
       "752  http://www.jobstreet.com.sg/en/job/data-admini...  \n",
       "170  http://www.jobstreet.com.sg/en/job/machine-lea...  \n",
       "887  http://www.jobstreet.com.sg/en/job/ibor-progra...  \n",
       "549  http://www.jobstreet.com.sg/en/job/aiops-algor...  \n",
       "943  http://www.jobstreet.com.sg/en/job/data-scient...  \n",
       "597  http://www.jobstreet.com.sg/en/job/data-scient...  \n",
       "359  http://www.jobstreet.com.sg/en/job/lead-data-s...  \n",
       "318  http://www.jobstreet.com.sg/en/job/research-en...  \n",
       "140  http://www.jobstreet.com.sg/en/job/backend-sof...  \n",
       "916  http://www.jobstreet.com.sg/en/job/data-scient...  \n",
       "128  http://www.jobstreet.com.sg/en/job/software-en...  "
      ]
     },
     "execution_count": 20,
     "metadata": {},
     "output_type": "execute_result"
    }
   ],
   "source": [
    "pd.DataFrame.from_dict(data).sample(15, random_state=RANDOM_STATE)"
   ]
  },
  {
   "cell_type": "markdown",
   "metadata": {},
   "source": [
    "## Partial Columns"
   ]
  },
  {
   "cell_type": "markdown",
   "metadata": {},
   "source": [
    "### Small Section"
   ]
  },
  {
   "cell_type": "markdown",
   "metadata": {},
   "source": [
    "This is where the trouble/fun starts. Lets start with the small section\n"
   ]
  },
  {
   "cell_type": "code",
   "execution_count": 21,
   "metadata": {},
   "outputs": [
    {
     "name": "stdout",
     "output_type": "stream",
     "text": [
      "{'small_section': ['Singapore', 'Posted 19 hours ago']}\n",
      "{'small_section': ['Singapore', 'Posted 21 hours ago']}\n",
      "{'small_section': ['Singapore', 'Posted 23 hours ago']}\n",
      "{'small_section': ['Singapore', 'Posted 18 hours ago']}\n",
      "{'small_section': ['Singapore', 'SGD\\xa07,000 - SGD\\xa09,000', 'Posted 3 hours ago']}\n",
      "{'small_section': ['Singapore', 'Posted 11 minutes ago']}\n",
      "{'small_section': ['Singapore', 'Posted 3 hours ago']}\n",
      "{'small_section': ['Singapore', 'Posted 2 hours ago']}\n",
      "{'small_section': ['West', 'SGD\\xa05,000 - SGD\\xa08,000', 'Posted on 3-Jan-23']}\n",
      "{'small_section': ['Singapore', 'Posted 21 hours ago']}\n",
      "{'small_section': ['Singapore', 'Posted 53 minutes ago']}\n",
      "{'small_section': ['Singapore', 'Posted 4 hours ago']}\n",
      "{'small_section': ['Singapore', 'Posted on 3-Jan-23']}\n",
      "{'small_section': ['Singapore', 'Posted 19 hours ago']}\n",
      "{'small_section': ['Singapore', 'Posted on 3-Jan-23']}\n",
      "{'small_section': ['Singapore', 'SGD\\xa05,000 - SGD\\xa07,000', 'Posted 22 hours ago']}\n",
      "{'small_section': ['Singapore', 'SGD\\xa06,000 - SGD\\xa08,400', 'Posted on 30-Dec-22']}\n",
      "{'small_section': ['Singapore', 'Posted on 3-Jan-23']}\n",
      "{'small_section': ['Singapore', 'Posted on 22-Dec-22']}\n",
      "{'small_section': ['Singapore', 'Posted on 4-Jan-23']}\n",
      "{'small_section': ['Jurong East', 'Posted 30 minutes ago']}\n"
     ]
    }
   ],
   "source": [
    "# The small section contains a list with location, salary (if available) and then post date\n",
    "for idx, row in enumerate(TOTAL_JOB_RAW_DATA):\n",
    "    if idx > 20 :\n",
    "        break\n",
    "    else:\n",
    "        print(row[2])"
   ]
  },
  {
   "cell_type": "markdown",
   "metadata": {},
   "source": [
    "Contains either\n",
    "- location , salary (optional), date of posting"
   ]
  },
  {
   "cell_type": "code",
   "execution_count": 22,
   "metadata": {},
   "outputs": [],
   "source": [
    "demo = 'Posted on 5-Jan-23'"
   ]
  },
  {
   "cell_type": "code",
   "execution_count": 23,
   "metadata": {},
   "outputs": [
    {
     "data": {
      "text/plain": [
       "'5-Jan-23'"
      ]
     },
     "execution_count": 23,
     "metadata": {},
     "output_type": "execute_result"
    }
   ],
   "source": [
    "demo.split(\"Posted on\")[1].strip()"
   ]
  },
  {
   "cell_type": "code",
   "execution_count": 24,
   "metadata": {},
   "outputs": [
    {
     "data": {
      "text/plain": [
       "datetime.datetime(2023, 1, 5, 0, 0)"
      ]
     },
     "execution_count": 24,
     "metadata": {},
     "output_type": "execute_result"
    }
   ],
   "source": [
    "datetime.strptime(demo.split(\"Posted on\")[1].strip(),'%d-%b-%y')"
   ]
  },
  {
   "cell_type": "code",
   "execution_count": 25,
   "metadata": {},
   "outputs": [
    {
     "data": {
      "text/plain": [
       "'Machine-learning-engineer-jobs20230105152444.jsonl'"
      ]
     },
     "execution_count": 25,
     "metadata": {},
     "output_type": "execute_result"
    }
   ],
   "source": [
    "ML_JOB_PATH"
   ]
  },
  {
   "cell_type": "code",
   "execution_count": 26,
   "metadata": {},
   "outputs": [],
   "source": [
    "curr_date = ML_JOB_PATH[-20:-12]"
   ]
  },
  {
   "cell_type": "code",
   "execution_count": 27,
   "metadata": {},
   "outputs": [
    {
     "data": {
      "text/plain": [
       "'20230105'"
      ]
     },
     "execution_count": 27,
     "metadata": {},
     "output_type": "execute_result"
    }
   ],
   "source": [
    "curr_date"
   ]
  },
  {
   "cell_type": "code",
   "execution_count": 28,
   "metadata": {},
   "outputs": [
    {
     "data": {
      "text/plain": [
       "2023"
      ]
     },
     "execution_count": 28,
     "metadata": {},
     "output_type": "execute_result"
    }
   ],
   "source": [
    "datetime.strptime(curr_date, '%Y%m%d').year"
   ]
  },
  {
   "cell_type": "code",
   "execution_count": 29,
   "metadata": {},
   "outputs": [],
   "source": [
    "def extract_date_from_posted_date(sample_text:str, file_path:str)->datetime:\n",
    "    \"\"\"Return posted date in datetime format\n",
    "\n",
    "    Args:\n",
    "        sample_text (str): sample text from the row\n",
    "        file_path (str): File path from the data in jsonl format\n",
    "        to determine the current date\n",
    "\n",
    "    Returns:\n",
    "        datetime: When the job was posted\n",
    "    \"\"\"\n",
    "    if 'on' in sample_text:\n",
    "        sample_date = sample_text.split(\"Posted on\")[1].strip()\n",
    "        return datetime.strptime(sample_date,'%d-%b-%y')\n",
    "    else:\n",
    "        curr_date = file_path[-20:-12]\n",
    "        return datetime.strptime(curr_date, '%Y%m%d')"
   ]
  },
  {
   "cell_type": "code",
   "execution_count": 30,
   "metadata": {},
   "outputs": [],
   "source": [
    "# For location, we will take in anything that is other than Singapore, if Singapore we will leave it as unspecified\n",
    "# For Salary, we will clean up the html artifact '\\xa0' and seperate into low to high\n",
    "# For Post date, we will just take in as is. Any variant of Posted on xxx will be tagged as the date of extraction which is collected on the jsonl file\n",
    "\n",
    "location, low_salary, high_salary, post_date = [],[],[],[]\n",
    "\n",
    "curr_date = ML_JOB_PATH[-20:-12]\n",
    "\n",
    "for idx, row in enumerate(TOTAL_JOB_RAW_DATA):\n",
    "    select_row = row[2]['small_section']\n",
    "    # location\n",
    "    try:\n",
    "        # There are instances where no location is entered \n",
    "        if select_row[0] is not None: \n",
    "            if 'sin' not in select_row[0].lower():\n",
    "                location.append(select_row[0])\n",
    "            else:\n",
    "                location.append('unspecified')    \n",
    "        else:\n",
    "            location.append('unspecified')\n",
    "        # check for salary, otherwise its posted date\n",
    "        if 'sgd' in select_row[1].lower():\n",
    "            if \"\\xa0\" in select_row[1].lower():\n",
    "                low_salary.append(select_row[1].split(\"\\xa0\")[1].split('-')[0].strip())\n",
    "                high_salary.append(select_row[1].split(\"\\xa0\")[2].strip())\n",
    "            else:\n",
    "                salary = select_row[1].lower().split('sgd')[1].strip()\n",
    "                low_salary.append(salary)\n",
    "                high_salary.append(salary)\n",
    "        # if sgd not in this value, it must be posted date, salary\n",
    "        # is then populated with unspecified\n",
    "        else:\n",
    "            salary = 'unspecified'\n",
    "            low_salary.append(salary)\n",
    "            high_salary.append(salary)\n",
    "            post_date.append(extract_date_from_posted_date(select_row[1], ML_JOB_PATH))\n",
    "        # if third value is present, it must be posted date\n",
    "        if len(select_row) == 3:\n",
    "            post_date.append(extract_date_from_posted_date(select_row[1], ML_JOB_PATH))\n",
    "    except Exception as e:\n",
    "        print(f\"{idx} with {row} has issue {e}\")\n",
    "\n",
    "assert (len(location)==len(low_salary)==len(high_salary)==len(post_date))"
   ]
  },
  {
   "cell_type": "code",
   "execution_count": 31,
   "metadata": {},
   "outputs": [],
   "source": [
    "data['location'] = location\n",
    "data['low_salary'] = low_salary\n",
    "data['high_salary'] = high_salary\n",
    "data['post_date'] = post_date"
   ]
  },
  {
   "cell_type": "code",
   "execution_count": 32,
   "metadata": {},
   "outputs": [],
   "source": [
    "pd.set_option('max_colwidth', 400)"
   ]
  },
  {
   "cell_type": "code",
   "execution_count": 33,
   "metadata": {},
   "outputs": [
    {
     "data": {
      "text/html": [
       "<div>\n",
       "<style scoped>\n",
       "    .dataframe tbody tr th:only-of-type {\n",
       "        vertical-align: middle;\n",
       "    }\n",
       "\n",
       "    .dataframe tbody tr th {\n",
       "        vertical-align: top;\n",
       "    }\n",
       "\n",
       "    .dataframe thead th {\n",
       "        text-align: right;\n",
       "    }\n",
       "</style>\n",
       "<table border=\"1\" class=\"dataframe\">\n",
       "  <thead>\n",
       "    <tr style=\"text-align: right;\">\n",
       "      <th></th>\n",
       "      <th>position</th>\n",
       "      <th>company_name</th>\n",
       "      <th>career_level</th>\n",
       "      <th>qualifcation</th>\n",
       "      <th>job_type</th>\n",
       "      <th>job_specialisations</th>\n",
       "      <th>company_overview</th>\n",
       "      <th>url</th>\n",
       "      <th>location</th>\n",
       "      <th>low_salary</th>\n",
       "      <th>high_salary</th>\n",
       "      <th>post_date</th>\n",
       "    </tr>\n",
       "  </thead>\n",
       "  <tbody>\n",
       "    <tr>\n",
       "      <th>940</th>\n",
       "      <td>Snr Specialist Biz Transformation, Data Migration</td>\n",
       "      <td>ASM Front-End Manufacturing Singapore Pte Ltd</td>\n",
       "      <td>Junior Executive</td>\n",
       "      <td>Bachelor's Degree, Post Graduate Diploma, Professional Degree</td>\n",
       "      <td>Full-Time</td>\n",
       "      <td>Computer/Information Technology, IT-Network/Sys/DB Admin</td>\n",
       "      <td>\\n\\tIn 1968, at the very outset of the global semiconductor industry, entrepreneur Arthur del Prado established ASM in the Netherlands. Mr Del Prado then served as President, Chief Executive Officer and Chairman of the Management Board of ASM International until his retirement, in 2008. Acclaimed as the \"father of the European semiconductor equipment industry”, his contributions to the industr...</td>\n",
       "      <td>http://www.jobstreet.com.sg/en/job/snr-specialist-biz-transformation-data-migration-10270617?jobId=jobstreet-sg-job-10270617&amp;sectionRank=377&amp;token=0~9232a8db-1b04-45af-a55b-b7ddd2a5f148&amp;fr=SRP%20Job%20Listing</td>\n",
       "      <td>unspecified</td>\n",
       "      <td>unspecified</td>\n",
       "      <td>unspecified</td>\n",
       "      <td>2022-12-21</td>\n",
       "    </tr>\n",
       "    <tr>\n",
       "      <th>265</th>\n",
       "      <td>AI Architect (Digital)</td>\n",
       "      <td>Mediacorp Pte Ltd</td>\n",
       "      <td>Senior Executive</td>\n",
       "      <td>Diploma, Advanced/Higher/Graduate Diploma, Bachelor's Degree, Post Graduate Diploma, Professional Degree, Master's Degree</td>\n",
       "      <td>Full-Time</td>\n",
       "      <td>Computer/Information Technology, IT-Software</td>\n",
       "      <td>\\n\\nMediacorp is Singapore’s leading media company with the most complete range of platforms, spanning television, radio, newspapers, magazines, movies, digital and out-of-home media.\\n\\t\\t \\n\\n\\t\\tIt pioneered the development of Singapore’s broadcasting industry, with the broadcast of Radio in 1936 and Television in 1963.\\n\\n\\t\\tToday, Mediacorp has over 50 products and brands in four languag...</td>\n",
       "      <td>http://www.jobstreet.com.sg/en/job/ai-architect-digital-10232479?jobId=jobstreet-sg-job-10232479&amp;sectionRank=276&amp;token=0~028e1606-4f5f-41e8-a322-949f17f3c36b&amp;fr=SRP%20Job%20Listing</td>\n",
       "      <td>unspecified</td>\n",
       "      <td>unspecified</td>\n",
       "      <td>unspecified</td>\n",
       "      <td>2022-12-17</td>\n",
       "    </tr>\n",
       "    <tr>\n",
       "      <th>109</th>\n",
       "      <td>Machine Learning Engr.,  TikTok Search</td>\n",
       "      <td>TikTok</td>\n",
       "      <td>Junior Executive</td>\n",
       "      <td>Bachelor's Degree, Post Graduate Diploma, Professional Degree, Master's Degree</td>\n",
       "      <td>Full-Time</td>\n",
       "      <td>Computer/Information Technology, IT-Software</td>\n",
       "      <td>TikTok is the leading destination for short-form mobile video. Our mission is to inspire creativity and bring joy. TikTok is a global short-form mobile video platform that allows you to express yourself by creating content. It gives rise to engaging, interactive challenges and trending topics in which anyone can participate. TikTok aims to capture and showcase the world's creativity, knowledge...</td>\n",
       "      <td>http://www.jobstreet.com.sg/en/job/machine-learning-engr.-tiktok-search-urgent-worknow-10308024?jobId=jobstreet-sg-job-10308024&amp;sectionRank=114&amp;token=0~2d20fa49-9650-4bbc-b087-8815b24611d8&amp;fr=SRP%20Job%20Listing</td>\n",
       "      <td>unspecified</td>\n",
       "      <td>unspecified</td>\n",
       "      <td>unspecified</td>\n",
       "      <td>2023-01-05</td>\n",
       "    </tr>\n",
       "    <tr>\n",
       "      <th>299</th>\n",
       "      <td>Machine Learning Engineer,  TikTok</td>\n",
       "      <td>TikTok</td>\n",
       "      <td>Junior Executive</td>\n",
       "      <td>Bachelor's Degree, Post Graduate Diploma, Professional Degree, Master's Degree</td>\n",
       "      <td>Full-Time</td>\n",
       "      <td>Computer/Information Technology, IT-Software</td>\n",
       "      <td>TikTok is the leading destination for short-form mobile video. Our mission is to inspire creativity and bring joy. TikTok is a global short-form mobile video platform that allows you to express yourself by creating content. It gives rise to engaging, interactive challenges and trending topics in which anyone can participate. TikTok aims to capture and showcase the world's creativity, knowledge...</td>\n",
       "      <td>http://www.jobstreet.com.sg/en/job/machine-learning-engineer-tiktok-urgent-10257908?jobId=jobstreet-sg-job-10257908&amp;sectionRank=311&amp;token=0~227ba018-ed7c-4e6e-b992-f50ffce511ff&amp;fr=SRP%20Job%20Listing</td>\n",
       "      <td>unspecified</td>\n",
       "      <td>unspecified</td>\n",
       "      <td>unspecified</td>\n",
       "      <td>2022-12-17</td>\n",
       "    </tr>\n",
       "    <tr>\n",
       "      <th>752</th>\n",
       "      <td>Data Administator</td>\n",
       "      <td>SELF HELP GROUPS STUDENT CARE LIMITED</td>\n",
       "      <td>Junior Executive</td>\n",
       "      <td>Diploma, Advanced/Higher/Graduate Diploma, Bachelor's Degree, Post Graduate Diploma, Professional Degree, Master's Degree</td>\n",
       "      <td>Full-Time</td>\n",
       "      <td>Computer/Information Technology, IT-Network/Sys/DB Admin</td>\n",
       "      <td>The Self Help Groups Student Care Limited (SHGSCL) is a joint venture company owned by the four Self Help Groups (SHGs), namely, the Chinese Development Assistance Council (CDAC), Yayasan MENDAKI, Singapore Indian Development Association (SINDA), and the Eurasian Association (EA). It was set up in November 2015 to operate 30 school-based Student Care Centres (SCCs) that will cater to students ...</td>\n",
       "      <td>http://www.jobstreet.com.sg/en/job/data-administator-10286313?jobId=jobstreet-sg-job-10286313&amp;sectionRank=182&amp;token=0~0aaa7fa4-615c-4ba2-b798-f8895932bee7&amp;fr=SRP%20Job%20Listing</td>\n",
       "      <td>Paya Lebar</td>\n",
       "      <td>unspecified</td>\n",
       "      <td>unspecified</td>\n",
       "      <td>2022-12-27</td>\n",
       "    </tr>\n",
       "    <tr>\n",
       "      <th>170</th>\n",
       "      <td>Machine Learning Engineer (TikTok)   Start</td>\n",
       "      <td>TikTok</td>\n",
       "      <td>Entry Level</td>\n",
       "      <td>Bachelor's Degree, Post Graduate Diploma, Professional Degree, Master's Degree</td>\n",
       "      <td>Full-Time</td>\n",
       "      <td>Computer/Information Technology, IT-Software</td>\n",
       "      <td>TikTok is the leading destination for short-form mobile video. Our mission is to inspire creativity and bring joy. TikTok is a global short-form mobile video platform that allows you to express yourself by creating content. It gives rise to engaging, interactive challenges and trending topics in which anyone can participate. TikTok aims to capture and showcase the world's creativity, knowledge...</td>\n",
       "      <td>http://www.jobstreet.com.sg/en/job/machine-learning-engineer-tiktok-2023-start*-10272749?jobId=jobstreet-sg-job-10272749&amp;sectionRank=177&amp;token=0~50b05378-a3ad-4c79-ac0d-ebbbd40b6a1b&amp;fr=SRP%20Job%20Listing</td>\n",
       "      <td>unspecified</td>\n",
       "      <td>unspecified</td>\n",
       "      <td>unspecified</td>\n",
       "      <td>2022-12-22</td>\n",
       "    </tr>\n",
       "    <tr>\n",
       "      <th>887</th>\n",
       "      <td>IBOR Programme,  Data Analytics Reg Reporting..</td>\n",
       "      <td>ALLEGIS GLOBAL SOLUTIONS (SINGAPORE) PTE. LTD</td>\n",
       "      <td>Senior Executive</td>\n",
       "      <td>Bachelor's Degree, Post Graduate Diploma, Professional Degree</td>\n",
       "      <td>Full-Time</td>\n",
       "      <td>Computer/Information Technology, IT-Software</td>\n",
       "      <td>\\n\\n\\t\\tAllegis Global Solutions is the exclusive Contingent HR services provider for one of the world’s leading banks.\\n\\n\\t\\tAt Allegis Global Solutions we’re proud to be the leader in global talent solutions. We draw upon decades of industry expertise to develop innovative tools, products, processes and strategies focused on outcome. Moreover, we’re incredibly proud to have built a culture ...</td>\n",
       "      <td>http://www.jobstreet.com.sg/en/job/ibor-programme-data-analytics-reg-reporting..-10299879?jobId=jobstreet-sg-job-10299879&amp;sectionRank=322&amp;token=0~4176667d-0f0f-413f-b512-a364b66243ac&amp;fr=SRP%20Job%20Listing</td>\n",
       "      <td>unspecified</td>\n",
       "      <td>unspecified</td>\n",
       "      <td>unspecified</td>\n",
       "      <td>2023-01-02</td>\n",
       "    </tr>\n",
       "    <tr>\n",
       "      <th>549</th>\n",
       "      <td>AIOps Algorithm Engineer, Applications Performance Mgmt. #.</td>\n",
       "      <td>TikTok</td>\n",
       "      <td>Junior Executive</td>\n",
       "      <td>Bachelor's Degree, Post Graduate Diploma, Professional Degree, Master's Degree</td>\n",
       "      <td>Full-Time</td>\n",
       "      <td>Computer/Information Technology, IT-Software</td>\n",
       "      <td>TikTok is the leading destination for short-form mobile video. Our mission is to inspire creativity and bring joy. TikTok is a global short-form mobile video platform that allows you to express yourself by creating content. It gives rise to engaging, interactive challenges and trending topics in which anyone can participate. TikTok aims to capture and showcase the world's creativity, knowledge...</td>\n",
       "      <td>http://www.jobstreet.com.sg/en/job/aiops-algorithm-engineer-applications-performance-mgmt.-worknow-.-immediate-10271847?jobId=jobstreet-sg-job-10271847&amp;sectionRank=569&amp;token=0~eeec5dec-6f56-4654-a2f0-2df29cb840ee&amp;fr=SRP%20Job%20Listing</td>\n",
       "      <td>unspecified</td>\n",
       "      <td>unspecified</td>\n",
       "      <td>unspecified</td>\n",
       "      <td>2022-12-22</td>\n",
       "    </tr>\n",
       "    <tr>\n",
       "      <th>943</th>\n",
       "      <td>Data Scientist  ECommerce Risk Control   #.</td>\n",
       "      <td>TikTok</td>\n",
       "      <td>Junior Executive</td>\n",
       "      <td>Bachelor's Degree, Post Graduate Diploma, Professional Degree, Master's Degree</td>\n",
       "      <td>Full-Time</td>\n",
       "      <td>Computer/Information Technology, IT-Software</td>\n",
       "      <td>TikTok is the leading destination for short-form mobile video. Our mission is to inspire creativity and bring joy. TikTok is a global short-form mobile video platform that allows you to express yourself by creating content. It gives rise to engaging, interactive challenges and trending topics in which anyone can participate. TikTok aims to capture and showcase the world's creativity, knowledge...</td>\n",
       "      <td>http://www.jobstreet.com.sg/en/job/data-scientist-e-commerce-risk-control-worknow-urgenthire-.-jobsthatmatter-10277613?jobId=jobstreet-sg-job-10277613&amp;sectionRank=380&amp;token=0~9232a8db-1b04-45af-a55b-b7ddd2a5f148&amp;fr=SRP%20Job%20Listing</td>\n",
       "      <td>unspecified</td>\n",
       "      <td>unspecified</td>\n",
       "      <td>unspecified</td>\n",
       "      <td>2022-12-23</td>\n",
       "    </tr>\n",
       "    <tr>\n",
       "      <th>597</th>\n",
       "      <td>Data Scientist  risk control  GGLL</td>\n",
       "      <td>PERSOLKELLY Singapore Pte Ltd (Formerly Kelly Services Singapore Pte Ltd)</td>\n",
       "      <td>Senior Executive</td>\n",
       "      <td>Not Specified</td>\n",
       "      <td>Full-Time</td>\n",
       "      <td>Computer/Information Technology, IT-Software</td>\n",
       "      <td>PERSOLKELLY is one of the largest recruitment companies in Asia Pacific providing comprehensive end-to-end workforce solutions to clients.Headquartered in Singapore, the company was established in 2016 and is a joint venture between Kelly Services, Inc. and affiliates of PERSOL HOLDINGS Co. Ltd.Today, PERSOLKELLY operates more than 45 offices across 13 markets including Australia, China, Hong ...</td>\n",
       "      <td>http://www.jobstreet.com.sg/en/job/data-scientist-risk-control-ggll-10294817?jobId=jobstreet-sg-job-10294817&amp;sectionRank=19&amp;token=0~49755d95-971e-4589-bdcd-105cba043042&amp;fr=SRP%20Job%20Listing</td>\n",
       "      <td>unspecified</td>\n",
       "      <td>8,000</td>\n",
       "      <td>11,200</td>\n",
       "      <td>2023-01-05</td>\n",
       "    </tr>\n",
       "    <tr>\n",
       "      <th>359</th>\n",
       "      <td>Lead, Data Scientist M/F  ,</td>\n",
       "      <td>STMicroelectronics Asia Pacific Pte Ltd (Lite ads)</td>\n",
       "      <td>Junior Executive</td>\n",
       "      <td>Bachelor's Degree, Post Graduate Diploma, Professional Degree, Master's Degree, Doctorate (PhD)</td>\n",
       "      <td>Full-Time</td>\n",
       "      <td>Computer/Information Technology, IT-Software</td>\n",
       "      <td>\\n\\tSTMicroelectronics is a world leader in providing the semiconductor solutions that make a positive contribution to people’s lives, today and into the future.  Among the world’s largest semiconductor companies and a leading technology innovator: ~7,400 people working in R&amp;D and product design, ~18,000 patents, ~ 9,600 patent families and ~ 550 new patent filings, employing ~46,000 employees...</td>\n",
       "      <td>http://www.jobstreet.com.sg/en/job/lead-data-scientist-m-f-jobsthatmatter-urgent-seekbetter-jobsthatmatter-10291914?jobId=jobstreet-sg-job-10291914&amp;sectionRank=373&amp;token=0~e69c3cd0-4f91-45c2-9877-b59b7f14267e&amp;fr=SRP%20Job%20Listing</td>\n",
       "      <td>unspecified</td>\n",
       "      <td>unspecified</td>\n",
       "      <td>unspecified</td>\n",
       "      <td>2022-12-28</td>\n",
       "    </tr>\n",
       "    <tr>\n",
       "      <th>318</th>\n",
       "      <td>Research Engineer, Systems Science, IHPC</td>\n",
       "      <td>Agency for Science, Technology and Research (A*STAR)</td>\n",
       "      <td>Junior Executive</td>\n",
       "      <td>Bachelor's Degree, Post Graduate Diploma, Professional Degree, Master's Degree</td>\n",
       "      <td>Full-Time</td>\n",
       "      <td>Computer/Information Technology, IT-Software</td>\n",
       "      <td>\\n\\tThe Agency for Science, Technology and Research (A*STAR) is Singapore's lead public sector agency that spearheads economic oriented research to advance scientific discovery and develop innovative technology. Through open innovation, we collaborate with our partners in both the public and private sectors to benefit society.\\n\\n\\tAs a Science and Technology Organisation, A*STAR bridges the g...</td>\n",
       "      <td>http://www.jobstreet.com.sg/en/job/research-engineer-systems-science-ihpc-10229278?jobId=jobstreet-sg-job-10229278&amp;sectionRank=330&amp;token=0~227ba018-ed7c-4e6e-b992-f50ffce511ff&amp;fr=SRP%20Job%20Listing</td>\n",
       "      <td>unspecified</td>\n",
       "      <td>unspecified</td>\n",
       "      <td>unspecified</td>\n",
       "      <td>2022-12-16</td>\n",
       "    </tr>\n",
       "    <tr>\n",
       "      <th>140</th>\n",
       "      <td>Backend Software Engineer,  Machine Learning Systems</td>\n",
       "      <td>TikTok</td>\n",
       "      <td>Junior Executive</td>\n",
       "      <td>Diploma, Advanced/Higher/Graduate Diploma, Bachelor's Degree, Post Graduate Diploma, Professional Degree, Master's Degree</td>\n",
       "      <td>Full-Time</td>\n",
       "      <td>Computer/Information Technology, IT-Software</td>\n",
       "      <td>TikTok is the leading destination for short-form mobile video. Our mission is to inspire creativity and bring joy. TikTok is a global short-form mobile video platform that allows you to express yourself by creating content. It gives rise to engaging, interactive challenges and trending topics in which anyone can participate. TikTok aims to capture and showcase the world's creativity, knowledge...</td>\n",
       "      <td>http://www.jobstreet.com.sg/en/job/backend-software-engineer-machine-learning-systems-worknow*-10277227?jobId=jobstreet-sg-job-10277227&amp;sectionRank=146&amp;token=0~1b1e7039-5849-4f86-92a9-98789af4b870&amp;fr=SRP%20Job%20Listing</td>\n",
       "      <td>unspecified</td>\n",
       "      <td>unspecified</td>\n",
       "      <td>unspecified</td>\n",
       "      <td>2022-12-23</td>\n",
       "    </tr>\n",
       "    <tr>\n",
       "      <th>916</th>\n",
       "      <td>Data Scientist Intern, Growth</td>\n",
       "      <td>TikTok</td>\n",
       "      <td>Junior Executive</td>\n",
       "      <td>Bachelor's Degree, Post Graduate Diploma, Professional Degree, Master's Degree</td>\n",
       "      <td>Full-Time</td>\n",
       "      <td>Computer/Information Technology, IT-Software</td>\n",
       "      <td>TikTok is the leading destination for short-form mobile video. Our mission is to inspire creativity and bring joy. TikTok is a global short-form mobile video platform that allows you to express yourself by creating content. It gives rise to engaging, interactive challenges and trending topics in which anyone can participate. TikTok aims to capture and showcase the world's creativity, knowledge...</td>\n",
       "      <td>http://www.jobstreet.com.sg/en/job/data-scientist-intern-growth-jobsthatmatter*-urgenthire-10276818?jobId=jobstreet-sg-job-10276818&amp;sectionRank=352&amp;token=0~5dba14dd-b530-4f42-844e-90359769e6d5&amp;fr=SRP%20Job%20Listing</td>\n",
       "      <td>unspecified</td>\n",
       "      <td>unspecified</td>\n",
       "      <td>unspecified</td>\n",
       "      <td>2022-12-23</td>\n",
       "    </tr>\n",
       "    <tr>\n",
       "      <th>128</th>\n",
       "      <td>Software Engineer (Machine Learning Infrastructure), AML</td>\n",
       "      <td>TikTok</td>\n",
       "      <td>Junior Executive</td>\n",
       "      <td>Bachelor's Degree, Post Graduate Diploma, Professional Degree</td>\n",
       "      <td>Full-Time</td>\n",
       "      <td>Computer/Information Technology, IT-Software</td>\n",
       "      <td>TikTok is the leading destination for short-form mobile video. Our mission is to inspire creativity and bring joy. TikTok is a global short-form mobile video platform that allows you to express yourself by creating content. It gives rise to engaging, interactive challenges and trending topics in which anyone can participate. TikTok aims to capture and showcase the world's creativity, knowledge...</td>\n",
       "      <td>http://www.jobstreet.com.sg/en/job/software-engineer-machine-learning-infrastructure-aml-urgenthire-worknow-10275997?jobId=jobstreet-sg-job-10275997&amp;sectionRank=134&amp;token=0~1b1e7039-5849-4f86-92a9-98789af4b870&amp;fr=SRP%20Job%20Listing</td>\n",
       "      <td>unspecified</td>\n",
       "      <td>unspecified</td>\n",
       "      <td>unspecified</td>\n",
       "      <td>2022-12-22</td>\n",
       "    </tr>\n",
       "  </tbody>\n",
       "</table>\n",
       "</div>"
      ],
      "text/plain": [
       "                                                        position  \\\n",
       "940            Snr Specialist Biz Transformation, Data Migration   \n",
       "265                                       AI Architect (Digital)   \n",
       "109                     Machine Learning Engr.,  TikTok Search     \n",
       "299                          Machine Learning Engineer,  TikTok    \n",
       "752                                            Data Administator   \n",
       "170                   Machine Learning Engineer (TikTok)   Start   \n",
       "887              IBOR Programme,  Data Analytics Reg Reporting..   \n",
       "549  AIOps Algorithm Engineer, Applications Performance Mgmt. #.   \n",
       "943                  Data Scientist  ECommerce Risk Control   #.   \n",
       "597                           Data Scientist  risk control  GGLL   \n",
       "359                               Lead, Data Scientist M/F  ,      \n",
       "318                     Research Engineer, Systems Science, IHPC   \n",
       "140        Backend Software Engineer,  Machine Learning Systems    \n",
       "916                              Data Scientist Intern, Growth     \n",
       "128   Software Engineer (Machine Learning Infrastructure), AML     \n",
       "\n",
       "                                                                  company_name  \\\n",
       "940                              ASM Front-End Manufacturing Singapore Pte Ltd   \n",
       "265                                                          Mediacorp Pte Ltd   \n",
       "109                                                                     TikTok   \n",
       "299                                                                     TikTok   \n",
       "752                                      SELF HELP GROUPS STUDENT CARE LIMITED   \n",
       "170                                                                     TikTok   \n",
       "887                              ALLEGIS GLOBAL SOLUTIONS (SINGAPORE) PTE. LTD   \n",
       "549                                                                     TikTok   \n",
       "943                                                                     TikTok   \n",
       "597  PERSOLKELLY Singapore Pte Ltd (Formerly Kelly Services Singapore Pte Ltd)   \n",
       "359                         STMicroelectronics Asia Pacific Pte Ltd (Lite ads)   \n",
       "318                       Agency for Science, Technology and Research (A*STAR)   \n",
       "140                                                                     TikTok   \n",
       "916                                                                     TikTok   \n",
       "128                                                                     TikTok   \n",
       "\n",
       "         career_level  \\\n",
       "940  Junior Executive   \n",
       "265  Senior Executive   \n",
       "109  Junior Executive   \n",
       "299  Junior Executive   \n",
       "752  Junior Executive   \n",
       "170       Entry Level   \n",
       "887  Senior Executive   \n",
       "549  Junior Executive   \n",
       "943  Junior Executive   \n",
       "597  Senior Executive   \n",
       "359  Junior Executive   \n",
       "318  Junior Executive   \n",
       "140  Junior Executive   \n",
       "916  Junior Executive   \n",
       "128  Junior Executive   \n",
       "\n",
       "                                                                                                                  qualifcation  \\\n",
       "940                                                              Bachelor's Degree, Post Graduate Diploma, Professional Degree   \n",
       "265  Diploma, Advanced/Higher/Graduate Diploma, Bachelor's Degree, Post Graduate Diploma, Professional Degree, Master's Degree   \n",
       "109                                             Bachelor's Degree, Post Graduate Diploma, Professional Degree, Master's Degree   \n",
       "299                                             Bachelor's Degree, Post Graduate Diploma, Professional Degree, Master's Degree   \n",
       "752  Diploma, Advanced/Higher/Graduate Diploma, Bachelor's Degree, Post Graduate Diploma, Professional Degree, Master's Degree   \n",
       "170                                             Bachelor's Degree, Post Graduate Diploma, Professional Degree, Master's Degree   \n",
       "887                                                              Bachelor's Degree, Post Graduate Diploma, Professional Degree   \n",
       "549                                             Bachelor's Degree, Post Graduate Diploma, Professional Degree, Master's Degree   \n",
       "943                                             Bachelor's Degree, Post Graduate Diploma, Professional Degree, Master's Degree   \n",
       "597                                                                                                              Not Specified   \n",
       "359                            Bachelor's Degree, Post Graduate Diploma, Professional Degree, Master's Degree, Doctorate (PhD)   \n",
       "318                                             Bachelor's Degree, Post Graduate Diploma, Professional Degree, Master's Degree   \n",
       "140  Diploma, Advanced/Higher/Graduate Diploma, Bachelor's Degree, Post Graduate Diploma, Professional Degree, Master's Degree   \n",
       "916                                             Bachelor's Degree, Post Graduate Diploma, Professional Degree, Master's Degree   \n",
       "128                                                              Bachelor's Degree, Post Graduate Diploma, Professional Degree   \n",
       "\n",
       "      job_type                                       job_specialisations  \\\n",
       "940  Full-Time  Computer/Information Technology, IT-Network/Sys/DB Admin   \n",
       "265  Full-Time              Computer/Information Technology, IT-Software   \n",
       "109  Full-Time              Computer/Information Technology, IT-Software   \n",
       "299  Full-Time              Computer/Information Technology, IT-Software   \n",
       "752  Full-Time  Computer/Information Technology, IT-Network/Sys/DB Admin   \n",
       "170  Full-Time              Computer/Information Technology, IT-Software   \n",
       "887  Full-Time              Computer/Information Technology, IT-Software   \n",
       "549  Full-Time              Computer/Information Technology, IT-Software   \n",
       "943  Full-Time              Computer/Information Technology, IT-Software   \n",
       "597  Full-Time              Computer/Information Technology, IT-Software   \n",
       "359  Full-Time              Computer/Information Technology, IT-Software   \n",
       "318  Full-Time              Computer/Information Technology, IT-Software   \n",
       "140  Full-Time              Computer/Information Technology, IT-Software   \n",
       "916  Full-Time              Computer/Information Technology, IT-Software   \n",
       "128  Full-Time              Computer/Information Technology, IT-Software   \n",
       "\n",
       "                                                                                                                                                                                                                                                                                                                                                                                                    company_overview  \\\n",
       "940  \\n\\tIn 1968, at the very outset of the global semiconductor industry, entrepreneur Arthur del Prado established ASM in the Netherlands. Mr Del Prado then served as President, Chief Executive Officer and Chairman of the Management Board of ASM International until his retirement, in 2008. Acclaimed as the \"father of the European semiconductor equipment industry”, his contributions to the industr...   \n",
       "265  \\n\\nMediacorp is Singapore’s leading media company with the most complete range of platforms, spanning television, radio, newspapers, magazines, movies, digital and out-of-home media.\\n\\t\\t \\n\\n\\t\\tIt pioneered the development of Singapore’s broadcasting industry, with the broadcast of Radio in 1936 and Television in 1963.\\n\\n\\t\\tToday, Mediacorp has over 50 products and brands in four languag...   \n",
       "109  TikTok is the leading destination for short-form mobile video. Our mission is to inspire creativity and bring joy. TikTok is a global short-form mobile video platform that allows you to express yourself by creating content. It gives rise to engaging, interactive challenges and trending topics in which anyone can participate. TikTok aims to capture and showcase the world's creativity, knowledge...   \n",
       "299  TikTok is the leading destination for short-form mobile video. Our mission is to inspire creativity and bring joy. TikTok is a global short-form mobile video platform that allows you to express yourself by creating content. It gives rise to engaging, interactive challenges and trending topics in which anyone can participate. TikTok aims to capture and showcase the world's creativity, knowledge...   \n",
       "752  The Self Help Groups Student Care Limited (SHGSCL) is a joint venture company owned by the four Self Help Groups (SHGs), namely, the Chinese Development Assistance Council (CDAC), Yayasan MENDAKI, Singapore Indian Development Association (SINDA), and the Eurasian Association (EA). It was set up in November 2015 to operate 30 school-based Student Care Centres (SCCs) that will cater to students ...   \n",
       "170  TikTok is the leading destination for short-form mobile video. Our mission is to inspire creativity and bring joy. TikTok is a global short-form mobile video platform that allows you to express yourself by creating content. It gives rise to engaging, interactive challenges and trending topics in which anyone can participate. TikTok aims to capture and showcase the world's creativity, knowledge...   \n",
       "887  \\n\\n\\t\\tAllegis Global Solutions is the exclusive Contingent HR services provider for one of the world’s leading banks.\\n\\n\\t\\tAt Allegis Global Solutions we’re proud to be the leader in global talent solutions. We draw upon decades of industry expertise to develop innovative tools, products, processes and strategies focused on outcome. Moreover, we’re incredibly proud to have built a culture ...   \n",
       "549  TikTok is the leading destination for short-form mobile video. Our mission is to inspire creativity and bring joy. TikTok is a global short-form mobile video platform that allows you to express yourself by creating content. It gives rise to engaging, interactive challenges and trending topics in which anyone can participate. TikTok aims to capture and showcase the world's creativity, knowledge...   \n",
       "943  TikTok is the leading destination for short-form mobile video. Our mission is to inspire creativity and bring joy. TikTok is a global short-form mobile video platform that allows you to express yourself by creating content. It gives rise to engaging, interactive challenges and trending topics in which anyone can participate. TikTok aims to capture and showcase the world's creativity, knowledge...   \n",
       "597  PERSOLKELLY is one of the largest recruitment companies in Asia Pacific providing comprehensive end-to-end workforce solutions to clients.Headquartered in Singapore, the company was established in 2016 and is a joint venture between Kelly Services, Inc. and affiliates of PERSOL HOLDINGS Co. Ltd.Today, PERSOLKELLY operates more than 45 offices across 13 markets including Australia, China, Hong ...   \n",
       "359  \\n\\tSTMicroelectronics is a world leader in providing the semiconductor solutions that make a positive contribution to people’s lives, today and into the future.  Among the world’s largest semiconductor companies and a leading technology innovator: ~7,400 people working in R&D and product design, ~18,000 patents, ~ 9,600 patent families and ~ 550 new patent filings, employing ~46,000 employees...   \n",
       "318  \\n\\tThe Agency for Science, Technology and Research (A*STAR) is Singapore's lead public sector agency that spearheads economic oriented research to advance scientific discovery and develop innovative technology. Through open innovation, we collaborate with our partners in both the public and private sectors to benefit society.\\n\\n\\tAs a Science and Technology Organisation, A*STAR bridges the g...   \n",
       "140  TikTok is the leading destination for short-form mobile video. Our mission is to inspire creativity and bring joy. TikTok is a global short-form mobile video platform that allows you to express yourself by creating content. It gives rise to engaging, interactive challenges and trending topics in which anyone can participate. TikTok aims to capture and showcase the world's creativity, knowledge...   \n",
       "916  TikTok is the leading destination for short-form mobile video. Our mission is to inspire creativity and bring joy. TikTok is a global short-form mobile video platform that allows you to express yourself by creating content. It gives rise to engaging, interactive challenges and trending topics in which anyone can participate. TikTok aims to capture and showcase the world's creativity, knowledge...   \n",
       "128  TikTok is the leading destination for short-form mobile video. Our mission is to inspire creativity and bring joy. TikTok is a global short-form mobile video platform that allows you to express yourself by creating content. It gives rise to engaging, interactive challenges and trending topics in which anyone can participate. TikTok aims to capture and showcase the world's creativity, knowledge...   \n",
       "\n",
       "                                                                                                                                                                                                                                             url  \\\n",
       "940                             http://www.jobstreet.com.sg/en/job/snr-specialist-biz-transformation-data-migration-10270617?jobId=jobstreet-sg-job-10270617&sectionRank=377&token=0~9232a8db-1b04-45af-a55b-b7ddd2a5f148&fr=SRP%20Job%20Listing   \n",
       "265                                                         http://www.jobstreet.com.sg/en/job/ai-architect-digital-10232479?jobId=jobstreet-sg-job-10232479&sectionRank=276&token=0~028e1606-4f5f-41e8-a322-949f17f3c36b&fr=SRP%20Job%20Listing   \n",
       "109                          http://www.jobstreet.com.sg/en/job/machine-learning-engr.-tiktok-search-urgent-worknow-10308024?jobId=jobstreet-sg-job-10308024&sectionRank=114&token=0~2d20fa49-9650-4bbc-b087-8815b24611d8&fr=SRP%20Job%20Listing   \n",
       "299                                      http://www.jobstreet.com.sg/en/job/machine-learning-engineer-tiktok-urgent-10257908?jobId=jobstreet-sg-job-10257908&sectionRank=311&token=0~227ba018-ed7c-4e6e-b992-f50ffce511ff&fr=SRP%20Job%20Listing   \n",
       "752                                                            http://www.jobstreet.com.sg/en/job/data-administator-10286313?jobId=jobstreet-sg-job-10286313&sectionRank=182&token=0~0aaa7fa4-615c-4ba2-b798-f8895932bee7&fr=SRP%20Job%20Listing   \n",
       "170                                 http://www.jobstreet.com.sg/en/job/machine-learning-engineer-tiktok-2023-start*-10272749?jobId=jobstreet-sg-job-10272749&sectionRank=177&token=0~50b05378-a3ad-4c79-ac0d-ebbbd40b6a1b&fr=SRP%20Job%20Listing   \n",
       "887                                http://www.jobstreet.com.sg/en/job/ibor-programme-data-analytics-reg-reporting..-10299879?jobId=jobstreet-sg-job-10299879&sectionRank=322&token=0~4176667d-0f0f-413f-b512-a364b66243ac&fr=SRP%20Job%20Listing   \n",
       "549  http://www.jobstreet.com.sg/en/job/aiops-algorithm-engineer-applications-performance-mgmt.-worknow-.-immediate-10271847?jobId=jobstreet-sg-job-10271847&sectionRank=569&token=0~eeec5dec-6f56-4654-a2f0-2df29cb840ee&fr=SRP%20Job%20Listing   \n",
       "943   http://www.jobstreet.com.sg/en/job/data-scientist-e-commerce-risk-control-worknow-urgenthire-.-jobsthatmatter-10277613?jobId=jobstreet-sg-job-10277613&sectionRank=380&token=0~9232a8db-1b04-45af-a55b-b7ddd2a5f148&fr=SRP%20Job%20Listing   \n",
       "597                                              http://www.jobstreet.com.sg/en/job/data-scientist-risk-control-ggll-10294817?jobId=jobstreet-sg-job-10294817&sectionRank=19&token=0~49755d95-971e-4589-bdcd-105cba043042&fr=SRP%20Job%20Listing   \n",
       "359      http://www.jobstreet.com.sg/en/job/lead-data-scientist-m-f-jobsthatmatter-urgent-seekbetter-jobsthatmatter-10291914?jobId=jobstreet-sg-job-10291914&sectionRank=373&token=0~e69c3cd0-4f91-45c2-9877-b59b7f14267e&fr=SRP%20Job%20Listing   \n",
       "318                                       http://www.jobstreet.com.sg/en/job/research-engineer-systems-science-ihpc-10229278?jobId=jobstreet-sg-job-10229278&sectionRank=330&token=0~227ba018-ed7c-4e6e-b992-f50ffce511ff&fr=SRP%20Job%20Listing   \n",
       "140                  http://www.jobstreet.com.sg/en/job/backend-software-engineer-machine-learning-systems-worknow*-10277227?jobId=jobstreet-sg-job-10277227&sectionRank=146&token=0~1b1e7039-5849-4f86-92a9-98789af4b870&fr=SRP%20Job%20Listing   \n",
       "916                      http://www.jobstreet.com.sg/en/job/data-scientist-intern-growth-jobsthatmatter*-urgenthire-10276818?jobId=jobstreet-sg-job-10276818&sectionRank=352&token=0~5dba14dd-b530-4f42-844e-90359769e6d5&fr=SRP%20Job%20Listing   \n",
       "128     http://www.jobstreet.com.sg/en/job/software-engineer-machine-learning-infrastructure-aml-urgenthire-worknow-10275997?jobId=jobstreet-sg-job-10275997&sectionRank=134&token=0~1b1e7039-5849-4f86-92a9-98789af4b870&fr=SRP%20Job%20Listing   \n",
       "\n",
       "        location   low_salary  high_salary  post_date  \n",
       "940  unspecified  unspecified  unspecified 2022-12-21  \n",
       "265  unspecified  unspecified  unspecified 2022-12-17  \n",
       "109  unspecified  unspecified  unspecified 2023-01-05  \n",
       "299  unspecified  unspecified  unspecified 2022-12-17  \n",
       "752   Paya Lebar  unspecified  unspecified 2022-12-27  \n",
       "170  unspecified  unspecified  unspecified 2022-12-22  \n",
       "887  unspecified  unspecified  unspecified 2023-01-02  \n",
       "549  unspecified  unspecified  unspecified 2022-12-22  \n",
       "943  unspecified  unspecified  unspecified 2022-12-23  \n",
       "597  unspecified        8,000       11,200 2023-01-05  \n",
       "359  unspecified  unspecified  unspecified 2022-12-28  \n",
       "318  unspecified  unspecified  unspecified 2022-12-16  \n",
       "140  unspecified  unspecified  unspecified 2022-12-23  \n",
       "916  unspecified  unspecified  unspecified 2022-12-23  \n",
       "128  unspecified  unspecified  unspecified 2022-12-22  "
      ]
     },
     "execution_count": 33,
     "metadata": {},
     "output_type": "execute_result"
    }
   ],
   "source": [
    "# This is how the dataframe looks like so far.\n",
    "pd.DataFrame.from_dict(data).sample(15,random_state=RANDOM_STATE)"
   ]
  },
  {
   "cell_type": "markdown",
   "metadata": {},
   "source": [
    "### Job description"
   ]
  },
  {
   "cell_type": "markdown",
   "metadata": {},
   "source": [
    "Because this section is pretty much is an open format for text to be dumped, the rationale for the scrapping rules is that it would be easier to identify actual JDs as they tend to be encapsulated in list format preceded by a header in bold. Of course the actual JD could be contained in some other format however this is one way to remove extra information like standard clauses by companies.  "
   ]
  },
  {
   "cell_type": "markdown",
   "metadata": {},
   "source": [
    "Remove the _3 suffix attached to the key"
   ]
  },
  {
   "cell_type": "code",
   "execution_count": 148,
   "metadata": {},
   "outputs": [],
   "source": [
    "def return_jd_headers_count():\n",
    "    headers = return_headers()\n",
    "    jd_headers = {key[:-2]:headers[key] for key in list(headers) if key.endswith('3')}\n",
    "\n",
    "    return jd_headers"
   ]
  },
  {
   "cell_type": "code",
   "execution_count": 149,
   "metadata": {},
   "outputs": [],
   "source": [
    "jd_headers = return_jd_headers_count()"
   ]
  },
  {
   "cell_type": "code",
   "execution_count": 97,
   "metadata": {},
   "outputs": [
    {
     "data": {
      "text/plain": [
       "303"
      ]
     },
     "execution_count": 97,
     "metadata": {},
     "output_type": "execute_result"
    }
   ],
   "source": [
    "len(jd_headers)"
   ]
  },
  {
   "cell_type": "code",
   "execution_count": 98,
   "metadata": {},
   "outputs": [],
   "source": [
    "sorted_jd_headers = dict(sorted(jd_headers.items(), key=lambda item: item[1], reverse=True))"
   ]
  },
  {
   "cell_type": "markdown",
   "metadata": {},
   "source": [
    "In this instance we see most of them are captured under expected headers like Job requirements, responsibilites, requirements and similar variants 20 shown only for visibility"
   ]
  },
  {
   "cell_type": "code",
   "execution_count": 99,
   "metadata": {},
   "outputs": [
    {
     "data": {
      "text/plain": [
       "{'qualifications': 490,\n",
       " 'responsibilities': 400,\n",
       " 'preferred qualifications': 146,\n",
       " 'job requirements': 120,\n",
       " 'requirements': 99,\n",
       " 'our ideal candidate': 82,\n",
       " 'job description': 71,\n",
       " 'unorganised_jd': 67,\n",
       " 'key responsibilities': 66,\n",
       " 'regulatory & business conduct': 61}"
      ]
     },
     "execution_count": 99,
     "metadata": {},
     "output_type": "execute_result"
    }
   ],
   "source": [
    "{key:sorted_jd_headers[key] for key in list(sorted_jd_headers)[:10]}"
   ]
  },
  {
   "cell_type": "markdown",
   "metadata": {},
   "source": [
    "I imagine JDs would then have two sections:\n",
    "- the Actual Job description, this includes the duties, the actual job description\n",
    "- Their requirements in a candidate, qualifications ,etc\n",
    "\n",
    "My next approach is to gather all of the headers that correspond to those two categories and fill them up with values.\n",
    "The difficulty here is that there is no consistent format for the companies or posters to list them unlike the previous categories. Taking the whole information and dumping them in one category or sieving them is also a big problem, thus my approach of taking bullet points from headers."
   ]
  },
  {
   "cell_type": "code",
   "execution_count": 38,
   "metadata": {},
   "outputs": [
    {
     "data": {
      "text/plain": [
       "{'Responsibilities': '',\n",
       " 'Why Join Us': \"To protect ByteDance users who are using Global Payments' service, including live stream creators and users, e-commerce buyers and sellers;.To provide a safe payment experiences on our platforms by securing the integrity of our payments ecosystem, building infrastructures, platforms and technologies.To collaborate with multiple cross-functional teams and stakeholders to provide exceptional values to our customers.\",\n",
       " 'Responsibilities:': 'Build Machine Learning models to respond to and mitigate risks in Global Payments products;.Improve modelling infrastructures, labels, features and algorithms towards improving robustness, automation and generalisation, as well as, reduce modelling and operational load on risk adversaries and new product/risk ramping-ups;.Level up the risk Machine Learning expertise excellence in domain areas such as privacy/compliance, interoperability, risk perception, analysis, etc.;.',\n",
       " 'Qualifications:': 'Bachelor degree or above in Computer Science, Statistics, Mathematics or other related majors;.Proficient in Python, Java or Scala and big data tools such as SQL / Hive / Spark, etc.;.3 years and above of Machine Learning experience, preferably with domain experiences in Trust & Safety, Risk management, Anti Fraud;.Domain experiences in one of these fields is preferred: trust and safety, risk management, fraud, anti-fraud, etc..Experienced in Machine Learning and Deep Learning models;.'}"
      ]
     },
     "execution_count": 38,
     "metadata": {},
     "output_type": "execute_result"
    }
   ],
   "source": [
    "# Some quick EDA\n",
    "# so we see that not all headers contain valid values even if the keys are valid like the first example there\n",
    "TOTAL_JOB_RAW_DATA[0][3]"
   ]
  },
  {
   "cell_type": "code",
   "execution_count": 39,
   "metadata": {},
   "outputs": [
    {
     "data": {
      "text/plain": [
       "dict_keys(['Responsibilities', 'Responsibilities:', 'Qualifications:'])"
      ]
     },
     "execution_count": 39,
     "metadata": {},
     "output_type": "execute_result"
    }
   ],
   "source": [
    "TOTAL_JOB_RAW_DATA[2][3].keys()"
   ]
  },
  {
   "cell_type": "code",
   "execution_count": 40,
   "metadata": {},
   "outputs": [
    {
     "name": "stdout",
     "output_type": "stream",
     "text": [
      "[{'position': 'Machine Learning Engineer (Risk Control) -\\xa0Global\\xa0Payments'}, {'company_name': 'BYTEDANCE PTE. LTD.'}, {'small_section': ['Singapore', 'Posted 19 hours ago']}, {'Responsibilities': '', 'Why Join Us': \"To protect ByteDance users who are using Global Payments' service, including live stream creators and users, e-commerce buyers and sellers;.To provide a safe payment experiences on our platforms by securing the integrity of our payments ecosystem, building infrastructures, platforms and technologies.To collaborate with multiple cross-functional teams and stakeholders to provide exceptional values to our customers.\", 'Responsibilities:': 'Build Machine Learning models to respond to and mitigate risks in Global Payments products;.Improve modelling infrastructures, labels, features and algorithms towards improving robustness, automation and generalisation, as well as, reduce modelling and operational load on risk adversaries and new product/risk ramping-ups;.Level up the risk Machine Learning expertise excellence in domain areas such as privacy/compliance, interoperability, risk perception, analysis, etc.;.', 'Qualifications:': 'Bachelor degree or above in Computer Science, Statistics, Mathematics or other related majors;.Proficient in Python, Java or Scala and big data tools such as SQL / Hive / Spark, etc.;.3 years and above of Machine Learning experience, preferably with domain experiences in Trust & Safety, Risk management, Anti Fraud;.Domain experiences in one of these fields is preferred: trust and safety, risk management, fraud, anti-fraud, etc..Experienced in Machine Learning and Deep Learning models;.'}, {'Career Level': 'Junior Executive', 'Qualification': \"Bachelor's Degree, Post Graduate Diploma, Professional Degree, Master's Degree, Doctorate (PhD)\", 'Years of Experience': '3 years', 'Job Type': 'Full-Time', 'Job Specializations': 'Computer/Information Technology, IT-Software', 'Registration No.': '201923456H', 'Company Size': '501 - 1000 Employees', 'Average Processing Time': '30 days', 'Industry': 'Computer / Information Technology (Software)', 'Benefits & Others': 'Dental, Education support, Miscellaneous allowance, Medical, Vision, Regular hours, Mondays - Fridays, Casual & Business'}, {'Company Overview': \"\\n\\n\\t\\tFounded in 2012, ByteDance's mission is to inspire creativity and enrich life. With a suite of more than a dozen products, including TikTok, Helo, and Resso, as well as platforms specific to the China market, including Toutiao, Douyin, and Xigua, ByteDance has made it easier and more fun for people to connect with, consume, and create content.\\n\"}, {'url': 'http://www.jobstreet.com.sg/en/job/machine-learning-engineer-risk-control-global-payments-10309012?jobId=jobstreet-sg-job-10309012&sectionRank=2&token=0~88711830-adbe-4cec-891d-43a0b8e768aa&fr=SRP%20Job%20Listing'}]\n",
      "Responsibilities\n",
      "Why Join Us\n",
      "Responsibilities:\n",
      "Qualifications:\n"
     ]
    }
   ],
   "source": [
    "# My first step is just to remove the key value pairs where there is no values or have values of a certain length..\n",
    "for posting in TOTAL_JOB_RAW_DATA:\n",
    "    print(posting)\n",
    "    for jd in posting[3]:\n",
    "        print(jd)\n",
    "    break\n"
   ]
  },
  {
   "cell_type": "code",
   "execution_count": 41,
   "metadata": {},
   "outputs": [],
   "source": [
    "temp_dict = TOTAL_JOB_RAW_DATA[500][3]"
   ]
  },
  {
   "cell_type": "code",
   "execution_count": 42,
   "metadata": {},
   "outputs": [
    {
     "data": {
      "text/plain": [
       "{'Responsibilities': '',\n",
       " 'Why Join Us': \"To protect ByteDance users who are using Global Payments' service, including live stream creators and users, e-commerce buyers and sellers;.To provide a safe payment experiences on our platforms by securing the integrity of our payments ecosystem, building infrastructures, platforms and technologies.To collaborate with multiple cross-functional teams and stakeholders to provide exceptional values to our customers.\",\n",
       " 'Responsibilities:': 'Build Machine Learning models to respond to and mitigate risks in Global Payments products;.Improve modelling infrastructures, labels, features and algorithms towards improving robustness, automation and generalisation, as well as, reduce modelling and operational load on risk adversaries and new product/risk ramping-ups;.Level up the risk Machine Learning expertise excellence in domain areas such as privacy/compliance, interoperability, risk perception, analysis, etc.;.',\n",
       " 'Qualifications:': 'Bachelor degree or above in Computer Science, Statistics, Mathematics or other related majors;.Proficient in Python, Java or Scala and big data tools such as SQL / Hive / Spark, etc.;.3 years and above of Machine Learning experience, preferably with domain experiences in Trust & Safety, Risk management, Anti Fraud;.Domain experiences in one of these fields is preferred: trust and safety, risk management, fraud, anti-fraud, etc..Experienced in Machine Learning and Deep Learning models;.'}"
      ]
     },
     "execution_count": 42,
     "metadata": {},
     "output_type": "execute_result"
    }
   ],
   "source": [
    "TOTAL_JOB_RAW_DATA[0][3]"
   ]
  },
  {
   "cell_type": "markdown",
   "metadata": {},
   "source": [
    "My latest edits made the JD into a list if the scrapper is unable to find any header and list inside"
   ]
  },
  {
   "cell_type": "code",
   "execution_count": 43,
   "metadata": {},
   "outputs": [
    {
     "data": {
      "text/plain": [
       "{'no_header_JD': ['Development of artificial intelligence (AI) technologies to perform person and object detection, classification, and analysis.',\n",
       "  'System integration of the developed algorithms.',\n",
       "  'Handling project budget.',\n",
       "  'Managing equipment.',\n",
       "  'Mentoring students.',\n",
       "  'Report preparation.',\n",
       "  'Master in Computer Science, Electrical and Electronic Engineering or related field from reputable universities.',\n",
       "  'Minimum 1-year research experience in related area.',\n",
       "  'Knowledge and experience in computer vision, artificial intelligence, pattern recognition\\xa0.',\n",
       "  'Knowledge in imaging and computing device and equipment.',\n",
       "  'Proficiency in programming languages such as C and Python.',\n",
       "  'Proficiency in deep learning frameworks such as Pytorch and Tensorflow.',\n",
       "  'Proficiency in English, both spoken and written English.',\n",
       "  'Prior publication experience is preferred.',\n",
       "  'Ability to work independently and as a team.']}"
      ]
     },
     "execution_count": 43,
     "metadata": {},
     "output_type": "execute_result"
    }
   ],
   "source": [
    "TOTAL_JOB_RAW_DATA[31][3]"
   ]
  },
  {
   "cell_type": "code",
   "execution_count": 44,
   "metadata": {},
   "outputs": [
    {
     "data": {
      "text/plain": [
       "'Provide chemistry and process-related technical support to OSP, Technology Transfers, changeover cleaning, and solvent recovery sections.. Design and conduct laboratory scale experiments and analysis with minimal supervision to support plant operation issues, evaluation of processes to minimize waste (reuse, etc), evaluation of new process technologies. Support technology transfers from developing the standard laboratory procedures (SLP) to execution of laboratory experiments, chemistry training and process validation.. Review and approve process-related documents.. Work with other Process Scientists and Engineers to anticipate and eliminate any process chemistry-related issues.. Maintain laboratory equipment and supplies and perform analytical analysis and troubleshooting.. Participate in Global product development teams as necessary.. Master’s Degree in Chemistry or relevant discipline. Minimum 5 years’ experience in pharmaceutical industry. Experience in technology transfers and troubleshooting issues related to technology transfer and pharmaceutical manufacturing. Experience working as an individual and effective team player.'"
      ]
     },
     "execution_count": 44,
     "metadata": {},
     "output_type": "execute_result"
    }
   ],
   "source": [
    "\" \".join(TOTAL_JOB_RAW_DATA[725][3]['no_header_JD'])"
   ]
  },
  {
   "cell_type": "code",
   "execution_count": 159,
   "metadata": {},
   "outputs": [],
   "source": [
    "def clean_up_jd_headers():\n",
    "    \"\"\"Remove any JD with little content then clean up the keys\n",
    "    \"\"\"\n",
    "    for idx, row in enumerate(TOTAL_JOB_RAW_DATA):\n",
    "        JD = row[3]\n",
    "        for key in list(JD.keys()):\n",
    "            if len(JD[key]) < 10:\n",
    "                JD.pop(key)\n",
    "        try:\n",
    "            row[3] = {k.replace(\"\\xa0\",\" \").replace(\":\",\"\").replace(\"[\",\"\").replace(\"]\",\"\").lower().strip():v.replace(\"\\xa0\",\" \") for k, v in JD.items() if len(v) > 10 }\n",
    "        except Exception as e:\n",
    "            print(f\"Unable to process at idx {idx} due to {e}\")\n",
    "            row[3] = {'mix_jd_requirements' :\" \".join(row[3]['no_header_JD'])}"
   ]
  },
  {
   "cell_type": "code",
   "execution_count": 160,
   "metadata": {},
   "outputs": [],
   "source": [
    "clean_up_jd_headers()"
   ]
  },
  {
   "cell_type": "code",
   "execution_count": 161,
   "metadata": {},
   "outputs": [],
   "source": [
    "jd_headers = return_jd_headers_count()"
   ]
  },
  {
   "cell_type": "code",
   "execution_count": 162,
   "metadata": {},
   "outputs": [
    {
     "data": {
      "text/plain": [
       "{'why join us': 9,\n",
       " 'responsibilities': 420,\n",
       " 'qualifications': 508,\n",
       " 'what you will do': 7,\n",
       " 'what you will need': 2,\n",
       " 'about the job': 2,\n",
       " 'skills and experience required': 2,\n",
       " 'team intro': 9,\n",
       " 'minimum qualifications': 59,\n",
       " 'preferred qualifications': 148,\n",
       " 'why join lrd?': 2,\n",
       " 'requirements': 104,\n",
       " 'strongly desired': 2,\n",
       " 'job responsibilities': 51,\n",
       " 'unorganised_jd': 67,\n",
       " 'job requirements': 129,\n",
       " 'scope of work': 4,\n",
       " 'what is needed': 4,\n",
       " 'responsibilities：': 3,\n",
       " 'requirements：': 2,\n",
       " 'mix_jd_requirements': 31,\n",
       " 'job description': 73,\n",
       " 'job requirement': 6,\n",
       " 'about the team': 38,\n",
       " 'key responsibilities': 73,\n",
       " \"what you'll do\": 38,\n",
       " 'join the dynamic team!': 9,\n",
       " 'to be successful in this role, you have': 9,\n",
       " 'education': 23,\n",
       " 'your key responsibilities includes': 2,\n",
       " 'this role requires a wide variety of strengths and capabilities, including': 18,\n",
       " 'requirement': 10,\n",
       " 'preferred qualifications (one or more of the following)': 2,\n",
       " 'the e-commerce risk control (ecrc) team is missioned': 21,\n",
       " 'preferred qualification': 16,\n",
       " 'additional preferred skills': 2,\n",
       " 'software lead (machine vision/semiconductor/ image processing)': 1,\n",
       " 'specializes in providing technological solutions as well as customized software development': 2,\n",
       " 'bachelor’s / master’s in ai, computer science or related field': 2,\n",
       " 'strong working experience in ai & machine learning': 2,\n",
       " 'the responsibilities include, but are not limited to': 4,\n",
       " 'responsibility': 2,\n",
       " 'strategy': 34,\n",
       " 'business': 34,\n",
       " 'processes': 33,\n",
       " 'people & talent': 7,\n",
       " 'risk management': 48,\n",
       " 'regulatory & business conduct': 68,\n",
       " 'our ideal candidate': 82,\n",
       " 'role specific technical competencies': 80,\n",
       " 'main tasks include but not limited to': 1,\n",
       " \"the e-commerce risk control (ecrc) team's mission is\": 2,\n",
       " 'specific areas of interest include': 1,\n",
       " 'profile': 6,\n",
       " 'we are passionate about this and hope you are too.': 1,\n",
       " 'preferred': 6,\n",
       " 'the roles of this position include': 1,\n",
       " 'about the team!': 5,\n",
       " 'research scientist (ai for healthcare)': 2,\n",
       " 'other requirements (e.g. skills, competencies)': 1,\n",
       " 'a successful candidate will be involved in some or all of the following tasks': 1,\n",
       " 'key responsibilities (include but are not limited to)': 1,\n",
       " 'about the nlp team': 3,\n",
       " 'description': 4,\n",
       " 'job offer': 3,\n",
       " 'preference will be given to candidates with': 1,\n",
       " 'the role responsibilities': 8,\n",
       " 'key stakeholders': 49,\n",
       " 'benefits': 1,\n",
       " 'successful candidates will be responsible for': 2,\n",
       " 'qualification & field of study': 1,\n",
       " 'work experience': 2,\n",
       " 'other requirements': 1,\n",
       " 'preferred job requirements': 4,\n",
       " 'role description': 1,\n",
       " 'the successful candidate will be involved in some or all of the following tasks': 1,\n",
       " 'about the nlp ai lab team': 5,\n",
       " 'we are seeking our future colleague to': 4,\n",
       " 'your expertise': 5,\n",
       " 'research fellow (computer engineering/computer science/electronics engineering)': 1,\n",
       " 'as a software engineer, you will': 1,\n",
       " 'additionally, more senior engineers will be expected to': 1,\n",
       " 'we look for people who': 1,\n",
       " \"we're looking for someone like that to\": 1,\n",
       " 'preferred profile/ skills': 1,\n",
       " 'job objectives': 1,\n",
       " \"what you'll need\": 5,\n",
       " 'basic': 4,\n",
       " 'inspection process management': 2,\n",
       " 'develop new test systems and improve existing test systems': 2,\n",
       " 'next steps': 2,\n",
       " 'you will': 15,\n",
       " 'ideal candidate': 3,\n",
       " 'experiences in at least two of the following areas is a strong plus': 1,\n",
       " 'you will be involved in a range of tasks including the following': 2,\n",
       " 'how to succeed': 2,\n",
       " 'preferred skills': 2,\n",
       " 'the business risk integrated control (bric) team is missioned': 1,\n",
       " 'roles and responsibilities': 3,\n",
       " 'qualifications and other requirements': 2,\n",
       " 'preferred knowledge and skills': 2,\n",
       " 'main duties & responsibilities': 4,\n",
       " 'experience and qualifications': 4,\n",
       " 'job roles': 2,\n",
       " 'principal accountabilities': 1,\n",
       " 'the incumbent shall': 1,\n",
       " 'the requirements': 1,\n",
       " 'business analyst (data analytics)': 2,\n",
       " 'qualities important for this individual to have': 1,\n",
       " 'data engineer/architect': 2,\n",
       " '': 2,\n",
       " 'about the company': 1,\n",
       " 'database skillset': 1,\n",
       " 'order number 212-63917': 1,\n",
       " 'about the department': 1,\n",
       " 'knowledge/skills required': 2,\n",
       " 'job descriptions': 1,\n",
       " 'these will keep you busy while enjoying your time with us': 1,\n",
       " 'if the following describe you, then you could be the one!': 1,\n",
       " \"responsibilities - what you'll do\": 3,\n",
       " 'requirements and skills': 1,\n",
       " 'other information': 2,\n",
       " 'up to $5,500, permanent role with aws + 3 months variable bonus': 1,\n",
       " 'healthcare industry located at west near mrt stations': 2,\n",
       " 'entry level is welcome to apply': 1,\n",
       " 'healthcare background is a must': 2,\n",
       " 'roles & responsibilities': 1,\n",
       " 'skills': 3,\n",
       " 'your main responsibilities include': 2,\n",
       " 'summary': 2,\n",
       " 'looking for': 1,\n",
       " 'major european-based chemical manufacturing organisation in singapore': 1,\n",
       " 'newly created role': 1,\n",
       " 'snowflake': 1,\n",
       " 't-sql, stored procedures and database design': 1,\n",
       " 'additional job infomation': 1,\n",
       " 'singaporeans and relevant preferred': 1,\n",
       " 'primary responsibilities': 1,\n",
       " 'critical competencies, knowledge, skills, and abilities': 1,\n",
       " 'education and experience': 1,\n",
       " 'others': 1,\n",
       " 'as a senior / statistician, you will be responsible for the following duties': 1,\n",
       " \"we'll trust you to\": 1,\n",
       " \"you'll need to have\": 1,\n",
       " 'data management office': 2,\n",
       " 'hadoop, hivesql, spark': 3,\n",
       " 'data warehouse': 1,\n",
       " 'specific (90%)': 1,\n",
       " 'general (10%)': 1,\n",
       " 'education, training and experience': 1,\n",
       " 'what will you do?': 2,\n",
       " 'experience': 2,\n",
       " 'knowledge, skills and abilities': 1,\n",
       " 'some of the key responsibilities include': 1,\n",
       " 'other responsibilities': 27,\n",
       " 'job requirementskey requirements': 1,\n",
       " 'experience or certification in the below technologies will be an added advantage': 1,\n",
       " 'what will help you succeed in this role': 2,\n",
       " 'knowledge, skills, abilities': 2,\n",
       " 'learning outcome': 1,\n",
       " 'main responsibilities': 2,\n",
       " 'job profile': 1,\n",
       " 'your profile': 2,\n",
       " 'strong analytical skills': 1,\n",
       " 'competency requirements': 1,\n",
       " 'the job': 1,\n",
       " 'our requirements': 2,\n",
       " 'the role': 1,\n",
       " 'the officer will be required to but not exclusive to': 2,\n",
       " 'key requirements': 1,\n",
       " \"what you'll be doing\": 1,\n",
       " 'technical skills': 1,\n",
       " 'soft skills': 1,\n",
       " 'abilities / aptitudes': 1,\n",
       " 'what will you be expected to do?': 1,\n",
       " 'what should you have': 1,\n",
       " 'additional experience it would be great to have': 1,\n",
       " 'what can you expect?': 1,\n",
       " 'candidates who meet most of the requirements will be considered.': 2,\n",
       " 'skillset (must have)': 1,\n",
       " 'skills (technical skills)': 4,\n",
       " 'overview': 4,\n",
       " 'role': 1,\n",
       " '\\ufeffhence the following are key': 2,\n",
       " 'learning benefits': 3,\n",
       " 'scope & responsibilities': 2,\n",
       " 'what will you be doing': 6,\n",
       " 'what do you need to be successful in this role?': 6,\n",
       " 'technical competencies': 6,\n",
       " 'in this role, you will': 2,\n",
       " 'what you can expect from us?': 1,\n",
       " 'you have': 2,\n",
       " 'mysql/hive/redis': 1,\n",
       " 'this includes (but not limited to)': 1,\n",
       " 'governance': 29,\n",
       " 'innovation': 1,\n",
       " 'business solutions': 1,\n",
       " 'working capital delivery': 1,\n",
       " 'people management': 1,\n",
       " 'data analytics, machine learning and ai delivery': 1,\n",
       " 'governance and responsible ai': 1,\n",
       " 'portfolio management planning and budget': 1,\n",
       " 'processes and new ways of working': 1,\n",
       " 'regulatory and business conduct': 4,\n",
       " 'stakeholder management': 1,\n",
       " 'overall job purpose': 1,\n",
       " 'general knowledge & experience': 1,\n",
       " 'programming & data': 1,\n",
       " 'communication & soft skills': 1,\n",
       " 'internal': 16,\n",
       " 'job details': 1,\n",
       " 'platform engineering': 1,\n",
       " 'data engineering': 2,\n",
       " 'data visualization': 2,\n",
       " 'essential': 1,\n",
       " 'desirable': 1,\n",
       " 'people and talent': 12,\n",
       " 'job scope and responsibilities': 1,\n",
       " 'qualifications and competencies': 1,\n",
       " 'job summary': 1,\n",
       " 'company background manufacturing': 1,\n",
       " 'salary range up to s$4500 (dep on exp) + aws +vb': 1,\n",
       " '5 days, 9am-6pm': 1,\n",
       " 'this individual will be responsible for the following': 6,\n",
       " 'join us on our journey to unleash the power of an open mind. be part of our exciting future and apply today!': 1,\n",
       " 'role responsibilities': 13,\n",
       " 'sample vitrification': 1,\n",
       " 'data collection': 1,\n",
       " 'data analysis': 1,\n",
       " 'technical qualifications': 1,\n",
       " 'knowledge/experience/technical skills': 3,\n",
       " 'personal skills': 3,\n",
       " 'leadership/ people skills': 3,\n",
       " 'how will you make an impact?': 1,\n",
       " 'understanding of': 1,\n",
       " 'as head of data you will': 1,\n",
       " 'the ideal candidate should be/possess': 1,\n",
       " 'primary responsibilities and duties (70%)': 1,\n",
       " 'secondary responsibilities and duties (30%)': 1,\n",
       " 'the data engineer': 1,\n",
       " 'you will partner with other technology functions to help deliver required technology solutions': 1,\n",
       " 'functional skills data lake, edw, data mart, data integration & visualisation': 1,\n",
       " 'technical skills data lake, edw, data marts, data integration & visualisation': 1,\n",
       " 'any two technical certifications': 1,\n",
       " 'any one as added advantage': 1,\n",
       " 'proposals & recommendations': 1,\n",
       " 'professional': 1,\n",
       " 'technical': 11,\n",
       " 'competencies': 1,\n",
       " 'ms offices suites of software': 1,\n",
       " 'data platform engineering': 1,\n",
       " 'artificial intelligence / machine learning': 1,\n",
       " 'role specific technical skills': 1,\n",
       " 'knowledge management': 2,\n",
       " 'reporting and training': 2,\n",
       " 'policies, processes and governance': 2,\n",
       " 'the successful candidate may be responsible for but not limited to': 1,\n",
       " 'the staff will be involved in the following': 1,\n",
       " 'preferred requirements': 1,\n",
       " 'up to $5500, permanent role with aws + 3 months variable bonus': 1,\n",
       " 'core responsibilities': 1,\n",
       " 'permanent role': 1,\n",
       " 'up to $5000 basic + aws + variable bonus': 1,\n",
       " 'specialty chemical manufacturing mnc, jurong island': 1,\n",
       " 'candidates with prior experience in optimizing site manufacturing processes from lab to full-scale production are preferred': 1,\n",
       " 'prior experience in site processes and qa systems required': 1,\n",
       " 'service segment manager (data analytics)': 1,\n",
       " 'the client': 1,\n",
       " 'the opportunity': 1,\n",
       " 'your background': 1,\n",
       " 'key role & responsibilities': 1,\n",
       " 'aon’s centers for innovation and analytics in singapore, dublin and krakow are at the heart of delivering aon’s data & analytic services team’s mission to': 1,\n",
       " 'accelerate the rate of innovation through digital solutions to help better respond to clients’ evolving needs': 1,\n",
       " 'provide foundational data and analytics capabilities in one place for 50,000 aon colleagues and our global clients who use our risk and people solutions': 1,\n",
       " 'established in 2012, there are over 100 colleagues in singapore’s centre today including actuaries, software developers, data scientists, financial analysts and accountants.': 1,\n",
       " 'health solutions data analytics intern': 1,\n",
       " 'work scope': 1,\n",
       " 'the ideal candidate should have': 1,\n",
       " 'advantageous but not a necessity will be': 1,\n",
       " 'supports the following;': 1,\n",
       " 'client details': 1,\n",
       " 'desired skills': 1}"
      ]
     },
     "execution_count": 162,
     "metadata": {},
     "output_type": "execute_result"
    }
   ],
   "source": [
    "jd_headers"
   ]
  },
  {
   "cell_type": "code",
   "execution_count": 77,
   "metadata": {},
   "outputs": [
    {
     "data": {
      "text/plain": [
       "{'mix_jd_requirements': 'Development of artificial intelligence (AI) technologies to perform person and object detection, classification, and analysis. System integration of the developed algorithms. Handling project budget. Managing equipment. Mentoring students. Report preparation. Master in Computer Science, Electrical and Electronic Engineering or related field from reputable universities. Minimum 1-year research experience in related area. Knowledge and experience in computer vision, artificial intelligence, pattern recognition . Knowledge in imaging and computing device and equipment. Proficiency in programming languages such as C and Python. Proficiency in deep learning frameworks such as Pytorch and Tensorflow. Proficiency in English, both spoken and written English. Prior publication experience is preferred. Ability to work independently and as a team.'}"
      ]
     },
     "execution_count": 77,
     "metadata": {},
     "output_type": "execute_result"
    }
   ],
   "source": [
    "# Confirmed that any header with no value gets taken out\n",
    "TOTAL_JOB_RAW_DATA[31][3]"
   ]
  },
  {
   "cell_type": "code",
   "execution_count": 78,
   "metadata": {},
   "outputs": [
    {
     "data": {
      "text/plain": [
       "{'responsibilities': 'Conduct cutting-edge research in the fields of natural language processing and machine learning;.Ensure technologies get successfully applied to our products;.Incubate new products with natural language processing and machine learning technologies..',\n",
       " 'qualifications': \"Bachelor's degree or above, majoring in Computer Science, or related fields.Rich research experience in but not limited to the following areas (as main authors of published papers at ACL, EMNLP, NIPS, ICML, etc.):.Syntactic analysis.Language generation.Knowledge and inference.Reinforcement learning.Deep learning and representation learning.Highly competent in algorithms and programming, prefer winners in ACMICPC, NOI/IOI and Kaggle;.Ability to work and collaborate well with team members;.Ability to work independently;.Senior candidates have the ability to organize and lead teams and projects..\"}"
      ]
     },
     "execution_count": 78,
     "metadata": {},
     "output_type": "execute_result"
    }
   ],
   "source": [
    "TOTAL_JOB_RAW_DATA[500][3]"
   ]
  },
  {
   "cell_type": "code",
   "execution_count": 101,
   "metadata": {},
   "outputs": [],
   "source": [
    "sorted_jd_headers = dict(sorted(jd_headers.items(), key=lambda item: item[1], reverse=True))"
   ]
  },
  {
   "cell_type": "code",
   "execution_count": 102,
   "metadata": {},
   "outputs": [
    {
     "data": {
      "text/plain": [
       "{'qualifications': 490,\n",
       " 'responsibilities': 400,\n",
       " 'preferred qualifications': 146,\n",
       " 'job requirements': 120,\n",
       " 'requirements': 99,\n",
       " 'our ideal candidate': 82,\n",
       " 'job description': 71,\n",
       " 'unorganised_jd': 67,\n",
       " 'key responsibilities': 66,\n",
       " 'regulatory & business conduct': 61,\n",
       " 'minimum qualifications': 57,\n",
       " 'job responsibilities': 50,\n",
       " 'key stakeholders': 49,\n",
       " 'risk management': 48,\n",
       " \"what you'll do\": 38,\n",
       " 'role specific technical competencies': 38,\n",
       " 'about the team': 37,\n",
       " 'strategy': 34,\n",
       " 'business': 34,\n",
       " 'processes': 33}"
      ]
     },
     "execution_count": 102,
     "metadata": {},
     "output_type": "execute_result"
    }
   ],
   "source": [
    "# Okay, we have some variants of Job description and Requirements from candidates\n",
    "{key:sorted_jd_headers[key] for key in list(sorted_jd_headers)[:20]}"
   ]
  },
  {
   "cell_type": "markdown",
   "metadata": {},
   "source": [
    "# Embeddings"
   ]
  },
  {
   "cell_type": "code",
   "execution_count": 103,
   "metadata": {},
   "outputs": [],
   "source": [
    "import numpy as np"
   ]
  },
  {
   "cell_type": "code",
   "execution_count": 104,
   "metadata": {},
   "outputs": [],
   "source": [
    "glove_path = \"glove.6B.300d.txt\""
   ]
  },
  {
   "cell_type": "code",
   "execution_count": 135,
   "metadata": {},
   "outputs": [],
   "source": [
    "def pop_glove_embeddings(glove_path:str=\"glove.6B.300d.txt\")->dict:\n",
    "    \"\"\"populates the glove embeddings\n",
    "    \"\"\"\n",
    "    res = {}\n",
    "    with open(glove_path, 'r', encoding='utf8') as f:\n",
    "        lines = f.readlines()\n",
    "        for line in lines:\n",
    "            data = line.strip('\\n').split()\n",
    "            word = data[0]\n",
    "            embedding = np.ndarray.astype(np.array(data[1:]),'float')\n",
    "            assert(len(embedding)==300)\n",
    "            res[word] = embedding\n",
    "    return res"
   ]
  },
  {
   "cell_type": "code",
   "execution_count": 136,
   "metadata": {},
   "outputs": [],
   "source": [
    "glove_embeddings = pop_glove_embeddings()"
   ]
  },
  {
   "cell_type": "code",
   "execution_count": 137,
   "metadata": {},
   "outputs": [],
   "source": [
    "assert(len(glove_embeddings['test'])==300)"
   ]
  },
  {
   "cell_type": "code",
   "execution_count": 138,
   "metadata": {},
   "outputs": [
    {
     "data": {
      "text/plain": [
       "numpy.float64"
      ]
     },
     "execution_count": 138,
     "metadata": {},
     "output_type": "execute_result"
    }
   ],
   "source": [
    "type(glove_embeddings['test'][0])"
   ]
  },
  {
   "cell_type": "code",
   "execution_count": 139,
   "metadata": {},
   "outputs": [
    {
     "data": {
      "text/plain": [
       "array([-1.777300e-01,  9.009700e-01,  1.869840e-01, -1.374880e+00,\n",
       "       -3.762210e-01,  4.531800e-01,  4.076500e-02, -6.426260e-01,\n",
       "       -3.972500e-01, -4.103100e+00,  7.425000e-01, -1.427950e-01,\n",
       "        6.647000e-02, -1.123500e-01, -1.062830e-01,  6.099980e-01,\n",
       "       -3.394300e-01,  6.127500e-02, -2.589130e-01, -8.233400e-01,\n",
       "       -2.765840e-01, -1.643200e-01,  1.112180e-01,  7.026100e-01,\n",
       "       -2.024500e-02,  5.053000e-02,  3.748900e-01, -1.502100e-01,\n",
       "       -2.032670e-01, -3.829500e-01,  3.475780e-01, -1.173700e-01,\n",
       "       -8.415000e-01, -1.267540e-01, -1.679930e+00,  4.615700e-01,\n",
       "       -5.213910e-01,  4.657300e-01, -7.390500e-01,  4.680600e-01,\n",
       "        5.870300e-01,  2.834860e-01, -1.378000e-01, -8.712700e-02,\n",
       "        1.645570e-01,  4.078000e-02, -3.773800e-01, -1.132000e-01,\n",
       "       -4.338800e-01, -9.947000e-02,  5.659700e-01, -2.964490e-01,\n",
       "        4.790000e-02,  1.474430e-01,  2.513900e-02,  6.689800e-01,\n",
       "        3.624000e-03, -3.262400e-01,  1.928600e-01,  3.035850e-01,\n",
       "        3.598900e-01, -3.908930e-01,  5.477360e-01, -3.221560e-01,\n",
       "        5.080000e-02,  8.992000e-02,  3.681830e-01, -3.035230e-01,\n",
       "        2.188270e-01,  3.473300e-01, -3.991200e-01,  6.397900e-01,\n",
       "       -1.410700e-01, -1.421530e-01, -8.756400e-01, -3.999300e-01,\n",
       "        2.410600e-01,  1.811000e-03, -2.532850e-01,  6.453000e-01,\n",
       "       -4.799500e-01,  6.594100e-01,  4.285190e-01, -3.860800e-02,\n",
       "       -5.564900e-01,  4.280280e-01, -6.027000e-02, -2.610000e-03,\n",
       "        7.089600e-01,  5.674000e-02, -5.916500e-01,  7.287000e-01,\n",
       "        1.133280e-01, -9.324400e-01,  5.299800e-01,  4.793700e-01,\n",
       "       -5.435900e-01,  3.519370e-01,  2.896260e-01, -9.499000e-01,\n",
       "        3.153400e-01,  9.737100e-02, -2.683800e-01, -4.578440e-01,\n",
       "        6.070830e-01, -8.737300e-01,  3.830400e-01,  2.063450e-01,\n",
       "       -5.939000e-01,  3.900601e-01,  9.973120e-01, -4.182640e-01,\n",
       "       -6.423000e-01, -2.234700e-01,  5.540000e-02, -6.229600e-02,\n",
       "       -2.691856e-01,  3.100140e-01, -5.038460e-01, -1.075050e+00,\n",
       "        1.479230e-01,  2.133700e-01, -3.219700e-01,  3.609100e-01,\n",
       "        8.971000e-02,  1.259970e-01, -2.541400e-01, -7.705800e-01,\n",
       "        1.190000e-02,  9.425100e-01,  4.825320e-01,  3.386520e-01,\n",
       "        6.271300e-01, -1.315310e-01,  1.126000e-02,  3.314000e-01,\n",
       "        2.966200e-01, -8.219900e-01,  6.329396e-01,  1.962000e-02,\n",
       "       -6.812000e-02,  3.156800e-01,  3.299540e-01, -6.498960e-01,\n",
       "       -1.154650e+00, -3.461600e-01,  4.550000e-01,  7.006300e-01,\n",
       "       -1.690100e-01,  5.814600e-01,  3.612800e-01, -6.194000e-02,\n",
       "       -1.351000e-02,  1.911100e-01,  1.175220e+00, -1.181550e-01,\n",
       "       -6.419110e-01,  1.655400e-01,  3.332590e-01,  2.074300e-01,\n",
       "        1.832510e-01, -1.017370e+00, -5.622400e-01,  2.199090e-01,\n",
       "       -1.041970e-01,  4.091000e-01, -4.068170e-01, -1.783500e-01,\n",
       "        4.455020e-01,  5.021910e-01,  3.357900e-01, -4.630000e-02,\n",
       "       -4.077100e-01, -2.991800e-01, -4.321060e-01,  1.408000e-01,\n",
       "       -1.988900e-01, -1.549000e-03,  2.590560e-01,  3.942200e-01,\n",
       "        4.222200e-01,  3.741200e-01,  5.812600e-01,  5.826520e-01,\n",
       "       -6.949100e-02,  3.826800e-01, -2.840000e-01, -2.879600e-01,\n",
       "       -4.545800e-01,  2.983130e-01, -9.180000e-01,  2.966900e-01,\n",
       "        6.174700e-01,  5.719800e-02, -6.965300e-02, -5.930819e-01,\n",
       "        8.829450e-01,  1.721600e-02, -1.243000e-02, -8.223100e-01,\n",
       "        1.882640e+00,  6.013000e-02, -5.356700e-01, -9.134300e-01,\n",
       "       -1.030600e-01,  2.209720e-01,  1.059600e-02,  1.560200e-01,\n",
       "       -3.404090e-01, -2.868314e-01, -1.028500e-01, -8.835300e-02,\n",
       "       -2.585500e-01,  3.358130e-01, -8.695100e-01, -6.524790e-01,\n",
       "        3.994900e-02,  2.792000e-02, -1.532600e-02, -3.067147e-01,\n",
       "        2.977180e-01,  6.896000e-01, -9.229800e-01,  5.134400e-01,\n",
       "        7.872200e-01,  7.582190e-03,  5.108720e-01,  2.810390e-01,\n",
       "       -4.760340e-01,  1.147012e+00, -3.088497e-01,  2.176960e-01,\n",
       "        1.014000e-02, -4.460610e-01,  2.057710e-01,  5.222590e-01,\n",
       "        8.195300e-01,  2.933000e-01,  1.110000e+00,  2.824990e-01,\n",
       "        1.762260e-01,  1.714840e-01,  2.149160e-01,  3.437800e-02,\n",
       "       -2.036870e+00,  4.483800e-02,  1.711890e-01,  2.001970e-01,\n",
       "       -1.576040e-01, -2.788340e-01,  4.383100e-01,  2.432990e-01,\n",
       "       -3.235010e-01, -4.604790e-01,  2.348100e-01,  8.839500e-02,\n",
       "        4.160970e-01, -4.004151e-01,  7.204800e-01,  2.225940e-01,\n",
       "        1.188570e-01, -3.847840e-01,  3.958530e-01,  6.448300e-01,\n",
       "        1.448300e-01,  3.976330e-01, -1.303610e-01, -2.929820e-01,\n",
       "        7.271100e-01,  2.709600e-01,  1.667960e-01, -2.498300e-02,\n",
       "       -3.548520e-01,  2.351740e-01,  1.291820e-01,  4.257500e-01,\n",
       "       -4.384500e+00,  1.580014e-01,  9.215810e-01,  4.504550e-01,\n",
       "       -4.133000e-01, -4.142000e-01,  2.898610e-01,  3.389600e-01,\n",
       "       -4.014000e-02, -3.367670e-01, -7.832700e-01, -4.607760e-01,\n",
       "       -8.200300e-01,  4.225860e-01,  5.801697e-02, -1.073330e+00,\n",
       "       -1.628050e-01,  4.519270e-01,  2.203640e-01,  3.969000e-01,\n",
       "        2.544200e-01, -1.063940e+00, -2.986700e-02,  1.132100e-02])"
      ]
     },
     "execution_count": 139,
     "metadata": {},
     "output_type": "execute_result"
    }
   ],
   "source": [
    "np.add(glove_embeddings['test'], glove_embeddings['this'])"
   ]
  },
  {
   "cell_type": "markdown",
   "metadata": {},
   "source": [
    "I would like to construct an array of embeddings consisting of the headers and plot them using t-SNE"
   ]
  },
  {
   "cell_type": "code",
   "execution_count": 212,
   "metadata": {},
   "outputs": [
    {
     "name": "stdout",
     "output_type": "stream",
     "text": [
      "Unable to convert embedding for why join lrd? due to 'lrd?'\n",
      "Unable to convert embedding for unorganised_jd due to 'unorganised_jd'\n",
      "Unable to convert embedding for responsibilities： due to 'responsibilities：'\n",
      "Unable to convert embedding for requirements： due to 'requirements：'\n",
      "Unable to convert embedding for mix_jd_requirements due to 'mix_jd_requirements'\n",
      "Unable to convert embedding for what you'll do due to \"you'll\"\n",
      "Unable to convert embedding for join the dynamic team! due to 'team!'\n",
      "Unable to convert embedding for to be successful in this role, you have due to 'role,'\n",
      "Unable to convert embedding for this role requires a wide variety of strengths and capabilities, including due to 'capabilities,'\n",
      "Unable to convert embedding for preferred qualifications (one or more of the following) due to '(one'\n",
      "Unable to convert embedding for the e-commerce risk control (ecrc) team is missioned due to '(ecrc)'\n",
      "Unable to convert embedding for software lead (machine vision/semiconductor/ image processing) due to '(machine'\n",
      "Unable to convert embedding for bachelor’s / master’s in ai, computer science or related field due to 'bachelor’s'\n",
      "Unable to convert embedding for the responsibilities include, but are not limited to due to 'include,'\n",
      "Unable to convert embedding for the e-commerce risk control (ecrc) team's mission is due to '(ecrc)'\n",
      "Unable to convert embedding for we are passionate about this and hope you are too. due to 'too.'\n",
      "Unable to convert embedding for about the team! due to 'team!'\n",
      "Unable to convert embedding for research scientist (ai for healthcare) due to '(ai'\n",
      "Unable to convert embedding for other requirements (e.g. skills, competencies) due to '(e.g.'\n",
      "Unable to convert embedding for key responsibilities (include but are not limited to) due to '(include'\n",
      "Unable to convert embedding for research fellow (computer engineering/computer science/electronics engineering) due to '(computer'\n",
      "Unable to convert embedding for as a software engineer, you will due to 'engineer,'\n",
      "Unable to convert embedding for additionally, more senior engineers will be expected to due to 'additionally,'\n",
      "Unable to convert embedding for we're looking for someone like that to due to \"we're\"\n",
      "Unable to convert embedding for preferred profile/ skills due to 'profile/'\n",
      "Unable to convert embedding for what you'll need due to \"you'll\"\n",
      "Unable to convert embedding for the business risk integrated control (bric) team is missioned due to '(bric)'\n",
      "Unable to convert embedding for principal accountabilities due to 'accountabilities'\n",
      "Unable to convert embedding for business analyst (data analytics) due to '(data'\n",
      "Unable to convert embedding for data engineer/architect due to 'engineer/architect'\n",
      "Unable to convert embedding for order number 212-63917 due to '212-63917'\n",
      "Unable to convert embedding for knowledge/skills required due to 'knowledge/skills'\n",
      "Unable to convert embedding for if the following describe you, then you could be the one! due to 'you,'\n",
      "Unable to convert embedding for responsibilities - what you'll do due to \"you'll\"\n",
      "Unable to convert embedding for up to $5,500, permanent role with aws + 3 months variable bonus due to '$5,500,'\n",
      "Unable to convert embedding for t-sql, stored procedures and database design due to 't-sql,'\n",
      "Unable to convert embedding for critical competencies, knowledge, skills, and abilities due to 'competencies,'\n",
      "Unable to convert embedding for as a senior / statistician, you will be responsible for the following duties due to 'statistician,'\n",
      "Unable to convert embedding for we'll trust you to due to \"we'll\"\n",
      "Unable to convert embedding for you'll need to have due to \"you'll\"\n",
      "Unable to convert embedding for hadoop, hivesql, spark due to 'hadoop,'\n",
      "Unable to convert embedding for specific (90%) due to '(90%)'\n",
      "Unable to convert embedding for general (10%) due to '(10%)'\n",
      "Unable to convert embedding for education, training and experience due to 'education,'\n",
      "Unable to convert embedding for what will you do? due to 'do?'\n",
      "Unable to convert embedding for knowledge, skills and abilities due to 'knowledge,'\n",
      "Unable to convert embedding for job requirementskey requirements due to 'requirementskey'\n",
      "Unable to convert embedding for knowledge, skills, abilities due to 'knowledge,'\n",
      "Unable to convert embedding for what you'll be doing due to \"you'll\"\n",
      "Unable to convert embedding for what will you be expected to do? due to 'do?'\n",
      "Unable to convert embedding for what can you expect? due to 'expect?'\n",
      "Unable to convert embedding for candidates who meet most of the requirements will be considered. due to 'considered.'\n",
      "Unable to convert embedding for skillset (must have) due to '(must'\n",
      "Unable to convert embedding for skills (technical skills) due to '(technical'\n",
      "Unable to convert embedding for ﻿hence the following are key due to '\\ufeffhence'\n",
      "Unable to convert embedding for what do you need to be successful in this role? due to 'role?'\n",
      "Unable to convert embedding for in this role, you will due to 'role,'\n",
      "Unable to convert embedding for what you can expect from us? due to 'us?'\n",
      "Unable to convert embedding for mysql/hive/redis due to 'mysql/hive/redis'\n",
      "Unable to convert embedding for this includes (but not limited to) due to '(but'\n",
      "Unable to convert embedding for data analytics, machine learning and ai delivery due to 'analytics,'\n",
      "Unable to convert embedding for salary range up to s$4500 (dep on exp) + aws +vb due to 's$4500'\n",
      "Unable to convert embedding for 5 days, 9am-6pm due to 'days,'\n",
      "Unable to convert embedding for join us on our journey to unleash the power of an open mind. be part of our exciting future and apply today! due to 'mind.'\n",
      "Unable to convert embedding for knowledge/experience/technical skills due to 'knowledge/experience/technical'\n",
      "Unable to convert embedding for leadership/ people skills due to 'leadership/'\n",
      "Unable to convert embedding for how will you make an impact? due to 'impact?'\n",
      "Unable to convert embedding for the ideal candidate should be/possess due to 'be/possess'\n",
      "Unable to convert embedding for primary responsibilities and duties (70%) due to '(70%)'\n",
      "Unable to convert embedding for secondary responsibilities and duties (30%) due to '(30%)'\n",
      "Unable to convert embedding for functional skills data lake, edw, data mart, data integration & visualisation due to 'lake,'\n",
      "Unable to convert embedding for technical skills data lake, edw, data marts, data integration & visualisation due to 'lake,'\n",
      "Unable to convert embedding for policies, processes and governance due to 'policies,'\n",
      "Unable to convert embedding for up to $5500, permanent role with aws + 3 months variable bonus due to '$5500,'\n",
      "Unable to convert embedding for up to $5000 basic + aws + variable bonus due to '$5000'\n",
      "Unable to convert embedding for specialty chemical manufacturing mnc, jurong island due to 'mnc,'\n",
      "Unable to convert embedding for service segment manager (data analytics) due to '(data'\n",
      "Unable to convert embedding for aon’s centers for innovation and analytics in singapore, dublin and krakow are at the heart of delivering aon’s data & analytic services team’s mission to due to 'aon’s'\n",
      "Unable to convert embedding for accelerate the rate of innovation through digital solutions to help better respond to clients’ evolving needs due to 'clients’'\n",
      "Unable to convert embedding for established in 2012, there are over 100 colleagues in singapore’s centre today including actuaries, software developers, data scientists, financial analysts and accountants. due to '2012,'\n",
      "Unable to convert embedding for supports the following; due to 'following;'\n"
     ]
    }
   ],
   "source": [
    "jd_headers_embeddings = {}\n",
    "\n",
    "for header in jd_headers.keys():\n",
    "    try:\n",
    "        length = len(header.split())\n",
    "        if length == 0: \n",
    "            continue\n",
    "        total_embedding = np.zeros(300,)\n",
    "        for word in header.split():\n",
    "            total_embedding = np.add(total_embedding,glove_embeddings[word])\n",
    "        average_embedding = total_embedding / length\n",
    "        jd_headers_embeddings[header] = average_embedding\n",
    "    except Exception as e:\n",
    "        print(f\"Unable to convert embedding for {header} due to {e}\")"
   ]
  },
  {
   "cell_type": "code",
   "execution_count": 213,
   "metadata": {},
   "outputs": [],
   "source": [
    "jd_headers_embeddings_pd = pd.DataFrame(jd_headers_embeddings).T"
   ]
  },
  {
   "cell_type": "code",
   "execution_count": 214,
   "metadata": {},
   "outputs": [
    {
     "data": {
      "text/plain": [
       "0"
      ]
     },
     "execution_count": 214,
     "metadata": {},
     "output_type": "execute_result"
    }
   ],
   "source": [
    "jd_headers_embeddings_pd.isnull().sum().sum()"
   ]
  },
  {
   "cell_type": "code",
   "execution_count": 244,
   "metadata": {},
   "outputs": [],
   "source": [
    "import matplotlib.pyplot as plt\n",
    "from sklearn.manifold import TSNE"
   ]
  },
  {
   "cell_type": "code",
   "execution_count": 269,
   "metadata": {},
   "outputs": [],
   "source": [
    "tsne = TSNE(n_components=2)"
   ]
  },
  {
   "cell_type": "code",
   "execution_count": 270,
   "metadata": {},
   "outputs": [
    {
     "name": "stderr",
     "output_type": "stream",
     "text": [
      "c:\\tools\\miniconda3\\envs\\scrapper-env\\lib\\site-packages\\sklearn\\manifold\\_t_sne.py:800: FutureWarning: The default initialization in TSNE will change from 'random' to 'pca' in 1.2.\n",
      "  warnings.warn(\n",
      "c:\\tools\\miniconda3\\envs\\scrapper-env\\lib\\site-packages\\sklearn\\manifold\\_t_sne.py:810: FutureWarning: The default learning rate in TSNE will change from 200.0 to 'auto' in 1.2.\n",
      "  warnings.warn(\n"
     ]
    }
   ],
   "source": [
    "jd_headers_embeddings_tsne = tsne.fit_transform(jd_headers_embeddings_pd)"
   ]
  },
  {
   "cell_type": "code",
   "execution_count": 271,
   "metadata": {},
   "outputs": [
    {
     "data": {
      "text/plain": [
       "<AxesSubplot: xlabel='0', ylabel='1'>"
      ]
     },
     "execution_count": 271,
     "metadata": {},
     "output_type": "execute_result"
    },
    {
     "data": {
      "image/png": "[encoded data removed]",
      "text/plain": [
       "<Figure size 1440x1440 with 1 Axes>"
      ]
     },
     "metadata": {
      "needs_background": "light"
     },
     "output_type": "display_data"
    }
   ],
   "source": [
    "pd.DataFrame(jd_headers_embeddings_tsne).plot(kind='scatter', x=0,y=1)"
   ]
  },
  {
   "cell_type": "code",
   "execution_count": 272,
   "metadata": {},
   "outputs": [
    {
     "data": {
      "image/png": "[encoded data removed]",
      "text/plain": [
       "<Figure size 1440x1440 with 1 Axes>"
      ]
     },
     "metadata": {
      "needs_background": "light"
     },
     "output_type": "display_data"
    }
   ],
   "source": [
    "plt.rcParams[\"figure.figsize\"] = (20,20)\n",
    "\n",
    "for i, type in enumerate(jd_headers_embeddings.keys()):\n",
    "    x = jd_headers_embeddings_tsne[i][0]\n",
    "    y = jd_headers_embeddings_tsne[i][1]\n",
    "    plt.scatter(x, y, marker='x', color='red')\n",
    "    plt.text(x+0.3, y+0.3, type, fontsize=9)\n",
    "plt.show()"
   ]
  },
  {
   "cell_type": "markdown",
   "metadata": {},
   "source": [
    "At this point we can do a manual mapping for most of the headers or we can try to use clustering to group the headers. Ultimately we are expecting/wanting/hoping/wishing/praying for two headers: Job Description and Candidate requirements"
   ]
  },
  {
   "cell_type": "code",
   "execution_count": null,
   "metadata": {},
   "outputs": [
    {
     "name": "stderr",
     "output_type": "stream",
     "text": [
      "Some weights of the model checkpoint at distilbert-base-uncased were not used when initializing DistilBertModel: ['vocab_transform.bias', 'vocab_projector.weight', 'vocab_transform.weight', 'vocab_layer_norm.bias', 'vocab_layer_norm.weight', 'vocab_projector.bias']\n",
      "- This IS expected if you are initializing DistilBertModel from the checkpoint of a model trained on another task or with another architecture (e.g. initializing a BertForSequenceClassification model from a BertForPreTraining model).\n",
      "- This IS NOT expected if you are initializing DistilBertModel from the checkpoint of a model that you expect to be exactly identical (initializing a BertForSequenceClassification model from a BertForSequenceClassification model).\n"
     ]
    }
   ],
   "source": [
    "from transformers import AutoTokenizer, AutoModel\n",
    "import torch\n",
    "from datasets import Dataset\n",
    "\n",
    "model_name = \"distilbert-base-uncased\"\n",
    "\n",
    "tokeniser = AutoTokenizer.from_pretrained(model_name)\n",
    "device = torch.device(\"cuda\" if torch.cuda.is_available() else \"cpu\")\n",
    "# Computes them on the GPU if available, else its on the CPU\n",
    "model = AutoModel.from_pretrained(model_name).to(device)"
   ]
  },
  {
   "cell_type": "code",
   "execution_count": null,
   "metadata": {},
   "outputs": [],
   "source": [
    "encoded_jd_headers = tokeniser(list(sorted_jd_headers), padding=True, truncation=True)"
   ]
  },
  {
   "cell_type": "code",
   "execution_count": null,
   "metadata": {},
   "outputs": [
    {
     "data": {
      "text/plain": [
       "dict_keys(['input_ids', 'attention_mask'])"
      ]
     },
     "execution_count": 52,
     "metadata": {},
     "output_type": "execute_result"
    }
   ],
   "source": [
    "encoded_jd_headers.keys()"
   ]
  },
  {
   "cell_type": "code",
   "execution_count": null,
   "metadata": {},
   "outputs": [],
   "source": [
    "def tokenise(sample_data):\n",
    "    return tokeniser(sample_data['headers'],padding=True, truncation=True)"
   ]
  },
  {
   "cell_type": "code",
   "execution_count": null,
   "metadata": {},
   "outputs": [],
   "source": [
    "\n",
    "# Need to extract the last hidden state of the output of the encoder\n",
    "def extract_embeddings(batch):\n",
    "    # place model inputs on the GPU\n",
    "    # the tokenizer model input names are all of the names of the fields from the tokenizer\n",
    "    # like input_ids, attention_mask\n",
    "    inputs = {k:v.to(device) for k,v in batch.items() if k in tokeniser.model_input_names}\n",
    "    # we use the model to take all of the inputs per batch, generate the output\n",
    "    # and then use the output to extract the last hidden states\n",
    "    with torch.no_grad():\n",
    "        last_hidden_state = model(**inputs).last_hidden_state\n",
    "    \n",
    "    # Return vector the the [CLS] token\n",
    "    # we use numpy as the map function requires it to be in this format\n",
    "    return {'hidden_state':last_hidden_state[:,0].cpu().numpy()}"
   ]
  },
  {
   "cell_type": "code",
   "execution_count": null,
   "metadata": {},
   "outputs": [],
   "source": [
    "pd_jd_headers = pd.DataFrame(list(sorted_jd_headers.keys()))"
   ]
  },
  {
   "cell_type": "code",
   "execution_count": null,
   "metadata": {},
   "outputs": [],
   "source": [
    "pd_jd_headers.columns = ['headers']"
   ]
  },
  {
   "cell_type": "code",
   "execution_count": null,
   "metadata": {},
   "outputs": [],
   "source": [
    "dataset = Dataset.from_pandas(pd_jd_headers)"
   ]
  },
  {
   "cell_type": "code",
   "execution_count": null,
   "metadata": {},
   "outputs": [
    {
     "data": {
      "text/plain": [
       "Dataset({\n",
       "    features: ['headers'],\n",
       "    num_rows: 856\n",
       "})"
      ]
     },
     "execution_count": 58,
     "metadata": {},
     "output_type": "execute_result"
    }
   ],
   "source": [
    "dataset"
   ]
  },
  {
   "cell_type": "code",
   "execution_count": null,
   "metadata": {},
   "outputs": [
    {
     "data": {
      "application/vnd.jupyter.widget-view+json": {
       "model_id": "10d47d13db9949d0897cbc4989cca86d",
       "version_major": 2,
       "version_minor": 0
      },
      "text/plain": [
       "  0%|          | 0/1 [00:00<?, ?ba/s]"
      ]
     },
     "metadata": {},
     "output_type": "display_data"
    }
   ],
   "source": [
    "dataset_tokenized = dataset.map(tokenise, batched=True, batch_size=None)"
   ]
  },
  {
   "cell_type": "code",
   "execution_count": null,
   "metadata": {},
   "outputs": [
    {
     "data": {
      "text/plain": [
       "Dataset({\n",
       "    features: ['headers'],\n",
       "    num_rows: 856\n",
       "})"
      ]
     },
     "execution_count": 60,
     "metadata": {},
     "output_type": "execute_result"
    }
   ],
   "source": [
    "dataset"
   ]
  },
  {
   "cell_type": "code",
   "execution_count": null,
   "metadata": {},
   "outputs": [
    {
     "data": {
      "text/plain": [
       "Dataset({\n",
       "    features: ['headers', 'input_ids', 'attention_mask'],\n",
       "    num_rows: 856\n",
       "})"
      ]
     },
     "execution_count": 61,
     "metadata": {},
     "output_type": "execute_result"
    }
   ],
   "source": [
    "dataset_tokenized"
   ]
  },
  {
   "cell_type": "code",
   "execution_count": null,
   "metadata": {},
   "outputs": [],
   "source": [
    "selected_cols = [\"input_ids\", \"attention_mask\", \"headers\"]\n",
    "\n",
    "dataset_tokenized.set_format(\"torch\", columns=selected_cols)"
   ]
  },
  {
   "cell_type": "code",
   "execution_count": null,
   "metadata": {},
   "outputs": [
    {
     "data": {
      "application/vnd.jupyter.widget-view+json": {
       "model_id": "decf664aa3df47ba8689d327ad936afc",
       "version_major": 2,
       "version_minor": 0
      },
      "text/plain": [
       "  0%|          | 0/1 [00:00<?, ?ba/s]"
      ]
     },
     "metadata": {},
     "output_type": "display_data"
    }
   ],
   "source": [
    "dataset_last_hidden_state = dataset_tokenized.map(extract_embeddings, batched=True)"
   ]
  },
  {
   "cell_type": "code",
   "execution_count": null,
   "metadata": {},
   "outputs": [
    {
     "data": {
      "text/plain": [
       "tensor([-6.4203e-02,  1.3685e-01,  6.8550e-02, -2.4462e-01,  5.0352e-03,\n",
       "        -7.5622e-02,  2.7785e-01,  2.1811e-01, -1.8833e-01, -1.7422e-01,\n",
       "        -1.7689e-01,  1.3522e-02,  1.2516e-01,  1.7664e-01,  1.9922e-01,\n",
       "         9.5667e-02, -1.4226e-01,  1.6692e-01,  2.5288e-01, -2.9117e-01,\n",
       "        -6.5798e-02, -1.6965e-01, -8.7263e-02, -8.2657e-02,  8.4201e-03,\n",
       "         6.2837e-02,  7.8272e-04,  8.9269e-02,  2.5549e-02,  2.1205e-02,\n",
       "         9.2591e-02, -1.2564e-02,  6.5711e-02,  5.2823e-02,  1.4236e-01,\n",
       "         6.8296e-02,  9.4687e-02, -3.9631e-02,  4.1428e-03, -2.0284e-01,\n",
       "         2.3375e-02,  3.5677e-02,  1.6870e-01,  2.0245e-02,  2.3971e-02,\n",
       "         1.0180e-01, -1.8076e+00, -2.5814e-01, -1.8954e-01, -9.5522e-02,\n",
       "         1.3033e-01,  1.2759e-01,  9.4335e-02,  2.3016e-01,  2.7670e-01,\n",
       "         2.4712e-01, -1.2441e-01,  3.4506e-01,  2.7628e-03,  9.6267e-02,\n",
       "         2.1791e-01,  2.2954e-01, -1.4716e-01,  1.2638e-01,  1.0748e-01,\n",
       "         2.7340e-02,  7.3639e-03,  1.7558e-01, -3.1331e-01,  3.6524e-01,\n",
       "        -2.4688e-01, -1.3784e-01,  2.3242e-01,  1.4679e-01, -1.2083e-02,\n",
       "        -1.2734e-01,  4.1319e-02,  1.9145e-01, -2.0938e-02, -7.6685e-02,\n",
       "         1.3773e-01,  1.5830e-01,  1.2267e-01,  2.7809e-02, -3.4407e-02,\n",
       "         2.0081e-01, -1.2543e-01, -3.7873e-01,  1.6835e-01,  5.5242e-01,\n",
       "        -4.1956e-02,  1.3589e-01,  1.3768e-01,  2.7832e-01,  2.7618e-01,\n",
       "        -2.7355e-01, -3.5184e-01,  9.5715e-04,  3.0844e-01, -1.7367e-03,\n",
       "         1.4119e-01,  1.8388e-01, -4.8894e-02, -6.1683e-02, -1.0378e-01,\n",
       "        -3.4674e-02, -1.2680e-01, -3.6271e-01, -2.0341e-01, -2.5341e+00,\n",
       "        -3.8590e-02,  1.3453e-02, -9.6553e-02, -3.0843e-01, -1.1820e-01,\n",
       "         3.1330e-01,  1.6275e-01,  1.7749e-01, -7.7323e-03,  8.4072e-02,\n",
       "         4.8054e-02,  4.5323e-01, -2.0057e-01, -1.4402e-01, -1.6672e-01,\n",
       "         1.9430e-01,  1.2379e-01, -1.2294e-01,  3.3016e-01, -1.1703e-02,\n",
       "         3.2640e-02,  1.6298e-01,  5.3358e-03,  1.4762e-01, -1.9916e-01,\n",
       "        -1.6507e-02,  3.1859e-01, -1.3664e-01, -2.4967e-02,  1.1692e-01,\n",
       "        -4.8474e-01, -9.5515e-02, -2.9155e+00, -4.6864e-04,  1.6686e-01,\n",
       "        -2.0242e-01,  4.0409e-02,  3.9481e-02, -5.8131e-02,  1.7797e-01,\n",
       "         7.4795e-02,  4.1911e-02, -1.0552e-01,  1.0968e-01, -3.0382e-01,\n",
       "         1.6203e-01,  1.0439e-01, -1.2537e-02,  1.4654e-01,  1.8493e-02,\n",
       "         3.7222e-02, -7.8660e-02,  1.1147e-02,  5.0467e-02, -1.1243e-01,\n",
       "         2.0411e-01,  4.4605e-02,  7.7208e-02,  8.9560e-02,  1.3291e-01,\n",
       "        -2.6673e-01, -1.5432e-01,  2.2902e-01, -8.7768e-02,  7.3848e-02,\n",
       "        -5.7335e-02,  1.1495e-02,  4.6590e-01,  1.4604e-01,  3.1704e-02,\n",
       "        -2.2732e-01,  1.7477e-01,  9.2655e-02,  3.1174e-01, -4.8092e-03,\n",
       "        -1.5488e-01,  1.7616e-01, -1.5394e-01,  5.6446e-02,  2.5773e-01,\n",
       "        -7.7920e-02, -4.5300e-02,  2.0445e-01,  3.0260e-02,  1.7310e-01,\n",
       "        -8.1275e-02,  8.1359e-02, -3.2221e-01,  1.0276e-01,  1.2398e-01,\n",
       "         1.0248e-02,  2.1585e-02, -8.8075e-02,  1.5559e-01, -1.1712e-01,\n",
       "         3.5554e+00,  9.0178e-02, -1.9592e-01,  1.6927e-01,  5.5004e-02,\n",
       "         9.4675e-02,  2.3461e-02, -1.6937e-01, -1.7908e-01,  2.6503e-01,\n",
       "         4.3377e-02,  3.2084e-02,  8.4737e-02,  9.0267e-02, -7.9438e-02,\n",
       "         2.7007e-01,  1.3618e-01,  2.1606e-01,  2.8342e-01, -3.3092e-01,\n",
       "        -1.7089e-02, -9.2508e-03,  2.1673e-01,  1.8184e-02, -1.0789e+00,\n",
       "         1.7919e-01, -1.1618e-01, -2.0410e-02,  2.7365e-01, -1.6315e-01,\n",
       "        -1.1101e-01, -2.6429e-01, -7.8263e-02,  1.5125e-01, -2.1242e-02,\n",
       "        -2.0901e-02,  1.4834e-01,  7.3464e-02,  5.8468e-02,  2.0039e-02,\n",
       "         2.5498e-01,  1.8975e-01,  3.0527e-01, -7.2935e-02,  7.3996e-02,\n",
       "         3.6190e-01, -3.5429e-01, -7.0911e-02, -2.2404e-01, -7.6019e-02,\n",
       "        -1.8213e-02,  3.4022e-03,  3.6439e-02, -1.7191e-01, -7.9899e-02,\n",
       "        -2.6175e-01,  1.3881e-01,  2.2936e-01,  3.2272e-02, -9.2076e-02,\n",
       "        -3.8526e-01, -9.1724e-02, -3.5819e-01, -2.6621e-03, -2.1962e-02,\n",
       "         8.4106e-02, -1.0827e-01, -7.5788e-02, -4.2061e+00, -1.5944e-01,\n",
       "        -6.2862e-03,  2.9460e-01,  2.1760e-01, -1.1618e-01,  8.3583e-02,\n",
       "        -5.3744e-02,  4.0812e-02, -2.3857e-01,  3.1469e-01,  5.9798e-02,\n",
       "        -1.3187e-02,  8.5610e-02, -4.2327e-01,  2.1237e-01,  1.0377e-01,\n",
       "        -2.6171e-01,  2.3727e-01, -7.0283e-02,  5.8738e-02,  4.0797e-01,\n",
       "        -3.0275e-01, -1.2658e-01,  1.9626e-01,  3.5744e-02, -3.1868e-01,\n",
       "        -2.2446e-01,  4.2592e-02, -1.4421e-01, -4.2099e-02, -2.7642e-01,\n",
       "         1.9751e-01, -1.7808e-01, -2.3373e-01, -2.4467e+00,  1.0853e-01,\n",
       "        -2.5323e-01,  2.6853e-02,  5.9761e-02, -1.8948e-01,  2.3590e-01,\n",
       "        -1.0617e-01, -2.2735e-01,  3.4492e-02,  8.3791e-02, -1.3260e-02,\n",
       "         1.4522e-02,  3.1487e-01, -3.9221e-02,  3.9455e-01,  1.3795e-01,\n",
       "        -1.8769e-03,  2.0080e-01,  2.0601e-01,  4.4455e-03, -1.7233e-01,\n",
       "        -6.2300e-02, -1.9732e-01, -7.7086e-02,  2.7313e-01, -5.0227e-01,\n",
       "         9.1227e-02, -3.5406e-01, -2.7635e-01,  8.9147e-03, -9.9668e-02,\n",
       "        -1.3342e-01, -1.7620e-02, -1.1074e-01, -1.8663e-01,  1.4557e-01,\n",
       "         2.2391e-01,  3.5471e-01, -5.6202e-02, -1.3481e-01,  3.9079e-01,\n",
       "         1.0125e-01,  3.9173e-01,  2.5996e-01,  5.7385e-02,  7.8211e-02,\n",
       "        -3.3709e-02, -7.0310e-02,  1.3293e-01, -1.5868e-01,  1.0066e-01,\n",
       "         1.0684e+00,  8.7798e-04,  2.5173e-01,  1.0030e-02,  3.1261e-01,\n",
       "        -1.3344e-02, -1.3607e-01,  2.3290e-01,  2.2168e-01, -6.4402e-02,\n",
       "         1.8810e-01, -3.3015e-02, -2.2031e-02, -1.7568e-01, -5.8970e-02,\n",
       "        -2.1744e-01, -1.5209e-01, -2.0600e-01,  2.2180e-03,  2.2067e-01,\n",
       "        -3.7410e-03, -8.1111e-01, -2.0312e-01, -1.6085e-01,  1.0947e-01,\n",
       "         2.4675e-02,  2.1705e-01,  6.9096e-02, -1.1715e-01,  1.0052e-01,\n",
       "         2.4216e-02,  2.9912e-01,  1.5969e-02,  7.1097e-02, -5.9400e-02,\n",
       "         1.4002e-01, -5.1282e-01, -1.8658e-02,  1.6347e-02,  8.1724e-02,\n",
       "         1.8921e-01,  1.0219e-01, -1.7943e-02, -2.2933e-02,  1.6987e-01,\n",
       "        -7.0915e-01, -1.4920e-02, -1.8762e-01, -1.7985e-01, -2.7379e-01,\n",
       "        -1.9829e-01,  5.4408e-02, -1.3607e-01, -1.4535e-01, -1.8630e-01,\n",
       "         2.5989e-01, -4.7109e-03,  5.4005e-02,  2.9917e-01,  8.7117e-03,\n",
       "         1.8119e-01,  3.9277e-01,  6.5377e-01, -7.0552e-02, -1.0963e-01,\n",
       "         3.1537e-01,  7.9295e-02,  4.1327e-01,  1.7822e-01,  2.0068e-01,\n",
       "         1.5691e-01, -1.3171e-01, -3.7646e-02, -1.7414e-02, -6.4593e-02,\n",
       "        -4.1817e-01, -1.8786e-01, -5.3635e-02,  1.0547e-01,  7.1261e-02,\n",
       "        -1.1401e-01, -5.7185e-01, -5.5502e-02, -2.2057e-01, -1.7390e-01,\n",
       "         2.7925e-01,  3.9524e-01,  6.0978e-02,  2.4288e-02,  1.2612e-01,\n",
       "         4.0678e-02,  3.8868e-01,  2.6241e-02,  1.0895e-01,  6.4873e-02,\n",
       "        -2.5789e-02, -2.8508e-02,  2.4212e-01, -5.8973e-02, -2.9795e-01,\n",
       "         1.3376e-01, -1.7815e-01, -3.6877e-02, -4.9664e-03,  4.3506e-02,\n",
       "         4.2516e-02,  2.5811e-01, -1.0047e-01,  5.6020e-02,  1.3574e-01,\n",
       "        -1.0860e+00,  9.2182e-02,  2.2173e-01, -8.2367e-02,  8.9925e-02,\n",
       "         4.0840e-02, -1.7634e-01,  3.6568e-01,  1.3533e-01,  1.5636e-02,\n",
       "        -4.1047e-02, -1.2547e-01, -1.5318e-02, -1.4836e-01,  5.4430e-02,\n",
       "        -1.5358e-01,  1.9191e-01, -6.2019e-02,  1.2078e-01, -7.3118e-02,\n",
       "        -1.0029e-01,  3.9902e-01,  5.5110e-02,  2.2996e-02, -3.2124e-02,\n",
       "        -2.8345e-02,  9.6194e-02,  2.3757e-01,  4.5775e-02,  6.1064e-03,\n",
       "         2.1868e-01, -2.4169e-01, -5.7063e-01,  7.2030e-02,  2.2816e-01,\n",
       "         1.9438e-01, -4.0280e-02, -5.3490e-02,  1.0404e-01, -9.1151e-02,\n",
       "        -2.2702e-01,  1.8220e-01,  2.3495e-01,  2.6691e-02,  1.5074e-01,\n",
       "         6.6495e-02, -1.5702e-01,  3.1355e-02,  5.6580e-02, -1.9431e-01,\n",
       "         2.5062e-02,  2.3449e-01, -1.7413e-01, -1.4673e-01, -8.4201e-02,\n",
       "         2.3607e-01, -9.0228e-02, -3.6558e-02, -1.7948e-01,  6.2197e-02,\n",
       "         3.6535e-01, -3.2820e-01,  1.0626e-01,  2.6236e-01, -2.3018e-03,\n",
       "        -4.8576e-01, -2.1518e-01,  1.3036e-01, -2.3372e-01,  1.6413e-01,\n",
       "         1.1963e-01, -3.8601e-02,  7.9704e-02,  3.2639e-02, -4.0912e-01,\n",
       "         1.1856e-02,  1.1790e-01,  5.3976e-02,  8.9008e-03, -5.9176e-02,\n",
       "         5.1778e-02, -4.0905e-01, -2.8992e-01,  1.9106e-01,  1.3232e-01,\n",
       "        -1.5711e-01,  2.0345e-02,  1.7858e-02,  3.9090e-02,  1.4546e-01,\n",
       "        -3.0813e-01, -1.9924e-01,  2.7898e-01,  1.3140e-01,  2.5372e-01,\n",
       "        -9.8094e-02,  1.5812e-01,  1.9743e-01, -6.3611e-02,  1.0734e-01,\n",
       "         7.3916e-02,  2.4157e-01, -1.8707e-02, -1.3127e-02, -8.7307e-02,\n",
       "         3.0188e-02,  1.3850e-01,  1.4714e-03, -2.2040e-01, -2.8073e-02,\n",
       "         9.5671e-02,  1.8485e-01,  4.0404e-02, -4.7555e-03,  2.3011e-01,\n",
       "        -1.9605e-01,  4.3479e-02,  2.9383e-01,  2.0278e+00,  3.5689e-01,\n",
       "         2.0237e-01, -1.2571e-02,  2.2718e-01,  7.2420e-02, -6.8250e-02,\n",
       "         1.9195e-01, -3.1134e-01,  1.2294e-01,  1.7108e-01, -4.3954e-02,\n",
       "        -2.0334e-01,  1.4991e-01,  1.5255e-01,  2.7101e-01, -2.9321e-02,\n",
       "        -2.0511e-01, -2.4875e-01, -4.1512e-02, -2.7285e-01,  5.1875e-01,\n",
       "         3.0419e-01, -7.0104e-02,  3.3769e-03,  2.2204e-01,  1.2512e-01,\n",
       "        -3.3721e-01,  9.6847e-02, -1.8041e-01, -4.4372e-02, -7.2354e-03,\n",
       "         1.9598e-01,  2.3010e-01,  9.6233e-03, -6.7665e-02, -1.0300e-01,\n",
       "        -4.6279e-01, -7.9540e-02,  1.2396e-01,  1.0477e-01, -2.7257e-01,\n",
       "         3.1258e-01,  7.7447e-02,  1.2732e-01,  3.8736e-01, -8.0362e-02,\n",
       "        -4.2955e-01,  1.0188e-01,  6.6900e-03, -3.6184e-02, -2.0573e-01,\n",
       "         7.3591e-02, -3.2621e-02, -1.2524e-01, -1.1020e-01, -5.3686e-02,\n",
       "        -7.4582e-02,  1.2784e-01,  3.4308e-01, -3.0786e-02,  2.7458e-01,\n",
       "         2.5659e-01, -1.8090e-01,  1.8660e-01,  1.5818e-01, -4.0768e-01,\n",
       "         2.5516e-01,  2.6952e-02,  1.4518e-01, -3.9436e-02,  3.1102e-03,\n",
       "         1.1243e-01,  1.7836e-01, -6.3941e-02, -4.0191e-02,  2.4850e-01,\n",
       "         1.0005e-01, -1.0864e-02, -2.8811e+00,  8.6176e-02,  1.0701e-01,\n",
       "         1.5144e-01,  5.3390e-02,  1.9652e-01, -1.8559e-02, -9.5472e-02,\n",
       "         1.0333e-01, -4.6970e-02,  3.0752e-01,  2.5796e-01,  1.4517e-01,\n",
       "         1.4222e-01,  2.5540e-01,  2.0987e-01, -2.2149e-02, -1.3533e-01,\n",
       "        -1.0480e-01,  1.1350e-01,  1.6372e-02, -6.7267e-03, -3.7969e-01,\n",
       "        -2.4224e-01, -4.8270e-01, -9.9320e-02, -6.9032e-02, -3.8413e-01,\n",
       "         7.7945e-02, -3.5737e-02,  2.7232e-02,  2.4199e-02,  1.8509e-01,\n",
       "         3.0811e-01,  8.3242e-02, -2.1852e-01,  6.8992e-02, -1.3365e-01,\n",
       "         8.6841e-03,  2.7427e-01, -2.5727e-01,  3.5305e-02, -5.3427e-02,\n",
       "         2.3576e-01, -1.5208e-01,  1.1803e-01,  2.4495e-01, -2.1168e-01,\n",
       "         3.9929e-01, -1.7255e-01, -2.1361e-01,  1.0279e-01,  9.0693e-02,\n",
       "         9.8700e-02,  2.1547e-01,  2.5463e-01,  1.4716e-01,  1.4655e-01,\n",
       "        -1.3066e-01, -1.1756e-02, -6.7509e-02,  2.0145e-01, -1.2976e-01,\n",
       "         9.1060e-02,  2.4898e-01, -5.7079e-02, -4.1879e-02, -1.4816e-01,\n",
       "         7.1909e-02, -6.0040e-02,  1.7211e-01, -1.8317e-01, -1.1536e-02,\n",
       "         3.8107e-03,  1.6873e-01, -9.9035e-02,  7.3202e-02,  2.2489e-01,\n",
       "         1.7354e-01,  8.4895e-02,  1.2829e-01, -3.9320e-01, -6.3138e-02,\n",
       "         7.0308e-02,  1.3256e-01, -8.0113e+00, -2.4400e-01, -1.9592e-01,\n",
       "         3.9425e-02,  9.3979e-02, -2.1410e-01,  2.3061e-01, -9.7654e-02,\n",
       "         2.1543e-01, -1.1675e-01,  3.4660e-02, -2.4175e-01, -2.0860e-02,\n",
       "        -2.1534e-01,  6.9127e-02,  3.1625e-01])"
      ]
     },
     "execution_count": 64,
     "metadata": {},
     "output_type": "execute_result"
    }
   ],
   "source": [
    "dataset_last_hidden_state[0]['hidden_state']"
   ]
  },
  {
   "cell_type": "code",
   "execution_count": null,
   "metadata": {},
   "outputs": [
    {
     "data": {
      "text/plain": [
       "Embedding(30522, 768, padding_idx=0)"
      ]
     },
     "execution_count": 65,
     "metadata": {},
     "output_type": "execute_result"
    }
   ],
   "source": [
    "model.get_input_embeddings()"
   ]
  },
  {
   "cell_type": "code",
   "execution_count": null,
   "metadata": {},
   "outputs": [],
   "source": [
    "output = model.get_output_embeddings()"
   ]
  },
  {
   "cell_type": "code",
   "execution_count": null,
   "metadata": {},
   "outputs": [
    {
     "data": {
      "text/plain": [
       "NoneType"
      ]
     },
     "execution_count": 67,
     "metadata": {},
     "output_type": "execute_result"
    }
   ],
   "source": [
    "type(output)"
   ]
  },
  {
   "cell_type": "code",
   "execution_count": null,
   "metadata": {},
   "outputs": [
    {
     "data": {
      "text/plain": [
       "tensor([-6.4203e-02,  1.3685e-01,  6.8550e-02, -2.4462e-01,  5.0352e-03,\n",
       "        -7.5622e-02,  2.7785e-01,  2.1811e-01, -1.8833e-01, -1.7422e-01,\n",
       "        -1.7689e-01,  1.3522e-02,  1.2516e-01,  1.7664e-01,  1.9922e-01,\n",
       "         9.5667e-02, -1.4226e-01,  1.6692e-01,  2.5288e-01, -2.9117e-01,\n",
       "        -6.5798e-02, -1.6965e-01, -8.7263e-02, -8.2657e-02,  8.4201e-03,\n",
       "         6.2837e-02,  7.8272e-04,  8.9269e-02,  2.5549e-02,  2.1205e-02,\n",
       "         9.2591e-02, -1.2564e-02,  6.5711e-02,  5.2823e-02,  1.4236e-01,\n",
       "         6.8296e-02,  9.4687e-02, -3.9631e-02,  4.1428e-03, -2.0284e-01,\n",
       "         2.3375e-02,  3.5677e-02,  1.6870e-01,  2.0245e-02,  2.3971e-02,\n",
       "         1.0180e-01, -1.8076e+00, -2.5814e-01, -1.8954e-01, -9.5522e-02,\n",
       "         1.3033e-01,  1.2759e-01,  9.4335e-02,  2.3016e-01,  2.7670e-01,\n",
       "         2.4712e-01, -1.2441e-01,  3.4506e-01,  2.7628e-03,  9.6267e-02,\n",
       "         2.1791e-01,  2.2954e-01, -1.4716e-01,  1.2638e-01,  1.0748e-01,\n",
       "         2.7340e-02,  7.3639e-03,  1.7558e-01, -3.1331e-01,  3.6524e-01,\n",
       "        -2.4688e-01, -1.3784e-01,  2.3242e-01,  1.4679e-01, -1.2083e-02,\n",
       "        -1.2734e-01,  4.1319e-02,  1.9145e-01, -2.0938e-02, -7.6685e-02,\n",
       "         1.3773e-01,  1.5830e-01,  1.2267e-01,  2.7809e-02, -3.4407e-02,\n",
       "         2.0081e-01, -1.2543e-01, -3.7873e-01,  1.6835e-01,  5.5242e-01,\n",
       "        -4.1956e-02,  1.3589e-01,  1.3768e-01,  2.7832e-01,  2.7618e-01,\n",
       "        -2.7355e-01, -3.5184e-01,  9.5715e-04,  3.0844e-01, -1.7367e-03,\n",
       "         1.4119e-01,  1.8388e-01, -4.8894e-02, -6.1683e-02, -1.0378e-01,\n",
       "        -3.4674e-02, -1.2680e-01, -3.6271e-01, -2.0341e-01, -2.5341e+00,\n",
       "        -3.8590e-02,  1.3453e-02, -9.6553e-02, -3.0843e-01, -1.1820e-01,\n",
       "         3.1330e-01,  1.6275e-01,  1.7749e-01, -7.7323e-03,  8.4072e-02,\n",
       "         4.8054e-02,  4.5323e-01, -2.0057e-01, -1.4402e-01, -1.6672e-01,\n",
       "         1.9430e-01,  1.2379e-01, -1.2294e-01,  3.3016e-01, -1.1703e-02,\n",
       "         3.2640e-02,  1.6298e-01,  5.3358e-03,  1.4762e-01, -1.9916e-01,\n",
       "        -1.6507e-02,  3.1859e-01, -1.3664e-01, -2.4967e-02,  1.1692e-01,\n",
       "        -4.8474e-01, -9.5515e-02, -2.9155e+00, -4.6864e-04,  1.6686e-01,\n",
       "        -2.0242e-01,  4.0409e-02,  3.9481e-02, -5.8131e-02,  1.7797e-01,\n",
       "         7.4795e-02,  4.1911e-02, -1.0552e-01,  1.0968e-01, -3.0382e-01,\n",
       "         1.6203e-01,  1.0439e-01, -1.2537e-02,  1.4654e-01,  1.8493e-02,\n",
       "         3.7222e-02, -7.8660e-02,  1.1147e-02,  5.0467e-02, -1.1243e-01,\n",
       "         2.0411e-01,  4.4605e-02,  7.7208e-02,  8.9560e-02,  1.3291e-01,\n",
       "        -2.6673e-01, -1.5432e-01,  2.2902e-01, -8.7768e-02,  7.3848e-02,\n",
       "        -5.7335e-02,  1.1495e-02,  4.6590e-01,  1.4604e-01,  3.1704e-02,\n",
       "        -2.2732e-01,  1.7477e-01,  9.2655e-02,  3.1174e-01, -4.8092e-03,\n",
       "        -1.5488e-01,  1.7616e-01, -1.5394e-01,  5.6446e-02,  2.5773e-01,\n",
       "        -7.7920e-02, -4.5300e-02,  2.0445e-01,  3.0260e-02,  1.7310e-01,\n",
       "        -8.1275e-02,  8.1359e-02, -3.2221e-01,  1.0276e-01,  1.2398e-01,\n",
       "         1.0248e-02,  2.1585e-02, -8.8075e-02,  1.5559e-01, -1.1712e-01,\n",
       "         3.5554e+00,  9.0178e-02, -1.9592e-01,  1.6927e-01,  5.5004e-02,\n",
       "         9.4675e-02,  2.3461e-02, -1.6937e-01, -1.7908e-01,  2.6503e-01,\n",
       "         4.3377e-02,  3.2084e-02,  8.4737e-02,  9.0267e-02, -7.9438e-02,\n",
       "         2.7007e-01,  1.3618e-01,  2.1606e-01,  2.8342e-01, -3.3092e-01,\n",
       "        -1.7089e-02, -9.2508e-03,  2.1673e-01,  1.8184e-02, -1.0789e+00,\n",
       "         1.7919e-01, -1.1618e-01, -2.0410e-02,  2.7365e-01, -1.6315e-01,\n",
       "        -1.1101e-01, -2.6429e-01, -7.8263e-02,  1.5125e-01, -2.1242e-02,\n",
       "        -2.0901e-02,  1.4834e-01,  7.3464e-02,  5.8468e-02,  2.0039e-02,\n",
       "         2.5498e-01,  1.8975e-01,  3.0527e-01, -7.2935e-02,  7.3996e-02,\n",
       "         3.6190e-01, -3.5429e-01, -7.0911e-02, -2.2404e-01, -7.6019e-02,\n",
       "        -1.8213e-02,  3.4022e-03,  3.6439e-02, -1.7191e-01, -7.9899e-02,\n",
       "        -2.6175e-01,  1.3881e-01,  2.2936e-01,  3.2272e-02, -9.2076e-02,\n",
       "        -3.8526e-01, -9.1724e-02, -3.5819e-01, -2.6621e-03, -2.1962e-02,\n",
       "         8.4106e-02, -1.0827e-01, -7.5788e-02, -4.2061e+00, -1.5944e-01,\n",
       "        -6.2862e-03,  2.9460e-01,  2.1760e-01, -1.1618e-01,  8.3583e-02,\n",
       "        -5.3744e-02,  4.0812e-02, -2.3857e-01,  3.1469e-01,  5.9798e-02,\n",
       "        -1.3187e-02,  8.5610e-02, -4.2327e-01,  2.1237e-01,  1.0377e-01,\n",
       "        -2.6171e-01,  2.3727e-01, -7.0283e-02,  5.8738e-02,  4.0797e-01,\n",
       "        -3.0275e-01, -1.2658e-01,  1.9626e-01,  3.5744e-02, -3.1868e-01,\n",
       "        -2.2446e-01,  4.2592e-02, -1.4421e-01, -4.2099e-02, -2.7642e-01,\n",
       "         1.9751e-01, -1.7808e-01, -2.3373e-01, -2.4467e+00,  1.0853e-01,\n",
       "        -2.5323e-01,  2.6853e-02,  5.9761e-02, -1.8948e-01,  2.3590e-01,\n",
       "        -1.0617e-01, -2.2735e-01,  3.4492e-02,  8.3791e-02, -1.3260e-02,\n",
       "         1.4522e-02,  3.1487e-01, -3.9221e-02,  3.9455e-01,  1.3795e-01,\n",
       "        -1.8769e-03,  2.0080e-01,  2.0601e-01,  4.4455e-03, -1.7233e-01,\n",
       "        -6.2300e-02, -1.9732e-01, -7.7086e-02,  2.7313e-01, -5.0227e-01,\n",
       "         9.1227e-02, -3.5406e-01, -2.7635e-01,  8.9147e-03, -9.9668e-02,\n",
       "        -1.3342e-01, -1.7620e-02, -1.1074e-01, -1.8663e-01,  1.4557e-01,\n",
       "         2.2391e-01,  3.5471e-01, -5.6202e-02, -1.3481e-01,  3.9079e-01,\n",
       "         1.0125e-01,  3.9173e-01,  2.5996e-01,  5.7385e-02,  7.8211e-02,\n",
       "        -3.3709e-02, -7.0310e-02,  1.3293e-01, -1.5868e-01,  1.0066e-01,\n",
       "         1.0684e+00,  8.7798e-04,  2.5173e-01,  1.0030e-02,  3.1261e-01,\n",
       "        -1.3344e-02, -1.3607e-01,  2.3290e-01,  2.2168e-01, -6.4402e-02,\n",
       "         1.8810e-01, -3.3015e-02, -2.2031e-02, -1.7568e-01, -5.8970e-02,\n",
       "        -2.1744e-01, -1.5209e-01, -2.0600e-01,  2.2180e-03,  2.2067e-01,\n",
       "        -3.7410e-03, -8.1111e-01, -2.0312e-01, -1.6085e-01,  1.0947e-01,\n",
       "         2.4675e-02,  2.1705e-01,  6.9096e-02, -1.1715e-01,  1.0052e-01,\n",
       "         2.4216e-02,  2.9912e-01,  1.5969e-02,  7.1097e-02, -5.9400e-02,\n",
       "         1.4002e-01, -5.1282e-01, -1.8658e-02,  1.6347e-02,  8.1724e-02,\n",
       "         1.8921e-01,  1.0219e-01, -1.7943e-02, -2.2933e-02,  1.6987e-01,\n",
       "        -7.0915e-01, -1.4920e-02, -1.8762e-01, -1.7985e-01, -2.7379e-01,\n",
       "        -1.9829e-01,  5.4408e-02, -1.3607e-01, -1.4535e-01, -1.8630e-01,\n",
       "         2.5989e-01, -4.7109e-03,  5.4005e-02,  2.9917e-01,  8.7117e-03,\n",
       "         1.8119e-01,  3.9277e-01,  6.5377e-01, -7.0552e-02, -1.0963e-01,\n",
       "         3.1537e-01,  7.9295e-02,  4.1327e-01,  1.7822e-01,  2.0068e-01,\n",
       "         1.5691e-01, -1.3171e-01, -3.7646e-02, -1.7414e-02, -6.4593e-02,\n",
       "        -4.1817e-01, -1.8786e-01, -5.3635e-02,  1.0547e-01,  7.1261e-02,\n",
       "        -1.1401e-01, -5.7185e-01, -5.5502e-02, -2.2057e-01, -1.7390e-01,\n",
       "         2.7925e-01,  3.9524e-01,  6.0978e-02,  2.4288e-02,  1.2612e-01,\n",
       "         4.0678e-02,  3.8868e-01,  2.6241e-02,  1.0895e-01,  6.4873e-02,\n",
       "        -2.5789e-02, -2.8508e-02,  2.4212e-01, -5.8973e-02, -2.9795e-01,\n",
       "         1.3376e-01, -1.7815e-01, -3.6877e-02, -4.9664e-03,  4.3506e-02,\n",
       "         4.2516e-02,  2.5811e-01, -1.0047e-01,  5.6020e-02,  1.3574e-01,\n",
       "        -1.0860e+00,  9.2182e-02,  2.2173e-01, -8.2367e-02,  8.9925e-02,\n",
       "         4.0840e-02, -1.7634e-01,  3.6568e-01,  1.3533e-01,  1.5636e-02,\n",
       "        -4.1047e-02, -1.2547e-01, -1.5318e-02, -1.4836e-01,  5.4430e-02,\n",
       "        -1.5358e-01,  1.9191e-01, -6.2019e-02,  1.2078e-01, -7.3118e-02,\n",
       "        -1.0029e-01,  3.9902e-01,  5.5110e-02,  2.2996e-02, -3.2124e-02,\n",
       "        -2.8345e-02,  9.6194e-02,  2.3757e-01,  4.5775e-02,  6.1064e-03,\n",
       "         2.1868e-01, -2.4169e-01, -5.7063e-01,  7.2030e-02,  2.2816e-01,\n",
       "         1.9438e-01, -4.0280e-02, -5.3490e-02,  1.0404e-01, -9.1151e-02,\n",
       "        -2.2702e-01,  1.8220e-01,  2.3495e-01,  2.6691e-02,  1.5074e-01,\n",
       "         6.6495e-02, -1.5702e-01,  3.1355e-02,  5.6580e-02, -1.9431e-01,\n",
       "         2.5062e-02,  2.3449e-01, -1.7413e-01, -1.4673e-01, -8.4201e-02,\n",
       "         2.3607e-01, -9.0228e-02, -3.6558e-02, -1.7948e-01,  6.2197e-02,\n",
       "         3.6535e-01, -3.2820e-01,  1.0626e-01,  2.6236e-01, -2.3018e-03,\n",
       "        -4.8576e-01, -2.1518e-01,  1.3036e-01, -2.3372e-01,  1.6413e-01,\n",
       "         1.1963e-01, -3.8601e-02,  7.9704e-02,  3.2639e-02, -4.0912e-01,\n",
       "         1.1856e-02,  1.1790e-01,  5.3976e-02,  8.9008e-03, -5.9176e-02,\n",
       "         5.1778e-02, -4.0905e-01, -2.8992e-01,  1.9106e-01,  1.3232e-01,\n",
       "        -1.5711e-01,  2.0345e-02,  1.7858e-02,  3.9090e-02,  1.4546e-01,\n",
       "        -3.0813e-01, -1.9924e-01,  2.7898e-01,  1.3140e-01,  2.5372e-01,\n",
       "        -9.8094e-02,  1.5812e-01,  1.9743e-01, -6.3611e-02,  1.0734e-01,\n",
       "         7.3916e-02,  2.4157e-01, -1.8707e-02, -1.3127e-02, -8.7307e-02,\n",
       "         3.0188e-02,  1.3850e-01,  1.4714e-03, -2.2040e-01, -2.8073e-02,\n",
       "         9.5671e-02,  1.8485e-01,  4.0404e-02, -4.7555e-03,  2.3011e-01,\n",
       "        -1.9605e-01,  4.3479e-02,  2.9383e-01,  2.0278e+00,  3.5689e-01,\n",
       "         2.0237e-01, -1.2571e-02,  2.2718e-01,  7.2420e-02, -6.8250e-02,\n",
       "         1.9195e-01, -3.1134e-01,  1.2294e-01,  1.7108e-01, -4.3954e-02,\n",
       "        -2.0334e-01,  1.4991e-01,  1.5255e-01,  2.7101e-01, -2.9321e-02,\n",
       "        -2.0511e-01, -2.4875e-01, -4.1512e-02, -2.7285e-01,  5.1875e-01,\n",
       "         3.0419e-01, -7.0104e-02,  3.3769e-03,  2.2204e-01,  1.2512e-01,\n",
       "        -3.3721e-01,  9.6847e-02, -1.8041e-01, -4.4372e-02, -7.2354e-03,\n",
       "         1.9598e-01,  2.3010e-01,  9.6233e-03, -6.7665e-02, -1.0300e-01,\n",
       "        -4.6279e-01, -7.9540e-02,  1.2396e-01,  1.0477e-01, -2.7257e-01,\n",
       "         3.1258e-01,  7.7447e-02,  1.2732e-01,  3.8736e-01, -8.0362e-02,\n",
       "        -4.2955e-01,  1.0188e-01,  6.6900e-03, -3.6184e-02, -2.0573e-01,\n",
       "         7.3591e-02, -3.2621e-02, -1.2524e-01, -1.1020e-01, -5.3686e-02,\n",
       "        -7.4582e-02,  1.2784e-01,  3.4308e-01, -3.0786e-02,  2.7458e-01,\n",
       "         2.5659e-01, -1.8090e-01,  1.8660e-01,  1.5818e-01, -4.0768e-01,\n",
       "         2.5516e-01,  2.6952e-02,  1.4518e-01, -3.9436e-02,  3.1102e-03,\n",
       "         1.1243e-01,  1.7836e-01, -6.3941e-02, -4.0191e-02,  2.4850e-01,\n",
       "         1.0005e-01, -1.0864e-02, -2.8811e+00,  8.6176e-02,  1.0701e-01,\n",
       "         1.5144e-01,  5.3390e-02,  1.9652e-01, -1.8559e-02, -9.5472e-02,\n",
       "         1.0333e-01, -4.6970e-02,  3.0752e-01,  2.5796e-01,  1.4517e-01,\n",
       "         1.4222e-01,  2.5540e-01,  2.0987e-01, -2.2149e-02, -1.3533e-01,\n",
       "        -1.0480e-01,  1.1350e-01,  1.6372e-02, -6.7267e-03, -3.7969e-01,\n",
       "        -2.4224e-01, -4.8270e-01, -9.9320e-02, -6.9032e-02, -3.8413e-01,\n",
       "         7.7945e-02, -3.5737e-02,  2.7232e-02,  2.4199e-02,  1.8509e-01,\n",
       "         3.0811e-01,  8.3242e-02, -2.1852e-01,  6.8992e-02, -1.3365e-01,\n",
       "         8.6841e-03,  2.7427e-01, -2.5727e-01,  3.5305e-02, -5.3427e-02,\n",
       "         2.3576e-01, -1.5208e-01,  1.1803e-01,  2.4495e-01, -2.1168e-01,\n",
       "         3.9929e-01, -1.7255e-01, -2.1361e-01,  1.0279e-01,  9.0693e-02,\n",
       "         9.8700e-02,  2.1547e-01,  2.5463e-01,  1.4716e-01,  1.4655e-01,\n",
       "        -1.3066e-01, -1.1756e-02, -6.7509e-02,  2.0145e-01, -1.2976e-01,\n",
       "         9.1060e-02,  2.4898e-01, -5.7079e-02, -4.1879e-02, -1.4816e-01,\n",
       "         7.1909e-02, -6.0040e-02,  1.7211e-01, -1.8317e-01, -1.1536e-02,\n",
       "         3.8107e-03,  1.6873e-01, -9.9035e-02,  7.3202e-02,  2.2489e-01,\n",
       "         1.7354e-01,  8.4895e-02,  1.2829e-01, -3.9320e-01, -6.3138e-02,\n",
       "         7.0308e-02,  1.3256e-01, -8.0113e+00, -2.4400e-01, -1.9592e-01,\n",
       "         3.9425e-02,  9.3979e-02, -2.1410e-01,  2.3061e-01, -9.7654e-02,\n",
       "         2.1543e-01, -1.1675e-01,  3.4660e-02, -2.4175e-01, -2.0860e-02,\n",
       "        -2.1534e-01,  6.9127e-02,  3.1625e-01])"
      ]
     },
     "execution_count": 68,
     "metadata": {},
     "output_type": "execute_result"
    }
   ],
   "source": [
    "dataset_last_hidden_state[0]['hidden_state']"
   ]
  },
  {
   "cell_type": "code",
   "execution_count": null,
   "metadata": {},
   "outputs": [],
   "source": [
    "# Lets do some clustering"
   ]
  },
  {
   "cell_type": "code",
   "execution_count": null,
   "metadata": {},
   "outputs": [],
   "source": [
    "X_train = dataset_last_hidden_state['hidden_state']"
   ]
  },
  {
   "cell_type": "code",
   "execution_count": null,
   "metadata": {},
   "outputs": [],
   "source": [
    "from sklearn.cluster import KMeans"
   ]
  },
  {
   "cell_type": "code",
   "execution_count": null,
   "metadata": {},
   "outputs": [
    {
     "name": "stderr",
     "output_type": "stream",
     "text": [
      "c:\\tools\\miniconda3\\envs\\scrapper-env\\lib\\site-packages\\sklearn\\cluster\\_kmeans.py:1334: UserWarning: KMeans is known to have a memory leak on Windows with MKL, when there are less chunks than available threads. You can avoid it by setting the environment variable OMP_NUM_THREADS=4.\n",
      "  warnings.warn(\n"
     ]
    },
    {
     "data": {
      "text/html": [
       "<style>#sk-container-id-1 {color: black;background-color: white;}#sk-container-id-1 pre{padding: 0;}#sk-container-id-1 div.sk-toggleable {background-color: white;}#sk-container-id-1 label.sk-toggleable__label {cursor: pointer;display: block;width: 100%;margin-bottom: 0;padding: 0.3em;box-sizing: border-box;text-align: center;}#sk-container-id-1 label.sk-toggleable__label-arrow:before {content: \"▸\";float: left;margin-right: 0.25em;color: #696969;}#sk-container-id-1 label.sk-toggleable__label-arrow:hover:before {color: black;}#sk-container-id-1 div.sk-estimator:hover label.sk-toggleable__label-arrow:before {color: black;}#sk-container-id-1 div.sk-toggleable__content {max-height: 0;max-width: 0;overflow: hidden;text-align: left;background-color: #f0f8ff;}#sk-container-id-1 div.sk-toggleable__content pre {margin: 0.2em;color: black;border-radius: 0.25em;background-color: #f0f8ff;}#sk-container-id-1 input.sk-toggleable__control:checked~div.sk-toggleable__content {max-height: 200px;max-width: 100%;overflow: auto;}#sk-container-id-1 input.sk-toggleable__control:checked~label.sk-toggleable__label-arrow:before {content: \"▾\";}#sk-container-id-1 div.sk-estimator input.sk-toggleable__control:checked~label.sk-toggleable__label {background-color: #d4ebff;}#sk-container-id-1 div.sk-label input.sk-toggleable__control:checked~label.sk-toggleable__label {background-color: #d4ebff;}#sk-container-id-1 input.sk-hidden--visually {border: 0;clip: rect(1px 1px 1px 1px);clip: rect(1px, 1px, 1px, 1px);height: 1px;margin: -1px;overflow: hidden;padding: 0;position: absolute;width: 1px;}#sk-container-id-1 div.sk-estimator {font-family: monospace;background-color: #f0f8ff;border: 1px dotted black;border-radius: 0.25em;box-sizing: border-box;margin-bottom: 0.5em;}#sk-container-id-1 div.sk-estimator:hover {background-color: #d4ebff;}#sk-container-id-1 div.sk-parallel-item::after {content: \"\";width: 100%;border-bottom: 1px solid gray;flex-grow: 1;}#sk-container-id-1 div.sk-label:hover label.sk-toggleable__label {background-color: #d4ebff;}#sk-container-id-1 div.sk-serial::before {content: \"\";position: absolute;border-left: 1px solid gray;box-sizing: border-box;top: 0;bottom: 0;left: 50%;z-index: 0;}#sk-container-id-1 div.sk-serial {display: flex;flex-direction: column;align-items: center;background-color: white;padding-right: 0.2em;padding-left: 0.2em;position: relative;}#sk-container-id-1 div.sk-item {position: relative;z-index: 1;}#sk-container-id-1 div.sk-parallel {display: flex;align-items: stretch;justify-content: center;background-color: white;position: relative;}#sk-container-id-1 div.sk-item::before, #sk-container-id-1 div.sk-parallel-item::before {content: \"\";position: absolute;border-left: 1px solid gray;box-sizing: border-box;top: 0;bottom: 0;left: 50%;z-index: -1;}#sk-container-id-1 div.sk-parallel-item {display: flex;flex-direction: column;z-index: 1;position: relative;background-color: white;}#sk-container-id-1 div.sk-parallel-item:first-child::after {align-self: flex-end;width: 50%;}#sk-container-id-1 div.sk-parallel-item:last-child::after {align-self: flex-start;width: 50%;}#sk-container-id-1 div.sk-parallel-item:only-child::after {width: 0;}#sk-container-id-1 div.sk-dashed-wrapped {border: 1px dashed gray;margin: 0 0.4em 0.5em 0.4em;box-sizing: border-box;padding-bottom: 0.4em;background-color: white;}#sk-container-id-1 div.sk-label label {font-family: monospace;font-weight: bold;display: inline-block;line-height: 1.2em;}#sk-container-id-1 div.sk-label-container {text-align: center;}#sk-container-id-1 div.sk-container {/* jupyter's `normalize.less` sets `[hidden] { display: none; }` but bootstrap.min.css set `[hidden] { display: none !important; }` so we also need the `!important` here to be able to override the default hidden behavior on the sphinx rendered scikit-learn.org. See: https://github.com/scikit-learn/scikit-learn/issues/21755 */display: inline-block !important;position: relative;}#sk-container-id-1 div.sk-text-repr-fallback {display: none;}</style><div id=\"sk-container-id-1\" class=\"sk-top-container\"><div class=\"sk-text-repr-fallback\"><pre>KMeans(n_clusters=5)</pre><b>In a Jupyter environment, please rerun this cell to show the HTML representation or trust the notebook. <br />On GitHub, the HTML representation is unable to render, please try loading this page with nbviewer.org.</b></div><div class=\"sk-container\" hidden><div class=\"sk-item\"><div class=\"sk-estimator sk-toggleable\"><input class=\"sk-toggleable__control sk-hidden--visually\" id=\"sk-estimator-id-1\" type=\"checkbox\" checked><label for=\"sk-estimator-id-1\" class=\"sk-toggleable__label sk-toggleable__label-arrow\">KMeans</label><div class=\"sk-toggleable__content\"><pre>KMeans(n_clusters=5)</pre></div></div></div></div></div>"
      ],
      "text/plain": [
       "KMeans(n_clusters=5)"
      ]
     },
     "execution_count": 72,
     "metadata": {},
     "output_type": "execute_result"
    }
   ],
   "source": [
    "clustering_model = KMeans(n_clusters=5)\n",
    "\n",
    "clustering_model.fit(X_train)"
   ]
  },
  {
   "cell_type": "code",
   "execution_count": null,
   "metadata": {},
   "outputs": [],
   "source": [
    "labels = clustering_model.predict(X_train)"
   ]
  },
  {
   "cell_type": "code",
   "execution_count": null,
   "metadata": {},
   "outputs": [],
   "source": [
    "import matplotlib.pyplot as plt"
   ]
  },
  {
   "cell_type": "code",
   "execution_count": null,
   "metadata": {},
   "outputs": [
    {
     "data": {
      "text/plain": [
       "(array([ 73.,   0., 140.,   0.,   0., 262.,   0.,  73.,   0., 308.]),\n",
       " array([0. , 0.4, 0.8, 1.2, 1.6, 2. , 2.4, 2.8, 3.2, 3.6, 4. ]),\n",
       " <BarContainer object of 10 artists>)"
      ]
     },
     "execution_count": 75,
     "metadata": {},
     "output_type": "execute_result"
    },
    {
     "data": {
      "image/png": "[encoded data removed]",
      "text/plain": [
       "<Figure size 432x288 with 1 Axes>"
      ]
     },
     "metadata": {
      "needs_background": "light"
     },
     "output_type": "display_data"
    }
   ],
   "source": [
    "# We appear to have a good spread , lets inspect the outcome\n",
    "plt.hist(labels)"
   ]
  },
  {
   "cell_type": "code",
   "execution_count": null,
   "metadata": {},
   "outputs": [
    {
     "data": {
      "text/plain": [
       "856"
      ]
     },
     "execution_count": 76,
     "metadata": {},
     "output_type": "execute_result"
    }
   ],
   "source": [
    "len(dataset_tokenized['headers'])"
   ]
  },
  {
   "cell_type": "code",
   "execution_count": null,
   "metadata": {},
   "outputs": [
    {
     "data": {
      "text/plain": [
       "856"
      ]
     },
     "execution_count": 77,
     "metadata": {},
     "output_type": "execute_result"
    }
   ],
   "source": [
    "len(labels)"
   ]
  },
  {
   "cell_type": "code",
   "execution_count": null,
   "metadata": {},
   "outputs": [
    {
     "data": {
      "text/plain": [
       "[('Qualifications', 2),\n",
       " ('Responsibilities', 2),\n",
       " ('Preferred Qualifications', 2),\n",
       " ('Requirements', 2),\n",
       " ('Our Ideal Candidate', 4),\n",
       " ('Job Requirements', 2),\n",
       " ('unorganised_jd', 1),\n",
       " ('Responsibilities:', 2),\n",
       " ('Job Description', 1),\n",
       " ('Qualifications:', 2),\n",
       " ('Key Responsibilities', 2),\n",
       " ('Key Stakeholders', 4),\n",
       " ('Minimum Qualifications', 2),\n",
       " ('Job Responsibilities', 2),\n",
       " ('Risk Management', 1),\n",
       " ('Strategy', 4),\n",
       " ('Business', 4),\n",
       " ('The Role Responsibilities', 4),\n",
       " ('Processes', 1),\n",
       " ('no_header_JD', 4),\n",
       " ('Job Requirements:', 2),\n",
       " ('Role Specific Technical Competencies', 2),\n",
       " ('Regulatory & Business Conduct', 2),\n",
       " ('Other Responsibilities', 2),\n",
       " ('About The Team', 4),\n",
       " ('About the team', 4),\n",
       " (\"What You'll Do\", 4),\n",
       " ('Preferred Qualifications:', 2),\n",
       " ('Why Join Us', 4),\n",
       " ('Key Responsibilities:', 2),\n",
       " ('Role Responsibilities', 2),\n",
       " ('Requirements:', 2),\n",
       " ('The above eligibility criteria are not exhaustive. A*STAR may include additional selection criteria based on its prevailing recruitment policies. These policies may be amended from time to time without notice. We regret that only shortlisted candidates will be notified.',\n",
       "  0),\n",
       " ('Regulatory & Business conduct', 2),\n",
       " ('Internal', 4),\n",
       " ('Role Specific Technical Competencies ', 2),\n",
       " ('Role Specific Technical Competencies\\xa0', 2),\n",
       " ('Governance', 2),\n",
       " ('mix_jd_requirements', 1),\n",
       " (\"What You'll Do:\", 4),\n",
       " ('About the Team', 4),\n",
       " ('Preferred Qualification', 4),\n",
       " ('Education', 2),\n",
       " ('Risk Management:', 1),\n",
       " ('Governance:', 2),\n",
       " ('Regulatory & Business Conduct:', 2),\n",
       " ('Key Stakeholders:', 2),\n",
       " ('Job Description:', 2),\n",
       " ('The E-Commerce Risk Control (ECRC) team is missioned:', 3),\n",
       " ('Technical', 4)]"
      ]
     },
     "execution_count": 78,
     "metadata": {},
     "output_type": "execute_result"
    }
   ],
   "source": [
    "# Clustering based just on the headers may not be effective as the content may not matche with the header\n",
    "list(zip(dataset_tokenized['headers'], labels))[:50]"
   ]
  },
  {
   "cell_type": "markdown",
   "metadata": {},
   "source": [
    "#### Manual Mapping"
   ]
  },
  {
   "cell_type": "markdown",
   "metadata": {},
   "source": [
    "- Eliminate headers with no values : I.e Sentences in bold but contain no lists or contains text but no bullet points\n",
    "- Remove punctuations to get rid of `Job Requirements:` vs `Job Requirements`\n",
    "- Rename, combine headers to appropriate ones \n",
    "\n",
    "End result: we want to have 2 core headers with Job requirements (requirements from the candidate, qualficiations, and Job Responsibilities or Description (JD, or whatever that is demanded from the candidates)"
   ]
  },
  {
   "cell_type": "code",
   "execution_count": null,
   "metadata": {},
   "outputs": [],
   "source": [
    "jd_headers_list = ['description','responsibilities','responsibility','scope','purpose',\\\n",
    "    'role','expect','do','accountabilities','activity','work']\n",
    "jd_secondary_headers_list = ['',' ',':','\\xa0']\n",
    "jr_headers_list = ['requirement','skill', 'qualification','attributes','succeed','possess','experience','prefer','education',\\\n",
    "    'certification','mandatory','essential','looking','candidate','expertise','competenc','profile']"
   ]
  },
  {
   "cell_type": "code",
   "execution_count": null,
   "metadata": {},
   "outputs": [],
   "source": [
    "import copy\n",
    "\n",
    "TOTAL_JOB_RAW_DATA_COPY = copy.deepcopy(TOTAL_JOB_RAW_DATA)"
   ]
  },
  {
   "cell_type": "code",
   "execution_count": null,
   "metadata": {},
   "outputs": [],
   "source": [
    "data_copy = copy.deepcopy(data)"
   ]
  },
  {
   "cell_type": "code",
   "execution_count": null,
   "metadata": {},
   "outputs": [
    {
     "data": {
      "text/plain": [
       "{'Responsibilities': 'Responsible for development of NLP technologies in our products.Participate in and support the incubation of new NLP technologies.Participate in research on NLP technologies.',\n",
       " 'Qualifications': \"Bachelor's degree or above, majoring in Computer Science, or related fields.Rich experiences and strong skills in development of technologies in some of the following areas,.Natural language understanding.Natural language generation.Knowledge and reasoning.Recommendation and search.Reinforcement learning.Deep learning and representation learning.Machine Translation.Strong analytical and problem-solving skills..Strong computer science and coding skills (e.g. Python/Java/Go/C/C++);.Work and collaborate well with team members;.Senior candidates have the ability to organize and lead teams and projects..\"}"
      ]
     },
     "execution_count": 82,
     "metadata": {},
     "output_type": "execute_result"
    }
   ],
   "source": [
    "TOTAL_JOB_RAW_DATA_COPY[12][3]"
   ]
  },
  {
   "cell_type": "code",
   "execution_count": null,
   "metadata": {},
   "outputs": [],
   "source": [
    "for row_idx, row in enumerate(TOTAL_JOB_RAW_DATA_COPY):\n",
    "    jd = []\n",
    "    jr = []\n",
    "    others = []\n",
    "    header_list = row[3].keys()\n",
    "    for header_idx, header in enumerate(header_list):\n",
    "        # print(header)\n",
    "        # print(row[3][header])\n",
    "        # sometimes something can happen to the first header and get attributed to nothing for example:\n",
    "        if (header_idx==0) and (header in jd_secondary_headers_list):\n",
    "            jd.append(row[3][header])\n",
    "        elif any(sample in header.lower() for sample in jd_headers_list):\n",
    "            jd.append(row[3][header])\n",
    "        elif any(sample in header.lower() for sample in jr_headers_list):\n",
    "            jr.append(row[3][header])\n",
    "        else:\n",
    "            others.append([header, row[3][header]])\n",
    "    #print({'jd':jd,'jr':jr,'others':others})\n",
    "    TOTAL_JOB_RAW_DATA_COPY[row_idx][3] = {'jd':jd,'jr':jr,'others':others}\n",
    "\n",
    "        "
   ]
  },
  {
   "cell_type": "code",
   "execution_count": null,
   "metadata": {},
   "outputs": [
    {
     "ename": "KeyError",
     "evalue": "'job_title'",
     "output_type": "error",
     "traceback": [
      "\u001b[1;31m---------------------------------------------------------------------------\u001b[0m",
      "\u001b[1;31mKeyError\u001b[0m                                  Traceback (most recent call last)",
      "\u001b[1;32mc:\\Users\\Randy\\GitHub\\Webscrape\\JobStreet\\eda.ipynb Cell 101\u001b[0m in \u001b[0;36m<cell line: 1>\u001b[1;34m()\u001b[0m\n\u001b[1;32m----> <a href='vscode-notebook-cell:/c%3A/Users/Randy/GitHub/Webscrape/JobStreet/eda.ipynb#Y202sZmlsZQ%3D%3D?line=0'>1</a>\u001b[0m \u001b[39mlen\u001b[39m(data[\u001b[39m'\u001b[39;49m\u001b[39mjob_title\u001b[39;49m\u001b[39m'\u001b[39;49m])\n",
      "\u001b[1;31mKeyError\u001b[0m: 'job_title'"
     ]
    }
   ],
   "source": [
    "len(data['job_title'])"
   ]
  },
  {
   "cell_type": "code",
   "execution_count": null,
   "metadata": {},
   "outputs": [],
   "source": [
    "TOTAL_JOB_RAW_DATA[155][3]"
   ]
  },
  {
   "cell_type": "code",
   "execution_count": null,
   "metadata": {},
   "outputs": [],
   "source": [
    "TOTAL_JOB_RAW_DATA_COPY[155][3]"
   ]
  },
  {
   "cell_type": "code",
   "execution_count": null,
   "metadata": {},
   "outputs": [],
   "source": [
    "other_section = {}\n",
    "for row_idx, row in enumerate(TOTAL_JOB_RAW_DATA_COPY):\n",
    "    header_list = row[3]\n",
    "    others = header_list['others']\n",
    "    if len(others)!=0:\n",
    "        other_section[row_idx] = others"
   ]
  },
  {
   "cell_type": "code",
   "execution_count": null,
   "metadata": {},
   "outputs": [],
   "source": [
    "other_section"
   ]
  },
  {
   "cell_type": "code",
   "execution_count": null,
   "metadata": {},
   "outputs": [],
   "source": [
    "# now to add them and derive the final pandas dataframe"
   ]
  },
  {
   "cell_type": "code",
   "execution_count": null,
   "metadata": {},
   "outputs": [],
   "source": [
    "TOTAL_JOB_RAW_DATA_COPY[0][3]['jd'][0]"
   ]
  },
  {
   "cell_type": "code",
   "execution_count": null,
   "metadata": {},
   "outputs": [],
   "source": [
    "jd_list = []\n",
    "jr_list = []\n",
    "others_list = []\n",
    "\n",
    "for row_idx, row in enumerate(TOTAL_JOB_RAW_DATA_COPY):\n",
    "    free_format_section = row[3]\n",
    "    if len(free_format_section['jd']) >0 :\n",
    "        jd_list.append(free_format_section['jd'][0])\n",
    "    else:\n",
    "        jd_list.append(\"None\")\n",
    "    if len(free_format_section['jr']) >0 :\n",
    "        jr_list.append(free_format_section['jr'][0])\n",
    "    else:\n",
    "        jr_list.append(\"None\")\n",
    "    if len(free_format_section['others']) >0 :\n",
    "        others_list.append(free_format_section['others'])\n",
    "    else:\n",
    "        others_list.append(\"None\")\n",
    "\n",
    "assert (len(jd_list)==len(jr_list)==len(others_list))"
   ]
  },
  {
   "cell_type": "code",
   "execution_count": null,
   "metadata": {},
   "outputs": [],
   "source": [
    "data.update({'job_description':jd_list,'job_requirements':jr_list,'others':others_list})"
   ]
  },
  {
   "cell_type": "code",
   "execution_count": null,
   "metadata": {},
   "outputs": [],
   "source": [
    "for key in data.keys():\n",
    "    print(f\"Length of {key} : {len(data[key])}\")"
   ]
  },
  {
   "cell_type": "code",
   "execution_count": null,
   "metadata": {},
   "outputs": [],
   "source": [
    "data_pd = pd.DataFrame.from_dict(data)"
   ]
  },
  {
   "cell_type": "code",
   "execution_count": null,
   "metadata": {},
   "outputs": [],
   "source": [
    "data_pd.info()"
   ]
  },
  {
   "cell_type": "code",
   "execution_count": null,
   "metadata": {},
   "outputs": [],
   "source": [
    "# We can see that the scrape and preprocessing is not perfect, there are some with incomplete information\n",
    "# Furthermore we still need to clean up the Job title, job description and job requirements\n",
    "data_pd.sample(15,random_state=RANDOM_STATE)"
   ]
  },
  {
   "cell_type": "markdown",
   "metadata": {},
   "source": [
    "# EDA"
   ]
  },
  {
   "cell_type": "code",
   "execution_count": null,
   "metadata": {},
   "outputs": [],
   "source": [
    "# Remove duplicates by checking against the position name and the company\n",
    "\n",
    "data_pd_no_dup = data_pd.drop_duplicates(subset=['job_title','company_name'])"
   ]
  },
  {
   "cell_type": "code",
   "execution_count": null,
   "metadata": {},
   "outputs": [],
   "source": [
    "# We have 1151 entries remaining\n",
    "data_pd_no_dup.info()"
   ]
  },
  {
   "cell_type": "code",
   "execution_count": null,
   "metadata": {},
   "outputs": [],
   "source": [
    "data_pd_no_dup.info()"
   ]
  },
  {
   "cell_type": "code",
   "execution_count": null,
   "metadata": {},
   "outputs": [],
   "source": [
    "# Let's discover what are the entries with complete information \n",
    "\n",
    "complete_salary_condition = (data_pd_no_dup.loc[:,'low_salary']!=\"unspecified\") & (data_pd_no_dup.loc[:,'high_salary']!=\"unspecified\")\n",
    "complete_jd_jr_condition = (data_pd_no_dup.loc[:,'job_description']!=\"None\") & (data_pd_no_dup.loc[:,'job_requirements']!=\"None\")\n",
    "\n",
    "print(f\"With complete salary condition : {len(data_pd_no_dup[complete_salary_condition])}\")\n",
    "print(f\"With complete jd and jr : {len(data_pd_no_dup[complete_jd_jr_condition])}\")\n",
    "print(f\"With complete information condition : {len(data_pd_no_dup[complete_salary_condition & complete_jd_jr_condition])}\")"
   ]
  },
  {
   "cell_type": "markdown",
   "metadata": {},
   "source": [
    "Out of the initial 1436, we have \n"
   ]
  },
  {
   "cell_type": "code",
   "execution_count": null,
   "metadata": {},
   "outputs": [],
   "source": [
    "pd.DataFrame.from_dict({'Duplicates':1436-1151,'Complete Information':70,'Incomplete Information':1151-70}, orient='index')\\\n",
    "    .rename(columns={0:\"Count\"})\\\n",
    "        .plot(kind='pie', y='Count', figsize=(10,10), title=\"Composition of the DataSet\")\n",
    "plt.legend(loc='upper left')"
   ]
  },
  {
   "cell_type": "code",
   "execution_count": null,
   "metadata": {},
   "outputs": [],
   "source": [
    "complete_data_pd = data_pd_no_dup[complete_salary_condition & complete_jd_jr_condition]"
   ]
  },
  {
   "cell_type": "code",
   "execution_count": null,
   "metadata": {},
   "outputs": [],
   "source": [
    "complete_data_pd.head()"
   ]
  },
  {
   "cell_type": "code",
   "execution_count": null,
   "metadata": {},
   "outputs": [],
   "source": [
    "complete_data_pd.info()"
   ]
  },
  {
   "cell_type": "code",
   "execution_count": null,
   "metadata": {},
   "outputs": [],
   "source": [
    "complete_data_pd['low_salary'] = complete_data_pd['low_salary'].str.replace(\",\",\"\")\n",
    "complete_data_pd['low_salary'] = complete_data_pd['low_salary'].astype('int')"
   ]
  },
  {
   "cell_type": "code",
   "execution_count": null,
   "metadata": {},
   "outputs": [],
   "source": [
    "complete_data_pd['high_salary'] = complete_data_pd['high_salary'].str.replace(\",\",\"\")\n",
    "complete_data_pd['high_salary'] = complete_data_pd['high_salary'].astype('int')"
   ]
  },
  {
   "cell_type": "markdown",
   "metadata": {},
   "source": [
    "## Salary"
   ]
  },
  {
   "cell_type": "code",
   "execution_count": null,
   "metadata": {},
   "outputs": [],
   "source": [
    "# which job pays the most\n",
    "# Does the salary commensurate with the experience? What does the salary scale with?"
   ]
  },
  {
   "cell_type": "code",
   "execution_count": null,
   "metadata": {},
   "outputs": [],
   "source": [
    "complete_data_pd.columns"
   ]
  },
  {
   "cell_type": "code",
   "execution_count": null,
   "metadata": {},
   "outputs": [],
   "source": [
    "# Lets see if I am able to compress salary into a single feature instead of two\n",
    "complete_data_pd.low_salary.median()"
   ]
  },
  {
   "cell_type": "code",
   "execution_count": null,
   "metadata": {},
   "outputs": [],
   "source": [
    "complete_data_pd.high_salary.median()"
   ]
  },
  {
   "cell_type": "code",
   "execution_count": null,
   "metadata": {},
   "outputs": [],
   "source": [
    "complete_data_pd.describe().T"
   ]
  },
  {
   "cell_type": "code",
   "execution_count": null,
   "metadata": {},
   "outputs": [],
   "source": [
    "import seaborn as sns"
   ]
  },
  {
   "cell_type": "code",
   "execution_count": null,
   "metadata": {},
   "outputs": [],
   "source": [
    "sns.boxplot(data=complete_data_pd)"
   ]
  },
  {
   "cell_type": "code",
   "execution_count": null,
   "metadata": {},
   "outputs": [],
   "source": [
    "# Correlation is very high which is to be expected\n",
    "complete_data_pd.low_salary.corr(complete_data_pd.high_salary)"
   ]
  },
  {
   "cell_type": "code",
   "execution_count": null,
   "metadata": {},
   "outputs": [],
   "source": [
    "# We see that the difference between both is mostly SGD1750\n",
    "(complete_data_pd.high_salary - complete_data_pd.low_salary).describe()"
   ]
  },
  {
   "cell_type": "code",
   "execution_count": null,
   "metadata": {},
   "outputs": [],
   "source": [
    "# See if salary is correlated with career_level so we can take it as a proxy\n",
    "\n",
    "# Going by this list of values,\n",
    "data_pd.career_level.unique()"
   ]
  },
  {
   "cell_type": "code",
   "execution_count": null,
   "metadata": {},
   "outputs": [],
   "source": [
    "complete_data_pd.groupby(['career_level']).median().plot(kind='bar', figsize=(10,10), title= 'Does the career level tell you anything about the Salary?', grid= True)"
   ]
  },
  {
   "cell_type": "markdown",
   "metadata": {},
   "source": [
    "I do not think there is a guideline behind the listings since job posting can contain pretty much anything, even more so for job applications on job street where salary is optional. However from what we can gleam from this set of 70 results are that the lower end of the salary appears to be more aligned with our expectations with the career level.\n",
    "\n",
    "Everything falls neatly in place except for Non-executive and senior executive. I am expecting for non-executive to be between entry level and junior executive but the band appears to be higher than the senior executive which is odd. Then again it is possible for very large companies like tik-tok to completely skew the salaries since they have very high salaries even for starting positions which can be labelled as junior executive but the pay is comparable to a small sme's senior executive for example."
   ]
  },
  {
   "cell_type": "code",
   "execution_count": null,
   "metadata": {},
   "outputs": [],
   "source": [
    "# The first entry is wrong since the actual listing's salary is different\n",
    "complete_data_pd[complete_data_pd['career_level'] == 'Entry Level'].sample(3, random_state=RANDOM_STATE)"
   ]
  },
  {
   "cell_type": "code",
   "execution_count": null,
   "metadata": {},
   "outputs": [],
   "source": [
    "# A non-executive role with a lead as a job title\n",
    "complete_data_pd[complete_data_pd['career_level'] == 'Non-Executive'].sample(3, random_state=RANDOM_STATE)"
   ]
  },
  {
   "cell_type": "code",
   "execution_count": null,
   "metadata": {},
   "outputs": [],
   "source": [
    "# Apparently these are the companies that pay higher than average. However it is clear this is not the case if one does a search in job sites where salary information is mandatory\n",
    "high_salary_condition = (complete_data_pd['low_salary'] >= complete_data_pd['low_salary'].mean()) & (complete_data_pd['high_salary'] >= complete_data_pd['high_salary'].mean())\n",
    "complete_data_pd[high_salary_condition]['company_name']"
   ]
  }
 ],
 "metadata": {
  "kernelspec": {
   "display_name": "scrapper-env",
   "language": "python",
   "name": "python3"
  },
  "language_info": {
   "codemirror_mode": {
    "name": "ipython",
    "version": 3
   },
   "file_extension": ".py",
   "mimetype": "text/x-python",
   "name": "python",
   "nbconvert_exporter": "python",
   "pygments_lexer": "ipython3",
   "version": "3.9.9"
  },
  "orig_nbformat": 4,
  "vscode": {
   "interpreter": {
    "hash": "b34c52670fd8827644effee9ddbd65bd53a60ff2ff6feec79adb6c0de3687b28"
   }
  }
 },
 "nbformat": 4,
 "nbformat_minor": 2
}
