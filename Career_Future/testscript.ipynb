{
 "cells": [
  {
   "cell_type": "code",
   "execution_count": 7,
   "metadata": {},
   "outputs": [],
   "source": [
    "from selenium import webdriver\n",
    "from selenium.webdriver.chrome.service import Service as ChromeService\n",
    "from webdriver_manager.chrome import ChromeDriverManager\n",
    "from selenium.webdriver.common.by import By"
   ]
  },
  {
   "cell_type": "code",
   "execution_count": 12,
   "metadata": {},
   "outputs": [],
   "source": [
    "def test_eight_components():\n",
    "    driver = webdriver.Chrome(service=ChromeService(ChromeDriverManager().install()))\n",
    "\n",
    "    driver.get(\"https://www.selenium.dev/selenium/web/web-form.html\")\n",
    "\n",
    "    title = driver.title\n",
    "    assert title == \"Web form\"\n",
    "\n",
    "    driver.implicitly_wait(0.5)\n",
    "\n",
    "    text_box = driver.find_element(by=By.NAME, value=\"my-text\")\n",
    "    submit_button = driver.find_element(by=By.CSS_SELECTOR, value=\"button\")\n",
    "\n",
    "    text_box.send_keys(\"Selenium\")\n",
    "    submit_button.click()\n",
    "\n",
    "    message = driver.find_element(by=By.ID, value=\"message\")\n",
    "    value = message.text\n",
    "    assert value == \"Received!\"\n",
    "\n",
    "    driver.quit()"
   ]
  },
  {
   "cell_type": "code",
   "execution_count": 15,
   "metadata": {},
   "outputs": [],
   "source": [
    "url = \"https://www.mycareersfuture.gov.sg/\""
   ]
  },
  {
   "cell_type": "code",
   "execution_count": 18,
   "metadata": {},
   "outputs": [],
   "source": [
    "search_term = \"analyst\"\n",
    "url_search_term = url + f\"search?search={search_term}&sortBy=relevancy&page=0\""
   ]
  },
  {
   "cell_type": "code",
   "execution_count": 19,
   "metadata": {},
   "outputs": [
    {
     "data": {
      "text/plain": [
       "'https://www.mycareersfuture.gov.sg/search?search=analyst&sortBy=relevancy&page=0'"
      ]
     },
     "execution_count": 19,
     "metadata": {},
     "output_type": "execute_result"
    }
   ],
   "source": [
    "url_search_term"
   ]
  },
  {
   "cell_type": "code",
   "execution_count": 21,
   "metadata": {},
   "outputs": [],
   "source": [
    "driver = webdriver.Chrome(service=ChromeService(ChromeDriverManager().install()))\n",
    "\n",
    "driver.get(url_search_term)"
   ]
  },
  {
   "cell_type": "code",
   "execution_count": null,
   "metadata": {},
   "outputs": [],
   "source": [
    "# Need to fetch all of the links in the card-list"
   ]
  },
  {
   "cell_type": "code",
   "execution_count": 77,
   "metadata": {},
   "outputs": [],
   "source": [
    "test_links = driver.find_elements(by=By.TAG_NAME, value=\"a\")"
   ]
  },
  {
   "cell_type": "code",
   "execution_count": 97,
   "metadata": {},
   "outputs": [],
   "source": [
    "links = []\n",
    "\n",
    "for link in test_links:\n",
    "    if link.get_attribute('href'):\n",
    "        if 'job' in link.get_attribute('href'):\n",
    "            links.append(link.get_attribute('href'))"
   ]
  },
  {
   "cell_type": "code",
   "execution_count": 98,
   "metadata": {},
   "outputs": [
    {
     "data": {
      "text/plain": [
       "['https://www.mycareersfuture.gov.sg/job/banking-finance/analyst-brookfield-singapore-95c4bd5987abcc5a0a4fdcf699b641d2?source=MCF&event=Search',\n",
       " 'https://www.mycareersfuture.gov.sg/job/banking-finance/analyst-polymer-capital-singapore-ac84eceba7fd514a89b1639e8c3be4cc?source=MCF&event=Search',\n",
       " 'https://www.mycareersfuture.gov.sg/job/accounting/analyst-kordamentha-72a7383a731b8eaa993f9645f46ae0ac?source=MCF&event=SuggestedJob',\n",
       " 'https://www.mycareersfuture.gov.sg/job/banking-finance/business-analyst-rapsys-technologies-a85f3d76a3a9fbbd4ff911af99d4d081?source=MCF&event=Search',\n",
       " 'https://www.mycareersfuture.gov.sg/job/banking-finance/business-analyst-spark-systems-46549e3bdd8f255f6f75bbfcbe03b8e6?source=MCF&event=Search',\n",
       " 'https://www.mycareersfuture.gov.sg/job/information-technology/business-analyst-apar-technologies-6a8f9645f39db8a1e3447a84ad035495?source=MCF&event=Search',\n",
       " 'https://www.mycareersfuture.gov.sg/job/banking-finance/business-analyst-nicoll-curtin-technology-df4fdf2b951da4275a24fae5cfe5acd8?source=MCF&event=Search',\n",
       " 'https://www.mycareersfuture.gov.sg/job/banking-finance/business-analyst-nicoll-curtin-technology-8108b984a6d69c04d685e749a5aa440d?source=MCF&event=Search',\n",
       " 'https://www.mycareersfuture.gov.sg/job/banking-finance/business-analyst-nicoll-curtin-technology-ee0d680855016aa3a855f3af638e8de0?source=MCF&event=Search',\n",
       " 'https://www.mycareersfuture.gov.sg/job/information-technology/senior-business-analyst-matrix-process-automation-1d5ff0baa50b101b739e3f5f0f056106?source=MCF&event=Search',\n",
       " 'https://www.mycareersfuture.gov.sg/job/information-technology/sap-analyst-fcs-careers-9ae024bba627f64c551e13824f164ebf?source=MCF&event=Search',\n",
       " 'https://www.mycareersfuture.gov.sg/job/banking-finance/functional-business-analyst-shell-infotech-034b511de2a840b184b13afd4cf20f56?source=MCF&event=Search',\n",
       " 'https://www.mycareersfuture.gov.sg/job/others/associate-research-fellow-senior-analyst-research-analyst-nanyang-technological-university-c504ad7573f06b0ee685f606d680f071?source=MCF&event=Search',\n",
       " 'https://www.mycareersfuture.gov.sg/job/information-technology/business-analyst-shield-ai-technologies-18ab2d37e6ab9e7640f062661a0f6743?source=MCF&event=SuggestedJob',\n",
       " 'https://www.mycareersfuture.gov.sg/job/information-technology/system-analyst-randstad-2c2aa3f068ebffe61d7bb10564e156ff?source=MCF&event=Search',\n",
       " 'https://www.mycareersfuture.gov.sg/job/sciences/bilingual-mandarin-analyst-costello-medical-singapore-5404cb507d090c1ce585b80fd7a44a56?source=MCF&event=Search',\n",
       " 'https://www.mycareersfuture.gov.sg/job/banking-finance/macro-rates-analyst-randstad-80ea07986cf56291f95a99290a296f8b?source=MCF&event=Search',\n",
       " 'https://www.mycareersfuture.gov.sg/job/banking-finance/sme-credit-analyst-paradigm-recruitment-d8694bf7ced221fb2126e1b773abce5d?source=MCF&event=Search',\n",
       " 'https://www.mycareersfuture.gov.sg/job/information-technology/data-migration-test-analyst-lma-recruitment-singapore-05090676aadaecd602c2788f66e33662?source=MCF&event=Search',\n",
       " 'https://www.mycareersfuture.gov.sg/job/information-technology/telephony-network-analyst-starwood-customer-contact-centre-b7776d625556e3a3a7eabbd1241b4170?source=MCF&event=Search',\n",
       " 'https://www.mycareersfuture.gov.sg/job/banking-finance/analyst-portcullis-investment-office-55458a673826a70fba1904404475b2a4?source=MCF&event=Search',\n",
       " 'https://www.mycareersfuture.gov.sg/job/consulting/analyst-aadvantage-consulting-group-82a5c5fe36972e23315652adf264c641?source=MCF&event=Search']"
      ]
     },
     "execution_count": 98,
     "metadata": {},
     "output_type": "execute_result"
    }
   ],
   "source": [
    "links"
   ]
  },
  {
   "cell_type": "code",
   "execution_count": null,
   "metadata": {},
   "outputs": [],
   "source": [
    "# Inside an individual page"
   ]
  },
  {
   "cell_type": "code",
   "execution_count": 99,
   "metadata": {},
   "outputs": [],
   "source": [
    "driver.get(links[0])"
   ]
  },
  {
   "cell_type": "code",
   "execution_count": 100,
   "metadata": {},
   "outputs": [],
   "source": [
    "job_details = {}"
   ]
  },
  {
   "cell_type": "code",
   "execution_count": 117,
   "metadata": {},
   "outputs": [],
   "source": [
    "company = driver.find_element(by=By.XPATH, value=\"//div[@data-cy='JobDetails__job-info']//p[@data-cy='company-hire-info__company']\")\n",
    "position = driver.find_element(by=By.XPATH, value=\"//div[@data-cy='JobDetails__job-info']//h1[@id='job_title']\")\n",
    "address = driver.find_element(by=By.XPATH, value=\"//div[@data-cy='JobDetails__job-info']//p[@id='address']\")\n",
    "employment_type = driver.find_element(by=By.XPATH, value=\"//div[@data-cy='JobDetails__job-info']//p[@id='employment_type']\")\n",
    "seniority = driver.find_element(by=By.XPATH, value=\"//div[@data-cy='JobDetails__job-info']//p[@id='seniority']\")\n",
    "min_experience = driver.find_element(by=By.XPATH, value=\"//div[@data-cy='JobDetails__job-info']//p[@id='min_experience']\")\n",
    "job_category = driver.find_element(by=By.XPATH, value=\"//div[@data-cy='JobDetails__job-info']//p[@id='job-categories']\")\n",
    "salary = driver.find_element(by=By.XPATH, value=\"//div[@data-cy='JobDetails__job-info']//span[@data-cy='salary-range']\")\n",
    "num_applications = driver.find_element(by=By.XPATH, value=\"//div[@data-cy='JobDetails__job-info']//span[@id='num_of_applications']\")\n",
    "last_posted_date = driver.find_element(by=By.XPATH, value=\"//div[@data-cy='JobDetails__job-info']//span[@id='last_posted_date']\")\n",
    "expiry_date = driver.find_element(by=By.XPATH, value=\"//div[@data-cy='JobDetails__job-info']//span[@id='expiry_date']\")"
   ]
  },
  {
   "cell_type": "code",
   "execution_count": 115,
   "metadata": {},
   "outputs": [
    {
     "data": {
      "text/plain": [
       "'BROOKFIELD SINGAPORE PTE. LTD.'"
      ]
     },
     "execution_count": 115,
     "metadata": {},
     "output_type": "execute_result"
    }
   ],
   "source": [
    "company.text"
   ]
  },
  {
   "cell_type": "code",
   "execution_count": 116,
   "metadata": {},
   "outputs": [
    {
     "data": {
      "text/plain": [
       "'Analyst'"
      ]
     },
     "execution_count": 116,
     "metadata": {},
     "output_type": "execute_result"
    }
   ],
   "source": [
    "position.text"
   ]
  },
  {
   "cell_type": "code",
   "execution_count": 118,
   "metadata": {},
   "outputs": [
    {
     "data": {
      "text/plain": [
       "'COLLYER QUAY CENTRE, 16 COLLYER QUAY 049318'"
      ]
     },
     "execution_count": 118,
     "metadata": {},
     "output_type": "execute_result"
    }
   ],
   "source": [
    "address.text"
   ]
  },
  {
   "cell_type": "code",
   "execution_count": 119,
   "metadata": {},
   "outputs": [
    {
     "data": {
      "text/plain": [
       "'Permanent'"
      ]
     },
     "execution_count": 119,
     "metadata": {},
     "output_type": "execute_result"
    }
   ],
   "source": [
    "employment_type.text"
   ]
  },
  {
   "cell_type": "code",
   "execution_count": 120,
   "metadata": {},
   "outputs": [
    {
     "data": {
      "text/plain": [
       "'Professional'"
      ]
     },
     "execution_count": 120,
     "metadata": {},
     "output_type": "execute_result"
    }
   ],
   "source": [
    "seniority.text"
   ]
  },
  {
   "cell_type": "code",
   "execution_count": 121,
   "metadata": {},
   "outputs": [
    {
     "data": {
      "text/plain": [
       "'2 years exp'"
      ]
     },
     "execution_count": 121,
     "metadata": {},
     "output_type": "execute_result"
    }
   ],
   "source": [
    "min_experience.text"
   ]
  },
  {
   "cell_type": "code",
   "execution_count": 122,
   "metadata": {},
   "outputs": [
    {
     "data": {
      "text/plain": [
       "'Banking and Finance'"
      ]
     },
     "execution_count": 122,
     "metadata": {},
     "output_type": "execute_result"
    }
   ],
   "source": [
    "job_category.text"
   ]
  },
  {
   "cell_type": "code",
   "execution_count": 123,
   "metadata": {},
   "outputs": [
    {
     "data": {
      "text/plain": [
       "'$7,500to$10,000'"
      ]
     },
     "execution_count": 123,
     "metadata": {},
     "output_type": "execute_result"
    }
   ],
   "source": [
    "salary.text"
   ]
  },
  {
   "cell_type": "code",
   "execution_count": 124,
   "metadata": {},
   "outputs": [
    {
     "data": {
      "text/plain": [
       "'3 applications'"
      ]
     },
     "execution_count": 124,
     "metadata": {},
     "output_type": "execute_result"
    }
   ],
   "source": [
    "num_applications.text"
   ]
  },
  {
   "cell_type": "code",
   "execution_count": 125,
   "metadata": {},
   "outputs": [
    {
     "data": {
      "text/plain": [
       "'Posted 25 Jan 2023'"
      ]
     },
     "execution_count": 125,
     "metadata": {},
     "output_type": "execute_result"
    }
   ],
   "source": [
    "last_posted_date.text"
   ]
  },
  {
   "cell_type": "code",
   "execution_count": 126,
   "metadata": {},
   "outputs": [
    {
     "data": {
      "text/plain": [
       "'Closing on 24 Feb 2023'"
      ]
     },
     "execution_count": 126,
     "metadata": {},
     "output_type": "execute_result"
    }
   ],
   "source": [
    "expiry_date.text"
   ]
  },
  {
   "cell_type": "markdown",
   "metadata": {},
   "source": [
    "This section will deal with capturing the main bulk of unstructured text.\n",
    "\n",
    "This will need to capture the Job Requirements - what is needed from the candidate\n",
    "\n",
    "Versus Job Description - what the job entails.\n",
    "\n",
    "Unfortunately there are many things getting in the way of smooth scraping namely\n",
    "- no fixed format\n",
    "- Additional sections like good to haves\n",
    "  - https://www.mycareersfuture.gov.sg/job/accounting/corporate-finance-analyst-green-li-ion-d0f504c7c8e67ca416caacea94dca691?source=MCF&event=Search\n",
    "- Unconventional formating\n",
    "  - https://www.mycareersfuture.gov.sg/job/banking-finance/business-analyst-rapsys-technologies-a85f3d76a3a9fbbd4ff911af99d4d081?source=MCF&event=Search\n",
    "\n",
    "\n",
    "Ideal format are:\n",
    "\n",
    "https://www.mycareersfuture.gov.sg/job/banking-finance/business-analyst-nicoll-curtin-technology-df4fdf2b951da4275a24fae5cfe5acd8?source=MCF&event=Search\n",
    "\n",
    "https://www.mycareersfuture.gov.sg/job/accounting/financial-analyst-starhub-92a414a8c360bd70dacc17e6587dafb8?source=MCF&event=Search"
   ]
  },
  {
   "cell_type": "markdown",
   "metadata": {},
   "source": [
    "My idea is to capture the text line by line separated either by paragraph, bullet points or by breaks (inside one big paragraph). When a keyword like 'responsibility' or 'JD' or 'Requirements' is found, it will be be a key and then the rest of the content will be the value until the next keyword is found.\n",
    "\n",
    "Strictly speaking I can capture all of the text first while scraping and only develop the function while I am processing it. However if it is done post scrape there might be unforeseen issues."
   ]
  },
  {
   "cell_type": "code",
   "execution_count": 127,
   "metadata": {},
   "outputs": [],
   "source": [
    "JD = driver.find_element(by=By.XPATH, value=\"//div[@id='description-content']\")"
   ]
  },
  {
   "cell_type": "code",
   "execution_count": 128,
   "metadata": {},
   "outputs": [
    {
     "data": {
      "text/plain": [
       "'About the Position\\nThe Analyst should have a minimum of 2 years of financial services‐related experience and possess exceptional communication skills, with high attention to detail and ability to multi-task and prioritize in a fast-paced environment under tight deadlines. The Analyst should also maintain a demonstrated interest in alternatives asset management, and be comfortable with financial concepts. The role will be a part of the team that provides project management and client services support to drive global capital raising and retention efforts for Brookfield’s private investment vehicles throughout fund life. This position will involve working on multiple projects at one time employing a range of skillsets. This position is located in Singapore.\\nResponsibilities\\n· Work as part of the global Project Management Team to respond to investor information requests, such as RFPs, due diligence questionnaires, and ongoing inquiries\\n· Work closely with the APAC & Middle East client relationship management team to provide fundraising support\\n· Systematically track and monitor deliverables to ensure timely response to investor inquiries\\n· Collaborate closely with global investor relations teams to provide superior client services and experience\\n· Create and deliver regular sales monitoring reports and assist senior members of the team with data analysis\\n· Coordinate road shows, conferences, investor meetings, and Brookfield events\\n· Support new initiatives and fundraising efforts in APAC & Middle East region\\nRequirements\\n· Minimum of 2 years of financial services‐related experience\\n· Undergraduate degree ideally in accounting, commerce or finance with an excellent academic background\\n· Real assets or alternative asset funds knowledge is desirable but not a prerequisite\\n· Team player with positive attitude and pro-active approach to work\\n· Ability to multitask, prioritize and work in a fast-paced environment under tight deadlines\\n· Self-motivated individual with a high level of attention to detail\\n· Superior communication skills with a demonstrated ability to write effectively\\n· Highly proficient in Microsoft Office (Word, PowerPoint and Excel)\\n· Strong interpersonal skills, and ability to build relationships and work with professionals internally and externally\\n· Language proficiency in Mandarin Chinese, Japanese, or Korean is preferred.'"
      ]
     },
     "execution_count": 128,
     "metadata": {},
     "output_type": "execute_result"
    }
   ],
   "source": [
    "JD.text"
   ]
  }
 ],
 "metadata": {
  "kernelspec": {
   "display_name": "Python 3.9.9 ('scrapper-env')",
   "language": "python",
   "name": "python3"
  },
  "language_info": {
   "codemirror_mode": {
    "name": "ipython",
    "version": 3
   },
   "file_extension": ".py",
   "mimetype": "text/x-python",
   "name": "python",
   "nbconvert_exporter": "python",
   "pygments_lexer": "ipython3",
   "version": "3.9.9"
  },
  "orig_nbformat": 4,
  "vscode": {
   "interpreter": {
    "hash": "b34c52670fd8827644effee9ddbd65bd53a60ff2ff6feec79adb6c0de3687b28"
   }
  }
 },
 "nbformat": 4,
 "nbformat_minor": 2
}
