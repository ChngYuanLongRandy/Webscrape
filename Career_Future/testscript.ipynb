{
 "cells": [
  {
   "cell_type": "code",
   "execution_count": 1,
   "metadata": {},
   "outputs": [],
   "source": [
    "from selenium import webdriver\n",
    "from selenium.webdriver.chrome.service import Service as ChromeService\n",
    "from webdriver_manager.chrome import ChromeDriverManager\n",
    "from selenium.webdriver.common.by import By"
   ]
  },
  {
   "cell_type": "code",
   "execution_count": 2,
   "metadata": {},
   "outputs": [],
   "source": [
    "def test_eight_components():\n",
    "    driver = webdriver.Chrome(service=ChromeService(ChromeDriverManager().install()))\n",
    "\n",
    "    driver.get(\"https://www.selenium.dev/selenium/web/web-form.html\")\n",
    "\n",
    "    title = driver.title\n",
    "    assert title == \"Web form\"\n",
    "\n",
    "    driver.implicitly_wait(0.5)\n",
    "\n",
    "    text_box = driver.find_element(by=By.NAME, value=\"my-text\")\n",
    "    submit_button = driver.find_element(by=By.CSS_SELECTOR, value=\"button\")\n",
    "\n",
    "    text_box.send_keys(\"Selenium\")\n",
    "    submit_button.click()\n",
    "\n",
    "    message = driver.find_element(by=By.ID, value=\"message\")\n",
    "    value = message.text\n",
    "    assert value == \"Received!\"\n",
    "\n",
    "    driver.quit()"
   ]
  },
  {
   "cell_type": "code",
   "execution_count": 3,
   "metadata": {},
   "outputs": [],
   "source": [
    "url = \"https://www.mycareersfuture.gov.sg/\""
   ]
  },
  {
   "cell_type": "code",
   "execution_count": 4,
   "metadata": {},
   "outputs": [],
   "source": [
    "search_term = \"analyst\"\n",
    "url_search_term = url + f\"search?search={search_term}&sortBy=relevancy&page=0\""
   ]
  },
  {
   "cell_type": "code",
   "execution_count": 5,
   "metadata": {},
   "outputs": [
    {
     "data": {
      "text/plain": [
       "'https://www.mycareersfuture.gov.sg/search?search=analyst&sortBy=relevancy&page=0'"
      ]
     },
     "execution_count": 5,
     "metadata": {},
     "output_type": "execute_result"
    }
   ],
   "source": [
    "url_search_term"
   ]
  },
  {
   "cell_type": "code",
   "execution_count": 6,
   "metadata": {},
   "outputs": [
    {
     "name": "stderr",
     "output_type": "stream",
     "text": [
      "[WDM] - Downloading: 100%|██████████| 6.79M/6.79M [00:00<00:00, 38.7MB/s]\n"
     ]
    }
   ],
   "source": [
    "driver = webdriver.Chrome(service=ChromeService(ChromeDriverManager().install()))\n",
    "\n",
    "driver.get(url_search_term)"
   ]
  },
  {
   "cell_type": "code",
   "execution_count": 7,
   "metadata": {},
   "outputs": [],
   "source": [
    "# Need to fetch all of the links in the card-list"
   ]
  },
  {
   "cell_type": "code",
   "execution_count": 8,
   "metadata": {},
   "outputs": [],
   "source": [
    "test_links = driver.find_elements(by=By.TAG_NAME, value=\"a\")"
   ]
  },
  {
   "cell_type": "code",
   "execution_count": 9,
   "metadata": {},
   "outputs": [],
   "source": [
    "links = []\n",
    "\n",
    "for link in test_links:\n",
    "    if link.get_attribute('href'):\n",
    "        if 'job' in link.get_attribute('href'):\n",
    "            links.append(link.get_attribute('href'))"
   ]
  },
  {
   "cell_type": "code",
   "execution_count": 10,
   "metadata": {},
   "outputs": [
    {
     "data": {
      "text/plain": [
       "['https://www.mycareersfuture.gov.sg/job/banking-finance/analyst-brookfield-singapore-95c4bd5987abcc5a0a4fdcf699b641d2?source=MCF&event=Search',\n",
       " 'https://www.mycareersfuture.gov.sg/job/banking-finance/analyst-polymer-capital-singapore-ac84eceba7fd514a89b1639e8c3be4cc?source=MCF&event=Search',\n",
       " 'https://www.mycareersfuture.gov.sg/job/information-technology/business-analyst-fwd-singapore-4d0220f02ea900a004c3a33aa6cd5cce?source=MCF&event=SuggestedJob',\n",
       " 'https://www.mycareersfuture.gov.sg/job/banking-finance/business-analyst-sciente-consulting-01274171be3115a7f61018c0300cda38?source=MCF&event=Search',\n",
       " 'https://www.mycareersfuture.gov.sg/job/advertising/platform-implementation-analyst-msights-asia-pacific-bf2727d4c322c7dd6dc52ca3cbdf5cec?source=MCF&event=Search',\n",
       " 'https://www.mycareersfuture.gov.sg/job/banking-finance/business-analyst-spark-systems-46549e3bdd8f255f6f75bbfcbe03b8e6?source=MCF&event=Search',\n",
       " 'https://www.mycareersfuture.gov.sg/job/information-technology/business-analyst-apar-technologies-6a8f9645f39db8a1e3447a84ad035495?source=MCF&event=Search',\n",
       " 'https://www.mycareersfuture.gov.sg/job/banking-finance/business-analyst-rapsys-technologies-a85f3d76a3a9fbbd4ff911af99d4d081?source=MCF&event=Search',\n",
       " 'https://www.mycareersfuture.gov.sg/job/information-technology/business-analyst-avensys-consulting-95b6d3c1c71425b18f12f4e8943ebf48?source=MCF&event=Search',\n",
       " 'https://www.mycareersfuture.gov.sg/job/banking-finance/business-analyst-nicoll-curtin-technology-8108b984a6d69c04d685e749a5aa440d?source=MCF&event=Search',\n",
       " 'https://www.mycareersfuture.gov.sg/job/banking-finance/business-analyst-nicoll-curtin-technology-ee0d680855016aa3a855f3af638e8de0?source=MCF&event=Search',\n",
       " 'https://www.mycareersfuture.gov.sg/job/banking-finance/business-analyst-nicoll-curtin-technology-df4fdf2b951da4275a24fae5cfe5acd8?source=MCF&event=Search',\n",
       " 'https://www.mycareersfuture.gov.sg/job/information-technology/senior-business-analyst-singsaver-49a9a32c4bf601474a8cab87f6344b64?source=MCF&event=Search',\n",
       " 'https://www.mycareersfuture.gov.sg/job/advertising/business-analyst-eimighanathan-28e3af5a1b631eca90ee414625c3dd4e?source=MCF&event=SuggestedJob',\n",
       " 'https://www.mycareersfuture.gov.sg/job/information-technology/senior-business-analyst-matrix-process-automation-1d5ff0baa50b101b739e3f5f0f056106?source=MCF&event=Search',\n",
       " 'https://www.mycareersfuture.gov.sg/job/information-technology/senior-business-analyst-cag-regional-singapore-004a8a6b5825f57088bc0b49cd182853?source=MCF&event=Search',\n",
       " 'https://www.mycareersfuture.gov.sg/job/others/associate-research-fellow-senior-analyst-research-analyst-nanyang-technological-university-c504ad7573f06b0ee685f606d680f071?source=MCF&event=Search',\n",
       " 'https://www.mycareersfuture.gov.sg/job/manufacturing/data-analyst-shell-eastern-petroleum-8a6f3530d09ce46da39372f15a7aa0fa?source=MCF&event=Search',\n",
       " 'https://www.mycareersfuture.gov.sg/job/banking-finance/functional-business-analyst-shell-infotech-034b511de2a840b184b13afd4cf20f56?source=MCF&event=Search',\n",
       " 'https://www.mycareersfuture.gov.sg/job/information-technology/sap-analyst-fcs-careers-9ae024bba627f64c551e13824f164ebf?source=MCF&event=Search',\n",
       " 'https://www.mycareersfuture.gov.sg/job/information-technology/system-analyst-randstad-2c2aa3f068ebffe61d7bb10564e156ff?source=MCF&event=Search',\n",
       " 'https://www.mycareersfuture.gov.sg/job/repair-maintenance/system-analyst-sap-west-recruitpedia-554ca620df56f33da4e6b5e7c60f88e7?source=MCF&event=Search']"
      ]
     },
     "execution_count": 10,
     "metadata": {},
     "output_type": "execute_result"
    }
   ],
   "source": [
    "links"
   ]
  },
  {
   "cell_type": "code",
   "execution_count": 11,
   "metadata": {},
   "outputs": [],
   "source": [
    "# Inside an individual page"
   ]
  },
  {
   "cell_type": "code",
   "execution_count": 12,
   "metadata": {},
   "outputs": [],
   "source": [
    "driver.get(links[0])"
   ]
  },
  {
   "cell_type": "code",
   "execution_count": 13,
   "metadata": {},
   "outputs": [],
   "source": [
    "job_details = {}"
   ]
  },
  {
   "cell_type": "code",
   "execution_count": 14,
   "metadata": {},
   "outputs": [],
   "source": [
    "company = driver.find_element(by=By.XPATH, value=\"//div[@data-cy='JobDetails__job-info']//p[@data-cy='company-hire-info__company']\")\n",
    "position = driver.find_element(by=By.XPATH, value=\"//div[@data-cy='JobDetails__job-info']//h1[@id='job_title']\")\n",
    "address = driver.find_element(by=By.XPATH, value=\"//div[@data-cy='JobDetails__job-info']//p[@id='address']\")\n",
    "employment_type = driver.find_element(by=By.XPATH, value=\"//div[@data-cy='JobDetails__job-info']//p[@id='employment_type']\")\n",
    "seniority = driver.find_element(by=By.XPATH, value=\"//div[@data-cy='JobDetails__job-info']//p[@id='seniority']\")\n",
    "min_experience = driver.find_element(by=By.XPATH, value=\"//div[@data-cy='JobDetails__job-info']//p[@id='min_experience']\")\n",
    "job_category = driver.find_element(by=By.XPATH, value=\"//div[@data-cy='JobDetails__job-info']//p[@id='job-categories']\")\n",
    "salary = driver.find_element(by=By.XPATH, value=\"//div[@data-cy='JobDetails__job-info']//span[@data-cy='salary-range']\")\n",
    "num_applications = driver.find_element(by=By.XPATH, value=\"//div[@data-cy='JobDetails__job-info']//span[@id='num_of_applications']\")\n",
    "last_posted_date = driver.find_element(by=By.XPATH, value=\"//div[@data-cy='JobDetails__job-info']//span[@id='last_posted_date']\")\n",
    "expiry_date = driver.find_element(by=By.XPATH, value=\"//div[@data-cy='JobDetails__job-info']//span[@id='expiry_date']\")"
   ]
  },
  {
   "cell_type": "code",
   "execution_count": 15,
   "metadata": {},
   "outputs": [
    {
     "data": {
      "text/plain": [
       "'BROOKFIELD SINGAPORE PTE. LTD.'"
      ]
     },
     "execution_count": 15,
     "metadata": {},
     "output_type": "execute_result"
    }
   ],
   "source": [
    "company.text"
   ]
  },
  {
   "cell_type": "code",
   "execution_count": 16,
   "metadata": {},
   "outputs": [
    {
     "data": {
      "text/plain": [
       "'Analyst'"
      ]
     },
     "execution_count": 16,
     "metadata": {},
     "output_type": "execute_result"
    }
   ],
   "source": [
    "position.text"
   ]
  },
  {
   "cell_type": "code",
   "execution_count": 17,
   "metadata": {},
   "outputs": [
    {
     "data": {
      "text/plain": [
       "'COLLYER QUAY CENTRE, 16 COLLYER QUAY 049318'"
      ]
     },
     "execution_count": 17,
     "metadata": {},
     "output_type": "execute_result"
    }
   ],
   "source": [
    "address.text"
   ]
  },
  {
   "cell_type": "code",
   "execution_count": 18,
   "metadata": {},
   "outputs": [
    {
     "data": {
      "text/plain": [
       "'Permanent'"
      ]
     },
     "execution_count": 18,
     "metadata": {},
     "output_type": "execute_result"
    }
   ],
   "source": [
    "employment_type.text"
   ]
  },
  {
   "cell_type": "code",
   "execution_count": 19,
   "metadata": {},
   "outputs": [
    {
     "data": {
      "text/plain": [
       "'Professional'"
      ]
     },
     "execution_count": 19,
     "metadata": {},
     "output_type": "execute_result"
    }
   ],
   "source": [
    "seniority.text"
   ]
  },
  {
   "cell_type": "code",
   "execution_count": 20,
   "metadata": {},
   "outputs": [
    {
     "data": {
      "text/plain": [
       "'2 years exp'"
      ]
     },
     "execution_count": 20,
     "metadata": {},
     "output_type": "execute_result"
    }
   ],
   "source": [
    "min_experience.text"
   ]
  },
  {
   "cell_type": "code",
   "execution_count": 21,
   "metadata": {},
   "outputs": [
    {
     "data": {
      "text/plain": [
       "'Banking and Finance'"
      ]
     },
     "execution_count": 21,
     "metadata": {},
     "output_type": "execute_result"
    }
   ],
   "source": [
    "job_category.text"
   ]
  },
  {
   "cell_type": "code",
   "execution_count": 22,
   "metadata": {},
   "outputs": [
    {
     "data": {
      "text/plain": [
       "'$7,500to$10,000'"
      ]
     },
     "execution_count": 22,
     "metadata": {},
     "output_type": "execute_result"
    }
   ],
   "source": [
    "salary.text"
   ]
  },
  {
   "cell_type": "code",
   "execution_count": 23,
   "metadata": {},
   "outputs": [
    {
     "data": {
      "text/plain": [
       "'16 applications'"
      ]
     },
     "execution_count": 23,
     "metadata": {},
     "output_type": "execute_result"
    }
   ],
   "source": [
    "num_applications.text"
   ]
  },
  {
   "cell_type": "code",
   "execution_count": 24,
   "metadata": {},
   "outputs": [
    {
     "data": {
      "text/plain": [
       "'Posted 25 Jan 2023'"
      ]
     },
     "execution_count": 24,
     "metadata": {},
     "output_type": "execute_result"
    }
   ],
   "source": [
    "last_posted_date.text"
   ]
  },
  {
   "cell_type": "code",
   "execution_count": 25,
   "metadata": {},
   "outputs": [
    {
     "data": {
      "text/plain": [
       "'Closing on 24 Feb 2023'"
      ]
     },
     "execution_count": 25,
     "metadata": {},
     "output_type": "execute_result"
    }
   ],
   "source": [
    "expiry_date.text"
   ]
  },
  {
   "cell_type": "markdown",
   "metadata": {},
   "source": [
    "This section will deal with capturing the main bulk of unstructured text.\n",
    "\n",
    "This will need to capture the Job Requirements - what is needed from the candidate\n",
    "\n",
    "Versus Job Description - what the job entails.\n",
    "\n",
    "Unfortunately there are many things getting in the way of smooth scraping namely\n",
    "- no fixed format\n",
    "- Additional sections like good to haves\n",
    "  - https://www.mycareersfuture.gov.sg/job/accounting/corporate-finance-analyst-green-li-ion-d0f504c7c8e67ca416caacea94dca691?source=MCF&event=Search\n",
    "- Unconventional formating\n",
    "  - https://www.mycareersfuture.gov.sg/job/banking-finance/business-analyst-rapsys-technologies-a85f3d76a3a9fbbd4ff911af99d4d081?source=MCF&event=Search\n",
    "\n",
    "\n",
    "Ideal format are:\n",
    "\n",
    "https://www.mycareersfuture.gov.sg/job/banking-finance/business-analyst-nicoll-curtin-technology-df4fdf2b951da4275a24fae5cfe5acd8?source=MCF&event=Search\n",
    "\n",
    "https://www.mycareersfuture.gov.sg/job/accounting/financial-analyst-starhub-92a414a8c360bd70dacc17e6587dafb8?source=MCF&event=Search"
   ]
  },
  {
   "cell_type": "markdown",
   "metadata": {},
   "source": [
    "My idea is to capture the text line by line separated either by paragraph, bullet points or by breaks (inside one big paragraph). When a keyword like 'responsibility' or 'JD' or 'Requirements' is found, it will be be a key and then the rest of the content will be the value until the next keyword is found.\n",
    "\n",
    "I will save this processing for later"
   ]
  },
  {
   "cell_type": "code",
   "execution_count": 26,
   "metadata": {},
   "outputs": [],
   "source": [
    "JD = driver.find_element(by=By.XPATH, value=\"//div[@id='description-content']\")"
   ]
  },
  {
   "cell_type": "code",
   "execution_count": 27,
   "metadata": {},
   "outputs": [
    {
     "data": {
      "text/plain": [
       "'About the Position\\nThe Analyst should have a minimum of 2 years of financial services‐related experience and possess exceptional communication skills, with high attention to detail and ability to multi-task and prioritize in a fast-paced environment under tight deadlines. The Analyst should also maintain a demonstrated interest in alternatives asset management, and be comfortable with financial concepts. The role will be a part of the team that provides project management and client services support to drive global capital raising and retention efforts for Brookfield’s private investment vehicles throughout fund life. This position will involve working on multiple projects at one time employing a range of skillsets. This position is located in Singapore.\\nResponsibilities\\n· Work as part of the global Project Management Team to respond to investor information requests, such as RFPs, due diligence questionnaires, and ongoing inquiries\\n· Work closely with the APAC & Middle East client relationship management team to provide fundraising support\\n· Systematically track and monitor deliverables to ensure timely response to investor inquiries\\n· Collaborate closely with global investor relations teams to provide superior client services and experience\\n· Create and deliver regular sales monitoring reports and assist senior members of the team with data analysis\\n· Coordinate road shows, conferences, investor meetings, and Brookfield events\\n· Support new initiatives and fundraising efforts in APAC & Middle East region\\nRequirements\\n· Minimum of 2 years of financial services‐related experience\\n· Undergraduate degree ideally in accounting, commerce or finance with an excellent academic background\\n· Real assets or alternative asset funds knowledge is desirable but not a prerequisite\\n· Team player with positive attitude and pro-active approach to work\\n· Ability to multitask, prioritize and work in a fast-paced environment under tight deadlines\\n· Self-motivated individual with a high level of attention to detail\\n· Superior communication skills with a demonstrated ability to write effectively\\n· Highly proficient in Microsoft Office (Word, PowerPoint and Excel)\\n· Strong interpersonal skills, and ability to build relationships and work with professionals internally and externally\\n· Language proficiency in Mandarin Chinese, Japanese, or Korean is preferred.'"
      ]
     },
     "execution_count": 27,
     "metadata": {},
     "output_type": "execute_result"
    }
   ],
   "source": [
    "JD.text"
   ]
  },
  {
   "cell_type": "code",
   "execution_count": 29,
   "metadata": {},
   "outputs": [],
   "source": [
    "def get_jobpost_details(link:str)->dict:\n",
    "    \"\"\"returns all of the job details in a posting in a dictionary\n",
    "\n",
    "    Args:\n",
    "        link (str): link of the job posting\n",
    "    \"\"\"\n",
    "    driver.get(link)\n",
    "    company = driver.find_element(by=By.XPATH, value=\"//div[@data-cy='JobDetails__job-info']//p[@data-cy='company-hire-info__company']\")\n",
    "    position = driver.find_element(by=By.XPATH, value=\"//div[@data-cy='JobDetails__job-info']//h1[@id='job_title']\")\n",
    "    address = driver.find_element(by=By.XPATH, value=\"//div[@data-cy='JobDetails__job-info']//p[@id='address']\")\n",
    "    employment_type = driver.find_element(by=By.XPATH, value=\"//div[@data-cy='JobDetails__job-info']//p[@id='employment_type']\")\n",
    "    seniority = driver.find_element(by=By.XPATH, value=\"//div[@data-cy='JobDetails__job-info']//p[@id='seniority']\")\n",
    "    min_experience = driver.find_element(by=By.XPATH, value=\"//div[@data-cy='JobDetails__job-info']//p[@id='min_experience']\")\n",
    "    job_category = driver.find_element(by=By.XPATH, value=\"//div[@data-cy='JobDetails__job-info']//p[@id='job-categories']\")\n",
    "    salary = driver.find_element(by=By.XPATH, value=\"//div[@data-cy='JobDetails__job-info']//span[@data-cy='salary-range']\")\n",
    "    num_applications = driver.find_element(by=By.XPATH, value=\"//div[@data-cy='JobDetails__job-info']//span[@id='num_of_applications']\")\n",
    "    last_posted_date = driver.find_element(by=By.XPATH, value=\"//div[@data-cy='JobDetails__job-info']//span[@id='last_posted_date']\")\n",
    "    expiry_date = driver.find_element(by=By.XPATH, value=\"//div[@data-cy='JobDetails__job-info']//span[@id='expiry_date']\")\n",
    "    JD = driver.find_element(by=By.XPATH, value=\"//div[@id='description-content']\")\n",
    "\n",
    "    res = {\n",
    "        'company':company.text,\n",
    "        'position': position.text,\n",
    "        'address': address.text,\n",
    "        'employment_type' : employment_type.text,\n",
    "        'seniority' : seniority.text,\n",
    "        'min_experience' : min_experience.text,\n",
    "        'job_category' : job_category.text,\n",
    "        'salary' : salary.text,\n",
    "        'num_applications' : num_applications.text,\n",
    "        'last_posted_date': last_posted_date.text,\n",
    "        'expiry_date' : expiry_date.text,\n",
    "        'JD' : JD.text\n",
    "    }\n",
    "\n",
    "    return res"
   ]
  },
  {
   "cell_type": "code",
   "execution_count": 28,
   "metadata": {},
   "outputs": [],
   "source": [
    "# Go to next link"
   ]
  },
  {
   "cell_type": "code",
   "execution_count": 30,
   "metadata": {},
   "outputs": [],
   "source": [
    "test_function_res = get_jobpost_details(links[1])"
   ]
  },
  {
   "cell_type": "code",
   "execution_count": 31,
   "metadata": {},
   "outputs": [
    {
     "data": {
      "text/plain": [
       "{'company': 'POLYMER CAPITAL SINGAPORE PTE. LTD.',\n",
       " 'position': 'Analyst',\n",
       " 'address': '80 ROBINSON ROAD 068898',\n",
       " 'employment_type': 'Permanent',\n",
       " 'seniority': 'Professional',\n",
       " 'min_experience': '7 years exp',\n",
       " 'job_category': 'Banking and Finance',\n",
       " 'salary': '$12,500to$18,500',\n",
       " 'num_applications': '10 applications',\n",
       " 'last_posted_date': 'Posted 25 Jan 2023',\n",
       " 'expiry_date': 'Closing on 08 Feb 2023',\n",
       " 'JD': 'Job Description\\nInvestment analyst in the equity long/short business.\\nCoverage: Asia sectors including healthcare and financials related sectors. Key investment market : India\\nFundamental and bottom-up analysis on stock ideas; and generating trade ideas to the portfolio manager.\\nHands-on modelling and detailed analysis for each company.\\nConducting company meetings alone or with the portfolio manager.\\nJob Requirements\\nExperienced investment analyst with min 7 years of expertise in Asian equity research\\nEstablished, rigorous and thorough investment process that encompasses both quantitative and qualitative elements.\\nSelf-starter with a desire to contribute to team’s performance, who sources ideas actively rather than waiting to be pushed and has a strong sense of ownership of research coverage.\\nGenuine passion for unearthing trades, high energy and a curiosity for the investment world. A strong desire for mastery in the field and to see one’s ideas implemented in the portfolio.\\nStrong courage in analytical convictions and ability to communicate well with PMs combined with a proven ability to learn from losing trades/missed opportunities and implement those learnings going forward.\\nStrong network and relationships across the industry will be a plus.\\nHigh levels of integrity, strong working ethics, excellent interpersonal skills and keen desire to take one’s career to the next level.'}"
      ]
     },
     "execution_count": 31,
     "metadata": {},
     "output_type": "execute_result"
    }
   ],
   "source": [
    "test_function_res"
   ]
  },
  {
   "cell_type": "code",
   "execution_count": 32,
   "metadata": {},
   "outputs": [],
   "source": [
    "def get_links(link:str)->list:\n",
    "    \"\"\"returns job links\n",
    "\n",
    "    Args:\n",
    "        link (str): url of the page\n",
    "    \"\"\"\n",
    "    driver.get(link)\n",
    "    retrieved_links = driver.find_elements(by=By.TAG_NAME, value=\"a\")\n",
    "\n",
    "    links = []\n",
    "\n",
    "    for link in retrieved_links:\n",
    "        if link.get_attribute('href'):\n",
    "            if 'job' in link.get_attribute('href'):\n",
    "                links.append(link.get_attribute('href'))\n",
    "\n",
    "    return links"
   ]
  },
  {
   "cell_type": "code",
   "execution_count": 33,
   "metadata": {},
   "outputs": [
    {
     "data": {
      "text/plain": [
       "'https://www.mycareersfuture.gov.sg/search?search=analyst&sortBy=relevancy&page=0'"
      ]
     },
     "execution_count": 33,
     "metadata": {},
     "output_type": "execute_result"
    }
   ],
   "source": [
    "url_search_term"
   ]
  },
  {
   "cell_type": "code",
   "execution_count": 39,
   "metadata": {},
   "outputs": [],
   "source": [
    "next_page = url_search_term[:-1]+str(int(url_search_term[-1])+1)"
   ]
  },
  {
   "cell_type": "code",
   "execution_count": 40,
   "metadata": {},
   "outputs": [
    {
     "data": {
      "text/plain": [
       "'https://www.mycareersfuture.gov.sg/search?search=analyst&sortBy=relevancy&page=1'"
      ]
     },
     "execution_count": 40,
     "metadata": {},
     "output_type": "execute_result"
    }
   ],
   "source": [
    "next_page"
   ]
  },
  {
   "cell_type": "code",
   "execution_count": 41,
   "metadata": {},
   "outputs": [],
   "source": [
    "links_next_page = get_links(next_page)"
   ]
  },
  {
   "cell_type": "code",
   "execution_count": 42,
   "metadata": {},
   "outputs": [
    {
     "data": {
      "text/plain": [
       "['https://www.mycareersfuture.gov.sg/job/information-technology/system-analyst-randstad-2c2aa3f068ebffe61d7bb10564e156ff?source=MCF&event=Search',\n",
       " 'https://www.mycareersfuture.gov.sg/job/repair-maintenance/system-analyst-sap-west-recruitpedia-554ca620df56f33da4e6b5e7c60f88e7?source=MCF&event=Search',\n",
       " 'https://www.mycareersfuture.gov.sg/job/information-technology/analyst-programmer-collabera-technologies-bade631262feaba2b0ef9aef3aeb582d?source=MCF&event=Search',\n",
       " 'https://www.mycareersfuture.gov.sg/job/banking-finance/analyst-portcullis-investment-office-55458a673826a70fba1904404475b2a4?source=MCF&event=Search',\n",
       " 'https://www.mycareersfuture.gov.sg/job/consulting/analyst-aadvantage-consulting-group-82a5c5fe36972e23315652adf264c641?source=MCF&event=Search',\n",
       " 'https://www.mycareersfuture.gov.sg/job/accounting/financial-analyst-starhub-92a414a8c360bd70dacc17e6587dafb8?source=MCF&event=Search',\n",
       " 'https://www.mycareersfuture.gov.sg/job/accounting/analyst-kordamentha-72a7383a731b8eaa993f9645f46ae0ac?source=MCF&event=Search',\n",
       " 'https://www.mycareersfuture.gov.sg/job/information-technology/business-analyst-wph-digital-c9cfc49a941b954a2e28e1b4409d2fc1?source=MCF&event=Search',\n",
       " 'https://www.mycareersfuture.gov.sg/job/information-technology/senior-business-analyst-wph-digital-23e02df6b6acf7c15cf5eeed81bab687?source=MCF&event=Search',\n",
       " 'https://www.mycareersfuture.gov.sg/job/information-technology/business-analyst-novacitynets-9bb83ba1675b8e7e2c41b974bd10af74?source=MCF&event=Search',\n",
       " 'https://www.mycareersfuture.gov.sg/job/consulting/business-analyst-manpower-staffing-services-c11903bfb3665b24472a86221a4ac030?source=MCF&event=Search',\n",
       " 'https://www.mycareersfuture.gov.sg/job/sciences/bilingual-mandarin-analyst-costello-medical-singapore-5404cb507d090c1ce585b80fd7a44a56?source=MCF&event=Search',\n",
       " 'https://www.mycareersfuture.gov.sg/job/information-technology/business-analyst-access-people-c22ca45ed35be0d42287947ce4b1cc13?source=MCF&event=Search',\n",
       " 'https://www.mycareersfuture.gov.sg/job/information-technology/business-analyst-cornerstone-global-partners-798701ffdc74bcf9f4a1dc44a1b5c610?source=MCF&event=Search',\n",
       " 'https://www.mycareersfuture.gov.sg/job/admin/business-analyst-job-express-services-1babf3049dc8a2a0d47e2de8b6c824aa?source=MCF&event=Search',\n",
       " 'https://www.mycareersfuture.gov.sg/job/information-technology/business-analyst-novahealth-c617e289e82c03b410a8f160c4bfb7c5?source=MCF&event=Search',\n",
       " 'https://www.mycareersfuture.gov.sg/job/consulting/business-analyst-adomita-technologies-07de94fd6987cc6b2b82a0de33ac62a8?source=MCF&event=Search',\n",
       " 'https://www.mycareersfuture.gov.sg/job/information-technology/project-analyst-singapore-international-arbitration-centre-f616e8705195851bc25ba5fc7f276772?source=MCF&event=Search',\n",
       " 'https://www.mycareersfuture.gov.sg/job/engineering/business-analyst-adomita-technologies-c68f67aebd8d7ab72b00f8fcbf5fe8ae?source=MCF&event=Search',\n",
       " 'https://www.mycareersfuture.gov.sg/job/information-technology/data-migration-test-analyst-lma-recruitment-singapore-05090676aadaecd602c2788f66e33662?source=MCF&event=Search']"
      ]
     },
     "execution_count": 42,
     "metadata": {},
     "output_type": "execute_result"
    }
   ],
   "source": [
    "links_next_page"
   ]
  },
  {
   "cell_type": "code",
   "execution_count": 46,
   "metadata": {},
   "outputs": [],
   "source": [
    "# Scrape till no links available\n",
    "invalid_page = url_search_term[:-1]+str(int(url_search_term[-1])+9999)"
   ]
  },
  {
   "cell_type": "code",
   "execution_count": 44,
   "metadata": {},
   "outputs": [],
   "source": [
    "links_invalid_page = get_links(invalid_page)"
   ]
  },
  {
   "cell_type": "code",
   "execution_count": 45,
   "metadata": {},
   "outputs": [
    {
     "data": {
      "text/plain": [
       "[]"
      ]
     },
     "execution_count": 45,
     "metadata": {},
     "output_type": "execute_result"
    }
   ],
   "source": [
    "links_invalid_page"
   ]
  }
 ],
 "metadata": {
  "kernelspec": {
   "display_name": "Python 3.9.9 ('scrapper-env')",
   "language": "python",
   "name": "python3"
  },
  "language_info": {
   "codemirror_mode": {
    "name": "ipython",
    "version": 3
   },
   "file_extension": ".py",
   "mimetype": "text/x-python",
   "name": "python",
   "nbconvert_exporter": "python",
   "pygments_lexer": "ipython3",
   "version": "3.9.9"
  },
  "orig_nbformat": 4,
  "vscode": {
   "interpreter": {
    "hash": "b34c52670fd8827644effee9ddbd65bd53a60ff2ff6feec79adb6c0de3687b28"
   }
  }
 },
 "nbformat": 4,
 "nbformat_minor": 2
}
